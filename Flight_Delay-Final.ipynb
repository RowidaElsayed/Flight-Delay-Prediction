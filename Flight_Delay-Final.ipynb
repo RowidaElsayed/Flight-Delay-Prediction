{
 "cells": [
  {
   "cell_type": "markdown",
   "metadata": {},
   "source": [
    "# Problem: Predicting Airplane Delays\n",
    "\n",
    "The goals of this notebook are:\n",
    "- Process and create a dataset from downloaded .zip files\n",
    "- Perform exploratory data analysis (EDA)\n",
    "- Establish a baseline model\n",
    "- Move from a simple model to an ensemble model\n",
    "- Perform hyperparameter optimization\n",
    "- Check feature importance\n",
    "\n",
    "\n",
    "## Introduction to business scenario\n",
    "\n",
    "You work for a travel booking website that wants to improve the customer experience for flights that were delayed. The company wants to create a feature to let customers know if the flight will be delayed because of weather when they book a flight to or from the busiest airports for domestic travel in the US. \n",
    "\n",
    "You are tasked with solving part of this problem by using machine learning (ML) to identify whether the flight will be delayed because of weather. You have been given access to the a dataset about the on-time performance of domestic flights that were operated by large air carriers. You can use this data to train an ML model to predict if the flight is going to be delayed for the busiest airports.\n",
    "\n",
    "\n",
    "## About this dataset\n",
    "\n",
    "This dataset contains scheduled and actual departure and arrival times reported by certified US air carriers that account for at least 1 percent of domestic scheduled passenger revenues. The data was collected by the U.S. Office of Airline Information, Bureau of Transportation Statistics (BTS). The dataset contains date, time, origin, destination, airline, distance, and delay status of flights for flights between 2013 and 2018.\n",
    "\n",
    "\n",
    "### Features\n",
    "\n",
    "For more information about features in the dataset, see [On-time delay dataset features](https://www.transtats.bts.gov/Fields.asp).\n",
    "\n",
    "### Dataset attributions  \n",
    "Website: https://www.transtats.bts.gov/\n",
    "\n",
    "Dataset(s) used in this lab were compiled by the U.S. Office of Airline Information, Bureau of Transportation Statistics (BTS), Airline On-Time Performance Data, available at https://www.transtats.bts.gov/DatabaseInfo.asp?DB_ID=120&DB_URL=Mode_ID=1&Mode_Desc=Aviation&Subject_ID2=0."
   ]
  },
  {
   "cell_type": "markdown",
   "metadata": {},
   "source": [
    "# Step 1: Problem formulation and data collection\n",
    "\n",
    "Start this project by writing a few sentences that summarize the business problem and the business goal that you want to achieve in this scenario. You can write down your ideas in the following sections. Include a business metric that you would like your team to aspire toward. After you define that information, write the ML problem statement. Finally, add a comment or two about the type of ML this activity represents. \n",
    "\n",
    "#### <span style=\"color: blue;\">Project presentation: Include a summary of these details in your project presentation.</span>\n",
    "\n",
    "### 1. Determine if and why ML is an appropriate solution to deploy for this scenario."
   ]
  },
  {
   "cell_type": "code",
   "execution_count": null,
   "metadata": {},
   "outputs": [],
   "source": [
    "#Machine learning is an appropriate solution for this scenario because it involves predicting flight delays based on a wide range of features, such as date, time, airline, and weather conditions. This is a complex task with multiple variables and historical patterns, which makes it suitable for an ML . Traditional statistical models may not be able to capture the relationships and nonlinear patterns that affect delays. A trained ML model can analyze large amounts of historical data and learn patterns to make  predictions."
   ]
  },
  {
   "cell_type": "markdown",
   "metadata": {},
   "source": [
    "### 2. Formulate the business problem, success metrics, and desired ML output."
   ]
  },
  {
   "cell_type": "code",
   "execution_count": null,
   "metadata": {},
   "outputs": [],
   "source": [
    "# the problem is the company wants to enhance customer services by providing accurate predictions of flight delays due to weather. This will help customers make better travel decisions and plan accordingly.\n",
    "#success metrics may be measured by precision, recall, F1 score, and area under the ROC curve (AUC)\n",
    "#desired ML output binary classification: whether a flight will be delayed due to weather or not."
   ]
  },
  {
   "cell_type": "markdown",
   "metadata": {},
   "source": [
    "### 3. Identify the type of ML problem that you're working with."
   ]
  },
  {
   "cell_type": "code",
   "execution_count": null,
   "metadata": {},
   "outputs": [],
   "source": [
    "# Supervised learning"
   ]
  },
  {
   "cell_type": "markdown",
   "metadata": {},
   "source": [
    "### 4. Analyze the appropriateness of the data that you're working with."
   ]
  },
  {
   "cell_type": "code",
   "execution_count": null,
   "metadata": {},
   "outputs": [],
   "source": [
    "# The dataset appears to be appropriate for the task as it contains relevant features such as date, time, origin, destination, airline, and delay status. However, further data processing might be needed to handle missing values, outliers"
   ]
  },
  {
   "cell_type": "markdown",
   "metadata": {},
   "source": [
    "### Setup\n",
    "\n",
    "Now that you have decided where you want to focus your attention, you will set up this lab so that you can start solving the problem.\n",
    "\n",
    "**Note:** This notebook was created and tested on an `ml.m4.xlarge` notebook instance with 25 GB storage. "
   ]
  },
  {
   "cell_type": "code",
   "execution_count": 3,
   "metadata": {
    "tags": []
   },
   "outputs": [],
   "source": [
    "import os\n",
    "from pathlib2 import Path\n",
    "from zipfile import ZipFile\n",
    "import time\n",
    "\n",
    "import pandas as pd\n",
    "import numpy as np\n",
    "import subprocess\n",
    "\n",
    "import matplotlib.pyplot as plt\n",
    "import seaborn as sns\n",
    "\n",
    "sns.set()\n",
    "instance_type='ml.m4.xlarge'\n",
    "\n",
    "import warnings\n",
    "warnings.filterwarnings('ignore')\n",
    "\n",
    "%matplotlib inline"
   ]
  },
  {
   "cell_type": "markdown",
   "metadata": {},
   "source": [
    "# Step 2: Data preprocessing and visualization  \n",
    "In this data preprocessing phase, you explore and visualize your data to better understand it. First, import the necessary libraries and read the data into a pandas DataFrame. After you import the data, explore the dataset. Look for the shape of the dataset and explore your columns and the types of columns that you will work with (numerical, categorical). Consider performing basic statistics on the features to get a sense of feature means and ranges. Examine your target column closely, and determine its distribution.\n",
    "\n",
    "\n",
    "### Specific questions to consider\n",
    "\n",
    "Throughout this section of the lab, consider the following questions:\n",
    "\n",
    "1. What can you deduce from the basic statistics that you ran on the features? \n",
    "2. What can you deduce from the distributions of the target classes?\n",
    "3. Is there anything else you can deduce by exploring the data?\n",
    "\n",
    "#### <span style=\"color: blue;\">Project presentation: Include a summary of your answers to these questions (and other similar questions) in your project presentation.</span>"
   ]
  },
  {
   "cell_type": "markdown",
   "metadata": {},
   "source": [
    "Start by bringing in the dataset from a public Amazon Simple Storage Service (Amazon S3) bucket to this notebook environment."
   ]
  },
  {
   "cell_type": "code",
   "execution_count": 4,
   "metadata": {
    "tags": []
   },
   "outputs": [
    {
     "name": "stdout",
     "output_type": "stream",
     "text": [
      "download: s3://aws-tc-largeobjects/CUR-TF-200-ACMLFO-1/flight_delay_project/data/On_Time_Reporting_Carrier_On_Time_Performance_1987_present_2014_10.zip to ../project/data/FlightDelays/On_Time_Reporting_Carrier_On_Time_Performance_1987_present_2014_10.zip\n",
      "download: s3://aws-tc-largeobjects/CUR-TF-200-ACMLFO-1/flight_delay_project/data/On_Time_Reporting_Carrier_On_Time_Performance_1987_present_2014_12.zip to ../project/data/FlightDelays/On_Time_Reporting_Carrier_On_Time_Performance_1987_present_2014_12.zip\n",
      "download: s3://aws-tc-largeobjects/CUR-TF-200-ACMLFO-1/flight_delay_project/data/On_Time_Reporting_Carrier_On_Time_Performance_1987_present_2014_3.zip to ../project/data/FlightDelays/On_Time_Reporting_Carrier_On_Time_Performance_1987_present_2014_3.zip\n",
      "download: s3://aws-tc-largeobjects/CUR-TF-200-ACMLFO-1/flight_delay_project/data/On_Time_Reporting_Carrier_On_Time_Performance_1987_present_2014_11.zip to ../project/data/FlightDelays/On_Time_Reporting_Carrier_On_Time_Performance_1987_present_2014_11.zip\n",
      "download: s3://aws-tc-largeobjects/CUR-TF-200-ACMLFO-1/flight_delay_project/data/On_Time_Reporting_Carrier_On_Time_Performance_1987_present_2014_1.zip to ../project/data/FlightDelays/On_Time_Reporting_Carrier_On_Time_Performance_1987_present_2014_1.zip\n",
      "download: s3://aws-tc-largeobjects/CUR-TF-200-ACMLFO-1/flight_delay_project/data/On_Time_Reporting_Carrier_On_Time_Performance_1987_present_2014_4.zip to ../project/data/FlightDelays/On_Time_Reporting_Carrier_On_Time_Performance_1987_present_2014_4.zip\n",
      "download: s3://aws-tc-largeobjects/CUR-TF-200-ACMLFO-1/flight_delay_project/data/On_Time_Reporting_Carrier_On_Time_Performance_1987_present_2014_6.zip to ../project/data/FlightDelays/On_Time_Reporting_Carrier_On_Time_Performance_1987_present_2014_6.zip\n",
      "download: s3://aws-tc-largeobjects/CUR-TF-200-ACMLFO-1/flight_delay_project/data/On_Time_Reporting_Carrier_On_Time_Performance_1987_present_2014_8.zip to ../project/data/FlightDelays/On_Time_Reporting_Carrier_On_Time_Performance_1987_present_2014_8.zip\n",
      "download: s3://aws-tc-largeobjects/CUR-TF-200-ACMLFO-1/flight_delay_project/data/On_Time_Reporting_Carrier_On_Time_Performance_1987_present_2014_2.zip to ../project/data/FlightDelays/On_Time_Reporting_Carrier_On_Time_Performance_1987_present_2014_2.zip\n",
      "download: s3://aws-tc-largeobjects/CUR-TF-200-ACMLFO-1/flight_delay_project/data/On_Time_Reporting_Carrier_On_Time_Performance_1987_present_2014_5.zip to ../project/data/FlightDelays/On_Time_Reporting_Carrier_On_Time_Performance_1987_present_2014_5.zip\n",
      "download: s3://aws-tc-largeobjects/CUR-TF-200-ACMLFO-1/flight_delay_project/data/On_Time_Reporting_Carrier_On_Time_Performance_1987_present_2014_7.zip to ../project/data/FlightDelays/On_Time_Reporting_Carrier_On_Time_Performance_1987_present_2014_7.zip\n",
      "download: s3://aws-tc-largeobjects/CUR-TF-200-ACMLFO-1/flight_delay_project/data/On_Time_Reporting_Carrier_On_Time_Performance_1987_present_2014_9.zip to ../project/data/FlightDelays/On_Time_Reporting_Carrier_On_Time_Performance_1987_present_2014_9.zip\n",
      "download: s3://aws-tc-largeobjects/CUR-TF-200-ACMLFO-1/flight_delay_project/data/On_Time_Reporting_Carrier_On_Time_Performance_1987_present_2015_1.zip to ../project/data/FlightDelays/On_Time_Reporting_Carrier_On_Time_Performance_1987_present_2015_1.zip\n",
      "download: s3://aws-tc-largeobjects/CUR-TF-200-ACMLFO-1/flight_delay_project/data/On_Time_Reporting_Carrier_On_Time_Performance_1987_present_2015_10.zip to ../project/data/FlightDelays/On_Time_Reporting_Carrier_On_Time_Performance_1987_present_2015_10.zip\n",
      "download: s3://aws-tc-largeobjects/CUR-TF-200-ACMLFO-1/flight_delay_project/data/On_Time_Reporting_Carrier_On_Time_Performance_1987_present_2015_12.zip to ../project/data/FlightDelays/On_Time_Reporting_Carrier_On_Time_Performance_1987_present_2015_12.zip\n",
      "download: s3://aws-tc-largeobjects/CUR-TF-200-ACMLFO-1/flight_delay_project/data/On_Time_Reporting_Carrier_On_Time_Performance_1987_present_2015_2.zip to ../project/data/FlightDelays/On_Time_Reporting_Carrier_On_Time_Performance_1987_present_2015_2.zip\n",
      "download: s3://aws-tc-largeobjects/CUR-TF-200-ACMLFO-1/flight_delay_project/data/On_Time_Reporting_Carrier_On_Time_Performance_1987_present_2015_3.zip to ../project/data/FlightDelays/On_Time_Reporting_Carrier_On_Time_Performance_1987_present_2015_3.zip\n",
      "download: s3://aws-tc-largeobjects/CUR-TF-200-ACMLFO-1/flight_delay_project/data/On_Time_Reporting_Carrier_On_Time_Performance_1987_present_2015_4.zip to ../project/data/FlightDelays/On_Time_Reporting_Carrier_On_Time_Performance_1987_present_2015_4.zip\n",
      "download: s3://aws-tc-largeobjects/CUR-TF-200-ACMLFO-1/flight_delay_project/data/On_Time_Reporting_Carrier_On_Time_Performance_1987_present_2015_5.zip to ../project/data/FlightDelays/On_Time_Reporting_Carrier_On_Time_Performance_1987_present_2015_5.zip\n",
      "download: s3://aws-tc-largeobjects/CUR-TF-200-ACMLFO-1/flight_delay_project/data/On_Time_Reporting_Carrier_On_Time_Performance_1987_present_2015_11.zip to ../project/data/FlightDelays/On_Time_Reporting_Carrier_On_Time_Performance_1987_present_2015_11.zip\n",
      "download: s3://aws-tc-largeobjects/CUR-TF-200-ACMLFO-1/flight_delay_project/data/On_Time_Reporting_Carrier_On_Time_Performance_1987_present_2015_6.zip to ../project/data/FlightDelays/On_Time_Reporting_Carrier_On_Time_Performance_1987_present_2015_6.zip\n",
      "download: s3://aws-tc-largeobjects/CUR-TF-200-ACMLFO-1/flight_delay_project/data/On_Time_Reporting_Carrier_On_Time_Performance_1987_present_2015_7.zip to ../project/data/FlightDelays/On_Time_Reporting_Carrier_On_Time_Performance_1987_present_2015_7.zip\n",
      "download: s3://aws-tc-largeobjects/CUR-TF-200-ACMLFO-1/flight_delay_project/data/On_Time_Reporting_Carrier_On_Time_Performance_1987_present_2015_8.zip to ../project/data/FlightDelays/On_Time_Reporting_Carrier_On_Time_Performance_1987_present_2015_8.zip\n",
      "download: s3://aws-tc-largeobjects/CUR-TF-200-ACMLFO-1/flight_delay_project/data/On_Time_Reporting_Carrier_On_Time_Performance_1987_present_2016_1.zip to ../project/data/FlightDelays/On_Time_Reporting_Carrier_On_Time_Performance_1987_present_2016_1.zip\n",
      "download: s3://aws-tc-largeobjects/CUR-TF-200-ACMLFO-1/flight_delay_project/data/On_Time_Reporting_Carrier_On_Time_Performance_1987_present_2016_10.zip to ../project/data/FlightDelays/On_Time_Reporting_Carrier_On_Time_Performance_1987_present_2016_10.zip\n",
      "download: s3://aws-tc-largeobjects/CUR-TF-200-ACMLFO-1/flight_delay_project/data/On_Time_Reporting_Carrier_On_Time_Performance_1987_present_2015_9.zip to ../project/data/FlightDelays/On_Time_Reporting_Carrier_On_Time_Performance_1987_present_2015_9.zip\n",
      "download: s3://aws-tc-largeobjects/CUR-TF-200-ACMLFO-1/flight_delay_project/data/On_Time_Reporting_Carrier_On_Time_Performance_1987_present_2016_12.zip to ../project/data/FlightDelays/On_Time_Reporting_Carrier_On_Time_Performance_1987_present_2016_12.zip\n",
      "download: s3://aws-tc-largeobjects/CUR-TF-200-ACMLFO-1/flight_delay_project/data/On_Time_Reporting_Carrier_On_Time_Performance_1987_present_2016_11.zip to ../project/data/FlightDelays/On_Time_Reporting_Carrier_On_Time_Performance_1987_present_2016_11.zip\n",
      "download: s3://aws-tc-largeobjects/CUR-TF-200-ACMLFO-1/flight_delay_project/data/On_Time_Reporting_Carrier_On_Time_Performance_1987_present_2016_2.zip to ../project/data/FlightDelays/On_Time_Reporting_Carrier_On_Time_Performance_1987_present_2016_2.zip\n",
      "download: s3://aws-tc-largeobjects/CUR-TF-200-ACMLFO-1/flight_delay_project/data/On_Time_Reporting_Carrier_On_Time_Performance_1987_present_2016_3.zip to ../project/data/FlightDelays/On_Time_Reporting_Carrier_On_Time_Performance_1987_present_2016_3.zip\n",
      "download: s3://aws-tc-largeobjects/CUR-TF-200-ACMLFO-1/flight_delay_project/data/On_Time_Reporting_Carrier_On_Time_Performance_1987_present_2016_4.zip to ../project/data/FlightDelays/On_Time_Reporting_Carrier_On_Time_Performance_1987_present_2016_4.zip\n",
      "download: s3://aws-tc-largeobjects/CUR-TF-200-ACMLFO-1/flight_delay_project/data/On_Time_Reporting_Carrier_On_Time_Performance_1987_present_2016_5.zip to ../project/data/FlightDelays/On_Time_Reporting_Carrier_On_Time_Performance_1987_present_2016_5.zip\n",
      "download: s3://aws-tc-largeobjects/CUR-TF-200-ACMLFO-1/flight_delay_project/data/On_Time_Reporting_Carrier_On_Time_Performance_1987_present_2016_8.zip to ../project/data/FlightDelays/On_Time_Reporting_Carrier_On_Time_Performance_1987_present_2016_8.zip\n",
      "download: s3://aws-tc-largeobjects/CUR-TF-200-ACMLFO-1/flight_delay_project/data/On_Time_Reporting_Carrier_On_Time_Performance_1987_present_2016_6.zip to ../project/data/FlightDelays/On_Time_Reporting_Carrier_On_Time_Performance_1987_present_2016_6.zip\n",
      "download: s3://aws-tc-largeobjects/CUR-TF-200-ACMLFO-1/flight_delay_project/data/On_Time_Reporting_Carrier_On_Time_Performance_1987_present_2016_7.zip to ../project/data/FlightDelays/On_Time_Reporting_Carrier_On_Time_Performance_1987_present_2016_7.zip\n",
      "download: s3://aws-tc-largeobjects/CUR-TF-200-ACMLFO-1/flight_delay_project/data/On_Time_Reporting_Carrier_On_Time_Performance_1987_present_2017_1.zip to ../project/data/FlightDelays/On_Time_Reporting_Carrier_On_Time_Performance_1987_present_2017_1.zip\n",
      "download: s3://aws-tc-largeobjects/CUR-TF-200-ACMLFO-1/flight_delay_project/data/On_Time_Reporting_Carrier_On_Time_Performance_1987_present_2016_9.zip to ../project/data/FlightDelays/On_Time_Reporting_Carrier_On_Time_Performance_1987_present_2016_9.zip\n",
      "download: s3://aws-tc-largeobjects/CUR-TF-200-ACMLFO-1/flight_delay_project/data/On_Time_Reporting_Carrier_On_Time_Performance_1987_present_2017_10.zip to ../project/data/FlightDelays/On_Time_Reporting_Carrier_On_Time_Performance_1987_present_2017_10.zip\n",
      "download: s3://aws-tc-largeobjects/CUR-TF-200-ACMLFO-1/flight_delay_project/data/On_Time_Reporting_Carrier_On_Time_Performance_1987_present_2017_2.zip to ../project/data/FlightDelays/On_Time_Reporting_Carrier_On_Time_Performance_1987_present_2017_2.zip\n",
      "download: s3://aws-tc-largeobjects/CUR-TF-200-ACMLFO-1/flight_delay_project/data/On_Time_Reporting_Carrier_On_Time_Performance_1987_present_2017_11.zip to ../project/data/FlightDelays/On_Time_Reporting_Carrier_On_Time_Performance_1987_present_2017_11.zip\n",
      "download: s3://aws-tc-largeobjects/CUR-TF-200-ACMLFO-1/flight_delay_project/data/On_Time_Reporting_Carrier_On_Time_Performance_1987_present_2017_12.zip to ../project/data/FlightDelays/On_Time_Reporting_Carrier_On_Time_Performance_1987_present_2017_12.zip\n",
      "download: s3://aws-tc-largeobjects/CUR-TF-200-ACMLFO-1/flight_delay_project/data/On_Time_Reporting_Carrier_On_Time_Performance_1987_present_2017_3.zip to ../project/data/FlightDelays/On_Time_Reporting_Carrier_On_Time_Performance_1987_present_2017_3.zip\n",
      "download: s3://aws-tc-largeobjects/CUR-TF-200-ACMLFO-1/flight_delay_project/data/On_Time_Reporting_Carrier_On_Time_Performance_1987_present_2017_6.zip to ../project/data/FlightDelays/On_Time_Reporting_Carrier_On_Time_Performance_1987_present_2017_6.zip\n",
      "download: s3://aws-tc-largeobjects/CUR-TF-200-ACMLFO-1/flight_delay_project/data/On_Time_Reporting_Carrier_On_Time_Performance_1987_present_2017_4.zip to ../project/data/FlightDelays/On_Time_Reporting_Carrier_On_Time_Performance_1987_present_2017_4.zip\n",
      "download: s3://aws-tc-largeobjects/CUR-TF-200-ACMLFO-1/flight_delay_project/data/On_Time_Reporting_Carrier_On_Time_Performance_1987_present_2017_7.zip to ../project/data/FlightDelays/On_Time_Reporting_Carrier_On_Time_Performance_1987_present_2017_7.zip\n",
      "download: s3://aws-tc-largeobjects/CUR-TF-200-ACMLFO-1/flight_delay_project/data/On_Time_Reporting_Carrier_On_Time_Performance_1987_present_2017_5.zip to ../project/data/FlightDelays/On_Time_Reporting_Carrier_On_Time_Performance_1987_present_2017_5.zip\n",
      "download: s3://aws-tc-largeobjects/CUR-TF-200-ACMLFO-1/flight_delay_project/data/On_Time_Reporting_Carrier_On_Time_Performance_1987_present_2017_9.zip to ../project/data/FlightDelays/On_Time_Reporting_Carrier_On_Time_Performance_1987_present_2017_9.zip\n",
      "download: s3://aws-tc-largeobjects/CUR-TF-200-ACMLFO-1/flight_delay_project/data/On_Time_Reporting_Carrier_On_Time_Performance_1987_present_2017_8.zip to ../project/data/FlightDelays/On_Time_Reporting_Carrier_On_Time_Performance_1987_present_2017_8.zip\n",
      "download: s3://aws-tc-largeobjects/CUR-TF-200-ACMLFO-1/flight_delay_project/data/On_Time_Reporting_Carrier_On_Time_Performance_1987_present_2018_11.zip to ../project/data/FlightDelays/On_Time_Reporting_Carrier_On_Time_Performance_1987_present_2018_11.zip\n",
      "download: s3://aws-tc-largeobjects/CUR-TF-200-ACMLFO-1/flight_delay_project/data/On_Time_Reporting_Carrier_On_Time_Performance_1987_present_2018_2.zip to ../project/data/FlightDelays/On_Time_Reporting_Carrier_On_Time_Performance_1987_present_2018_2.zip\n",
      "download: s3://aws-tc-largeobjects/CUR-TF-200-ACMLFO-1/flight_delay_project/data/On_Time_Reporting_Carrier_On_Time_Performance_1987_present_2018_3.zip to ../project/data/FlightDelays/On_Time_Reporting_Carrier_On_Time_Performance_1987_present_2018_3.zip\n",
      "download: s3://aws-tc-largeobjects/CUR-TF-200-ACMLFO-1/flight_delay_project/data/On_Time_Reporting_Carrier_On_Time_Performance_1987_present_2018_4.zip to ../project/data/FlightDelays/On_Time_Reporting_Carrier_On_Time_Performance_1987_present_2018_4.zip\n",
      "download: s3://aws-tc-largeobjects/CUR-TF-200-ACMLFO-1/flight_delay_project/data/On_Time_Reporting_Carrier_On_Time_Performance_1987_present_2018_5.zip to ../project/data/FlightDelays/On_Time_Reporting_Carrier_On_Time_Performance_1987_present_2018_5.zip\n",
      "download: s3://aws-tc-largeobjects/CUR-TF-200-ACMLFO-1/flight_delay_project/data/On_Time_Reporting_Carrier_On_Time_Performance_1987_present_2018_7.zip to ../project/data/FlightDelays/On_Time_Reporting_Carrier_On_Time_Performance_1987_present_2018_7.zip\n",
      "download: s3://aws-tc-largeobjects/CUR-TF-200-ACMLFO-1/flight_delay_project/data/On_Time_Reporting_Carrier_On_Time_Performance_1987_present_2018_10.zip to ../project/data/FlightDelays/On_Time_Reporting_Carrier_On_Time_Performance_1987_present_2018_10.zip\n",
      "download: s3://aws-tc-largeobjects/CUR-TF-200-ACMLFO-1/flight_delay_project/data/On_Time_Reporting_Carrier_On_Time_Performance_1987_present_2018_6.zip to ../project/data/FlightDelays/On_Time_Reporting_Carrier_On_Time_Performance_1987_present_2018_6.zip\n",
      "download: s3://aws-tc-largeobjects/CUR-TF-200-ACMLFO-1/flight_delay_project/data/On_Time_Reporting_Carrier_On_Time_Performance_1987_present_2018_8.zip to ../project/data/FlightDelays/On_Time_Reporting_Carrier_On_Time_Performance_1987_present_2018_8.zip\n",
      "download: s3://aws-tc-largeobjects/CUR-TF-200-ACMLFO-1/flight_delay_project/data/On_Time_Reporting_Carrier_On_Time_Performance_1987_present_2018_12.zip to ../project/data/FlightDelays/On_Time_Reporting_Carrier_On_Time_Performance_1987_present_2018_12.zip\n",
      "download: s3://aws-tc-largeobjects/CUR-TF-200-ACMLFO-1/flight_delay_project/data/On_Time_Reporting_Carrier_On_Time_Performance_1987_present_2018_9.zip to ../project/data/FlightDelays/On_Time_Reporting_Carrier_On_Time_Performance_1987_present_2018_9.zip\n",
      "download: s3://aws-tc-largeobjects/CUR-TF-200-ACMLFO-1/flight_delay_project/data/On_Time_Reporting_Carrier_On_Time_Performance_1987_present_2018_1.zip to ../project/data/FlightDelays/On_Time_Reporting_Carrier_On_Time_Performance_1987_present_2018_1.zip\n"
     ]
    }
   ],
   "source": [
    "# download the files\n",
    "\n",
    "zip_path = '/home/ec2-user/SageMaker/project/data/FlightDelays/'\n",
    "base_path = '/home/ec2-user/SageMaker/project/data/FlightDelays/'\n",
    "csv_base_path = '/home/ec2-user/SageMaker/project/data/csvFlightDelays/'\n",
    "\n",
    "!mkdir -p {zip_path}\n",
    "!mkdir -p {csv_base_path}\n",
    "!aws s3 cp s3://aws-tc-largeobjects/CUR-TF-200-ACMLFO-1/flight_delay_project/data/ {zip_path} --recursive\n"
   ]
  },
  {
   "cell_type": "code",
   "execution_count": 5,
   "metadata": {
    "tags": []
   },
   "outputs": [
    {
     "data": {
      "text/plain": [
       "60"
      ]
     },
     "execution_count": 5,
     "metadata": {},
     "output_type": "execute_result"
    }
   ],
   "source": [
    "zip_files = [str(file) for file in list(Path(base_path).iterdir()) if '.zip' in str(file)]\n",
    "len(zip_files)"
   ]
  },
  {
   "cell_type": "markdown",
   "metadata": {},
   "source": [
    "Extract comma-separated values (CSV) files from the .zip files."
   ]
  },
  {
   "cell_type": "code",
   "execution_count": 6,
   "metadata": {
    "tags": []
   },
   "outputs": [
    {
     "name": "stdout",
     "output_type": "stream",
     "text": [
      "Extracting /home/ec2-user/SageMaker/project/data/FlightDelays/On_Time_Reporting_Carrier_On_Time_Performance_1987_present_2016_6.zip \n",
      "Extracting /home/ec2-user/SageMaker/project/data/FlightDelays/On_Time_Reporting_Carrier_On_Time_Performance_1987_present_2014_3.zip \n",
      "Extracting /home/ec2-user/SageMaker/project/data/FlightDelays/On_Time_Reporting_Carrier_On_Time_Performance_1987_present_2016_2.zip \n",
      "Extracting /home/ec2-user/SageMaker/project/data/FlightDelays/On_Time_Reporting_Carrier_On_Time_Performance_1987_present_2017_2.zip \n",
      "Extracting /home/ec2-user/SageMaker/project/data/FlightDelays/On_Time_Reporting_Carrier_On_Time_Performance_1987_present_2018_6.zip \n",
      "Extracting /home/ec2-user/SageMaker/project/data/FlightDelays/On_Time_Reporting_Carrier_On_Time_Performance_1987_present_2018_12.zip \n",
      "Extracting /home/ec2-user/SageMaker/project/data/FlightDelays/On_Time_Reporting_Carrier_On_Time_Performance_1987_present_2014_6.zip \n",
      "Extracting /home/ec2-user/SageMaker/project/data/FlightDelays/On_Time_Reporting_Carrier_On_Time_Performance_1987_present_2014_10.zip \n",
      "Extracting /home/ec2-user/SageMaker/project/data/FlightDelays/On_Time_Reporting_Carrier_On_Time_Performance_1987_present_2017_8.zip \n",
      "Extracting /home/ec2-user/SageMaker/project/data/FlightDelays/On_Time_Reporting_Carrier_On_Time_Performance_1987_present_2016_1.zip \n",
      "Extracting /home/ec2-user/SageMaker/project/data/FlightDelays/On_Time_Reporting_Carrier_On_Time_Performance_1987_present_2016_4.zip \n",
      "Extracting /home/ec2-user/SageMaker/project/data/FlightDelays/On_Time_Reporting_Carrier_On_Time_Performance_1987_present_2018_7.zip \n",
      "Extracting /home/ec2-user/SageMaker/project/data/FlightDelays/On_Time_Reporting_Carrier_On_Time_Performance_1987_present_2015_6.zip \n",
      "Extracting /home/ec2-user/SageMaker/project/data/FlightDelays/On_Time_Reporting_Carrier_On_Time_Performance_1987_present_2015_11.zip \n",
      "Extracting /home/ec2-user/SageMaker/project/data/FlightDelays/On_Time_Reporting_Carrier_On_Time_Performance_1987_present_2014_11.zip \n",
      "Extracting /home/ec2-user/SageMaker/project/data/FlightDelays/On_Time_Reporting_Carrier_On_Time_Performance_1987_present_2016_12.zip \n",
      "Extracting /home/ec2-user/SageMaker/project/data/FlightDelays/On_Time_Reporting_Carrier_On_Time_Performance_1987_present_2018_1.zip \n",
      "Extracting /home/ec2-user/SageMaker/project/data/FlightDelays/On_Time_Reporting_Carrier_On_Time_Performance_1987_present_2018_3.zip \n",
      "Extracting /home/ec2-user/SageMaker/project/data/FlightDelays/On_Time_Reporting_Carrier_On_Time_Performance_1987_present_2017_1.zip \n",
      "Extracting /home/ec2-user/SageMaker/project/data/FlightDelays/On_Time_Reporting_Carrier_On_Time_Performance_1987_present_2014_1.zip \n",
      "Extracting /home/ec2-user/SageMaker/project/data/FlightDelays/On_Time_Reporting_Carrier_On_Time_Performance_1987_present_2016_9.zip \n",
      "Extracting /home/ec2-user/SageMaker/project/data/FlightDelays/On_Time_Reporting_Carrier_On_Time_Performance_1987_present_2018_10.zip \n",
      "Extracting /home/ec2-user/SageMaker/project/data/FlightDelays/On_Time_Reporting_Carrier_On_Time_Performance_1987_present_2016_3.zip \n",
      "Extracting /home/ec2-user/SageMaker/project/data/FlightDelays/On_Time_Reporting_Carrier_On_Time_Performance_1987_present_2015_9.zip \n",
      "Extracting /home/ec2-user/SageMaker/project/data/FlightDelays/On_Time_Reporting_Carrier_On_Time_Performance_1987_present_2014_5.zip \n",
      "Extracting /home/ec2-user/SageMaker/project/data/FlightDelays/On_Time_Reporting_Carrier_On_Time_Performance_1987_present_2014_4.zip \n",
      "Extracting /home/ec2-user/SageMaker/project/data/FlightDelays/On_Time_Reporting_Carrier_On_Time_Performance_1987_present_2014_8.zip \n",
      "Extracting /home/ec2-user/SageMaker/project/data/FlightDelays/On_Time_Reporting_Carrier_On_Time_Performance_1987_present_2017_9.zip \n",
      "Extracting /home/ec2-user/SageMaker/project/data/FlightDelays/On_Time_Reporting_Carrier_On_Time_Performance_1987_present_2015_8.zip \n",
      "Extracting /home/ec2-user/SageMaker/project/data/FlightDelays/On_Time_Reporting_Carrier_On_Time_Performance_1987_present_2018_4.zip \n",
      "Extracting /home/ec2-user/SageMaker/project/data/FlightDelays/On_Time_Reporting_Carrier_On_Time_Performance_1987_present_2017_7.zip \n",
      "Extracting /home/ec2-user/SageMaker/project/data/FlightDelays/On_Time_Reporting_Carrier_On_Time_Performance_1987_present_2014_2.zip \n",
      "Extracting /home/ec2-user/SageMaker/project/data/FlightDelays/On_Time_Reporting_Carrier_On_Time_Performance_1987_present_2016_8.zip \n",
      "Extracting /home/ec2-user/SageMaker/project/data/FlightDelays/On_Time_Reporting_Carrier_On_Time_Performance_1987_present_2016_7.zip \n",
      "Extracting /home/ec2-user/SageMaker/project/data/FlightDelays/On_Time_Reporting_Carrier_On_Time_Performance_1987_present_2018_9.zip \n",
      "Extracting /home/ec2-user/SageMaker/project/data/FlightDelays/On_Time_Reporting_Carrier_On_Time_Performance_1987_present_2015_7.zip \n",
      "Extracting /home/ec2-user/SageMaker/project/data/FlightDelays/On_Time_Reporting_Carrier_On_Time_Performance_1987_present_2014_9.zip \n",
      "Extracting /home/ec2-user/SageMaker/project/data/FlightDelays/On_Time_Reporting_Carrier_On_Time_Performance_1987_present_2014_12.zip \n",
      "Extracting /home/ec2-user/SageMaker/project/data/FlightDelays/On_Time_Reporting_Carrier_On_Time_Performance_1987_present_2014_7.zip \n",
      "Extracting /home/ec2-user/SageMaker/project/data/FlightDelays/On_Time_Reporting_Carrier_On_Time_Performance_1987_present_2018_5.zip \n",
      "Extracting /home/ec2-user/SageMaker/project/data/FlightDelays/On_Time_Reporting_Carrier_On_Time_Performance_1987_present_2017_5.zip \n",
      "Extracting /home/ec2-user/SageMaker/project/data/FlightDelays/On_Time_Reporting_Carrier_On_Time_Performance_1987_present_2015_3.zip \n",
      "Extracting /home/ec2-user/SageMaker/project/data/FlightDelays/On_Time_Reporting_Carrier_On_Time_Performance_1987_present_2016_10.zip \n",
      "Extracting /home/ec2-user/SageMaker/project/data/FlightDelays/On_Time_Reporting_Carrier_On_Time_Performance_1987_present_2017_12.zip \n",
      "Extracting /home/ec2-user/SageMaker/project/data/FlightDelays/On_Time_Reporting_Carrier_On_Time_Performance_1987_present_2017_4.zip \n",
      "Extracting /home/ec2-user/SageMaker/project/data/FlightDelays/On_Time_Reporting_Carrier_On_Time_Performance_1987_present_2015_10.zip \n",
      "Extracting /home/ec2-user/SageMaker/project/data/FlightDelays/On_Time_Reporting_Carrier_On_Time_Performance_1987_present_2017_10.zip \n",
      "Extracting /home/ec2-user/SageMaker/project/data/FlightDelays/On_Time_Reporting_Carrier_On_Time_Performance_1987_present_2018_8.zip \n",
      "Extracting /home/ec2-user/SageMaker/project/data/FlightDelays/On_Time_Reporting_Carrier_On_Time_Performance_1987_present_2015_1.zip \n",
      "Extracting /home/ec2-user/SageMaker/project/data/FlightDelays/On_Time_Reporting_Carrier_On_Time_Performance_1987_present_2015_12.zip \n",
      "Extracting /home/ec2-user/SageMaker/project/data/FlightDelays/On_Time_Reporting_Carrier_On_Time_Performance_1987_present_2015_4.zip \n",
      "Extracting /home/ec2-user/SageMaker/project/data/FlightDelays/On_Time_Reporting_Carrier_On_Time_Performance_1987_present_2018_2.zip \n",
      "Extracting /home/ec2-user/SageMaker/project/data/FlightDelays/On_Time_Reporting_Carrier_On_Time_Performance_1987_present_2016_5.zip \n",
      "Extracting /home/ec2-user/SageMaker/project/data/FlightDelays/On_Time_Reporting_Carrier_On_Time_Performance_1987_present_2017_11.zip \n",
      "Extracting /home/ec2-user/SageMaker/project/data/FlightDelays/On_Time_Reporting_Carrier_On_Time_Performance_1987_present_2015_2.zip \n",
      "Extracting /home/ec2-user/SageMaker/project/data/FlightDelays/On_Time_Reporting_Carrier_On_Time_Performance_1987_present_2018_11.zip \n",
      "Extracting /home/ec2-user/SageMaker/project/data/FlightDelays/On_Time_Reporting_Carrier_On_Time_Performance_1987_present_2016_11.zip \n",
      "Extracting /home/ec2-user/SageMaker/project/data/FlightDelays/On_Time_Reporting_Carrier_On_Time_Performance_1987_present_2015_5.zip \n",
      "Extracting /home/ec2-user/SageMaker/project/data/FlightDelays/On_Time_Reporting_Carrier_On_Time_Performance_1987_present_2017_6.zip \n",
      "Extracting /home/ec2-user/SageMaker/project/data/FlightDelays/On_Time_Reporting_Carrier_On_Time_Performance_1987_present_2017_3.zip \n",
      "Files Extracted\n"
     ]
    }
   ],
   "source": [
    "def zip2csv(zipFile_name , file_path):\n",
    "    \"\"\"\n",
    "    Extract csv from zip files\n",
    "    zipFile_name: name of the zip file\n",
    "    file_path : name of the folder to store csv\n",
    "    \"\"\"\n",
    "\n",
    "    try:\n",
    "        with ZipFile(zipFile_name, 'r') as z: \n",
    "            print(f'Extracting {zipFile_name} ') \n",
    "            z.extractall(path=file_path) \n",
    "    except:\n",
    "        print(f'zip2csv failed for {zipFile_name}')\n",
    "\n",
    "for file in zip_files:\n",
    "    zip2csv(file, csv_base_path)\n",
    "\n",
    "print(\"Files Extracted\")"
   ]
  },
  {
   "cell_type": "code",
   "execution_count": 7,
   "metadata": {
    "tags": []
   },
   "outputs": [
    {
     "data": {
      "text/plain": [
       "60"
      ]
     },
     "execution_count": 7,
     "metadata": {},
     "output_type": "execute_result"
    }
   ],
   "source": [
    "csv_files = [str(file) for file in list(Path(csv_base_path).iterdir()) if '.csv' in str(file)]\n",
    "len(csv_files)"
   ]
  },
  {
   "cell_type": "markdown",
   "metadata": {},
   "source": [
    "Before you load the CSV file, read the HTML file from the extracted folder. This HTML file includes the background and more information about the features that are included in the dataset."
   ]
  },
  {
   "cell_type": "code",
   "execution_count": 8,
   "metadata": {
    "tags": []
   },
   "outputs": [
    {
     "data": {
      "text/html": [
       "\n",
       "        <iframe\n",
       "            width=\"1000\"\n",
       "            height=\"600\"\n",
       "            src=\"../project/data/csvFlightDelays/readme.html\"\n",
       "            frameborder=\"0\"\n",
       "            allowfullscreen\n",
       "            \n",
       "        ></iframe>\n",
       "        "
      ],
      "text/plain": [
       "<IPython.lib.display.IFrame at 0x7f3cf2589570>"
      ]
     },
     "execution_count": 8,
     "metadata": {},
     "output_type": "execute_result"
    }
   ],
   "source": [
    "from IPython.display import IFrame\n",
    "\n",
    "IFrame(src=os.path.relpath(f\"{csv_base_path}readme.html\"), width=1000, height=600)"
   ]
  },
  {
   "cell_type": "markdown",
   "metadata": {},
   "source": [
    "#### Load sample CSV file\n",
    "\n",
    "Before you combine all the CSV files, examine the data from a single CSV file. By using pandas, read the `On_Time_Reporting_Carrier_On_Time_Performance_(1987_present)_2018_9.csv` file first. You can use the built-in `read_csv` function in Python ([pandas.read_csv documentation](https://pandas.pydata.org/pandas-docs/stable/reference/api/pandas.read_csv.html))."
   ]
  },
  {
   "cell_type": "code",
   "execution_count": 9,
   "metadata": {
    "tags": []
   },
   "outputs": [],
   "source": [
    "df_temp = pd.read_csv(f\"{csv_base_path}On_Time_Reporting_Carrier_On_Time_Performance_(1987_present)_2018_9.csv\")"
   ]
  },
  {
   "cell_type": "markdown",
   "metadata": {},
   "source": [
    "**Question**: Print the row and column length in the dataset, and print the column names.\n",
    "\n",
    "**Hint**: To view the rows and columns of a DataFrame, use the `<DataFrame>.shape` function. To view the column names, use the `<DataFrame>.columns` function."
   ]
  },
  {
   "cell_type": "code",
   "execution_count": 10,
   "metadata": {
    "tags": []
   },
   "outputs": [
    {
     "name": "stdout",
     "output_type": "stream",
     "text": [
      "Rows and columns in one CSV file is (585749, 110)\n",
      "Column names are: Index(['Year', 'Quarter', 'Month', 'DayofMonth', 'DayOfWeek', 'FlightDate',\n",
      "       'Reporting_Airline', 'DOT_ID_Reporting_Airline',\n",
      "       'IATA_CODE_Reporting_Airline', 'Tail_Number',\n",
      "       ...\n",
      "       'Div4TailNum', 'Div5Airport', 'Div5AirportID', 'Div5AirportSeqID',\n",
      "       'Div5WheelsOn', 'Div5TotalGTime', 'Div5LongestGTime', 'Div5WheelsOff',\n",
      "       'Div5TailNum', 'Unnamed: 109'],\n",
      "      dtype='object', length=110)\n"
     ]
    }
   ],
   "source": [
    "df_shape = df_temp.shape\n",
    "print(f'Rows and columns in one CSV file is {df_shape}')\n",
    "df_columns= df_temp.columns\n",
    "print(f'Column names are: {df_columns}')\n"
   ]
  },
  {
   "cell_type": "markdown",
   "metadata": {},
   "source": [
    "**Question**: Print the first 10 rows of the dataset.  \n",
    "\n",
    "**Hint**: To print `x` number of rows, use the built-in `head(x)` function in pandas."
   ]
  },
  {
   "cell_type": "code",
   "execution_count": 11,
   "metadata": {
    "tags": []
   },
   "outputs": [
    {
     "data": {
      "text/html": [
       "<div>\n",
       "<style scoped>\n",
       "    .dataframe tbody tr th:only-of-type {\n",
       "        vertical-align: middle;\n",
       "    }\n",
       "\n",
       "    .dataframe tbody tr th {\n",
       "        vertical-align: top;\n",
       "    }\n",
       "\n",
       "    .dataframe thead th {\n",
       "        text-align: right;\n",
       "    }\n",
       "</style>\n",
       "<table border=\"1\" class=\"dataframe\">\n",
       "  <thead>\n",
       "    <tr style=\"text-align: right;\">\n",
       "      <th></th>\n",
       "      <th>Year</th>\n",
       "      <th>Quarter</th>\n",
       "      <th>Month</th>\n",
       "      <th>DayofMonth</th>\n",
       "      <th>DayOfWeek</th>\n",
       "      <th>FlightDate</th>\n",
       "      <th>Reporting_Airline</th>\n",
       "      <th>DOT_ID_Reporting_Airline</th>\n",
       "      <th>IATA_CODE_Reporting_Airline</th>\n",
       "      <th>Tail_Number</th>\n",
       "      <th>...</th>\n",
       "      <th>Div4TailNum</th>\n",
       "      <th>Div5Airport</th>\n",
       "      <th>Div5AirportID</th>\n",
       "      <th>Div5AirportSeqID</th>\n",
       "      <th>Div5WheelsOn</th>\n",
       "      <th>Div5TotalGTime</th>\n",
       "      <th>Div5LongestGTime</th>\n",
       "      <th>Div5WheelsOff</th>\n",
       "      <th>Div5TailNum</th>\n",
       "      <th>Unnamed: 109</th>\n",
       "    </tr>\n",
       "  </thead>\n",
       "  <tbody>\n",
       "    <tr>\n",
       "      <th>0</th>\n",
       "      <td>2018</td>\n",
       "      <td>3</td>\n",
       "      <td>9</td>\n",
       "      <td>3</td>\n",
       "      <td>1</td>\n",
       "      <td>2018-09-03</td>\n",
       "      <td>9E</td>\n",
       "      <td>20363</td>\n",
       "      <td>9E</td>\n",
       "      <td>N908XJ</td>\n",
       "      <td>...</td>\n",
       "      <td>NaN</td>\n",
       "      <td>NaN</td>\n",
       "      <td>NaN</td>\n",
       "      <td>NaN</td>\n",
       "      <td>NaN</td>\n",
       "      <td>NaN</td>\n",
       "      <td>NaN</td>\n",
       "      <td>NaN</td>\n",
       "      <td>NaN</td>\n",
       "      <td>NaN</td>\n",
       "    </tr>\n",
       "    <tr>\n",
       "      <th>1</th>\n",
       "      <td>2018</td>\n",
       "      <td>3</td>\n",
       "      <td>9</td>\n",
       "      <td>9</td>\n",
       "      <td>7</td>\n",
       "      <td>2018-09-09</td>\n",
       "      <td>9E</td>\n",
       "      <td>20363</td>\n",
       "      <td>9E</td>\n",
       "      <td>N315PQ</td>\n",
       "      <td>...</td>\n",
       "      <td>NaN</td>\n",
       "      <td>NaN</td>\n",
       "      <td>NaN</td>\n",
       "      <td>NaN</td>\n",
       "      <td>NaN</td>\n",
       "      <td>NaN</td>\n",
       "      <td>NaN</td>\n",
       "      <td>NaN</td>\n",
       "      <td>NaN</td>\n",
       "      <td>NaN</td>\n",
       "    </tr>\n",
       "    <tr>\n",
       "      <th>2</th>\n",
       "      <td>2018</td>\n",
       "      <td>3</td>\n",
       "      <td>9</td>\n",
       "      <td>10</td>\n",
       "      <td>1</td>\n",
       "      <td>2018-09-10</td>\n",
       "      <td>9E</td>\n",
       "      <td>20363</td>\n",
       "      <td>9E</td>\n",
       "      <td>N582CA</td>\n",
       "      <td>...</td>\n",
       "      <td>NaN</td>\n",
       "      <td>NaN</td>\n",
       "      <td>NaN</td>\n",
       "      <td>NaN</td>\n",
       "      <td>NaN</td>\n",
       "      <td>NaN</td>\n",
       "      <td>NaN</td>\n",
       "      <td>NaN</td>\n",
       "      <td>NaN</td>\n",
       "      <td>NaN</td>\n",
       "    </tr>\n",
       "    <tr>\n",
       "      <th>3</th>\n",
       "      <td>2018</td>\n",
       "      <td>3</td>\n",
       "      <td>9</td>\n",
       "      <td>13</td>\n",
       "      <td>4</td>\n",
       "      <td>2018-09-13</td>\n",
       "      <td>9E</td>\n",
       "      <td>20363</td>\n",
       "      <td>9E</td>\n",
       "      <td>N292PQ</td>\n",
       "      <td>...</td>\n",
       "      <td>NaN</td>\n",
       "      <td>NaN</td>\n",
       "      <td>NaN</td>\n",
       "      <td>NaN</td>\n",
       "      <td>NaN</td>\n",
       "      <td>NaN</td>\n",
       "      <td>NaN</td>\n",
       "      <td>NaN</td>\n",
       "      <td>NaN</td>\n",
       "      <td>NaN</td>\n",
       "    </tr>\n",
       "    <tr>\n",
       "      <th>4</th>\n",
       "      <td>2018</td>\n",
       "      <td>3</td>\n",
       "      <td>9</td>\n",
       "      <td>14</td>\n",
       "      <td>5</td>\n",
       "      <td>2018-09-14</td>\n",
       "      <td>9E</td>\n",
       "      <td>20363</td>\n",
       "      <td>9E</td>\n",
       "      <td>N600LR</td>\n",
       "      <td>...</td>\n",
       "      <td>NaN</td>\n",
       "      <td>NaN</td>\n",
       "      <td>NaN</td>\n",
       "      <td>NaN</td>\n",
       "      <td>NaN</td>\n",
       "      <td>NaN</td>\n",
       "      <td>NaN</td>\n",
       "      <td>NaN</td>\n",
       "      <td>NaN</td>\n",
       "      <td>NaN</td>\n",
       "    </tr>\n",
       "    <tr>\n",
       "      <th>5</th>\n",
       "      <td>2018</td>\n",
       "      <td>3</td>\n",
       "      <td>9</td>\n",
       "      <td>16</td>\n",
       "      <td>7</td>\n",
       "      <td>2018-09-16</td>\n",
       "      <td>9E</td>\n",
       "      <td>20363</td>\n",
       "      <td>9E</td>\n",
       "      <td>N316PQ</td>\n",
       "      <td>...</td>\n",
       "      <td>NaN</td>\n",
       "      <td>NaN</td>\n",
       "      <td>NaN</td>\n",
       "      <td>NaN</td>\n",
       "      <td>NaN</td>\n",
       "      <td>NaN</td>\n",
       "      <td>NaN</td>\n",
       "      <td>NaN</td>\n",
       "      <td>NaN</td>\n",
       "      <td>NaN</td>\n",
       "    </tr>\n",
       "    <tr>\n",
       "      <th>6</th>\n",
       "      <td>2018</td>\n",
       "      <td>3</td>\n",
       "      <td>9</td>\n",
       "      <td>17</td>\n",
       "      <td>1</td>\n",
       "      <td>2018-09-17</td>\n",
       "      <td>9E</td>\n",
       "      <td>20363</td>\n",
       "      <td>9E</td>\n",
       "      <td>N916XJ</td>\n",
       "      <td>...</td>\n",
       "      <td>NaN</td>\n",
       "      <td>NaN</td>\n",
       "      <td>NaN</td>\n",
       "      <td>NaN</td>\n",
       "      <td>NaN</td>\n",
       "      <td>NaN</td>\n",
       "      <td>NaN</td>\n",
       "      <td>NaN</td>\n",
       "      <td>NaN</td>\n",
       "      <td>NaN</td>\n",
       "    </tr>\n",
       "    <tr>\n",
       "      <th>7</th>\n",
       "      <td>2018</td>\n",
       "      <td>3</td>\n",
       "      <td>9</td>\n",
       "      <td>20</td>\n",
       "      <td>4</td>\n",
       "      <td>2018-09-20</td>\n",
       "      <td>9E</td>\n",
       "      <td>20363</td>\n",
       "      <td>9E</td>\n",
       "      <td>N371CA</td>\n",
       "      <td>...</td>\n",
       "      <td>NaN</td>\n",
       "      <td>NaN</td>\n",
       "      <td>NaN</td>\n",
       "      <td>NaN</td>\n",
       "      <td>NaN</td>\n",
       "      <td>NaN</td>\n",
       "      <td>NaN</td>\n",
       "      <td>NaN</td>\n",
       "      <td>NaN</td>\n",
       "      <td>NaN</td>\n",
       "    </tr>\n",
       "    <tr>\n",
       "      <th>8</th>\n",
       "      <td>2018</td>\n",
       "      <td>3</td>\n",
       "      <td>9</td>\n",
       "      <td>21</td>\n",
       "      <td>5</td>\n",
       "      <td>2018-09-21</td>\n",
       "      <td>9E</td>\n",
       "      <td>20363</td>\n",
       "      <td>9E</td>\n",
       "      <td>N601LR</td>\n",
       "      <td>...</td>\n",
       "      <td>NaN</td>\n",
       "      <td>NaN</td>\n",
       "      <td>NaN</td>\n",
       "      <td>NaN</td>\n",
       "      <td>NaN</td>\n",
       "      <td>NaN</td>\n",
       "      <td>NaN</td>\n",
       "      <td>NaN</td>\n",
       "      <td>NaN</td>\n",
       "      <td>NaN</td>\n",
       "    </tr>\n",
       "    <tr>\n",
       "      <th>9</th>\n",
       "      <td>2018</td>\n",
       "      <td>3</td>\n",
       "      <td>9</td>\n",
       "      <td>23</td>\n",
       "      <td>7</td>\n",
       "      <td>2018-09-23</td>\n",
       "      <td>9E</td>\n",
       "      <td>20363</td>\n",
       "      <td>9E</td>\n",
       "      <td>N906XJ</td>\n",
       "      <td>...</td>\n",
       "      <td>NaN</td>\n",
       "      <td>NaN</td>\n",
       "      <td>NaN</td>\n",
       "      <td>NaN</td>\n",
       "      <td>NaN</td>\n",
       "      <td>NaN</td>\n",
       "      <td>NaN</td>\n",
       "      <td>NaN</td>\n",
       "      <td>NaN</td>\n",
       "      <td>NaN</td>\n",
       "    </tr>\n",
       "  </tbody>\n",
       "</table>\n",
       "<p>10 rows × 110 columns</p>\n",
       "</div>"
      ],
      "text/plain": [
       "   Year  Quarter  Month  DayofMonth  DayOfWeek  FlightDate Reporting_Airline  \\\n",
       "0  2018        3      9           3          1  2018-09-03                9E   \n",
       "1  2018        3      9           9          7  2018-09-09                9E   \n",
       "2  2018        3      9          10          1  2018-09-10                9E   \n",
       "3  2018        3      9          13          4  2018-09-13                9E   \n",
       "4  2018        3      9          14          5  2018-09-14                9E   \n",
       "5  2018        3      9          16          7  2018-09-16                9E   \n",
       "6  2018        3      9          17          1  2018-09-17                9E   \n",
       "7  2018        3      9          20          4  2018-09-20                9E   \n",
       "8  2018        3      9          21          5  2018-09-21                9E   \n",
       "9  2018        3      9          23          7  2018-09-23                9E   \n",
       "\n",
       "   DOT_ID_Reporting_Airline IATA_CODE_Reporting_Airline Tail_Number  ...  \\\n",
       "0                     20363                          9E      N908XJ  ...   \n",
       "1                     20363                          9E      N315PQ  ...   \n",
       "2                     20363                          9E      N582CA  ...   \n",
       "3                     20363                          9E      N292PQ  ...   \n",
       "4                     20363                          9E      N600LR  ...   \n",
       "5                     20363                          9E      N316PQ  ...   \n",
       "6                     20363                          9E      N916XJ  ...   \n",
       "7                     20363                          9E      N371CA  ...   \n",
       "8                     20363                          9E      N601LR  ...   \n",
       "9                     20363                          9E      N906XJ  ...   \n",
       "\n",
       "   Div4TailNum  Div5Airport  Div5AirportID  Div5AirportSeqID Div5WheelsOn  \\\n",
       "0          NaN          NaN            NaN               NaN          NaN   \n",
       "1          NaN          NaN            NaN               NaN          NaN   \n",
       "2          NaN          NaN            NaN               NaN          NaN   \n",
       "3          NaN          NaN            NaN               NaN          NaN   \n",
       "4          NaN          NaN            NaN               NaN          NaN   \n",
       "5          NaN          NaN            NaN               NaN          NaN   \n",
       "6          NaN          NaN            NaN               NaN          NaN   \n",
       "7          NaN          NaN            NaN               NaN          NaN   \n",
       "8          NaN          NaN            NaN               NaN          NaN   \n",
       "9          NaN          NaN            NaN               NaN          NaN   \n",
       "\n",
       "  Div5TotalGTime Div5LongestGTime  Div5WheelsOff Div5TailNum  Unnamed: 109  \n",
       "0            NaN              NaN            NaN         NaN           NaN  \n",
       "1            NaN              NaN            NaN         NaN           NaN  \n",
       "2            NaN              NaN            NaN         NaN           NaN  \n",
       "3            NaN              NaN            NaN         NaN           NaN  \n",
       "4            NaN              NaN            NaN         NaN           NaN  \n",
       "5            NaN              NaN            NaN         NaN           NaN  \n",
       "6            NaN              NaN            NaN         NaN           NaN  \n",
       "7            NaN              NaN            NaN         NaN           NaN  \n",
       "8            NaN              NaN            NaN         NaN           NaN  \n",
       "9            NaN              NaN            NaN         NaN           NaN  \n",
       "\n",
       "[10 rows x 110 columns]"
      ]
     },
     "execution_count": 11,
     "metadata": {},
     "output_type": "execute_result"
    }
   ],
   "source": [
    "df_temp.head(10)"
   ]
  },
  {
   "cell_type": "markdown",
   "metadata": {},
   "source": [
    "**Question**: Print all the columns in the dataset. To view the column names, use `<DataFrame>.columns`."
   ]
  },
  {
   "cell_type": "code",
   "execution_count": 12,
   "metadata": {
    "tags": []
   },
   "outputs": [
    {
     "name": "stdout",
     "output_type": "stream",
     "text": [
      "The column names are :\n",
      "#########\n",
      "Year\n",
      "Quarter\n",
      "Month\n",
      "DayofMonth\n",
      "DayOfWeek\n",
      "FlightDate\n",
      "Reporting_Airline\n",
      "DOT_ID_Reporting_Airline\n",
      "IATA_CODE_Reporting_Airline\n",
      "Tail_Number\n",
      "Flight_Number_Reporting_Airline\n",
      "OriginAirportID\n",
      "OriginAirportSeqID\n",
      "OriginCityMarketID\n",
      "Origin\n",
      "OriginCityName\n",
      "OriginState\n",
      "OriginStateFips\n",
      "OriginStateName\n",
      "OriginWac\n",
      "DestAirportID\n",
      "DestAirportSeqID\n",
      "DestCityMarketID\n",
      "Dest\n",
      "DestCityName\n",
      "DestState\n",
      "DestStateFips\n",
      "DestStateName\n",
      "DestWac\n",
      "CRSDepTime\n",
      "DepTime\n",
      "DepDelay\n",
      "DepDelayMinutes\n",
      "DepDel15\n",
      "DepartureDelayGroups\n",
      "DepTimeBlk\n",
      "TaxiOut\n",
      "WheelsOff\n",
      "WheelsOn\n",
      "TaxiIn\n",
      "CRSArrTime\n",
      "ArrTime\n",
      "ArrDelay\n",
      "ArrDelayMinutes\n",
      "ArrDel15\n",
      "ArrivalDelayGroups\n",
      "ArrTimeBlk\n",
      "Cancelled\n",
      "CancellationCode\n",
      "Diverted\n",
      "CRSElapsedTime\n",
      "ActualElapsedTime\n",
      "AirTime\n",
      "Flights\n",
      "Distance\n",
      "DistanceGroup\n",
      "CarrierDelay\n",
      "WeatherDelay\n",
      "NASDelay\n",
      "SecurityDelay\n",
      "LateAircraftDelay\n",
      "FirstDepTime\n",
      "TotalAddGTime\n",
      "LongestAddGTime\n",
      "DivAirportLandings\n",
      "DivReachedDest\n",
      "DivActualElapsedTime\n",
      "DivArrDelay\n",
      "DivDistance\n",
      "Div1Airport\n",
      "Div1AirportID\n",
      "Div1AirportSeqID\n",
      "Div1WheelsOn\n",
      "Div1TotalGTime\n",
      "Div1LongestGTime\n",
      "Div1WheelsOff\n",
      "Div1TailNum\n",
      "Div2Airport\n",
      "Div2AirportID\n",
      "Div2AirportSeqID\n",
      "Div2WheelsOn\n",
      "Div2TotalGTime\n",
      "Div2LongestGTime\n",
      "Div2WheelsOff\n",
      "Div2TailNum\n",
      "Div3Airport\n",
      "Div3AirportID\n",
      "Div3AirportSeqID\n",
      "Div3WheelsOn\n",
      "Div3TotalGTime\n",
      "Div3LongestGTime\n",
      "Div3WheelsOff\n",
      "Div3TailNum\n",
      "Div4Airport\n",
      "Div4AirportID\n",
      "Div4AirportSeqID\n",
      "Div4WheelsOn\n",
      "Div4TotalGTime\n",
      "Div4LongestGTime\n",
      "Div4WheelsOff\n",
      "Div4TailNum\n",
      "Div5Airport\n",
      "Div5AirportID\n",
      "Div5AirportSeqID\n",
      "Div5WheelsOn\n",
      "Div5TotalGTime\n",
      "Div5LongestGTime\n",
      "Div5WheelsOff\n",
      "Div5TailNum\n",
      "Unnamed: 109\n"
     ]
    }
   ],
   "source": [
    "print(f'The column names are :')\n",
    "print('#########')\n",
    "for col in  df_temp.columns:\n",
    "    print(col)"
   ]
  },
  {
   "cell_type": "markdown",
   "metadata": {},
   "source": [
    "**Question**: Print all the columns in the dataset that contain the word *Del*. This will help you see how many columns have *delay data* in them.\n",
    "\n",
    "**Hint**: To include values that pass certain `if` statement criteria, you can use a Python list comprehension.\n",
    "\n",
    "For example: `[x for x in [1,2,3,4,5] if x > 2]`  \n",
    "\n",
    "**Hint**: To check if the value is in a list, you can use the `in` keyword ([Python in Keyword documentation](https://www.w3schools.com/python/ref_keyword_in.asp)). \n",
    "\n",
    "For example: `5 in [1,2,3,4,5]`"
   ]
  },
  {
   "cell_type": "code",
   "execution_count": 13,
   "metadata": {
    "tags": []
   },
   "outputs": [
    {
     "name": "stdout",
     "output_type": "stream",
     "text": [
      "Columns that contain the word \"Del\" are: ['DepDelay', 'DepDelayMinutes', 'DepDel15', 'DepartureDelayGroups', 'ArrDelay', 'ArrDelayMinutes', 'ArrDel15', 'ArrivalDelayGroups', 'CarrierDelay', 'WeatherDelay', 'NASDelay', 'SecurityDelay', 'LateAircraftDelay', 'DivArrDelay']\n"
     ]
    }
   ],
   "source": [
    "del_columns = [col for col in df_temp.columns if 'Del' in col]\n",
    "\n",
    "# Print the columns that have 'Del' in their name\n",
    "print(f'Columns that contain the word \"Del\" are: {del_columns}')"
   ]
  },
  {
   "cell_type": "markdown",
   "metadata": {},
   "source": [
    "Here are some more questions to help you learn more about your dataset.\n",
    "\n",
    "**Questions**   \n",
    "\n",
    "1. How many rows and columns does the dataset have?   \n",
    "2. How many years are included in the dataset?   \n",
    "3. What is the date range for the dataset?   \n",
    "4. Which airlines are included in the dataset?   \n",
    "5. Which origin and destination airports are covered?\n",
    "\n",
    "**Hints**\n",
    "- To show the dimensions of the DataFrame, use `df_temp.shape`.\n",
    "- To refer to a specific column, use `df_temp.columnName` (for example, `df_temp.CarrierDelay`).\n",
    "- To get unique values for a column, use `df_temp.column.unique()` (for, example `df_temp.Year.unique()`)."
   ]
  },
  {
   "cell_type": "code",
   "execution_count": 14,
   "metadata": {
    "tags": []
   },
   "outputs": [
    {
     "name": "stdout",
     "output_type": "stream",
     "text": [
      "The #rows and #columns are  585749  and  110\n",
      "The years in this dataset are:  [2018]\n",
      "The months covered in this dataset are:  [9]\n",
      "The date range for data is : 2018-09-01  to  2018-09-30\n",
      "The airlines covered in this dataset are:  ['9E', 'B6', 'WN', 'YV', 'YX', 'EV', 'AA', 'AS', 'DL', 'HA', 'UA', 'F9', 'G4', 'MQ', 'NK', 'OH', 'OO']\n",
      "The Origin airports covered are:  ['DFW', 'LGA', 'MSN', 'MSP', 'ATL', 'BDL', 'VLD', 'JFK', 'RDU', 'CHS', 'DTW', 'GRB', 'PVD', 'SHV', 'FNT', 'PIT', 'RIC', 'RST', 'RSW', 'CVG', 'LIT', 'ORD', 'JAX', 'TRI', 'BOS', 'CWA', 'DCA', 'CHO', 'AVP', 'IND', 'GRR', 'BTR', 'MEM', 'TUL', 'CLE', 'STL', 'BTV', 'OMA', 'MGM', 'TVC', 'SAV', 'GSP', 'EWR', 'OAJ', 'BNA', 'MCI', 'TLH', 'ROC', 'LEX', 'PWM', 'BUF', 'AGS', 'CLT', 'GSO', 'BWI', 'SAT', 'PHL', 'TYS', 'ACK', 'DSM', 'GNV', 'AVL', 'BGR', 'MHT', 'ILM', 'MOT', 'IAH', 'SBN', 'SYR', 'ORF', 'MKE', 'XNA', 'MSY', 'PBI', 'ABE', 'HPN', 'EVV', 'ALB', 'LNK', 'AUS', 'PHF', 'CHA', 'GTR', 'BMI', 'BQK', 'CID', 'CAK', 'ATW', 'ABY', 'CAE', 'SRQ', 'MLI', 'BHM', 'IAD', 'CSG', 'CMH', 'MCO', 'MBS', 'FLL', 'SDF', 'TPA', 'MVY', 'LAS', 'LGB', 'SFO', 'SAN', 'LAX', 'RNO', 'PDX', 'ANC', 'ABQ', 'SLC', 'DEN', 'PHX', 'OAK', 'SMF', 'SJU', 'SEA', 'HOU', 'STX', 'BUR', 'SWF', 'SJC', 'DAB', 'BQN', 'PSE', 'ORH', 'HYA', 'STT', 'ONT', 'HRL', 'ICT', 'ISP', 'LBB', 'MAF', 'MDW', 'OKC', 'PNS', 'SNA', 'TUS', 'AMA', 'BOI', 'CRP', 'DAL', 'ECP', 'ELP', 'GEG', 'LFT', 'MFE', 'MDT', 'JAN', 'COS', 'MOB', 'VPS', 'MTJ', 'DRO', 'GPT', 'BFL', 'MRY', 'SBA', 'PSP', 'FSD', 'BRO', 'RAP', 'COU', 'STS', 'PIA', 'FAT', 'SBP', 'FSM', 'HSV', 'BIS', 'DAY', 'BZN', 'MIA', 'EYW', 'MYR', 'HHH', 'GJT', 'FAR', 'SGF', 'HOB', 'CLL', 'LRD', 'AEX', 'ERI', 'MLU', 'LCH', 'ROA', 'LAW', 'MHK', 'GRK', 'SAF', 'GRI', 'JLN', 'ROW', 'FWA', 'CRW', 'LAN', 'OGG', 'HNL', 'KOA', 'EGE', 'LIH', 'MLB', 'JAC', 'FAI', 'RDM', 'ADQ', 'BET', 'BRW', 'SCC', 'KTN', 'YAK', 'CDV', 'JNU', 'SIT', 'PSG', 'WRG', 'OME', 'OTZ', 'ADK', 'FCA', 'FAY', 'PSC', 'BIL', 'MSO', 'ITO', 'PPG', 'MFR', 'EUG', 'GUM', 'SPN', 'DLH', 'TTN', 'BKG', 'SFB', 'PIE', 'PGD', 'AZA', 'SMX', 'RFD', 'SCK', 'OWB', 'HTS', 'BLV', 'IAG', 'USA', 'GFK', 'BLI', 'ELM', 'PBG', 'LCK', 'GTF', 'OGD', 'IDA', 'PVU', 'TOL', 'PSM', 'CKB', 'HGR', 'SPI', 'STC', 'ACT', 'TYR', 'ABI', 'AZO', 'CMI', 'BPT', 'GCK', 'MQT', 'ALO', 'TXK', 'SPS', 'SWO', 'DBQ', 'SUX', 'SJT', 'GGG', 'LSE', 'LBE', 'ACY', 'LYH', 'PGV', 'HVN', 'EWN', 'DHN', 'PIH', 'IMT', 'WYS', 'CPR', 'SCE', 'HLN', 'SUN', 'ISN', 'CMX', 'EAU', 'LWB', 'SHD', 'LBF', 'HYS', 'SLN', 'EAR', 'VEL', 'CNY', 'GCC', 'RKS', 'PUB', 'LBL', 'MKG', 'PAH', 'CGI', 'UIN', 'BFF', 'DVL', 'JMS', 'LAR', 'SGU', 'PRC', 'ASE', 'RDD', 'ACV', 'OTH', 'COD', 'LWS', 'ABR', 'APN', 'ESC', 'PLN', 'BJI', 'BRD', 'BTM', 'CDC', 'CIU', 'EKO', 'TWF', 'HIB', 'BGM', 'RHI', 'ITH', 'INL', 'FLG', 'YUM', 'MEI', 'PIB', 'HDN']\n",
      "The Destination airports covered are:  ['CVG', 'PWM', 'RDU', 'MSP', 'MSN', 'SHV', 'CLT', 'PIT', 'RIC', 'IAH', 'ATL', 'JFK', 'DCA', 'DTW', 'LGA', 'TYS', 'PVD', 'FNT', 'LIT', 'BUF', 'ORD', 'TRI', 'IND', 'BGR', 'AVP', 'BWI', 'LEX', 'BDL', 'GRR', 'CWA', 'TUL', 'MEM', 'AGS', 'EWR', 'MGM', 'PHL', 'SYR', 'OMA', 'STL', 'TVC', 'ORF', 'CLE', 'ABY', 'BOS', 'OAJ', 'TLH', 'BTR', 'SAT', 'JAX', 'BNA', 'CHO', 'VLD', 'ROC', 'DFW', 'GNV', 'ACK', 'PBI', 'CHS', 'GRB', 'MOT', 'MKE', 'DSM', 'ILM', 'GSO', 'MCI', 'SBN', 'BTV', 'MVY', 'XNA', 'RST', 'EVV', 'HPN', 'RSW', 'MDT', 'ROA', 'GSP', 'MCO', 'CSG', 'SAV', 'PHF', 'ALB', 'CHA', 'ABE', 'BMI', 'MSY', 'IAD', 'GTR', 'CID', 'CAK', 'ATW', 'AUS', 'BQK', 'MLI', 'CAE', 'CMH', 'AVL', 'MBS', 'FLL', 'SDF', 'TPA', 'LNK', 'SRQ', 'MHT', 'BHM', 'LAS', 'SFO', 'SAN', 'RNO', 'LGB', 'ANC', 'PDX', 'SJU', 'ABQ', 'SLC', 'DEN', 'LAX', 'PHX', 'OAK', 'SMF', 'SEA', 'STX', 'BUR', 'DAB', 'SJC', 'SWF', 'HOU', 'BQN', 'PSE', 'ORH', 'HYA', 'STT', 'ONT', 'DAL', 'ECP', 'ELP', 'HRL', 'MAF', 'MDW', 'OKC', 'PNS', 'SNA', 'AMA', 'BOI', 'GEG', 'ICT', 'LBB', 'TUS', 'ISP', 'CRP', 'MFE', 'LFT', 'VPS', 'JAN', 'COS', 'MOB', 'DRO', 'GPT', 'BFL', 'COU', 'SBP', 'MTJ', 'SBA', 'PSP', 'FSD', 'FSM', 'BRO', 'PIA', 'STS', 'FAT', 'RAP', 'MRY', 'HSV', 'BIS', 'DAY', 'BZN', 'MIA', 'EYW', 'MYR', 'HHH', 'GJT', 'FAR', 'MLU', 'LRD', 'CLL', 'LCH', 'FWA', 'GRK', 'SGF', 'HOB', 'LAW', 'MHK', 'SAF', 'JLN', 'ROW', 'GRI', 'AEX', 'CRW', 'LAN', 'ERI', 'HNL', 'KOA', 'OGG', 'EGE', 'LIH', 'JAC', 'MLB', 'RDM', 'BET', 'ADQ', 'BRW', 'SCC', 'FAI', 'JNU', 'CDV', 'YAK', 'SIT', 'KTN', 'WRG', 'PSG', 'OME', 'OTZ', 'ADK', 'FCA', 'BIL', 'PSC', 'FAY', 'MSO', 'ITO', 'PPG', 'MFR', 'DLH', 'EUG', 'GUM', 'SPN', 'TTN', 'BKG', 'AZA', 'SFB', 'LCK', 'BLI', 'SCK', 'PIE', 'RFD', 'PVU', 'PBG', 'BLV', 'PGD', 'SPI', 'USA', 'TOL', 'IDA', 'ELM', 'HTS', 'HGR', 'SMX', 'OGD', 'GFK', 'STC', 'GTF', 'IAG', 'CKB', 'OWB', 'PSM', 'ABI', 'TYR', 'ALO', 'SUX', 'AZO', 'ACT', 'CMI', 'BPT', 'TXK', 'SWO', 'SPS', 'DBQ', 'SJT', 'GGG', 'LSE', 'MQT', 'GCK', 'LBE', 'ACY', 'LYH', 'PGV', 'HVN', 'EWN', 'DHN', 'PIH', 'WYS', 'SCE', 'IMT', 'HLN', 'ASE', 'SUN', 'ISN', 'EAR', 'SGU', 'VEL', 'SHD', 'LWB', 'MKG', 'SLN', 'HYS', 'BFF', 'PUB', 'LBL', 'CMX', 'EAU', 'PAH', 'UIN', 'RKS', 'CGI', 'CNY', 'JMS', 'DVL', 'LAR', 'GCC', 'LBF', 'PRC', 'RDD', 'ACV', 'OTH', 'COD', 'LWS', 'ABR', 'APN', 'PLN', 'BJI', 'CPR', 'BRD', 'BTM', 'CDC', 'CIU', 'ESC', 'EKO', 'ITH', 'HIB', 'BGM', 'TWF', 'RHI', 'INL', 'FLG', 'YUM', 'MEI', 'PIB', 'HDN']\n"
     ]
    }
   ],
   "source": [
    "print(\"The #rows and #columns are \", df_temp.shape[0] , \" and \", df_temp.shape[1])\n",
    "print(\"The years in this dataset are: \", df_temp['Year'].unique())\n",
    "print(\"The months covered in this dataset are: \", df_temp['Month'].unique())\n",
    "print(\"The date range for data is :\" ,  min(df_temp['FlightDate']), \" to \",  max(df_temp['FlightDate']))\n",
    "print(\"The airlines covered in this dataset are: \", list(df_temp['Reporting_Airline'].unique()))\n",
    "print(\"The Origin airports covered are: \", list(df_temp['Origin'].unique()))\n",
    "print(\"The Destination airports covered are: \", list(df_temp['Dest'].unique()))"
   ]
  },
  {
   "cell_type": "markdown",
   "metadata": {},
   "source": [
    "**Question**: What is the count of all the origin and destination airports?\n",
    "\n",
    "**Hint**: To find the values for each airport by using the **Origin** and **Dest** columns, you can use the `values_count` function in pandas ([pandas.Series.value_counts documentation](https://pandas.pydata.org/pandas-docs/stable/reference/api/pandas.Series.value_counts.html))."
   ]
  },
  {
   "cell_type": "code",
   "execution_count": 15,
   "metadata": {
    "tags": []
   },
   "outputs": [
    {
     "data": {
      "text/html": [
       "<div>\n",
       "<style scoped>\n",
       "    .dataframe tbody tr th:only-of-type {\n",
       "        vertical-align: middle;\n",
       "    }\n",
       "\n",
       "    .dataframe tbody tr th {\n",
       "        vertical-align: top;\n",
       "    }\n",
       "\n",
       "    .dataframe thead th {\n",
       "        text-align: right;\n",
       "    }\n",
       "</style>\n",
       "<table border=\"1\" class=\"dataframe\">\n",
       "  <thead>\n",
       "    <tr style=\"text-align: right;\">\n",
       "      <th></th>\n",
       "      <th>Origin</th>\n",
       "      <th>Destination</th>\n",
       "    </tr>\n",
       "  </thead>\n",
       "  <tbody>\n",
       "    <tr>\n",
       "      <th>ABE</th>\n",
       "      <td>303</td>\n",
       "      <td>303</td>\n",
       "    </tr>\n",
       "    <tr>\n",
       "      <th>ABI</th>\n",
       "      <td>169</td>\n",
       "      <td>169</td>\n",
       "    </tr>\n",
       "    <tr>\n",
       "      <th>ABQ</th>\n",
       "      <td>2077</td>\n",
       "      <td>2076</td>\n",
       "    </tr>\n",
       "    <tr>\n",
       "      <th>ABR</th>\n",
       "      <td>60</td>\n",
       "      <td>60</td>\n",
       "    </tr>\n",
       "    <tr>\n",
       "      <th>ABY</th>\n",
       "      <td>79</td>\n",
       "      <td>79</td>\n",
       "    </tr>\n",
       "    <tr>\n",
       "      <th>...</th>\n",
       "      <td>...</td>\n",
       "      <td>...</td>\n",
       "    </tr>\n",
       "    <tr>\n",
       "      <th>WRG</th>\n",
       "      <td>60</td>\n",
       "      <td>60</td>\n",
       "    </tr>\n",
       "    <tr>\n",
       "      <th>WYS</th>\n",
       "      <td>52</td>\n",
       "      <td>52</td>\n",
       "    </tr>\n",
       "    <tr>\n",
       "      <th>XNA</th>\n",
       "      <td>1004</td>\n",
       "      <td>1004</td>\n",
       "    </tr>\n",
       "    <tr>\n",
       "      <th>YAK</th>\n",
       "      <td>60</td>\n",
       "      <td>60</td>\n",
       "    </tr>\n",
       "    <tr>\n",
       "      <th>YUM</th>\n",
       "      <td>96</td>\n",
       "      <td>96</td>\n",
       "    </tr>\n",
       "  </tbody>\n",
       "</table>\n",
       "<p>346 rows × 2 columns</p>\n",
       "</div>"
      ],
      "text/plain": [
       "     Origin  Destination\n",
       "ABE     303          303\n",
       "ABI     169          169\n",
       "ABQ    2077         2076\n",
       "ABR      60           60\n",
       "ABY      79           79\n",
       "..      ...          ...\n",
       "WRG      60           60\n",
       "WYS      52           52\n",
       "XNA    1004         1004\n",
       "YAK      60           60\n",
       "YUM      96           96\n",
       "\n",
       "[346 rows x 2 columns]"
      ]
     },
     "execution_count": 15,
     "metadata": {},
     "output_type": "execute_result"
    }
   ],
   "source": [
    "origin_counts = df_temp['Origin'].value_counts()\n",
    "destination_counts = df_temp['Dest'].value_counts()\n",
    "\n",
    "counts = pd.DataFrame({'Origin': origin_counts, 'Destination': destination_counts})\n",
    "counts\n"
   ]
  },
  {
   "cell_type": "markdown",
   "metadata": {},
   "source": [
    "**Question**: Print the top 15 origin and destination airports based on number of flights in the dataset.\n",
    "\n",
    "**Hint**: You can use the `sort_values` function in pandas ([pandas.DataFrame.sort_values documentation](https://pandas.pydata.org/pandas-docs/stable/reference/api/pandas.DataFrame.sort_values.html))."
   ]
  },
  {
   "cell_type": "code",
   "execution_count": 16,
   "metadata": {
    "tags": []
   },
   "outputs": [
    {
     "name": "stdout",
     "output_type": "stream",
     "text": [
      "Top 15 Origin Airports:\n",
      "ATL    31525\n",
      "ORD    28257\n",
      "DFW    22802\n",
      "DEN    19807\n",
      "CLT    19655\n",
      "LAX    17875\n",
      "SFO    14332\n",
      "IAH    14210\n",
      "LGA    13850\n",
      "MSP    13349\n",
      "LAS    13318\n",
      "PHX    13126\n",
      "DTW    12725\n",
      "BOS    12223\n",
      "SEA    11872\n",
      "Name: Origin, dtype: int64\n",
      "\n",
      "Top 15 Destination Airports:\n",
      "ATL    31521\n",
      "ORD    28250\n",
      "DFW    22795\n",
      "DEN    19807\n",
      "CLT    19654\n",
      "LAX    17873\n",
      "SFO    14348\n",
      "IAH    14203\n",
      "LGA    13850\n",
      "MSP    13347\n",
      "LAS    13322\n",
      "PHX    13128\n",
      "DTW    12724\n",
      "BOS    12227\n",
      "SEA    11877\n",
      "Name: Destination, dtype: int64\n"
     ]
    }
   ],
   "source": [
    "# Count the occurrences of each origin and destination airport\n",
    "origin_counts = df_temp['Origin'].value_counts()\n",
    "destination_counts = df_temp['Dest'].value_counts()\n",
    "\n",
    "# Create a DataFrame to combine both counts\n",
    "counts = pd.DataFrame({'Origin': origin_counts, 'Destination': destination_counts})\n",
    "\n",
    "# Sort values and display the top 15 origin airports\n",
    "top_15_origin = counts['Origin'].sort_values(ascending=False).head(15)\n",
    "print(\"Top 15 Origin Airports:\")\n",
    "print(top_15_origin)\n",
    "\n",
    "# Sort values and display the top 15 destination airports\n",
    "top_15_destination = counts['Destination'].sort_values(ascending=False).head(15)\n",
    "print(\"\\nTop 15 Destination Airports:\")\n",
    "print(top_15_destination)\n"
   ]
  },
  {
   "cell_type": "markdown",
   "metadata": {},
   "source": [
    "**Given all the information about a flight trip, can you predict if it would be delayed?**"
   ]
  },
  {
   "cell_type": "markdown",
   "metadata": {},
   "source": [
    "The **ArrDel15** column is an indicator variable that takes the value *1* when the delay is more than 15 minutes. Otherwise, it takes a value of *0*.\n",
    "\n",
    "You could use this as a target column for the classification problem."
   ]
  },
  {
   "cell_type": "markdown",
   "metadata": {},
   "source": [
    "Now, assume that you are traveling from San Francisco to Los Angeles on a work trip. You want to better manage your reservations in Los Angeles. Thus, want to have an idea of whether your flight will be delayed, given a set of features. How many features from this dataset would you need to know before your flight?\n",
    "\n",
    "Columns such as `DepDelay`, `ArrDelay`, `CarrierDelay`, `WeatherDelay`, `NASDelay`, `SecurityDelay`, `LateAircraftDelay`, and `DivArrDelay` contain information about a delay. But this delay could have occured at the origin or the destination. If there were a sudden weather delay 10 minutes before landing, this data wouldn't be helpful to managing your Los Angeles reservations.\n",
    "\n",
    "So to simplify the problem statement, consider the following columns to predict an arrival delay:<br>\n",
    "\n",
    "`Year`, `Quarter`, `Month`, `DayofMonth`, `DayOfWeek`, `FlightDate`, `Reporting_Airline`, `Origin`, `OriginState`, `Dest`, `DestState`, `CRSDepTime`, `DepDelayMinutes`, `DepartureDelayGroups`, `Cancelled`, `Diverted`, `Distance`, `DistanceGroup`, `ArrDelay`, `ArrDelayMinutes`, `ArrDel15`, `AirTime`\n",
    "\n",
    "You will also filter the source and destination airports to be:\n",
    "- Top airports: ATL, ORD, DFW, DEN, CLT, LAX, IAH, PHX, SFO\n",
    "- Top five airlines: UA, OO, WN, AA, DL\n",
    "\n",
    "This information should help reduce the size of data across the CSV files that will be combined."
   ]
  },
  {
   "cell_type": "markdown",
   "metadata": {},
   "source": [
    "#### Combine all CSV files\n",
    " \n",
    "First, create an empy DataFrame that you will use to copy your individual DataFrames from each file. Then, for each file in the `csv_files` list:\n",
    "\n",
    "1. Read the CSV file into a dataframe \n",
    "2. Filter the columns based on the `filter_cols` variable\n",
    "\n",
    "```\n",
    "        columns = ['col1', 'col2']\n",
    "        df_filter = df[columns]\n",
    "```\n",
    "\n",
    "3. Keep only the `subset_vals` in each of the `subset_cols`. To check if the `val` is in the DataFrame column, use the `isin` function in pandas ([pandas.DataFram.isin documentation](https://pandas.pydata.org/pandas-docs/stable/reference/api/pandas.DataFrame.isin.html)). Then, choose the rows that include it.\n",
    "\n",
    "```\n",
    "        df_eg[df_eg['col1'].isin('5')]\n",
    "```\n",
    "\n",
    "4. Concatenate the DataFrame with the empty DataFrame "
   ]
  },
  {
   "cell_type": "code",
   "execution_count": 39,
   "metadata": {
    "tags": []
   },
   "outputs": [],
   "source": [
    "def combine_csv(csv_files, filter_cols, subset_cols, subset_vals, file_name):\n",
    "\n",
    "    \"\"\"\n",
    "    Combine csv files into one Data Frame\n",
    "    csv_files: list of csv file paths\n",
    "    filter_cols: list of columns to filter\n",
    "    subset_cols: list of columns to subset rows\n",
    "    subset_vals: list of list of values to subset rows\n",
    "    \"\"\"\n",
    "\n",
    "    df = pd.DataFrame()\n",
    "    \n",
    "    for file in csv_files:\n",
    "        df_temp = pd.read_csv(file)\n",
    "        df_temp = df_temp[filter_cols]\n",
    "        for col, val in zip(subset_cols,subset_vals):\n",
    "            df_temp = df_temp[df_temp[col].isin(val)]      \n",
    "        \n",
    "        df = pd.concat([df, df_temp], axis=0)\n",
    "      \n",
    "    df.to_csv(file_name, index=False)\n",
    "    print(f'Combined csv stored at {file_name}')"
   ]
  },
  {
   "cell_type": "code",
   "execution_count": 40,
   "metadata": {
    "tags": []
   },
   "outputs": [],
   "source": [
    "#cols is the list of columns to predict Arrival Delay \n",
    "cols = ['Year','Quarter','Month','DayofMonth','DayOfWeek','FlightDate',\n",
    "        'Reporting_Airline','Origin','OriginState','Dest','DestState',\n",
    "        'CRSDepTime','Cancelled','Diverted','Distance','DistanceGroup',\n",
    "        'ArrDelay','ArrDelayMinutes','ArrDel15','AirTime']\n",
    "\n",
    "subset_cols = ['Origin', 'Dest', 'Reporting_Airline']\n",
    "\n",
    "# subset_vals is a list collection of the top origin and destination airports and top 5 airlines\n",
    "subset_vals = [['ATL', 'ORD', 'DFW', 'DEN', 'CLT', 'LAX', 'IAH', 'PHX', 'SFO'], \n",
    "               ['ATL', 'ORD', 'DFW', 'DEN', 'CLT', 'LAX', 'IAH', 'PHX', 'SFO'], \n",
    "               ['UA', 'OO', 'WN', 'AA', 'DL']]"
   ]
  },
  {
   "cell_type": "markdown",
   "metadata": {},
   "source": [
    "Use the previous function to merge all the different files into a single file that you can read easily. \n",
    "\n",
    "**Note**: This process will take 5-7 minutes to complete."
   ]
  },
  {
   "cell_type": "code",
   "execution_count": 41,
   "metadata": {
    "tags": []
   },
   "outputs": [
    {
     "name": "stdout",
     "output_type": "stream",
     "text": [
      "Combined csv stored at /home/ec2-user/SageMaker/project/data/FlightDelays/combined_files.csv\n",
      "CSVs merged in 4.89 minutes\n"
     ]
    }
   ],
   "source": [
    "start = time.time()\n",
    "combined_csv_filename = f\"{base_path}combined_files.csv\"\n",
    "combine_csv(csv_files, cols, subset_cols, subset_vals, combined_csv_filename)\n",
    "print(f'CSVs merged in {round((time.time() - start)/60,2)} minutes')"
   ]
  },
  {
   "cell_type": "markdown",
   "metadata": {},
   "source": [
    "#### Load the dataset\n",
    "\n",
    "Load the combined dataset."
   ]
  },
  {
   "cell_type": "code",
   "execution_count": 42,
   "metadata": {
    "tags": []
   },
   "outputs": [],
   "source": [
    "data = pd.read_csv(combined_csv_filename)"
   ]
  },
  {
   "cell_type": "markdown",
   "metadata": {},
   "source": [
    "Print the first five records."
   ]
  },
  {
   "cell_type": "code",
   "execution_count": 43,
   "metadata": {
    "tags": []
   },
   "outputs": [
    {
     "name": "stdout",
     "output_type": "stream",
     "text": [
      "   Year  Quarter  Month  DayofMonth  DayOfWeek  FlightDate Reporting_Airline  \\\n",
      "0  2015        2      4           4          6  2015-04-04                OO   \n",
      "1  2015        2      4          25          6  2015-04-25                OO   \n",
      "2  2015        2      4          10          5  2015-04-10                OO   \n",
      "3  2015        2      4          14          2  2015-04-14                OO   \n",
      "4  2015        2      4           7          2  2015-04-07                OO   \n",
      "\n",
      "  Origin OriginState Dest DestState  CRSDepTime  Cancelled  Diverted  \\\n",
      "0    DFW          TX  ORD        IL        1409        0.0       0.0   \n",
      "1    IAH          TX  PHX        AZ        1820        0.0       0.0   \n",
      "2    IAH          TX  PHX        AZ        1806        0.0       0.0   \n",
      "3    IAH          TX  PHX        AZ        1806        0.0       0.0   \n",
      "4    IAH          TX  PHX        AZ        1806        0.0       0.0   \n",
      "\n",
      "   Distance  DistanceGroup  ArrDelay  ArrDelayMinutes  ArrDel15  AirTime  \n",
      "0     802.0              4      -6.0              0.0       0.0    105.0  \n",
      "1    1009.0              5      29.0             29.0       1.0    162.0  \n",
      "2    1009.0              5       6.0              6.0       0.0    154.0  \n",
      "3    1009.0              5       0.0              0.0       0.0    144.0  \n",
      "4    1009.0              5      42.0             42.0       1.0    160.0  \n"
     ]
    }
   ],
   "source": [
    "print(data.head())\n"
   ]
  },
  {
   "cell_type": "markdown",
   "metadata": {},
   "source": [
    "Here are some more questions to help you learn more about your dataset.\n",
    "\n",
    "**Questions**   \n",
    "\n",
    "1. How many rows and columns does the dataset have?   \n",
    "2. How many years are included in the dataset?   \n",
    "3. What is the date range for the dataset?   \n",
    "4. Which airlines are included in the dataset?   \n",
    "5. Which origin and destination airports are covered?"
   ]
  },
  {
   "cell_type": "code",
   "execution_count": 44,
   "metadata": {
    "tags": []
   },
   "outputs": [
    {
     "name": "stdout",
     "output_type": "stream",
     "text": [
      "The #rows and #columns are  1658130  and  20\n",
      "The years in this dataset are:  [2015, 2016, 2018, 2017, 2014]\n",
      "The months covered in this dataset are:  [4, 7, 10, 1, 8, 6, 2, 5, 9, 11, 3, 12]\n",
      "The date range for data is : 2014-01-01  to  2018-12-31\n",
      "The airlines covered in this dataset are:  ['OO', 'UA', 'WN', 'AA', 'DL']\n",
      "The Origin airports covered are:  ['DFW', 'IAH', 'DEN', 'ORD', 'ATL', 'SFO', 'LAX', 'PHX', 'CLT']\n",
      "The Destination airports covered are:  ['ORD', 'PHX', 'DFW', 'SFO', 'IAH', 'ATL', 'LAX', 'CLT', 'DEN']\n"
     ]
    }
   ],
   "source": [
    "print(\"The #rows and #columns are \", data.shape[0] , \" and \", data.shape[1])\n",
    "print(\"The years in this dataset are: \",list(data['Year'].unique()))\n",
    "print(\"The months covered in this dataset are: \", (list(data['Month'].unique())))\n",
    "print(\"The date range for data is :\" ,min(data['FlightDate']), \" to \", max(data['FlightDate']))\n",
    "print(\"The airlines covered in this dataset are: \", list(data['Reporting_Airline'].unique()))\n",
    "print(\"The Origin airports covered are: \", list(data['Origin'].unique()))\n",
    "print(\"The Destination airports covered are: \", list(data['Dest'].unique()))"
   ]
  },
  {
   "cell_type": "markdown",
   "metadata": {},
   "source": [
    "Define your target column: **is_delay** (*1* means that the arrival time delayed more than 15 minutes, and *0* means all other cases). To rename the column from **ArrDel15** to *is_delay*, use the `rename` method .\n",
    "\n",
    "**Hint**: You can use the `rename` function in pandas ([pandas.DataFrame.rename documentation](https://pandas.pydata.org/pandas-docs/stable/reference/api/pandas.DataFrame.rename.html)).\n",
    "\n",
    "For example:\n",
    "```\n",
    "data.rename(columns={'col1':'column1'}, inplace=True)\n",
    "```"
   ]
  },
  {
   "cell_type": "code",
   "execution_count": 45,
   "metadata": {
    "tags": []
   },
   "outputs": [
    {
     "name": "stdout",
     "output_type": "stream",
     "text": [
      "   Year  Quarter  Month  DayofMonth  DayOfWeek  FlightDate Reporting_Airline  \\\n",
      "0  2015        2      4           4          6  2015-04-04                OO   \n",
      "1  2015        2      4          25          6  2015-04-25                OO   \n",
      "2  2015        2      4          10          5  2015-04-10                OO   \n",
      "3  2015        2      4          14          2  2015-04-14                OO   \n",
      "4  2015        2      4           7          2  2015-04-07                OO   \n",
      "\n",
      "  Origin OriginState Dest DestState  CRSDepTime  Cancelled  Diverted  \\\n",
      "0    DFW          TX  ORD        IL        1409        0.0       0.0   \n",
      "1    IAH          TX  PHX        AZ        1820        0.0       0.0   \n",
      "2    IAH          TX  PHX        AZ        1806        0.0       0.0   \n",
      "3    IAH          TX  PHX        AZ        1806        0.0       0.0   \n",
      "4    IAH          TX  PHX        AZ        1806        0.0       0.0   \n",
      "\n",
      "   Distance  DistanceGroup  ArrDelay  ArrDelayMinutes  is_delay  AirTime  \n",
      "0     802.0              4      -6.0              0.0       0.0    105.0  \n",
      "1    1009.0              5      29.0             29.0       1.0    162.0  \n",
      "2    1009.0              5       6.0              6.0       0.0    154.0  \n",
      "3    1009.0              5       0.0              0.0       0.0    144.0  \n",
      "4    1009.0              5      42.0             42.0       1.0    160.0  \n"
     ]
    }
   ],
   "source": [
    "data.rename(columns={'ArrDel15': 'is_delay'}, inplace=True)\n",
    "\n",
    "# Check the first few rows to confirm the column rename\n",
    "print(data.head())"
   ]
  },
  {
   "cell_type": "markdown",
   "metadata": {},
   "source": [
    "Look for nulls across columns. You can use the `isnull()` function ([pandas.isnull documentation](https://pandas.pydata.org/pandas-docs/version/0.17.0/generated/pandas.isnull.html)).\n",
    "\n",
    "**Hint**: `isnull()` detects whether the particular value is null or not. It returns a boolean (*True* or *False*) in its place. To sum the number of columns, use the `sum(axis=0)` function (for example, `df.isnull().sum(axis=0)`)."
   ]
  },
  {
   "cell_type": "code",
   "execution_count": 46,
   "metadata": {
    "tags": []
   },
   "outputs": [
    {
     "name": "stdout",
     "output_type": "stream",
     "text": [
      "Number of nulls in each column:\n",
      "ArrDelay           22540\n",
      "ArrDelayMinutes    22540\n",
      "is_delay           22540\n",
      "AirTime            22540\n",
      "dtype: int64\n"
     ]
    }
   ],
   "source": [
    "# Check for null values across columns\n",
    "null_counts = data.isnull().sum(axis=0)\n",
    "\n",
    "# Print the count of null values for each column\n",
    "print(\"Number of nulls in each column:\")\n",
    "print(null_counts[null_counts > 0])  # Only display columns with nulls\n"
   ]
  },
  {
   "cell_type": "markdown",
   "metadata": {},
   "source": [
    "The arrival delay details and airtime are missing for 22,540 out of 1,658,130 rows, which is 1.3 percent. You can either remove or impute these rows. The documentation doesn't mention any information about missing rows.\n"
   ]
  },
  {
   "cell_type": "code",
   "execution_count": 47,
   "metadata": {
    "tags": []
   },
   "outputs": [
    {
     "data": {
      "text/plain": [
       "Year                 0\n",
       "Quarter              0\n",
       "Month                0\n",
       "DayofMonth           0\n",
       "DayOfWeek            0\n",
       "FlightDate           0\n",
       "Reporting_Airline    0\n",
       "Origin               0\n",
       "OriginState          0\n",
       "Dest                 0\n",
       "DestState            0\n",
       "CRSDepTime           0\n",
       "Cancelled            0\n",
       "Diverted             0\n",
       "Distance             0\n",
       "DistanceGroup        0\n",
       "ArrDelay             0\n",
       "ArrDelayMinutes      0\n",
       "is_delay             0\n",
       "AirTime              0\n",
       "dtype: int64"
      ]
     },
     "execution_count": 47,
     "metadata": {},
     "output_type": "execute_result"
    }
   ],
   "source": [
    "### Remove null columns\n",
    "data = data[~data.is_delay.isnull()]\n",
    "data.isnull().sum(axis = 0)"
   ]
  },
  {
   "cell_type": "markdown",
   "metadata": {},
   "source": [
    "Get the hour of the day in 24-hour-time format from CRSDepTime."
   ]
  },
  {
   "cell_type": "code",
   "execution_count": 48,
   "metadata": {
    "tags": []
   },
   "outputs": [],
   "source": [
    "data['DepHourofDay'] = (data['CRSDepTime']//100)"
   ]
  },
  {
   "cell_type": "markdown",
   "metadata": {},
   "source": [
    "## **The ML problem statement**\n",
    "- Given a set of features, can you predict if a flight is going to be delayed more than 15 minutes?\n",
    "- Because the target variable takes only a value of *0* or *1*, you could use a classification algorithm. \n",
    "\n",
    "Before you start modeling, it's a good practice to look at feature distribution, correlations, and others.\n",
    "- This will give you an idea of any non-linearity or patterns in the data\n",
    "    - Linear models: Add power, exponential, or interaction features\n",
    "    - Try a non-linear model\n",
    "- Data imbalance \n",
    "    - Choose metrics that won't give biased model performance (accuracy versus the area under the curve, or AUC)\n",
    "    - Use weighted or custom loss functions\n",
    "- Missing data\n",
    "    - Do imputation based on simple statistics -- mean, median, mode (numerical variables), frequent class (categorical variables)\n",
    "    - Clustering-based imputation (k-nearest neighbors, or KNNs, to predict column value)\n",
    "    - Drop column"
   ]
  },
  {
   "cell_type": "markdown",
   "metadata": {},
   "source": [
    "### Data exploration\n",
    "\n",
    "Check the classes *delay* versus *no delay*.\n"
   ]
  },
  {
   "cell_type": "code",
   "execution_count": 49,
   "metadata": {
    "tags": []
   },
   "outputs": [
    {
     "data": {
      "image/png": "[encoded data removed]",
      "text/plain": [
       "<Figure size 640x480 with 1 Axes>"
      ]
     },
     "metadata": {},
     "output_type": "display_data"
    }
   ],
   "source": [
    "(data.groupby('is_delay').size()/len(data) ).plot(kind='bar')# Enter your code here\n",
    "plt.ylabel('Frequency')\n",
    "plt.title('Distribution of classes')\n",
    "plt.show()"
   ]
  },
  {
   "cell_type": "markdown",
   "metadata": {},
   "source": [
    "**Question**: What can you deduce from the bar plot about the ratio of *delay* versus *no delay*?"
   ]
  },
  {
   "cell_type": "code",
   "execution_count": null,
   "metadata": {},
   "outputs": [],
   "source": [
    "#it's clear that the delayed one is 0.2 % but the not delayed is 0.8"
   ]
  },
  {
   "cell_type": "markdown",
   "metadata": {},
   "source": [
    "Run the following two cells and answer the questions."
   ]
  },
  {
   "cell_type": "code",
   "execution_count": 50,
   "metadata": {
    "tags": []
   },
   "outputs": [
    {
     "data": {
      "image/png": "[encoded data removed]",
      "text/plain": [
       "<Figure size 2000x2000 with 6 Axes>"
      ]
     },
     "metadata": {},
     "output_type": "display_data"
    }
   ],
   "source": [
    "viz_columns = ['Month', 'DepHourofDay', 'DayOfWeek', 'Reporting_Airline', 'Origin', 'Dest']\n",
    "fig, axes = plt.subplots(3, 2, figsize=(20,20), squeeze=False)\n",
    "# fig.autofmt_xdate(rotation=90)\n",
    "\n",
    "for idx, column in enumerate(viz_columns):\n",
    "    ax = axes[idx//2, idx%2]\n",
    "    temp = data.groupby(column)['is_delay'].value_counts(normalize=True).rename('percentage').\\\n",
    "    mul(100).reset_index().sort_values(column)\n",
    "    sns.barplot(x=column, y=\"percentage\", hue=\"is_delay\", data=temp, ax=ax)\n",
    "    plt.ylabel('% delay/no-delay')\n",
    "    \n",
    "\n",
    "plt.show()"
   ]
  },
  {
   "cell_type": "code",
   "execution_count": 51,
   "metadata": {
    "tags": []
   },
   "outputs": [
    {
     "data": {
      "image/png": "[encoded data removed]",
      "text/plain": [
       "<Figure size 500x500 with 1 Axes>"
      ]
     },
     "metadata": {},
     "output_type": "display_data"
    }
   ],
   "source": [
    "sns.lmplot( x=\"is_delay\", y=\"Distance\", data=data, fit_reg=False, hue='is_delay', legend=False)\n",
    "plt.legend(loc='center')\n",
    "plt.xlabel('is_delay')\n",
    "plt.ylabel('Distance')\n",
    "plt.show()"
   ]
  },
  {
   "cell_type": "markdown",
   "metadata": {},
   "source": [
    "**Questions**\n",
    "\n",
    "Using the data from the previous charts, answer these questions:\n",
    "\n",
    "- Which months have the most delays?\n",
    "- What time of the day has the most delays?\n",
    "- What day of the week has the most delays?\n",
    "- Which airline has the most delays?\n",
    "- Which origin and destination airports have the most delays?\n",
    "- Is flight distance a factor in the delays?"
   ]
  },
  {
   "cell_type": "code",
   "execution_count": null,
   "metadata": {},
   "outputs": [],
   "source": [
    "# the month of the most delays :6\n",
    "#time of the day with most delays:20\n",
    "#day of the week : 4 and 5 \n",
    "# airline: OO \n",
    "#origin: ORD, destination:SFO\n",
    "#No "
   ]
  },
  {
   "cell_type": "markdown",
   "metadata": {},
   "source": [
    "### Features\n",
    "\n",
    "Look at all the columns and what their specific types are."
   ]
  },
  {
   "cell_type": "code",
   "execution_count": 52,
   "metadata": {
    "tags": []
   },
   "outputs": [
    {
     "data": {
      "text/plain": [
       "Index(['Year', 'Quarter', 'Month', 'DayofMonth', 'DayOfWeek', 'FlightDate',\n",
       "       'Reporting_Airline', 'Origin', 'OriginState', 'Dest', 'DestState',\n",
       "       'CRSDepTime', 'Cancelled', 'Diverted', 'Distance', 'DistanceGroup',\n",
       "       'ArrDelay', 'ArrDelayMinutes', 'is_delay', 'AirTime', 'DepHourofDay'],\n",
       "      dtype='object')"
      ]
     },
     "execution_count": 52,
     "metadata": {},
     "output_type": "execute_result"
    }
   ],
   "source": [
    "data.columns"
   ]
  },
  {
   "cell_type": "code",
   "execution_count": 53,
   "metadata": {
    "tags": []
   },
   "outputs": [
    {
     "data": {
      "text/plain": [
       "Year                   int64\n",
       "Quarter                int64\n",
       "Month                  int64\n",
       "DayofMonth             int64\n",
       "DayOfWeek              int64\n",
       "FlightDate            object\n",
       "Reporting_Airline     object\n",
       "Origin                object\n",
       "OriginState           object\n",
       "Dest                  object\n",
       "DestState             object\n",
       "CRSDepTime             int64\n",
       "Cancelled            float64\n",
       "Diverted             float64\n",
       "Distance             float64\n",
       "DistanceGroup          int64\n",
       "ArrDelay             float64\n",
       "ArrDelayMinutes      float64\n",
       "is_delay             float64\n",
       "AirTime              float64\n",
       "DepHourofDay           int64\n",
       "dtype: object"
      ]
     },
     "execution_count": 53,
     "metadata": {},
     "output_type": "execute_result"
    }
   ],
   "source": [
    "data.dtypes"
   ]
  },
  {
   "cell_type": "markdown",
   "metadata": {},
   "source": [
    "Filtering the required columns:\n",
    "- *Date* is redundant, because you have *Year*, *Quarter*, *Month*, *DayofMonth*, and *DayOfWeek* to describe the date.\n",
    "- Use *Origin* and *Dest* codes instead of *OriginState* and *DestState*.\n",
    "- Because you are only classifying whether the flight is delayed or not, you don't need *TotalDelayMinutes*, *DepDelayMinutes*, and *ArrDelayMinutes*.\n",
    "\n",
    "Treat *DepHourofDay* as a categorical variable because it doesn't have any quantitative relation with the target.\n",
    "- If you needed to do a one-hot encoding of this variable, it would result in 23 more columns.\n",
    "- Other alternatives to handling categorical variables include hash encoding, regularized mean encoding, and bucketizing the values, among others.\n",
    "- In this case, you only need to split into buckets.\n",
    "\n",
    "To change a column type to category, use the `astype` function ([pandas.DataFrame.astype documentation](https://pandas.pydata.org/pandas-docs/stable/reference/api/pandas.DataFrame.astype.html))."
   ]
  },
  {
   "cell_type": "code",
   "execution_count": 54,
   "metadata": {
    "tags": []
   },
   "outputs": [],
   "source": [
    "data_orig = data.copy()\n",
    "data = data[[ 'is_delay', 'Quarter', 'Month', 'DayofMonth', 'DayOfWeek', \n",
    "       'Reporting_Airline', 'Origin', 'Dest','Distance','DepHourofDay']]\n",
    "categorical_columns  = ['Quarter', 'Month', 'DayofMonth', 'DayOfWeek', \n",
    "       'Reporting_Airline', 'Origin', 'Dest', 'DepHourofDay']\n",
    "for c in categorical_columns:\n",
    "    data[c] = data[c].astype('category')"
   ]
  },
  {
   "cell_type": "markdown",
   "metadata": {},
   "source": [
    "To use one-hot encoding, use the `get_dummies` function in pandas for the categorical columns that you selected. Then, you can concatenate those generated features to your original dataset by using the `concat` function in pandas. For encoding categorical variables, you can also use *dummy encoding* by using a keyword `drop_first=True`. For more information about dummy encoding, see [Dummy variable (statistics)](https://en.wikiversity.org/wiki/Dummy_variable_(statistics)).\n",
    "\n",
    "For example:\n",
    "```\n",
    "pd.get_dummies(df[['column1','columns2']], drop_first=True)\n",
    "```"
   ]
  },
  {
   "cell_type": "code",
   "execution_count": 55,
   "metadata": {
    "tags": []
   },
   "outputs": [],
   "source": [
    "data_dummies = pd.get_dummies(categorical_columns, drop_first=True) # Enter your code here\n",
    "data_dummies = data_dummies.replace({True: 1, False: 0})\n",
    "data = pd.concat([data, data_dummies], axis = 1)\n",
    "data.drop(categorical_columns,axis=1, inplace=True)"
   ]
  },
  {
   "cell_type": "markdown",
   "metadata": {},
   "source": [
    "Check the length of the dataset and the new columns.\n",
    "\n",
    "**Hint**: Use the `shape` and `columns` properties."
   ]
  },
  {
   "cell_type": "code",
   "execution_count": 56,
   "metadata": {
    "tags": []
   },
   "outputs": [
    {
     "name": "stdout",
     "output_type": "stream",
     "text": [
      "Shape of the dataset: (1635590, 2)\n"
     ]
    }
   ],
   "source": [
    "print(\"Shape of the dataset:\", data.shape)\n"
   ]
  },
  {
   "cell_type": "code",
   "execution_count": 57,
   "metadata": {
    "tags": []
   },
   "outputs": [
    {
     "name": "stdout",
     "output_type": "stream",
     "text": [
      "Columns in the dataset:\n",
      "Index(['is_delay', 'Distance'], dtype='object')\n"
     ]
    }
   ],
   "source": [
    "# Check the columns in the dataset\n",
    "print(\"Columns in the dataset:\")\n",
    "print(data.columns)"
   ]
  },
  {
   "cell_type": "markdown",
   "metadata": {},
   "source": [
    "You are now ready to train the model. Before you split the data, rename the **is_delay** column to *target*.\n",
    "\n",
    "**Hint**: You can use the `rename` function in pandas ([pandas.DataFrame.rename documentation](https://pandas.pydata.org/pandas-docs/stable/reference/api/pandas.DataFrame.rename.html))."
   ]
  },
  {
   "cell_type": "code",
   "execution_count": 58,
   "metadata": {
    "tags": []
   },
   "outputs": [
    {
     "name": "stdout",
     "output_type": "stream",
     "text": [
      "Updated columns in the dataset:\n",
      "Index(['target', 'Distance'], dtype='object')\n"
     ]
    }
   ],
   "source": [
    "# Rename the 'is_delay' column to 'target'\n",
    "data.rename(columns={'is_delay': 'target'}, inplace=True)\n",
    "\n",
    "# Check the updated columns\n",
    "print(\"Updated columns in the dataset:\")\n",
    "print(data.columns)\n"
   ]
  },
  {
   "cell_type": "markdown",
   "metadata": {},
   "source": [
    "## <span style=\"color:red\"> End of Step 2 </span>\n",
    "\n",
    "Save the project file to your local computer. Follow these steps:\n",
    "\n",
    "1. In the file explorer on the left, right-click the notebook that you're working on. \n",
    "\n",
    "2. Choose **Download**, and save the file locally.  \n",
    "\n",
    "This action downloads the current notebook to the default download folder on your computer."
   ]
  },
  {
   "cell_type": "markdown",
   "metadata": {},
   "source": [
    "# Step 3: Model training and evaluation\n",
    "\n",
    "You must include some preliminary steps when you convert the dataset from a DataFrame to a format that a machine learning algorithm can use. For Amazon SageMaker, you must perform these steps:\n",
    "\n",
    "1. Split the data into `train_data`, `validation_data`, and `test_data` by using `sklearn.model_selection.train_test_split`.  \n",
    "\n",
    "2. Convert the dataset to an appropriate file format that the Amazon SageMaker training job can use. This can be either a CSV file or record protobuf. For more information, see [Common Data Formats for Training](https://docs.aws.amazon.com/sagemaker/latest/dg/cdf-training.html).  \n",
    "\n",
    "3. Upload the data to your S3 bucket. If you haven't created one before, see [Create a Bucket](https://docs.aws.amazon.com/AmazonS3/latest/gsg/CreatingABucket.html).  \n",
    "\n",
    "Use the following cells to complete these steps. Insert and delete cells where needed.\n",
    "\n",
    "#### <span style=\"color: blue;\">Project presentation: In your project presentation, write down the key decisions that you made in this phase.</span>"
   ]
  },
  {
   "cell_type": "markdown",
   "metadata": {},
   "source": [
    "### Train-test split"
   ]
  },
  {
   "cell_type": "code",
   "execution_count": 59,
   "metadata": {
    "tags": []
   },
   "outputs": [],
   "source": [
    "from sklearn.model_selection import train_test_split\n",
    "def split_data(data):\n",
    "    train, test_and_validate = train_test_split(data, test_size=0.2, random_state=42, stratify=data['target'])\n",
    "    test, validate = train_test_split(test_and_validate, test_size=0.5, random_state=42, stratify=test_and_validate['target'])\n",
    "    return train, validate, test"
   ]
  },
  {
   "cell_type": "code",
   "execution_count": 60,
   "metadata": {
    "tags": []
   },
   "outputs": [
    {
     "name": "stdout",
     "output_type": "stream",
     "text": [
      "target\n",
      "0.0    1033806\n",
      "1.0     274666\n",
      "Name: count, dtype: int64\n",
      "target\n",
      "0.0    129226\n",
      "1.0     34333\n",
      "Name: count, dtype: int64\n",
      "target\n",
      "0.0    129226\n",
      "1.0     34333\n",
      "Name: count, dtype: int64\n"
     ]
    }
   ],
   "source": [
    "train, validate, test = split_data(data)\n",
    "print(train['target'].value_counts())\n",
    "print(test['target'].value_counts())\n",
    "print(validate['target'].value_counts())"
   ]
  },
  {
   "cell_type": "markdown",
   "metadata": {},
   "source": [
    "**Sample answer**\n",
    "```\n",
    "0.0    1033570\n",
    "1.0     274902\n",
    "Name: target, dtype: int64\n",
    "0.0    129076\n",
    "1.0     34483\n",
    "Name: target, dtype: int64\n",
    "0.0    129612\n",
    "1.0     33947\n",
    "Name: target, dtype: int64\n",
    "```"
   ]
  },
  {
   "cell_type": "markdown",
   "metadata": {},
   "source": [
    "### Baseline classification model"
   ]
  },
  {
   "cell_type": "code",
   "execution_count": 62,
   "metadata": {
    "tags": []
   },
   "outputs": [],
   "source": [
    "import sagemaker\n",
    "from sagemaker.serializers import CSVSerializer\n",
    "from sagemaker.amazon.amazon_estimator import RecordSet\n",
    "import boto3\n",
    "\n",
    "# Instantiate the LinearLearner estimator object with 1 ml.m4.xlarge\n",
    "classifier_estimator = sagemaker.LinearLearner(role=sagemaker.get_execution_role(),\n",
    "                                              instance_count=1,\n",
    "                                              instance_type='ml.m4.xlarge',\n",
    "                                              predictor_type='binary_classifier',\n",
    "                                              binary_classifier_model_selection_criteria = 'cross_entropy_loss')\n",
    "                                "
   ]
  },
  {
   "cell_type": "markdown",
   "metadata": {},
   "source": [
    "### Sample code\n",
    "```\n",
    "num_classes = len(pd.unique(train_labels))\n",
    "classifier_estimator = sagemaker.LinearLearner(role=sagemaker.get_execution_role(),\n",
    "                                              instance_count=1,\n",
    "                                              instance_type='ml.m4.xlarge',\n",
    "                                              predictor_type='binary_classifier',\n",
    "                                              binary_classifier_model_selection_criteria = 'cross_entropy_loss')\n",
    "                                              \n",
    "```"
   ]
  },
  {
   "cell_type": "markdown",
   "metadata": {},
   "source": [
    "Linear learner accepts training data in protobuf or CSV content types. It also accepts inference requests in protobuf, CSV, or JavaScript Object Notation (JSON) content types. Training data has features and ground-truth labels, but the data in an inference request has only features.\n",
    "\n",
    "In a production pipeline, AWS recommends converting the data to the Amazon SageMaker protobuf format and storing it in Amazon S3. To get up and running quickly, AWS provides the `record_set` operation for converting and uploading the dataset when it's small enough to fit in local memory. It accepts NumPy arrays like the ones you already have, so you will use it for this step. The `RecordSet` object will track the temporary Amazon S3 location of your data. Create train, validation, and test records by using the `estimator.record_set` function. Then, start your training job by using the `estimator.fit` function."
   ]
  },
  {
   "cell_type": "code",
   "execution_count": 63,
   "metadata": {
    "tags": []
   },
   "outputs": [],
   "source": [
    "### Create train, validate, and test records\n",
    "train_records = classifier_estimator.record_set(train.values[:, 1:].astype(np.float32), train.values[:, 0].astype(np.float32), channel='train')\n",
    "val_records = classifier_estimator.record_set(validate.values[:, 1:].astype(np.float32), validate.values[:, 0].astype(np.float32), channel='validation')\n",
    "test_records = classifier_estimator.record_set(test.values[:, 1:].astype(np.float32), test.values[:, 0].astype(np.float32), channel='test')"
   ]
  },
  {
   "cell_type": "markdown",
   "metadata": {},
   "source": [
    "Now, train your model on the dataset that you just uploaded.\n",
    "\n",
    "### Sample code\n",
    "```\n",
    "linear.fit([train_records,val_records,test_records])\n",
    "```"
   ]
  },
  {
   "cell_type": "code",
   "execution_count": 64,
   "metadata": {
    "tags": []
   },
   "outputs": [
    {
     "name": "stderr",
     "output_type": "stream",
     "text": [
      "INFO:sagemaker.image_uris:Same images used for training and inference. Defaulting to image scope: inference.\n",
      "INFO:sagemaker.image_uris:Ignoring unnecessary instance type: None.\n",
      "INFO:sagemaker:Creating training-job with name: linear-learner-2024-09-23-21-09-49-132\n"
     ]
    },
    {
     "name": "stdout",
     "output_type": "stream",
     "text": [
      "2024-09-23 21:09:50 Starting - Starting the training job...\n",
      "2024-09-23 21:10:15 Starting - Preparing the instances for training......\n",
      "2024-09-23 21:11:03 Downloading - Downloading input data...\n",
      "2024-09-23 21:11:33 Downloading - Downloading the training image.........\n",
      "2024-09-23 21:12:59 Training - Training image download completed. Training in progress.\u001b[34mDocker entrypoint called with argument(s): train\u001b[0m\n",
      "\u001b[34mRunning default environment configuration script\u001b[0m\n",
      "\u001b[34m[09/23/2024 21:13:14 INFO 140024616769344] Reading default configuration from /opt/amazon/lib/python3.8/site-packages/algorithm/resources/default-input.json: {'mini_batch_size': '1000', 'epochs': '15', 'feature_dim': 'auto', 'use_bias': 'true', 'binary_classifier_model_selection_criteria': 'accuracy', 'f_beta': '1.0', 'target_recall': '0.8', 'target_precision': '0.8', 'num_models': 'auto', 'num_calibration_samples': '10000000', 'init_method': 'uniform', 'init_scale': '0.07', 'init_sigma': '0.01', 'init_bias': '0.0', 'optimizer': 'auto', 'loss': 'auto', 'margin': '1.0', 'quantile': '0.5', 'loss_insensitivity': '0.01', 'huber_delta': '1.0', 'num_classes': '1', 'accuracy_top_k': '3', 'wd': 'auto', 'l1': 'auto', 'momentum': 'auto', 'learning_rate': 'auto', 'beta_1': 'auto', 'beta_2': 'auto', 'bias_lr_mult': 'auto', 'bias_wd_mult': 'auto', 'use_lr_scheduler': 'true', 'lr_scheduler_step': 'auto', 'lr_scheduler_factor': 'auto', 'lr_scheduler_minimum_lr': 'auto', 'positive_example_weight_mult': '1.0', 'balance_multiclass_weights': 'false', 'normalize_data': 'true', 'normalize_label': 'auto', 'unbias_data': 'auto', 'unbias_label': 'auto', 'num_point_for_scaler': '10000', '_kvstore': 'auto', '_num_gpus': 'auto', '_num_kv_servers': 'auto', '_log_level': 'info', '_tuning_objective_metric': '', 'early_stopping_patience': '3', 'early_stopping_tolerance': '0.001', '_enable_profiler': 'false'}\u001b[0m\n",
      "\u001b[34m[09/23/2024 21:13:14 INFO 140024616769344] Merging with provided configuration from /opt/ml/input/config/hyperparameters.json: {'binary_classifier_model_selection_criteria': 'cross_entropy_loss', 'feature_dim': '1', 'mini_batch_size': '1000', 'predictor_type': 'binary_classifier'}\u001b[0m\n",
      "\u001b[34m[09/23/2024 21:13:14 INFO 140024616769344] Final configuration: {'mini_batch_size': '1000', 'epochs': '15', 'feature_dim': '1', 'use_bias': 'true', 'binary_classifier_model_selection_criteria': 'cross_entropy_loss', 'f_beta': '1.0', 'target_recall': '0.8', 'target_precision': '0.8', 'num_models': 'auto', 'num_calibration_samples': '10000000', 'init_method': 'uniform', 'init_scale': '0.07', 'init_sigma': '0.01', 'init_bias': '0.0', 'optimizer': 'auto', 'loss': 'auto', 'margin': '1.0', 'quantile': '0.5', 'loss_insensitivity': '0.01', 'huber_delta': '1.0', 'num_classes': '1', 'accuracy_top_k': '3', 'wd': 'auto', 'l1': 'auto', 'momentum': 'auto', 'learning_rate': 'auto', 'beta_1': 'auto', 'beta_2': 'auto', 'bias_lr_mult': 'auto', 'bias_wd_mult': 'auto', 'use_lr_scheduler': 'true', 'lr_scheduler_step': 'auto', 'lr_scheduler_factor': 'auto', 'lr_scheduler_minimum_lr': 'auto', 'positive_example_weight_mult': '1.0', 'balance_multiclass_weights': 'false', 'normalize_data': 'true', 'normalize_label': 'auto', 'unbias_data': 'auto', 'unbias_label': 'auto', 'num_point_for_scaler': '10000', '_kvstore': 'auto', '_num_gpus': 'auto', '_num_kv_servers': 'auto', '_log_level': 'info', '_tuning_objective_metric': '', 'early_stopping_patience': '3', 'early_stopping_tolerance': '0.001', '_enable_profiler': 'false', 'predictor_type': 'binary_classifier'}\u001b[0m\n",
      "\u001b[34m/opt/amazon/lib/python3.8/site-packages/mxnet/model.py:97: SyntaxWarning: \"is\" with a literal. Did you mean \"==\"?\n",
      "  if num_device is 1 and 'dist' not in kvstore:\u001b[0m\n",
      "\u001b[34m/opt/amazon/lib/python3.8/site-packages/scipy/optimize/_shgo.py:495: SyntaxWarning: \"is\" with a literal. Did you mean \"==\"?\n",
      "  if cons['type'] is 'ineq':\u001b[0m\n",
      "\u001b[34m/opt/amazon/lib/python3.8/site-packages/scipy/optimize/_shgo.py:743: SyntaxWarning: \"is not\" with a literal. Did you mean \"!=\"?\n",
      "  if len(self.X_min) is not 0:\u001b[0m\n",
      "\u001b[34m[09/23/2024 21:13:18 WARNING 140024616769344] Loggers have already been setup.\u001b[0m\n",
      "\u001b[34m[09/23/2024 21:13:18 INFO 140024616769344] Final configuration: {'mini_batch_size': '1000', 'epochs': '15', 'feature_dim': '1', 'use_bias': 'true', 'binary_classifier_model_selection_criteria': 'cross_entropy_loss', 'f_beta': '1.0', 'target_recall': '0.8', 'target_precision': '0.8', 'num_models': 'auto', 'num_calibration_samples': '10000000', 'init_method': 'uniform', 'init_scale': '0.07', 'init_sigma': '0.01', 'init_bias': '0.0', 'optimizer': 'auto', 'loss': 'auto', 'margin': '1.0', 'quantile': '0.5', 'loss_insensitivity': '0.01', 'huber_delta': '1.0', 'num_classes': '1', 'accuracy_top_k': '3', 'wd': 'auto', 'l1': 'auto', 'momentum': 'auto', 'learning_rate': 'auto', 'beta_1': 'auto', 'beta_2': 'auto', 'bias_lr_mult': 'auto', 'bias_wd_mult': 'auto', 'use_lr_scheduler': 'true', 'lr_scheduler_step': 'auto', 'lr_scheduler_factor': 'auto', 'lr_scheduler_minimum_lr': 'auto', 'positive_example_weight_mult': '1.0', 'balance_multiclass_weights': 'false', 'normalize_data': 'true', 'normalize_label': 'auto', 'unbias_data': 'auto', 'unbias_label': 'auto', 'num_point_for_scaler': '10000', '_kvstore': 'auto', '_num_gpus': 'auto', '_num_kv_servers': 'auto', '_log_level': 'info', '_tuning_objective_metric': '', 'early_stopping_patience': '3', 'early_stopping_tolerance': '0.001', '_enable_profiler': 'false', 'predictor_type': 'binary_classifier'}\u001b[0m\n",
      "\u001b[34m[09/23/2024 21:13:18 WARNING 140024616769344] Loggers have already been setup.\u001b[0m\n",
      "\u001b[34mProcess 8 is a worker.\u001b[0m\n",
      "\u001b[34m[09/23/2024 21:13:18 INFO 140024616769344] Using default worker.\u001b[0m\n",
      "\u001b[34m[09/23/2024 21:13:18 INFO 140024616769344] Checkpoint loading and saving are disabled.\u001b[0m\n",
      "\u001b[34m[2024-09-23 21:13:18.180] [tensorio] [warning] TensorIO is already initialized; ignoring the initialization routine.\u001b[0m\n",
      "\u001b[34m[2024-09-23 21:13:18.184] [tensorio] [warning] TensorIO is already initialized; ignoring the initialization routine.\u001b[0m\n",
      "\u001b[34m[2024-09-23 21:13:18.226] [tensorio] [info] epoch_stats={\"data_pipeline\": \"/opt/ml/input/data/train\", \"epoch\": 0, \"duration\": 48, \"num_examples\": 1, \"num_bytes\": 48000}\u001b[0m\n",
      "\u001b[34m[09/23/2024 21:13:18 INFO 140024616769344] Create Store: local\u001b[0m\n",
      "\u001b[34m[2024-09-23 21:13:18.312] [tensorio] [info] epoch_stats={\"data_pipeline\": \"/opt/ml/input/data/train\", \"epoch\": 1, \"duration\": 85, \"num_examples\": 11, \"num_bytes\": 528000}\u001b[0m\n",
      "\u001b[34m[09/23/2024 21:13:18 INFO 140024616769344] Scaler algorithm parameters\n",
      " <algorithm.scaler.ScalerAlgorithmStable object at 0x7f59753afe20>\u001b[0m\n",
      "\u001b[34m[09/23/2024 21:13:18 INFO 140024616769344] Scaling model computed with parameters:\n",
      " {'stdev_label': None, 'stdev_weight': \u001b[0m\n",
      "\u001b[34m[536.56177]\u001b[0m\n",
      "\u001b[34m<NDArray 1 @cpu(0)>, 'mean_label': None, 'mean_weight': \u001b[0m\n",
      "\u001b[34m[1010.61426]\u001b[0m\n",
      "\u001b[34m<NDArray 1 @cpu(0)>}\u001b[0m\n",
      "\u001b[34m/opt/amazon/python3.8/lib/python3.8/subprocess.py:848: RuntimeWarning: line buffering (buffering=1) isn't supported in binary mode, the default buffer size will be used\n",
      "  self.stdout = io.open(c2pread, 'rb', bufsize)\u001b[0m\n",
      "\u001b[34m[09/23/2024 21:13:18 INFO 140024616769344] nvidia-smi: took 0.035 seconds to run.\u001b[0m\n",
      "\u001b[34m[09/23/2024 21:13:18 INFO 140024616769344] nvidia-smi identified 0 GPUs.\u001b[0m\n",
      "\u001b[34m[09/23/2024 21:13:18 INFO 140024616769344] Number of GPUs being used: 0\u001b[0m\n",
      "\u001b[34m#metrics {\"StartTime\": 1727125998.428018, \"EndTime\": 1727125998.428064, \"Dimensions\": {\"Algorithm\": \"Linear Learner\", \"Host\": \"algo-1\", \"Operation\": \"training\", \"Meta\": \"init_train_data_iter\"}, \"Metrics\": {\"Total Records Seen\": {\"sum\": 12000.0, \"count\": 1, \"min\": 12000, \"max\": 12000}, \"Total Batches Seen\": {\"sum\": 12.0, \"count\": 1, \"min\": 12, \"max\": 12}, \"Max Records Seen Between Resets\": {\"sum\": 11000.0, \"count\": 1, \"min\": 11000, \"max\": 11000}, \"Max Batches Seen Between Resets\": {\"sum\": 11.0, \"count\": 1, \"min\": 11, \"max\": 11}, \"Reset Count\": {\"sum\": 2.0, \"count\": 1, \"min\": 2, \"max\": 2}, \"Number of Records Since Last Reset\": {\"sum\": 0.0, \"count\": 1, \"min\": 0, \"max\": 0}, \"Number of Batches Since Last Reset\": {\"sum\": 0.0, \"count\": 1, \"min\": 0, \"max\": 0}}}\u001b[0m\n",
      "\u001b[34m[2024-09-23 21:14:03.969] [tensorio] [info] epoch_stats={\"data_pipeline\": \"/opt/ml/input/data/train\", \"epoch\": 3, \"duration\": 45540, \"num_examples\": 1309, \"num_bytes\": 62806656}\u001b[0m\n",
      "\u001b[34m#metrics {\"StartTime\": 1727126043.9695644, \"EndTime\": 1727126043.9696674, \"Dimensions\": {\"Algorithm\": \"Linear Learner\", \"Host\": \"algo-1\", \"Operation\": \"training\", \"epoch\": 0, \"model\": 0}, \"Metrics\": {\"train_binary_classification_cross_entropy_objective\": {\"sum\": 0.5150145643275083, \"count\": 1, \"min\": 0.5150145643275083, \"max\": 0.5150145643275083}}}\u001b[0m\n",
      "\u001b[34m#metrics {\"StartTime\": 1727126043.9697623, \"EndTime\": 1727126043.9697845, \"Dimensions\": {\"Algorithm\": \"Linear Learner\", \"Host\": \"algo-1\", \"Operation\": \"training\", \"epoch\": 0, \"model\": 1}, \"Metrics\": {\"train_binary_classification_cross_entropy_objective\": {\"sum\": 0.5150601756477939, \"count\": 1, \"min\": 0.5150601756477939, \"max\": 0.5150601756477939}}}\u001b[0m\n",
      "\u001b[34m#metrics {\"StartTime\": 1727126043.9698353, \"EndTime\": 1727126043.96985, \"Dimensions\": {\"Algorithm\": \"Linear Learner\", \"Host\": \"algo-1\", \"Operation\": \"training\", \"epoch\": 0, \"model\": 2}, \"Metrics\": {\"train_binary_classification_cross_entropy_objective\": {\"sum\": 0.5150144560927645, \"count\": 1, \"min\": 0.5150144560927645, \"max\": 0.5150144560927645}}}\u001b[0m\n",
      "\u001b[34m#metrics {\"StartTime\": 1727126043.9699097, \"EndTime\": 1727126043.969926, \"Dimensions\": {\"Algorithm\": \"Linear Learner\", \"Host\": \"algo-1\", \"Operation\": \"training\", \"epoch\": 0, \"model\": 3}, \"Metrics\": {\"train_binary_classification_cross_entropy_objective\": {\"sum\": 0.5150602016157331, \"count\": 1, \"min\": 0.5150602016157331, \"max\": 0.5150602016157331}}}\u001b[0m\n",
      "\u001b[34m#metrics {\"StartTime\": 1727126043.969974, \"EndTime\": 1727126043.969989, \"Dimensions\": {\"Algorithm\": \"Linear Learner\", \"Host\": \"algo-1\", \"Operation\": \"training\", \"epoch\": 0, \"model\": 4}, \"Metrics\": {\"train_binary_classification_cross_entropy_objective\": {\"sum\": 0.5150453794286886, \"count\": 1, \"min\": 0.5150453794286886, \"max\": 0.5150453794286886}}}\u001b[0m\n",
      "\u001b[34m#metrics {\"StartTime\": 1727126043.970041, \"EndTime\": 1727126043.9700563, \"Dimensions\": {\"Algorithm\": \"Linear Learner\", \"Host\": \"algo-1\", \"Operation\": \"training\", \"epoch\": 0, \"model\": 5}, \"Metrics\": {\"train_binary_classification_cross_entropy_objective\": {\"sum\": 0.5158509852091472, \"count\": 1, \"min\": 0.5158509852091472, \"max\": 0.5158509852091472}}}\u001b[0m\n",
      "\u001b[34m#metrics {\"StartTime\": 1727126043.970103, \"EndTime\": 1727126043.9701183, \"Dimensions\": {\"Algorithm\": \"Linear Learner\", \"Host\": \"algo-1\", \"Operation\": \"training\", \"epoch\": 0, \"model\": 6}, \"Metrics\": {\"train_binary_classification_cross_entropy_objective\": {\"sum\": 0.5150487750692105, \"count\": 1, \"min\": 0.5150487750692105, \"max\": 0.5150487750692105}}}\u001b[0m\n",
      "\u001b[34m#metrics {\"StartTime\": 1727126043.9701767, \"EndTime\": 1727126043.9701922, \"Dimensions\": {\"Algorithm\": \"Linear Learner\", \"Host\": \"algo-1\", \"Operation\": \"training\", \"epoch\": 0, \"model\": 7}, \"Metrics\": {\"train_binary_classification_cross_entropy_objective\": {\"sum\": 0.5158540354037504, \"count\": 1, \"min\": 0.5158540354037504, \"max\": 0.5158540354037504}}}\u001b[0m\n",
      "\u001b[34m#metrics {\"StartTime\": 1727126043.9702384, \"EndTime\": 1727126043.9702542, \"Dimensions\": {\"Algorithm\": \"Linear Learner\", \"Host\": \"algo-1\", \"Operation\": \"training\", \"epoch\": 0, \"model\": 8}, \"Metrics\": {\"train_binary_classification_cross_entropy_objective\": {\"sum\": 0.515014478397661, \"count\": 1, \"min\": 0.515014478397661, \"max\": 0.515014478397661}}}\u001b[0m\n",
      "\u001b[34m#metrics {\"StartTime\": 1727126043.9703012, \"EndTime\": 1727126043.9703157, \"Dimensions\": {\"Algorithm\": \"Linear Learner\", \"Host\": \"algo-1\", \"Operation\": \"training\", \"epoch\": 0, \"model\": 9}, \"Metrics\": {\"train_binary_classification_cross_entropy_objective\": {\"sum\": 0.5150604644682065, \"count\": 1, \"min\": 0.5150604644682065, \"max\": 0.5150604644682065}}}\u001b[0m\n",
      "\u001b[34m#metrics {\"StartTime\": 1727126043.9703693, \"EndTime\": 1727126043.9703841, \"Dimensions\": {\"Algorithm\": \"Linear Learner\", \"Host\": \"algo-1\", \"Operation\": \"training\", \"epoch\": 0, \"model\": 10}, \"Metrics\": {\"train_binary_classification_cross_entropy_objective\": {\"sum\": 0.5150148014220258, \"count\": 1, \"min\": 0.5150148014220258, \"max\": 0.5150148014220258}}}\u001b[0m\n",
      "\u001b[34m#metrics {\"StartTime\": 1727126043.970467, \"EndTime\": 1727126043.970485, \"Dimensions\": {\"Algorithm\": \"Linear Learner\", \"Host\": \"algo-1\", \"Operation\": \"training\", \"epoch\": 0, \"model\": 11}, \"Metrics\": {\"train_binary_classification_cross_entropy_objective\": {\"sum\": 0.5150610646239114, \"count\": 1, \"min\": 0.5150610646239114, \"max\": 0.5150610646239114}}}\u001b[0m\n",
      "\u001b[34m#metrics {\"StartTime\": 1727126043.9705427, \"EndTime\": 1727126043.970559, \"Dimensions\": {\"Algorithm\": \"Linear Learner\", \"Host\": \"algo-1\", \"Operation\": \"training\", \"epoch\": 0, \"model\": 12}, \"Metrics\": {\"train_binary_classification_cross_entropy_objective\": {\"sum\": 0.515034103650201, \"count\": 1, \"min\": 0.515034103650201, \"max\": 0.515034103650201}}}\u001b[0m\n",
      "\u001b[34m#metrics {\"StartTime\": 1727126043.9706163, \"EndTime\": 1727126043.9706297, \"Dimensions\": {\"Algorithm\": \"Linear Learner\", \"Host\": \"algo-1\", \"Operation\": \"training\", \"epoch\": 0, \"model\": 13}, \"Metrics\": {\"train_binary_classification_cross_entropy_objective\": {\"sum\": 0.515841260064268, \"count\": 1, \"min\": 0.515841260064268, \"max\": 0.515841260064268}}}\u001b[0m\n",
      "\u001b[34m#metrics {\"StartTime\": 1727126043.97067, \"EndTime\": 1727126043.9706836, \"Dimensions\": {\"Algorithm\": \"Linear Learner\", \"Host\": \"algo-1\", \"Operation\": \"training\", \"epoch\": 0, \"model\": 14}, \"Metrics\": {\"train_binary_classification_cross_entropy_objective\": {\"sum\": 0.5150341479566848, \"count\": 1, \"min\": 0.5150341479566848, \"max\": 0.5150341479566848}}}\u001b[0m\n",
      "\u001b[34m#metrics {\"StartTime\": 1727126043.9707286, \"EndTime\": 1727126043.970743, \"Dimensions\": {\"Algorithm\": \"Linear Learner\", \"Host\": \"algo-1\", \"Operation\": \"training\", \"epoch\": 0, \"model\": 15}, \"Metrics\": {\"train_binary_classification_cross_entropy_objective\": {\"sum\": 0.5158415416752526, \"count\": 1, \"min\": 0.5158415416752526, \"max\": 0.5158415416752526}}}\u001b[0m\n",
      "\u001b[34m#metrics {\"StartTime\": 1727126043.9707978, \"EndTime\": 1727126043.970813, \"Dimensions\": {\"Algorithm\": \"Linear Learner\", \"Host\": \"algo-1\", \"Operation\": \"training\", \"epoch\": 0, \"model\": 16}, \"Metrics\": {\"train_binary_classification_cross_entropy_objective\": {\"sum\": 0.5150596949026125, \"count\": 1, \"min\": 0.5150596949026125, \"max\": 0.5150596949026125}}}\u001b[0m\n",
      "\u001b[34m#metrics {\"StartTime\": 1727126043.9708693, \"EndTime\": 1727126043.9708834, \"Dimensions\": {\"Algorithm\": \"Linear Learner\", \"Host\": \"algo-1\", \"Operation\": \"training\", \"epoch\": 0, \"model\": 17}, \"Metrics\": {\"train_binary_classification_cross_entropy_objective\": {\"sum\": 0.5150965250697704, \"count\": 1, \"min\": 0.5150965250697704, \"max\": 0.5150965250697704}}}\u001b[0m\n",
      "\u001b[34m#metrics {\"StartTime\": 1727126043.970939, \"EndTime\": 1727126043.9709544, \"Dimensions\": {\"Algorithm\": \"Linear Learner\", \"Host\": \"algo-1\", \"Operation\": \"training\", \"epoch\": 0, \"model\": 18}, \"Metrics\": {\"train_binary_classification_cross_entropy_objective\": {\"sum\": 0.515057867137664, \"count\": 1, \"min\": 0.515057867137664, \"max\": 0.515057867137664}}}\u001b[0m\n",
      "\u001b[34m#metrics {\"StartTime\": 1727126043.9710104, \"EndTime\": 1727126043.9710262, \"Dimensions\": {\"Algorithm\": \"Linear Learner\", \"Host\": \"algo-1\", \"Operation\": \"training\", \"epoch\": 0, \"model\": 19}, \"Metrics\": {\"train_binary_classification_cross_entropy_objective\": {\"sum\": 0.5150962864120436, \"count\": 1, \"min\": 0.5150962864120436, \"max\": 0.5150962864120436}}}\u001b[0m\n",
      "\u001b[34m#metrics {\"StartTime\": 1727126043.9710839, \"EndTime\": 1727126043.9710999, \"Dimensions\": {\"Algorithm\": \"Linear Learner\", \"Host\": \"algo-1\", \"Operation\": \"training\", \"epoch\": 0, \"model\": 20}, \"Metrics\": {\"train_binary_classification_cross_entropy_objective\": {\"sum\": 0.5149875377223397, \"count\": 1, \"min\": 0.5149875377223397, \"max\": 0.5149875377223397}}}\u001b[0m\n",
      "\u001b[34m#metrics {\"StartTime\": 1727126043.9711554, \"EndTime\": 1727126043.97117, \"Dimensions\": {\"Algorithm\": \"Linear Learner\", \"Host\": \"algo-1\", \"Operation\": \"training\", \"epoch\": 0, \"model\": 21}, \"Metrics\": {\"train_binary_classification_cross_entropy_objective\": {\"sum\": 0.515742258544362, \"count\": 1, \"min\": 0.515742258544362, \"max\": 0.515742258544362}}}\u001b[0m\n",
      "\u001b[34m#metrics {\"StartTime\": 1727126043.9712238, \"EndTime\": 1727126043.97124, \"Dimensions\": {\"Algorithm\": \"Linear Learner\", \"Host\": \"algo-1\", \"Operation\": \"training\", \"epoch\": 0, \"model\": 22}, \"Metrics\": {\"train_binary_classification_cross_entropy_objective\": {\"sum\": 0.5149914402159711, \"count\": 1, \"min\": 0.5149914402159711, \"max\": 0.5149914402159711}}}\u001b[0m\n",
      "\u001b[34m#metrics {\"StartTime\": 1727126043.9712863, \"EndTime\": 1727126043.9713, \"Dimensions\": {\"Algorithm\": \"Linear Learner\", \"Host\": \"algo-1\", \"Operation\": \"training\", \"epoch\": 0, \"model\": 23}, \"Metrics\": {\"train_binary_classification_cross_entropy_objective\": {\"sum\": 0.5157459957344451, \"count\": 1, \"min\": 0.5157459957344451, \"max\": 0.5157459957344451}}}\u001b[0m\n",
      "\u001b[34m#metrics {\"StartTime\": 1727126043.9713387, \"EndTime\": 1727126043.9713476, \"Dimensions\": {\"Algorithm\": \"Linear Learner\", \"Host\": \"algo-1\", \"Operation\": \"training\", \"epoch\": 0, \"model\": 24}, \"Metrics\": {\"train_binary_classification_cross_entropy_objective\": {\"sum\": 0.515079349622814, \"count\": 1, \"min\": 0.515079349622814, \"max\": 0.515079349622814}}}\u001b[0m\n",
      "\u001b[34m#metrics {\"StartTime\": 1727126043.9714005, \"EndTime\": 1727126043.9714155, \"Dimensions\": {\"Algorithm\": \"Linear Learner\", \"Host\": \"algo-1\", \"Operation\": \"training\", \"epoch\": 0, \"model\": 25}, \"Metrics\": {\"train_binary_classification_cross_entropy_objective\": {\"sum\": 0.5151152208194091, \"count\": 1, \"min\": 0.5151152208194091, \"max\": 0.5151152208194091}}}\u001b[0m\n",
      "\u001b[34m#metrics {\"StartTime\": 1727126043.9714642, \"EndTime\": 1727126043.9714792, \"Dimensions\": {\"Algorithm\": \"Linear Learner\", \"Host\": \"algo-1\", \"Operation\": \"training\", \"epoch\": 0, \"model\": 26}, \"Metrics\": {\"train_binary_classification_cross_entropy_objective\": {\"sum\": 0.515075709211717, \"count\": 1, \"min\": 0.515075709211717, \"max\": 0.515075709211717}}}\u001b[0m\n",
      "\u001b[34m#metrics {\"StartTime\": 1727126043.9715374, \"EndTime\": 1727126043.9715528, \"Dimensions\": {\"Algorithm\": \"Linear Learner\", \"Host\": \"algo-1\", \"Operation\": \"training\", \"epoch\": 0, \"model\": 27}, \"Metrics\": {\"train_binary_classification_cross_entropy_objective\": {\"sum\": 0.5151146458617044, \"count\": 1, \"min\": 0.5151146458617044, \"max\": 0.5151146458617044}}}\u001b[0m\n",
      "\u001b[34m#metrics {\"StartTime\": 1727126043.9716094, \"EndTime\": 1727126043.9716258, \"Dimensions\": {\"Algorithm\": \"Linear Learner\", \"Host\": \"algo-1\", \"Operation\": \"training\", \"epoch\": 0, \"model\": 28}, \"Metrics\": {\"train_binary_classification_cross_entropy_objective\": {\"sum\": 0.5149979774171788, \"count\": 1, \"min\": 0.5149979774171788, \"max\": 0.5149979774171788}}}\u001b[0m\n",
      "\u001b[34m#metrics {\"StartTime\": 1727126043.971682, \"EndTime\": 1727126043.9716935, \"Dimensions\": {\"Algorithm\": \"Linear Learner\", \"Host\": \"algo-1\", \"Operation\": \"training\", \"epoch\": 0, \"model\": 29}, \"Metrics\": {\"train_binary_classification_cross_entropy_objective\": {\"sum\": 0.5157227364869658, \"count\": 1, \"min\": 0.5157227364869658, \"max\": 0.5157227364869658}}}\u001b[0m\n",
      "\u001b[34m#metrics {\"StartTime\": 1727126043.9717455, \"EndTime\": 1727126043.9717607, \"Dimensions\": {\"Algorithm\": \"Linear Learner\", \"Host\": \"algo-1\", \"Operation\": \"training\", \"epoch\": 0, \"model\": 30}, \"Metrics\": {\"train_binary_classification_cross_entropy_objective\": {\"sum\": 0.5149923709554409, \"count\": 1, \"min\": 0.5149923709554409, \"max\": 0.5149923709554409}}}\u001b[0m\n",
      "\u001b[34m#metrics {\"StartTime\": 1727126043.9718134, \"EndTime\": 1727126043.9718282, \"Dimensions\": {\"Algorithm\": \"Linear Learner\", \"Host\": \"algo-1\", \"Operation\": \"training\", \"epoch\": 0, \"model\": 31}, \"Metrics\": {\"train_binary_classification_cross_entropy_objective\": {\"sum\": 0.5157257876381597, \"count\": 1, \"min\": 0.5157257876381597, \"max\": 0.5157257876381597}}}\u001b[0m\n",
      "\u001b[34m[09/23/2024 21:14:03 INFO 140024616769344] #quality_metric: host=algo-1, epoch=0, train binary_classification_cross_entropy_objective <loss>=0.5150145643275083\u001b[0m\n",
      "\u001b[34m[2024-09-23 21:14:03.992] [tensorio] [info] epoch_stats={\"data_pipeline\": \"/opt/ml/input/data/validation\", \"epoch\": 0, \"duration\": 45811, \"num_examples\": 1, \"num_bytes\": 48000}\u001b[0m\n",
      "\u001b[34m[2024-09-23 21:14:08.515] [tensorio] [info] epoch_stats={\"data_pipeline\": \"/opt/ml/input/data/validation\", \"epoch\": 2, \"duration\": 4522, \"num_examples\": 164, \"num_bytes\": 7850832}\u001b[0m\n",
      "\u001b[34m#metrics {\"StartTime\": 1727126048.5229251, \"EndTime\": 1727126048.5229769, \"Dimensions\": {\"Algorithm\": \"Linear Learner\", \"Host\": \"algo-1\", \"Operation\": \"training\", \"epoch\": 0, \"model\": 0}, \"Metrics\": {\"validation_binary_classification_cross_entropy_objective\": {\"sum\": 0.5138084696115847, \"count\": 1, \"min\": 0.5138084696115847, \"max\": 0.5138084696115847}}}\u001b[0m\n",
      "\u001b[34m#metrics {\"StartTime\": 1727126048.5230522, \"EndTime\": 1727126048.523066, \"Dimensions\": {\"Algorithm\": \"Linear Learner\", \"Host\": \"algo-1\", \"Operation\": \"training\", \"epoch\": 0, \"model\": 1}, \"Metrics\": {\"validation_binary_classification_cross_entropy_objective\": {\"sum\": 0.5144816563112355, \"count\": 1, \"min\": 0.5144816563112355, \"max\": 0.5144816563112355}}}\u001b[0m\n",
      "\u001b[34m#metrics {\"StartTime\": 1727126048.523128, \"EndTime\": 1727126048.5231452, \"Dimensions\": {\"Algorithm\": \"Linear Learner\", \"Host\": \"algo-1\", \"Operation\": \"training\", \"epoch\": 0, \"model\": 2}, \"Metrics\": {\"validation_binary_classification_cross_entropy_objective\": {\"sum\": 0.513808472223768, \"count\": 1, \"min\": 0.513808472223768, \"max\": 0.513808472223768}}}\u001b[0m\n",
      "\u001b[34m#metrics {\"StartTime\": 1727126048.5232015, \"EndTime\": 1727126048.5232174, \"Dimensions\": {\"Algorithm\": \"Linear Learner\", \"Host\": \"algo-1\", \"Operation\": \"training\", \"epoch\": 0, \"model\": 3}, \"Metrics\": {\"validation_binary_classification_cross_entropy_objective\": {\"sum\": 0.514481663961201, \"count\": 1, \"min\": 0.514481663961201, \"max\": 0.514481663961201}}}\u001b[0m\n",
      "\u001b[34m#metrics {\"StartTime\": 1727126048.5232685, \"EndTime\": 1727126048.5232837, \"Dimensions\": {\"Algorithm\": \"Linear Learner\", \"Host\": \"algo-1\", \"Operation\": \"training\", \"epoch\": 0, \"model\": 4}, \"Metrics\": {\"validation_binary_classification_cross_entropy_objective\": {\"sum\": 0.5153939904474456, \"count\": 1, \"min\": 0.5153939904474456, \"max\": 0.5153939904474456}}}\u001b[0m\n",
      "\u001b[34m#metrics {\"StartTime\": 1727126048.523342, \"EndTime\": 1727126048.5233579, \"Dimensions\": {\"Algorithm\": \"Linear Learner\", \"Host\": \"algo-1\", \"Operation\": \"training\", \"epoch\": 0, \"model\": 5}, \"Metrics\": {\"validation_binary_classification_cross_entropy_objective\": {\"sum\": 0.513806628395504, \"count\": 1, \"min\": 0.513806628395504, \"max\": 0.513806628395504}}}\u001b[0m\n",
      "\u001b[34m#metrics {\"StartTime\": 1727126048.5234141, \"EndTime\": 1727126048.52343, \"Dimensions\": {\"Algorithm\": \"Linear Learner\", \"Host\": \"algo-1\", \"Operation\": \"training\", \"epoch\": 0, \"model\": 6}, \"Metrics\": {\"validation_binary_classification_cross_entropy_objective\": {\"sum\": 0.5153938070348587, \"count\": 1, \"min\": 0.5153938070348587, \"max\": 0.5153938070348587}}}\u001b[0m\n",
      "\u001b[34m#metrics {\"StartTime\": 1727126048.5234826, \"EndTime\": 1727126048.5234969, \"Dimensions\": {\"Algorithm\": \"Linear Learner\", \"Host\": \"algo-1\", \"Operation\": \"training\", \"epoch\": 0, \"model\": 7}, \"Metrics\": {\"validation_binary_classification_cross_entropy_objective\": {\"sum\": 0.5138060417737612, \"count\": 1, \"min\": 0.5138060417737612, \"max\": 0.5138060417737612}}}\u001b[0m\n",
      "\u001b[34m#metrics {\"StartTime\": 1727126048.523542, \"EndTime\": 1727126048.5235567, \"Dimensions\": {\"Algorithm\": \"Linear Learner\", \"Host\": \"algo-1\", \"Operation\": \"training\", \"epoch\": 0, \"model\": 8}, \"Metrics\": {\"validation_binary_classification_cross_entropy_objective\": {\"sum\": 0.5138043046718448, \"count\": 1, \"min\": 0.5138043046718448, \"max\": 0.5138043046718448}}}\u001b[0m\n",
      "\u001b[34m#metrics {\"StartTime\": 1727126048.5236166, \"EndTime\": 1727126048.523632, \"Dimensions\": {\"Algorithm\": \"Linear Learner\", \"Host\": \"algo-1\", \"Operation\": \"training\", \"epoch\": 0, \"model\": 9}, \"Metrics\": {\"validation_binary_classification_cross_entropy_objective\": {\"sum\": 0.5144785472533158, \"count\": 1, \"min\": 0.5144785472533158, \"max\": 0.5144785472533158}}}\u001b[0m\n",
      "\u001b[34m#metrics {\"StartTime\": 1727126048.5236824, \"EndTime\": 1727126048.523697, \"Dimensions\": {\"Algorithm\": \"Linear Learner\", \"Host\": \"algo-1\", \"Operation\": \"training\", \"epoch\": 0, \"model\": 10}, \"Metrics\": {\"validation_binary_classification_cross_entropy_objective\": {\"sum\": 0.5138043056047674, \"count\": 1, \"min\": 0.5138043056047674, \"max\": 0.5138043056047674}}}\u001b[0m\n",
      "\u001b[34m#metrics {\"StartTime\": 1727126048.523757, \"EndTime\": 1727126048.5237734, \"Dimensions\": {\"Algorithm\": \"Linear Learner\", \"Host\": \"algo-1\", \"Operation\": \"training\", \"epoch\": 0, \"model\": 11}, \"Metrics\": {\"validation_binary_classification_cross_entropy_objective\": {\"sum\": 0.5144785532240206, \"count\": 1, \"min\": 0.5144785532240206, \"max\": 0.5144785532240206}}}\u001b[0m\n",
      "\u001b[34m#metrics {\"StartTime\": 1727126048.523825, \"EndTime\": 1727126048.5238402, \"Dimensions\": {\"Algorithm\": \"Linear Learner\", \"Host\": \"algo-1\", \"Operation\": \"training\", \"epoch\": 0, \"model\": 12}, \"Metrics\": {\"validation_binary_classification_cross_entropy_objective\": {\"sum\": 0.5153962912212083, \"count\": 1, \"min\": 0.5153962912212083, \"max\": 0.5153962912212083}}}\u001b[0m\n",
      "\u001b[34m#metrics {\"StartTime\": 1727126048.5238955, \"EndTime\": 1727126048.5239103, \"Dimensions\": {\"Algorithm\": \"Linear Learner\", \"Host\": \"algo-1\", \"Operation\": \"training\", \"epoch\": 0, \"model\": 13}, \"Metrics\": {\"validation_binary_classification_cross_entropy_objective\": {\"sum\": 0.5138184768859331, \"count\": 1, \"min\": 0.5138184768859331, \"max\": 0.5138184768859331}}}\u001b[0m\n",
      "\u001b[34m#metrics {\"StartTime\": 1727126048.5239623, \"EndTime\": 1727126048.523977, \"Dimensions\": {\"Algorithm\": \"Linear Learner\", \"Host\": \"algo-1\", \"Operation\": \"training\", \"epoch\": 0, \"model\": 14}, \"Metrics\": {\"validation_binary_classification_cross_entropy_objective\": {\"sum\": 0.5153963238735, \"count\": 1, \"min\": 0.5153963238735, \"max\": 0.5153963238735}}}\u001b[0m\n",
      "\u001b[34m#metrics {\"StartTime\": 1727126048.5240333, \"EndTime\": 1727126048.5240474, \"Dimensions\": {\"Algorithm\": \"Linear Learner\", \"Host\": \"algo-1\", \"Operation\": \"training\", \"epoch\": 0, \"model\": 15}, \"Metrics\": {\"validation_binary_classification_cross_entropy_objective\": {\"sum\": 0.5138185683123497, \"count\": 1, \"min\": 0.5138185683123497, \"max\": 0.5138185683123497}}}\u001b[0m\n",
      "\u001b[34m#metrics {\"StartTime\": 1727126048.5240858, \"EndTime\": 1727126048.524099, \"Dimensions\": {\"Algorithm\": \"Linear Learner\", \"Host\": \"algo-1\", \"Operation\": \"training\", \"epoch\": 0, \"model\": 16}, \"Metrics\": {\"validation_binary_classification_cross_entropy_objective\": {\"sum\": 0.5138268806528842, \"count\": 1, \"min\": 0.5138268806528842, \"max\": 0.5138268806528842}}}\u001b[0m\n",
      "\u001b[34m#metrics {\"StartTime\": 1727126048.5241477, \"EndTime\": 1727126048.5241623, \"Dimensions\": {\"Algorithm\": \"Linear Learner\", \"Host\": \"algo-1\", \"Operation\": \"training\", \"epoch\": 0, \"model\": 17}, \"Metrics\": {\"validation_binary_classification_cross_entropy_objective\": {\"sum\": 0.5144998091195542, \"count\": 1, \"min\": 0.5144998091195542, \"max\": 0.5144998091195542}}}\u001b[0m\n",
      "\u001b[34m#metrics {\"StartTime\": 1727126048.5242074, \"EndTime\": 1727126048.5242226, \"Dimensions\": {\"Algorithm\": \"Linear Learner\", \"Host\": \"algo-1\", \"Operation\": \"training\", \"epoch\": 0, \"model\": 18}, \"Metrics\": {\"validation_binary_classification_cross_entropy_objective\": {\"sum\": 0.5138270302936723, \"count\": 1, \"min\": 0.5138270302936723, \"max\": 0.5138270302936723}}}\u001b[0m\n",
      "\u001b[34m#metrics {\"StartTime\": 1727126048.5242696, \"EndTime\": 1727126048.5242848, \"Dimensions\": {\"Algorithm\": \"Linear Learner\", \"Host\": \"algo-1\", \"Operation\": \"training\", \"epoch\": 0, \"model\": 19}, \"Metrics\": {\"validation_binary_classification_cross_entropy_objective\": {\"sum\": 0.5144998736777994, \"count\": 1, \"min\": 0.5144998736777994, \"max\": 0.5144998736777994}}}\u001b[0m\n",
      "\u001b[34m#metrics {\"StartTime\": 1727126048.5243304, \"EndTime\": 1727126048.524344, \"Dimensions\": {\"Algorithm\": \"Linear Learner\", \"Host\": \"algo-1\", \"Operation\": \"training\", \"epoch\": 0, \"model\": 20}, \"Metrics\": {\"validation_binary_classification_cross_entropy_objective\": {\"sum\": 0.5153817344564166, \"count\": 1, \"min\": 0.5153817344564166, \"max\": 0.5153817344564166}}}\u001b[0m\n",
      "\u001b[34m#metrics {\"StartTime\": 1727126048.5243974, \"EndTime\": 1727126048.5244133, \"Dimensions\": {\"Algorithm\": \"Linear Learner\", \"Host\": \"algo-1\", \"Operation\": \"training\", \"epoch\": 0, \"model\": 21}, \"Metrics\": {\"validation_binary_classification_cross_entropy_objective\": {\"sum\": 0.51395141313476, \"count\": 1, \"min\": 0.51395141313476, \"max\": 0.51395141313476}}}\u001b[0m\n",
      "\u001b[34m#metrics {\"StartTime\": 1727126048.5244572, \"EndTime\": 1727126048.5244713, \"Dimensions\": {\"Algorithm\": \"Linear Learner\", \"Host\": \"algo-1\", \"Operation\": \"training\", \"epoch\": 0, \"model\": 22}, \"Metrics\": {\"validation_binary_classification_cross_entropy_objective\": {\"sum\": 0.5153811010019583, \"count\": 1, \"min\": 0.5153811010019583, \"max\": 0.5153811010019583}}}\u001b[0m\n",
      "\u001b[34m#metrics {\"StartTime\": 1727126048.5245202, \"EndTime\": 1727126048.524534, \"Dimensions\": {\"Algorithm\": \"Linear Learner\", \"Host\": \"algo-1\", \"Operation\": \"training\", \"epoch\": 0, \"model\": 23}, \"Metrics\": {\"validation_binary_classification_cross_entropy_objective\": {\"sum\": 0.5139513683544742, \"count\": 1, \"min\": 0.5139513683544742, \"max\": 0.5139513683544742}}}\u001b[0m\n",
      "\u001b[34m#metrics {\"StartTime\": 1727126048.5245802, \"EndTime\": 1727126048.5245957, \"Dimensions\": {\"Algorithm\": \"Linear Learner\", \"Host\": \"algo-1\", \"Operation\": \"training\", \"epoch\": 0, \"model\": 24}, \"Metrics\": {\"validation_binary_classification_cross_entropy_objective\": {\"sum\": 0.5138408106802606, \"count\": 1, \"min\": 0.5138408106802606, \"max\": 0.5138408106802606}}}\u001b[0m\n",
      "\u001b[34m#metrics {\"StartTime\": 1727126048.5246518, \"EndTime\": 1727126048.5246668, \"Dimensions\": {\"Algorithm\": \"Linear Learner\", \"Host\": \"algo-1\", \"Operation\": \"training\", \"epoch\": 0, \"model\": 25}, \"Metrics\": {\"validation_binary_classification_cross_entropy_objective\": {\"sum\": 0.5145222910619935, \"count\": 1, \"min\": 0.5145222910619935, \"max\": 0.5145222910619935}}}\u001b[0m\n",
      "\u001b[34m#metrics {\"StartTime\": 1727126048.524721, \"EndTime\": 1727126048.5247371, \"Dimensions\": {\"Algorithm\": \"Linear Learner\", \"Host\": \"algo-1\", \"Operation\": \"training\", \"epoch\": 0, \"model\": 26}, \"Metrics\": {\"validation_binary_classification_cross_entropy_objective\": {\"sum\": 0.5138406686894379, \"count\": 1, \"min\": 0.5138406686894379, \"max\": 0.5138406686894379}}}\u001b[0m\n",
      "\u001b[34m#metrics {\"StartTime\": 1727126048.5247827, \"EndTime\": 1727126048.524796, \"Dimensions\": {\"Algorithm\": \"Linear Learner\", \"Host\": \"algo-1\", \"Operation\": \"training\", \"epoch\": 0, \"model\": 27}, \"Metrics\": {\"validation_binary_classification_cross_entropy_objective\": {\"sum\": 0.5145206166524771, \"count\": 1, \"min\": 0.5145206166524771, \"max\": 0.5145206166524771}}}\u001b[0m\n",
      "\u001b[34m#metrics {\"StartTime\": 1727126048.5248396, \"EndTime\": 1727126048.524855, \"Dimensions\": {\"Algorithm\": \"Linear Learner\", \"Host\": \"algo-1\", \"Operation\": \"training\", \"epoch\": 0, \"model\": 28}, \"Metrics\": {\"validation_binary_classification_cross_entropy_objective\": {\"sum\": 0.5154214717356151, \"count\": 1, \"min\": 0.5154214717356151, \"max\": 0.5154214717356151}}}\u001b[0m\n",
      "\u001b[34m#metrics {\"StartTime\": 1727126048.5249124, \"EndTime\": 1727126048.5249298, \"Dimensions\": {\"Algorithm\": \"Linear Learner\", \"Host\": \"algo-1\", \"Operation\": \"training\", \"epoch\": 0, \"model\": 29}, \"Metrics\": {\"validation_binary_classification_cross_entropy_objective\": {\"sum\": 0.5139041919503126, \"count\": 1, \"min\": 0.5139041919503126, \"max\": 0.5139041919503126}}}\u001b[0m\n",
      "\u001b[34m#metrics {\"StartTime\": 1727126048.5249805, \"EndTime\": 1727126048.5249953, \"Dimensions\": {\"Algorithm\": \"Linear Learner\", \"Host\": \"algo-1\", \"Operation\": \"training\", \"epoch\": 0, \"model\": 30}, \"Metrics\": {\"validation_binary_classification_cross_entropy_objective\": {\"sum\": 0.5154221729202555, \"count\": 1, \"min\": 0.5154221729202555, \"max\": 0.5154221729202555}}}\u001b[0m\n",
      "\u001b[34m#metrics {\"StartTime\": 1727126048.52504, \"EndTime\": 1727126048.525054, \"Dimensions\": {\"Algorithm\": \"Linear Learner\", \"Host\": \"algo-1\", \"Operation\": \"training\", \"epoch\": 0, \"model\": 31}, \"Metrics\": {\"validation_binary_classification_cross_entropy_objective\": {\"sum\": 0.5139123376708672, \"count\": 1, \"min\": 0.5139123376708672, \"max\": 0.5139123376708672}}}\u001b[0m\n",
      "\u001b[34m[09/23/2024 21:14:08 INFO 140024616769344] #quality_metric: host=algo-1, epoch=0, validation binary_classification_cross_entropy_objective <loss>=0.5138084696115847\u001b[0m\n",
      "\u001b[34m[09/23/2024 21:14:08 INFO 140024616769344] #early_stopping_criteria_metric: host=algo-1, epoch=0, criteria=binary_classification_cross_entropy_objective, value=0.5138043046718448\u001b[0m\n",
      "\u001b[34m[09/23/2024 21:14:08 INFO 140024616769344] Epoch 0: Loss improved. Updating best model\u001b[0m\n",
      "\u001b[34m[09/23/2024 21:14:08 INFO 140024616769344] Saving model for epoch: 0\u001b[0m\n",
      "\u001b[34m[09/23/2024 21:14:08 INFO 140024616769344] Saved checkpoint to \"/tmp/tmpscqqrhql/mx-mod-0000.params\"\u001b[0m\n",
      "\u001b[34m[09/23/2024 21:14:08 INFO 140024616769344] #progress_metric: host=algo-1, completed 6.666666666666667 % of epochs\u001b[0m\n",
      "\u001b[34m#metrics {\"StartTime\": 1727125998.4283683, \"EndTime\": 1727126048.532276, \"Dimensions\": {\"Algorithm\": \"Linear Learner\", \"Host\": \"algo-1\", \"Operation\": \"training\", \"epoch\": 0, \"Meta\": \"training_data_iter\"}, \"Metrics\": {\"Total Records Seen\": {\"sum\": 1320472.0, \"count\": 1, \"min\": 1320472, \"max\": 1320472}, \"Total Batches Seen\": {\"sum\": 1321.0, \"count\": 1, \"min\": 1321, \"max\": 1321}, \"Max Records Seen Between Resets\": {\"sum\": 1308472.0, \"count\": 1, \"min\": 1308472, \"max\": 1308472}, \"Max Batches Seen Between Resets\": {\"sum\": 1309.0, \"count\": 1, \"min\": 1309, \"max\": 1309}, \"Reset Count\": {\"sum\": 3.0, \"count\": 1, \"min\": 3, \"max\": 3}, \"Number of Records Since Last Reset\": {\"sum\": 1308472.0, \"count\": 1, \"min\": 1308472, \"max\": 1308472}, \"Number of Batches Since Last Reset\": {\"sum\": 1309.0, \"count\": 1, \"min\": 1309, \"max\": 1309}}}\u001b[0m\n",
      "\u001b[34m[09/23/2024 21:14:08 INFO 140024616769344] #throughput_metric: host=algo-1, train throughput=26115.09664208124 records/second\u001b[0m\n",
      "\u001b[34m[2024-09-23 21:14:52.412] [tensorio] [info] epoch_stats={\"data_pipeline\": \"/opt/ml/input/data/train\", \"epoch\": 5, \"duration\": 43876, \"num_examples\": 1309, \"num_bytes\": 62806656}\u001b[0m\n",
      "\u001b[34m#metrics {\"StartTime\": 1727126092.412349, \"EndTime\": 1727126092.412444, \"Dimensions\": {\"Algorithm\": \"Linear Learner\", \"Host\": \"algo-1\", \"Operation\": \"training\", \"epoch\": 1, \"model\": 0}, \"Metrics\": {\"train_binary_classification_cross_entropy_objective\": {\"sum\": 0.5137911625433406, \"count\": 1, \"min\": 0.5137911625433406, \"max\": 0.5137911625433406}}}\u001b[0m\n",
      "\u001b[34m#metrics {\"StartTime\": 1727126092.4125466, \"EndTime\": 1727126092.412568, \"Dimensions\": {\"Algorithm\": \"Linear Learner\", \"Host\": \"algo-1\", \"Operation\": \"training\", \"epoch\": 1, \"model\": 1}, \"Metrics\": {\"train_binary_classification_cross_entropy_objective\": {\"sum\": 0.5139012743048712, \"count\": 1, \"min\": 0.5139012743048712, \"max\": 0.5139012743048712}}}\u001b[0m\n",
      "\u001b[34m#metrics {\"StartTime\": 1727126092.4126196, \"EndTime\": 1727126092.4126348, \"Dimensions\": {\"Algorithm\": \"Linear Learner\", \"Host\": \"algo-1\", \"Operation\": \"training\", \"epoch\": 1, \"model\": 2}, \"Metrics\": {\"train_binary_classification_cross_entropy_objective\": {\"sum\": 0.5137911630566332, \"count\": 1, \"min\": 0.5137911630566332, \"max\": 0.5137911630566332}}}\u001b[0m\n",
      "\u001b[34m#metrics {\"StartTime\": 1727126092.412688, \"EndTime\": 1727126092.412705, \"Dimensions\": {\"Algorithm\": \"Linear Learner\", \"Host\": \"algo-1\", \"Operation\": \"training\", \"epoch\": 1, \"model\": 3}, \"Metrics\": {\"train_binary_classification_cross_entropy_objective\": {\"sum\": 0.5139012738382416, \"count\": 1, \"min\": 0.5139012738382416, \"max\": 0.5139012738382416}}}\u001b[0m\n",
      "\u001b[34m#metrics {\"StartTime\": 1727126092.4127574, \"EndTime\": 1727126092.4127722, \"Dimensions\": {\"Algorithm\": \"Linear Learner\", \"Host\": \"algo-1\", \"Operation\": \"training\", \"epoch\": 1, \"model\": 4}, \"Metrics\": {\"train_binary_classification_cross_entropy_objective\": {\"sum\": 0.5142157800890255, \"count\": 1, \"min\": 0.5142157800890255, \"max\": 0.5142157800890255}}}\u001b[0m\n",
      "\u001b[34m#metrics {\"StartTime\": 1727126092.4128196, \"EndTime\": 1727126092.4128358, \"Dimensions\": {\"Algorithm\": \"Linear Learner\", \"Host\": \"algo-1\", \"Operation\": \"training\", \"epoch\": 1, \"model\": 5}, \"Metrics\": {\"train_binary_classification_cross_entropy_objective\": {\"sum\": 0.5153934838764529, \"count\": 1, \"min\": 0.5153934838764529, \"max\": 0.5153934838764529}}}\u001b[0m\n",
      "\u001b[34m#metrics {\"StartTime\": 1727126092.412884, \"EndTime\": 1727126092.4128988, \"Dimensions\": {\"Algorithm\": \"Linear Learner\", \"Host\": \"algo-1\", \"Operation\": \"training\", \"epoch\": 1, \"model\": 6}, \"Metrics\": {\"train_binary_classification_cross_entropy_objective\": {\"sum\": 0.5142157629403864, \"count\": 1, \"min\": 0.5142157629403864, \"max\": 0.5142157629403864}}}\u001b[0m\n",
      "\u001b[34m#metrics {\"StartTime\": 1727126092.4129455, \"EndTime\": 1727126092.41296, \"Dimensions\": {\"Algorithm\": \"Linear Learner\", \"Host\": \"algo-1\", \"Operation\": \"training\", \"epoch\": 1, \"model\": 7}, \"Metrics\": {\"train_binary_classification_cross_entropy_objective\": {\"sum\": 0.5153935134141088, \"count\": 1, \"min\": 0.5153935134141088, \"max\": 0.5153935134141088}}}\u001b[0m\n",
      "\u001b[34m#metrics {\"StartTime\": 1727126092.4130075, \"EndTime\": 1727126092.4130225, \"Dimensions\": {\"Algorithm\": \"Linear Learner\", \"Host\": \"algo-1\", \"Operation\": \"training\", \"epoch\": 1, \"model\": 8}, \"Metrics\": {\"train_binary_classification_cross_entropy_objective\": {\"sum\": 0.513791385685632, \"count\": 1, \"min\": 0.513791385685632, \"max\": 0.513791385685632}}}\u001b[0m\n",
      "\u001b[34m#metrics {\"StartTime\": 1727126092.4130855, \"EndTime\": 1727126092.4131024, \"Dimensions\": {\"Algorithm\": \"Linear Learner\", \"Host\": \"algo-1\", \"Operation\": \"training\", \"epoch\": 1, \"model\": 9}, \"Metrics\": {\"train_binary_classification_cross_entropy_objective\": {\"sum\": 0.5139006117841155, \"count\": 1, \"min\": 0.5139006117841155, \"max\": 0.5139006117841155}}}\u001b[0m\n",
      "\u001b[34m#metrics {\"StartTime\": 1727126092.4131563, \"EndTime\": 1727126092.4131722, \"Dimensions\": {\"Algorithm\": \"Linear Learner\", \"Host\": \"algo-1\", \"Operation\": \"training\", \"epoch\": 1, \"model\": 10}, \"Metrics\": {\"train_binary_classification_cross_entropy_objective\": {\"sum\": 0.5137913861755931, \"count\": 1, \"min\": 0.5137913861755931, \"max\": 0.5137913861755931}}}\u001b[0m\n",
      "\u001b[34m#metrics {\"StartTime\": 1727126092.4132204, \"EndTime\": 1727126092.4132366, \"Dimensions\": {\"Algorithm\": \"Linear Learner\", \"Host\": \"algo-1\", \"Operation\": \"training\", \"epoch\": 1, \"model\": 11}, \"Metrics\": {\"train_binary_classification_cross_entropy_objective\": {\"sum\": 0.5139006089610062, \"count\": 1, \"min\": 0.5139006089610062, \"max\": 0.5139006089610062}}}\u001b[0m\n",
      "\u001b[34m#metrics {\"StartTime\": 1727126092.413296, \"EndTime\": 1727126092.4133127, \"Dimensions\": {\"Algorithm\": \"Linear Learner\", \"Host\": \"algo-1\", \"Operation\": \"training\", \"epoch\": 1, \"model\": 12}, \"Metrics\": {\"train_binary_classification_cross_entropy_objective\": {\"sum\": 0.5142133146513492, \"count\": 1, \"min\": 0.5142133146513492, \"max\": 0.5142133146513492}}}\u001b[0m\n",
      "\u001b[34m#metrics {\"StartTime\": 1727126092.4133718, \"EndTime\": 1727126092.4133897, \"Dimensions\": {\"Algorithm\": \"Linear Learner\", \"Host\": \"algo-1\", \"Operation\": \"training\", \"epoch\": 1, \"model\": 13}, \"Metrics\": {\"train_binary_classification_cross_entropy_objective\": {\"sum\": 0.5153841126234888, \"count\": 1, \"min\": 0.5153841126234888, \"max\": 0.5153841126234888}}}\u001b[0m\n",
      "\u001b[34m#metrics {\"StartTime\": 1727126092.413441, \"EndTime\": 1727126092.4134583, \"Dimensions\": {\"Algorithm\": \"Linear Learner\", \"Host\": \"algo-1\", \"Operation\": \"training\", \"epoch\": 1, \"model\": 14}, \"Metrics\": {\"train_binary_classification_cross_entropy_objective\": {\"sum\": 0.5142133149079956, \"count\": 1, \"min\": 0.5142133149079956, \"max\": 0.5142133149079956}}}\u001b[0m\n",
      "\u001b[34m#metrics {\"StartTime\": 1727126092.4135194, \"EndTime\": 1727126092.4135365, \"Dimensions\": {\"Algorithm\": \"Linear Learner\", \"Host\": \"algo-1\", \"Operation\": \"training\", \"epoch\": 1, \"model\": 15}, \"Metrics\": {\"train_binary_classification_cross_entropy_objective\": {\"sum\": 0.5153841034542166, \"count\": 1, \"min\": 0.5153841034542166, \"max\": 0.5153841034542166}}}\u001b[0m\n",
      "\u001b[34m#metrics {\"StartTime\": 1727126092.4135904, \"EndTime\": 1727126092.4136076, \"Dimensions\": {\"Algorithm\": \"Linear Learner\", \"Host\": \"algo-1\", \"Operation\": \"training\", \"epoch\": 1, \"model\": 16}, \"Metrics\": {\"train_binary_classification_cross_entropy_objective\": {\"sum\": 0.5138427827000982, \"count\": 1, \"min\": 0.5138427827000982, \"max\": 0.5138427827000982}}}\u001b[0m\n",
      "\u001b[34m#metrics {\"StartTime\": 1727126092.413664, \"EndTime\": 1727126092.4136815, \"Dimensions\": {\"Algorithm\": \"Linear Learner\", \"Host\": \"algo-1\", \"Operation\": \"training\", \"epoch\": 1, \"model\": 17}, \"Metrics\": {\"train_binary_classification_cross_entropy_objective\": {\"sum\": 0.5139401704980693, \"count\": 1, \"min\": 0.5139401704980693, \"max\": 0.5139401704980693}}}\u001b[0m\n",
      "\u001b[34m#metrics {\"StartTime\": 1727126092.4137404, \"EndTime\": 1727126092.413759, \"Dimensions\": {\"Algorithm\": \"Linear Learner\", \"Host\": \"algo-1\", \"Operation\": \"training\", \"epoch\": 1, \"model\": 18}, \"Metrics\": {\"train_binary_classification_cross_entropy_objective\": {\"sum\": 0.5138427892562446, \"count\": 1, \"min\": 0.5138427892562446, \"max\": 0.5138427892562446}}}\u001b[0m\n",
      "\u001b[34m#metrics {\"StartTime\": 1727126092.4138134, \"EndTime\": 1727126092.4138296, \"Dimensions\": {\"Algorithm\": \"Linear Learner\", \"Host\": \"algo-1\", \"Operation\": \"training\", \"epoch\": 1, \"model\": 19}, \"Metrics\": {\"train_binary_classification_cross_entropy_objective\": {\"sum\": 0.5139401745110841, \"count\": 1, \"min\": 0.5139401745110841, \"max\": 0.5139401745110841}}}\u001b[0m\n",
      "\u001b[34m#metrics {\"StartTime\": 1727126092.4138827, \"EndTime\": 1727126092.413899, \"Dimensions\": {\"Algorithm\": \"Linear Learner\", \"Host\": \"algo-1\", \"Operation\": \"training\", \"epoch\": 1, \"model\": 20}, \"Metrics\": {\"train_binary_classification_cross_entropy_objective\": {\"sum\": 0.5142255294286512, \"count\": 1, \"min\": 0.5142255294286512, \"max\": 0.5142255294286512}}}\u001b[0m\n",
      "\u001b[34m#metrics {\"StartTime\": 1727126092.4139569, \"EndTime\": 1727126092.4139743, \"Dimensions\": {\"Algorithm\": \"Linear Learner\", \"Host\": \"algo-1\", \"Operation\": \"training\", \"epoch\": 1, \"model\": 21}, \"Metrics\": {\"train_binary_classification_cross_entropy_objective\": {\"sum\": 0.5153194948482221, \"count\": 1, \"min\": 0.5153194948482221, \"max\": 0.5153194948482221}}}\u001b[0m\n",
      "\u001b[34m#metrics {\"StartTime\": 1727126092.4140327, \"EndTime\": 1727126092.4140484, \"Dimensions\": {\"Algorithm\": \"Linear Learner\", \"Host\": \"algo-1\", \"Operation\": \"training\", \"epoch\": 1, \"model\": 22}, \"Metrics\": {\"train_binary_classification_cross_entropy_objective\": {\"sum\": 0.514225571751959, \"count\": 1, \"min\": 0.514225571751959, \"max\": 0.514225571751959}}}\u001b[0m\n",
      "\u001b[34m#metrics {\"StartTime\": 1727126092.4141002, \"EndTime\": 1727126092.4141166, \"Dimensions\": {\"Algorithm\": \"Linear Learner\", \"Host\": \"algo-1\", \"Operation\": \"training\", \"epoch\": 1, \"model\": 23}, \"Metrics\": {\"train_binary_classification_cross_entropy_objective\": {\"sum\": 0.5153194993511981, \"count\": 1, \"min\": 0.5153194993511981, \"max\": 0.5153194993511981}}}\u001b[0m\n",
      "\u001b[34m#metrics {\"StartTime\": 1727126092.4141753, \"EndTime\": 1727126092.4141922, \"Dimensions\": {\"Algorithm\": \"Linear Learner\", \"Host\": \"algo-1\", \"Operation\": \"training\", \"epoch\": 1, \"model\": 24}, \"Metrics\": {\"train_binary_classification_cross_entropy_objective\": {\"sum\": 0.5138607486176564, \"count\": 1, \"min\": 0.5138607486176564, \"max\": 0.5138607486176564}}}\u001b[0m\n",
      "\u001b[34m#metrics {\"StartTime\": 1727126092.4142458, \"EndTime\": 1727126092.4142616, \"Dimensions\": {\"Algorithm\": \"Linear Learner\", \"Host\": \"algo-1\", \"Operation\": \"training\", \"epoch\": 1, \"model\": 25}, \"Metrics\": {\"train_binary_classification_cross_entropy_objective\": {\"sum\": 0.5139581968208337, \"count\": 1, \"min\": 0.5139581968208337, \"max\": 0.5139581968208337}}}\u001b[0m\n",
      "\u001b[34m#metrics {\"StartTime\": 1727126092.4143097, \"EndTime\": 1727126092.414325, \"Dimensions\": {\"Algorithm\": \"Linear Learner\", \"Host\": \"algo-1\", \"Operation\": \"training\", \"epoch\": 1, \"model\": 26}, \"Metrics\": {\"train_binary_classification_cross_entropy_objective\": {\"sum\": 0.5138607454912378, \"count\": 1, \"min\": 0.5138607454912378, \"max\": 0.5138607454912378}}}\u001b[0m\n",
      "\u001b[34m#metrics {\"StartTime\": 1727126092.414377, \"EndTime\": 1727126092.4143922, \"Dimensions\": {\"Algorithm\": \"Linear Learner\", \"Host\": \"algo-1\", \"Operation\": \"training\", \"epoch\": 1, \"model\": 27}, \"Metrics\": {\"train_binary_classification_cross_entropy_objective\": {\"sum\": 0.5139581715995019, \"count\": 1, \"min\": 0.5139581715995019, \"max\": 0.5139581715995019}}}\u001b[0m\n",
      "\u001b[34m#metrics {\"StartTime\": 1727126092.4144702, \"EndTime\": 1727126092.4144874, \"Dimensions\": {\"Algorithm\": \"Linear Learner\", \"Host\": \"algo-1\", \"Operation\": \"training\", \"epoch\": 1, \"model\": 28}, \"Metrics\": {\"train_binary_classification_cross_entropy_objective\": {\"sum\": 0.5142407862578693, \"count\": 1, \"min\": 0.5142407862578693, \"max\": 0.5142407862578693}}}\u001b[0m\n",
      "\u001b[34m#metrics {\"StartTime\": 1727126092.4145365, \"EndTime\": 1727126092.4145532, \"Dimensions\": {\"Algorithm\": \"Linear Learner\", \"Host\": \"algo-1\", \"Operation\": \"training\", \"epoch\": 1, \"model\": 29}, \"Metrics\": {\"train_binary_classification_cross_entropy_objective\": {\"sum\": 0.5153014381478686, \"count\": 1, \"min\": 0.5153014381478686, \"max\": 0.5153014381478686}}}\u001b[0m\n",
      "\u001b[34m#metrics {\"StartTime\": 1727126092.414604, \"EndTime\": 1727126092.4146197, \"Dimensions\": {\"Algorithm\": \"Linear Learner\", \"Host\": \"algo-1\", \"Operation\": \"training\", \"epoch\": 1, \"model\": 30}, \"Metrics\": {\"train_binary_classification_cross_entropy_objective\": {\"sum\": 0.5142409686400621, \"count\": 1, \"min\": 0.5142409686400621, \"max\": 0.5142409686400621}}}\u001b[0m\n",
      "\u001b[34m#metrics {\"StartTime\": 1727126092.4146826, \"EndTime\": 1727126092.4146981, \"Dimensions\": {\"Algorithm\": \"Linear Learner\", \"Host\": \"algo-1\", \"Operation\": \"training\", \"epoch\": 1, \"model\": 31}, \"Metrics\": {\"train_binary_classification_cross_entropy_objective\": {\"sum\": 0.515301326390071, \"count\": 1, \"min\": 0.515301326390071, \"max\": 0.515301326390071}}}\u001b[0m\n",
      "\u001b[34m[09/23/2024 21:14:52 INFO 140024616769344] #quality_metric: host=algo-1, epoch=1, train binary_classification_cross_entropy_objective <loss>=0.5137911625433406\u001b[0m\n",
      "\u001b[34m[2024-09-23 21:14:56.088] [tensorio] [info] epoch_stats={\"data_pipeline\": \"/opt/ml/input/data/validation\", \"epoch\": 5, \"duration\": 3642, \"num_examples\": 164, \"num_bytes\": 7850832}\u001b[0m\n",
      "\u001b[34m#metrics {\"StartTime\": 1727126096.0958383, \"EndTime\": 1727126096.0958953, \"Dimensions\": {\"Algorithm\": \"Linear Learner\", \"Host\": \"algo-1\", \"Operation\": \"training\", \"epoch\": 1, \"model\": 0}, \"Metrics\": {\"validation_binary_classification_cross_entropy_objective\": {\"sum\": 0.5138053271550351, \"count\": 1, \"min\": 0.5138053271550351, \"max\": 0.5138053271550351}}}\u001b[0m\n",
      "\u001b[34m#metrics {\"StartTime\": 1727126096.0959795, \"EndTime\": 1727126096.096, \"Dimensions\": {\"Algorithm\": \"Linear Learner\", \"Host\": \"algo-1\", \"Operation\": \"training\", \"epoch\": 1, \"model\": 1}, \"Metrics\": {\"validation_binary_classification_cross_entropy_objective\": {\"sum\": 0.5146178861500762, \"count\": 1, \"min\": 0.5146178861500762, \"max\": 0.5146178861500762}}}\u001b[0m\n",
      "\u001b[34m#metrics {\"StartTime\": 1727126096.0960674, \"EndTime\": 1727126096.0960865, \"Dimensions\": {\"Algorithm\": \"Linear Learner\", \"Host\": \"algo-1\", \"Operation\": \"training\", \"epoch\": 1, \"model\": 2}, \"Metrics\": {\"validation_binary_classification_cross_entropy_objective\": {\"sum\": 0.5138053243562672, \"count\": 1, \"min\": 0.5138053243562672, \"max\": 0.5138053243562672}}}\u001b[0m\n",
      "\u001b[34m#metrics {\"StartTime\": 1727126096.0961432, \"EndTime\": 1727126096.0961595, \"Dimensions\": {\"Algorithm\": \"Linear Learner\", \"Host\": \"algo-1\", \"Operation\": \"training\", \"epoch\": 1, \"model\": 3}, \"Metrics\": {\"validation_binary_classification_cross_entropy_objective\": {\"sum\": 0.5146178893220131, \"count\": 1, \"min\": 0.5146178893220131, \"max\": 0.5146178893220131}}}\u001b[0m\n",
      "\u001b[34m#metrics {\"StartTime\": 1727126096.096193, \"EndTime\": 1727126096.0962014, \"Dimensions\": {\"Algorithm\": \"Linear Learner\", \"Host\": \"algo-1\", \"Operation\": \"training\", \"epoch\": 1, \"model\": 4}, \"Metrics\": {\"validation_binary_classification_cross_entropy_objective\": {\"sum\": 0.513982856918461, \"count\": 1, \"min\": 0.513982856918461, \"max\": 0.513982856918461}}}\u001b[0m\n",
      "\u001b[34m#metrics {\"StartTime\": 1727126096.0962338, \"EndTime\": 1727126096.096247, \"Dimensions\": {\"Algorithm\": \"Linear Learner\", \"Host\": \"algo-1\", \"Operation\": \"training\", \"epoch\": 1, \"model\": 5}, \"Metrics\": {\"validation_binary_classification_cross_entropy_objective\": {\"sum\": 0.5139827324665837, \"count\": 1, \"min\": 0.5139827324665837, \"max\": 0.5139827324665837}}}\u001b[0m\n",
      "\u001b[34m#metrics {\"StartTime\": 1727126096.0963025, \"EndTime\": 1727126096.0963182, \"Dimensions\": {\"Algorithm\": \"Linear Learner\", \"Host\": \"algo-1\", \"Operation\": \"training\", \"epoch\": 1, \"model\": 6}, \"Metrics\": {\"validation_binary_classification_cross_entropy_objective\": {\"sum\": 0.5139829072962824, \"count\": 1, \"min\": 0.5139829072962824, \"max\": 0.5139829072962824}}}\u001b[0m\n",
      "\u001b[34m#metrics {\"StartTime\": 1727126096.0963778, \"EndTime\": 1727126096.0963957, \"Dimensions\": {\"Algorithm\": \"Linear Learner\", \"Host\": \"algo-1\", \"Operation\": \"training\", \"epoch\": 1, \"model\": 7}, \"Metrics\": {\"validation_binary_classification_cross_entropy_objective\": {\"sum\": 0.5139828933024432, \"count\": 1, \"min\": 0.5139828933024432, \"max\": 0.5139828933024432}}}\u001b[0m\n",
      "\u001b[34m#metrics {\"StartTime\": 1727126096.0964475, \"EndTime\": 1727126096.0964634, \"Dimensions\": {\"Algorithm\": \"Linear Learner\", \"Host\": \"algo-1\", \"Operation\": \"training\", \"epoch\": 1, \"model\": 8}, \"Metrics\": {\"validation_binary_classification_cross_entropy_objective\": {\"sum\": 0.5138028006139986, \"count\": 1, \"min\": 0.5138028006139986, \"max\": 0.5138028006139986}}}\u001b[0m\n",
      "\u001b[34m#metrics {\"StartTime\": 1727126096.0965223, \"EndTime\": 1727126096.0965395, \"Dimensions\": {\"Algorithm\": \"Linear Learner\", \"Host\": \"algo-1\", \"Operation\": \"training\", \"epoch\": 1, \"model\": 9}, \"Metrics\": {\"validation_binary_classification_cross_entropy_objective\": {\"sum\": 0.5146147209302148, \"count\": 1, \"min\": 0.5146147209302148, \"max\": 0.5146147209302148}}}\u001b[0m\n",
      "\u001b[34m#metrics {\"StartTime\": 1727126096.096601, \"EndTime\": 1727126096.096618, \"Dimensions\": {\"Algorithm\": \"Linear Learner\", \"Host\": \"algo-1\", \"Operation\": \"training\", \"epoch\": 1, \"model\": 10}, \"Metrics\": {\"validation_binary_classification_cross_entropy_objective\": {\"sum\": 0.5138028013603367, \"count\": 1, \"min\": 0.5138028013603367, \"max\": 0.5138028013603367}}}\u001b[0m\n",
      "\u001b[34m#metrics {\"StartTime\": 1727126096.0966713, \"EndTime\": 1727126096.0966868, \"Dimensions\": {\"Algorithm\": \"Linear Learner\", \"Host\": \"algo-1\", \"Operation\": \"training\", \"epoch\": 1, \"model\": 11}, \"Metrics\": {\"validation_binary_classification_cross_entropy_objective\": {\"sum\": 0.5146147213033838, \"count\": 1, \"min\": 0.5146147213033838, \"max\": 0.5146147213033838}}}\u001b[0m\n",
      "\u001b[34m#metrics {\"StartTime\": 1727126096.0967495, \"EndTime\": 1727126096.0967658, \"Dimensions\": {\"Algorithm\": \"Linear Learner\", \"Host\": \"algo-1\", \"Operation\": \"training\", \"epoch\": 1, \"model\": 12}, \"Metrics\": {\"validation_binary_classification_cross_entropy_objective\": {\"sum\": 0.5139807563498923, \"count\": 1, \"min\": 0.5139807563498923, \"max\": 0.5139807563498923}}}\u001b[0m\n",
      "\u001b[34m#metrics {\"StartTime\": 1727126096.0968184, \"EndTime\": 1727126096.0968351, \"Dimensions\": {\"Algorithm\": \"Linear Learner\", \"Host\": \"algo-1\", \"Operation\": \"training\", \"epoch\": 1, \"model\": 13}, \"Metrics\": {\"validation_binary_classification_cross_entropy_objective\": {\"sum\": 0.5139535883371382, \"count\": 1, \"min\": 0.5139535883371382, \"max\": 0.5139535883371382}}}\u001b[0m\n",
      "\u001b[34m#metrics {\"StartTime\": 1727126096.096887, \"EndTime\": 1727126096.096904, \"Dimensions\": {\"Algorithm\": \"Linear Learner\", \"Host\": \"algo-1\", \"Operation\": \"training\", \"epoch\": 1, \"model\": 14}, \"Metrics\": {\"validation_binary_classification_cross_entropy_objective\": {\"sum\": 0.5139807578425685, \"count\": 1, \"min\": 0.5139807578425685, \"max\": 0.5139807578425685}}}\u001b[0m\n",
      "\u001b[34m#metrics {\"StartTime\": 1727126096.0969658, \"EndTime\": 1727126096.0969825, \"Dimensions\": {\"Algorithm\": \"Linear Learner\", \"Host\": \"algo-1\", \"Operation\": \"training\", \"epoch\": 1, \"model\": 15}, \"Metrics\": {\"validation_binary_classification_cross_entropy_objective\": {\"sum\": 0.5139535762091442, \"count\": 1, \"min\": 0.5139535762091442, \"max\": 0.5139535762091442}}}\u001b[0m\n",
      "\u001b[34m#metrics {\"StartTime\": 1727126096.0970364, \"EndTime\": 1727126096.0970533, \"Dimensions\": {\"Algorithm\": \"Linear Learner\", \"Host\": \"algo-1\", \"Operation\": \"training\", \"epoch\": 1, \"model\": 16}, \"Metrics\": {\"validation_binary_classification_cross_entropy_objective\": {\"sum\": 0.5138270771263876, \"count\": 1, \"min\": 0.5138270771263876, \"max\": 0.5138270771263876}}}\u001b[0m\n",
      "\u001b[34m#metrics {\"StartTime\": 1727126096.0971105, \"EndTime\": 1727126096.097128, \"Dimensions\": {\"Algorithm\": \"Linear Learner\", \"Host\": \"algo-1\", \"Operation\": \"training\", \"epoch\": 1, \"model\": 17}, \"Metrics\": {\"validation_binary_classification_cross_entropy_objective\": {\"sum\": 0.5146397243759085, \"count\": 1, \"min\": 0.5146397243759085, \"max\": 0.5146397243759085}}}\u001b[0m\n",
      "\u001b[34m#metrics {\"StartTime\": 1727126096.0971851, \"EndTime\": 1727126096.097202, \"Dimensions\": {\"Algorithm\": \"Linear Learner\", \"Host\": \"algo-1\", \"Operation\": \"training\", \"epoch\": 1, \"model\": 18}, \"Metrics\": {\"validation_binary_classification_cross_entropy_objective\": {\"sum\": 0.513827076193465, \"count\": 1, \"min\": 0.513827076193465, \"max\": 0.513827076193465}}}\u001b[0m\n",
      "\u001b[34m#metrics {\"StartTime\": 1727126096.0972545, \"EndTime\": 1727126096.0972705, \"Dimensions\": {\"Algorithm\": \"Linear Learner\", \"Host\": \"algo-1\", \"Operation\": \"training\", \"epoch\": 1, \"model\": 19}, \"Metrics\": {\"validation_binary_classification_cross_entropy_objective\": {\"sum\": 0.514639732399043, \"count\": 1, \"min\": 0.514639732399043, \"max\": 0.514639732399043}}}\u001b[0m\n",
      "\u001b[34m#metrics {\"StartTime\": 1727126096.0973225, \"EndTime\": 1727126096.0973394, \"Dimensions\": {\"Algorithm\": \"Linear Learner\", \"Host\": \"algo-1\", \"Operation\": \"training\", \"epoch\": 1, \"model\": 20}, \"Metrics\": {\"validation_binary_classification_cross_entropy_objective\": {\"sum\": 0.5140053177768492, \"count\": 1, \"min\": 0.5140053177768492, \"max\": 0.5140053177768492}}}\u001b[0m\n",
      "\u001b[34m#metrics {\"StartTime\": 1727126096.0973969, \"EndTime\": 1727126096.0974147, \"Dimensions\": {\"Algorithm\": \"Linear Learner\", \"Host\": \"algo-1\", \"Operation\": \"training\", \"epoch\": 1, \"model\": 21}, \"Metrics\": {\"validation_binary_classification_cross_entropy_objective\": {\"sum\": 0.5140711725979329, \"count\": 1, \"min\": 0.5140711725979329, \"max\": 0.5140711725979329}}}\u001b[0m\n",
      "\u001b[34m#metrics {\"StartTime\": 1727126096.0974753, \"EndTime\": 1727126096.097493, \"Dimensions\": {\"Algorithm\": \"Linear Learner\", \"Host\": \"algo-1\", \"Operation\": \"training\", \"epoch\": 1, \"model\": 22}, \"Metrics\": {\"validation_binary_classification_cross_entropy_objective\": {\"sum\": 0.5140053534144932, \"count\": 1, \"min\": 0.5140053534144932, \"max\": 0.5140053534144932}}}\u001b[0m\n",
      "\u001b[34m#metrics {\"StartTime\": 1727126096.0975487, \"EndTime\": 1727126096.0975647, \"Dimensions\": {\"Algorithm\": \"Linear Learner\", \"Host\": \"algo-1\", \"Operation\": \"training\", \"epoch\": 1, \"model\": 23}, \"Metrics\": {\"validation_binary_classification_cross_entropy_objective\": {\"sum\": 0.5140711722247638, \"count\": 1, \"min\": 0.5140711722247638, \"max\": 0.5140711722247638}}}\u001b[0m\n",
      "\u001b[34m#metrics {\"StartTime\": 1727126096.0976243, \"EndTime\": 1727126096.097642, \"Dimensions\": {\"Algorithm\": \"Linear Learner\", \"Host\": \"algo-1\", \"Operation\": \"training\", \"epoch\": 1, \"model\": 24}, \"Metrics\": {\"validation_binary_classification_cross_entropy_objective\": {\"sum\": 0.5138449683432039, \"count\": 1, \"min\": 0.5138449683432039, \"max\": 0.5138449683432039}}}\u001b[0m\n",
      "\u001b[34m#metrics {\"StartTime\": 1727126096.0977035, \"EndTime\": 1727126096.0977206, \"Dimensions\": {\"Algorithm\": \"Linear Learner\", \"Host\": \"algo-1\", \"Operation\": \"training\", \"epoch\": 1, \"model\": 25}, \"Metrics\": {\"validation_binary_classification_cross_entropy_objective\": {\"sum\": 0.5146589899743269, \"count\": 1, \"min\": 0.5146589899743269, \"max\": 0.5146589899743269}}}\u001b[0m\n",
      "\u001b[34m#metrics {\"StartTime\": 1727126096.0977793, \"EndTime\": 1727126096.0977967, \"Dimensions\": {\"Algorithm\": \"Linear Learner\", \"Host\": \"algo-1\", \"Operation\": \"training\", \"epoch\": 1, \"model\": 26}, \"Metrics\": {\"validation_binary_classification_cross_entropy_objective\": {\"sum\": 0.5138452064250563, \"count\": 1, \"min\": 0.5138452064250563, \"max\": 0.5138452064250563}}}\u001b[0m\n",
      "\u001b[34m#metrics {\"StartTime\": 1727126096.0978453, \"EndTime\": 1727126096.097861, \"Dimensions\": {\"Algorithm\": \"Linear Learner\", \"Host\": \"algo-1\", \"Operation\": \"training\", \"epoch\": 1, \"model\": 27}, \"Metrics\": {\"validation_binary_classification_cross_entropy_objective\": {\"sum\": 0.5146578417331675, \"count\": 1, \"min\": 0.5146578417331675, \"max\": 0.5146578417331675}}}\u001b[0m\n",
      "\u001b[34m#metrics {\"StartTime\": 1727126096.0979073, \"EndTime\": 1727126096.0979223, \"Dimensions\": {\"Algorithm\": \"Linear Learner\", \"Host\": \"algo-1\", \"Operation\": \"training\", \"epoch\": 1, \"model\": 28}, \"Metrics\": {\"validation_binary_classification_cross_entropy_objective\": {\"sum\": 0.5140331476049091, \"count\": 1, \"min\": 0.5140331476049091, \"max\": 0.5140331476049091}}}\u001b[0m\n",
      "\u001b[34m#metrics {\"StartTime\": 1727126096.0979812, \"EndTime\": 1727126096.0979986, \"Dimensions\": {\"Algorithm\": \"Linear Learner\", \"Host\": \"algo-1\", \"Operation\": \"training\", \"epoch\": 1, \"model\": 29}, \"Metrics\": {\"validation_binary_classification_cross_entropy_objective\": {\"sum\": 0.514032158333764, \"count\": 1, \"min\": 0.514032158333764, \"max\": 0.514032158333764}}}\u001b[0m\n",
      "\u001b[34m#metrics {\"StartTime\": 1727126096.098061, \"EndTime\": 1727126096.0980787, \"Dimensions\": {\"Algorithm\": \"Linear Learner\", \"Host\": \"algo-1\", \"Operation\": \"training\", \"epoch\": 1, \"model\": 30}, \"Metrics\": {\"validation_binary_classification_cross_entropy_objective\": {\"sum\": 0.5140339698829054, \"count\": 1, \"min\": 0.5140339698829054, \"max\": 0.5140339698829054}}}\u001b[0m\n",
      "\u001b[34m#metrics {\"StartTime\": 1727126096.0981371, \"EndTime\": 1727126096.098153, \"Dimensions\": {\"Algorithm\": \"Linear Learner\", \"Host\": \"algo-1\", \"Operation\": \"training\", \"epoch\": 1, \"model\": 31}, \"Metrics\": {\"validation_binary_classification_cross_entropy_objective\": {\"sum\": 0.5140321777385545, \"count\": 1, \"min\": 0.5140321777385545, \"max\": 0.5140321777385545}}}\u001b[0m\n",
      "\u001b[34m[09/23/2024 21:14:56 INFO 140024616769344] #quality_metric: host=algo-1, epoch=1, validation binary_classification_cross_entropy_objective <loss>=0.5138053271550351\u001b[0m\n",
      "\u001b[34m[09/23/2024 21:14:56 INFO 140024616769344] #early_stopping_criteria_metric: host=algo-1, epoch=1, criteria=binary_classification_cross_entropy_objective, value=0.5138028006139986\u001b[0m\n",
      "\u001b[34m[09/23/2024 21:14:56 INFO 140024616769344] Saving model for epoch: 1\u001b[0m\n",
      "\u001b[34m[09/23/2024 21:14:56 INFO 140024616769344] Saved checkpoint to \"/tmp/tmp41hx4jaa/mx-mod-0000.params\"\u001b[0m\n",
      "\u001b[34m[09/23/2024 21:14:56 INFO 140024616769344] #progress_metric: host=algo-1, completed 13.333333333333334 % of epochs\u001b[0m\n",
      "\u001b[34m#metrics {\"StartTime\": 1727126048.535997, \"EndTime\": 1727126096.1044762, \"Dimensions\": {\"Algorithm\": \"Linear Learner\", \"Host\": \"algo-1\", \"Operation\": \"training\", \"epoch\": 1, \"Meta\": \"training_data_iter\"}, \"Metrics\": {\"Total Records Seen\": {\"sum\": 2628944.0, \"count\": 1, \"min\": 2628944, \"max\": 2628944}, \"Total Batches Seen\": {\"sum\": 2630.0, \"count\": 1, \"min\": 2630, \"max\": 2630}, \"Max Records Seen Between Resets\": {\"sum\": 1308472.0, \"count\": 1, \"min\": 1308472, \"max\": 1308472}, \"Max Batches Seen Between Resets\": {\"sum\": 1309.0, \"count\": 1, \"min\": 1309, \"max\": 1309}, \"Reset Count\": {\"sum\": 4.0, \"count\": 1, \"min\": 4, \"max\": 4}, \"Number of Records Since Last Reset\": {\"sum\": 1308472.0, \"count\": 1, \"min\": 1308472, \"max\": 1308472}, \"Number of Batches Since Last Reset\": {\"sum\": 1309.0, \"count\": 1, \"min\": 1309, \"max\": 1309}}}\u001b[0m\n",
      "\u001b[34m[09/23/2024 21:14:56 INFO 140024616769344] #throughput_metric: host=algo-1, train throughput=27507.03866871717 records/second\u001b[0m\n",
      "\u001b[34m[2024-09-23 21:15:41.476] [tensorio] [info] epoch_stats={\"data_pipeline\": \"/opt/ml/input/data/train\", \"epoch\": 7, \"duration\": 45368, \"num_examples\": 1309, \"num_bytes\": 62806656}\u001b[0m\n",
      "\u001b[34m#metrics {\"StartTime\": 1727126141.4768157, \"EndTime\": 1727126141.4769118, \"Dimensions\": {\"Algorithm\": \"Linear Learner\", \"Host\": \"algo-1\", \"Operation\": \"training\", \"epoch\": 2, \"model\": 0}, \"Metrics\": {\"train_binary_classification_cross_entropy_objective\": {\"sum\": 0.513780763655263, \"count\": 1, \"min\": 0.513780763655263, \"max\": 0.513780763655263}}}\u001b[0m\n",
      "\u001b[34m#metrics {\"StartTime\": 1727126141.4770014, \"EndTime\": 1727126141.477023, \"Dimensions\": {\"Algorithm\": \"Linear Learner\", \"Host\": \"algo-1\", \"Operation\": \"training\", \"epoch\": 2, \"model\": 1}, \"Metrics\": {\"train_binary_classification_cross_entropy_objective\": {\"sum\": 0.5139008792562222, \"count\": 1, \"min\": 0.5139008792562222, \"max\": 0.5139008792562222}}}\u001b[0m\n",
      "\u001b[34m#metrics {\"StartTime\": 1727126141.477074, \"EndTime\": 1727126141.4770913, \"Dimensions\": {\"Algorithm\": \"Linear Learner\", \"Host\": \"algo-1\", \"Operation\": \"training\", \"epoch\": 2, \"model\": 2}, \"Metrics\": {\"train_binary_classification_cross_entropy_objective\": {\"sum\": 0.5137807679249241, \"count\": 1, \"min\": 0.5137807679249241, \"max\": 0.5137807679249241}}}\u001b[0m\n",
      "\u001b[34m#metrics {\"StartTime\": 1727126141.4771476, \"EndTime\": 1727126141.4771636, \"Dimensions\": {\"Algorithm\": \"Linear Learner\", \"Host\": \"algo-1\", \"Operation\": \"training\", \"epoch\": 2, \"model\": 3}, \"Metrics\": {\"train_binary_classification_cross_entropy_objective\": {\"sum\": 0.5139008786962667, \"count\": 1, \"min\": 0.5139008786962667, \"max\": 0.5139008786962667}}}\u001b[0m\n",
      "\u001b[34m#metrics {\"StartTime\": 1727126141.4772139, \"EndTime\": 1727126141.4772298, \"Dimensions\": {\"Algorithm\": \"Linear Learner\", \"Host\": \"algo-1\", \"Operation\": \"training\", \"epoch\": 2, \"model\": 4}, \"Metrics\": {\"train_binary_classification_cross_entropy_objective\": {\"sum\": 0.5138961589941555, \"count\": 1, \"min\": 0.5138961589941555, \"max\": 0.5138961589941555}}}\u001b[0m\n",
      "\u001b[34m#metrics {\"StartTime\": 1727126141.4772806, \"EndTime\": 1727126141.477296, \"Dimensions\": {\"Algorithm\": \"Linear Learner\", \"Host\": \"algo-1\", \"Operation\": \"training\", \"epoch\": 2, \"model\": 5}, \"Metrics\": {\"train_binary_classification_cross_entropy_objective\": {\"sum\": 0.5151871814319482, \"count\": 1, \"min\": 0.5151871814319482, \"max\": 0.5151871814319482}}}\u001b[0m\n",
      "\u001b[34m#metrics {\"StartTime\": 1727126141.477347, \"EndTime\": 1727126141.477364, \"Dimensions\": {\"Algorithm\": \"Linear Learner\", \"Host\": \"algo-1\", \"Operation\": \"training\", \"epoch\": 2, \"model\": 6}, \"Metrics\": {\"train_binary_classification_cross_entropy_objective\": {\"sum\": 0.5138961581075593, \"count\": 1, \"min\": 0.5138961581075593, \"max\": 0.5138961581075593}}}\u001b[0m\n",
      "\u001b[34m#metrics {\"StartTime\": 1727126141.4774172, \"EndTime\": 1727126141.4774337, \"Dimensions\": {\"Algorithm\": \"Linear Learner\", \"Host\": \"algo-1\", \"Operation\": \"training\", \"epoch\": 2, \"model\": 7}, \"Metrics\": {\"train_binary_classification_cross_entropy_objective\": {\"sum\": 0.5151871919077835, \"count\": 1, \"min\": 0.5151871919077835, \"max\": 0.5151871919077835}}}\u001b[0m\n",
      "\u001b[34m#metrics {\"StartTime\": 1727126141.477484, \"EndTime\": 1727126141.4775014, \"Dimensions\": {\"Algorithm\": \"Linear Learner\", \"Host\": \"algo-1\", \"Operation\": \"training\", \"epoch\": 2, \"model\": 8}, \"Metrics\": {\"train_binary_classification_cross_entropy_objective\": {\"sum\": 0.5137810305207512, \"count\": 1, \"min\": 0.5137810305207512, \"max\": 0.5137810305207512}}}\u001b[0m\n",
      "\u001b[34m#metrics {\"StartTime\": 1727126141.477559, \"EndTime\": 1727126141.4775755, \"Dimensions\": {\"Algorithm\": \"Linear Learner\", \"Host\": \"algo-1\", \"Operation\": \"training\", \"epoch\": 2, \"model\": 9}, \"Metrics\": {\"train_binary_classification_cross_entropy_objective\": {\"sum\": 0.513900362487233, \"count\": 1, \"min\": 0.513900362487233, \"max\": 0.513900362487233}}}\u001b[0m\n",
      "\u001b[34m#metrics {\"StartTime\": 1727126141.477634, \"EndTime\": 1727126141.4776511, \"Dimensions\": {\"Algorithm\": \"Linear Learner\", \"Host\": \"algo-1\", \"Operation\": \"training\", \"epoch\": 2, \"model\": 10}, \"Metrics\": {\"train_binary_classification_cross_entropy_objective\": {\"sum\": 0.5137810357703346, \"count\": 1, \"min\": 0.5137810357703346, \"max\": 0.5137810357703346}}}\u001b[0m\n",
      "\u001b[34m#metrics {\"StartTime\": 1727126141.4776993, \"EndTime\": 1727126141.4777255, \"Dimensions\": {\"Algorithm\": \"Linear Learner\", \"Host\": \"algo-1\", \"Operation\": \"training\", \"epoch\": 2, \"model\": 11}, \"Metrics\": {\"train_binary_classification_cross_entropy_objective\": {\"sum\": 0.5139003623005811, \"count\": 1, \"min\": 0.5139003623005811, \"max\": 0.5139003623005811}}}\u001b[0m\n",
      "\u001b[34m#metrics {\"StartTime\": 1727126141.4777694, \"EndTime\": 1727126141.4777842, \"Dimensions\": {\"Algorithm\": \"Linear Learner\", \"Host\": \"algo-1\", \"Operation\": \"training\", \"epoch\": 2, \"model\": 12}, \"Metrics\": {\"train_binary_classification_cross_entropy_objective\": {\"sum\": 0.5138957805108587, \"count\": 1, \"min\": 0.5138957805108587, \"max\": 0.5138957805108587}}}\u001b[0m\n",
      "\u001b[34m#metrics {\"StartTime\": 1727126141.4778333, \"EndTime\": 1727126141.4778495, \"Dimensions\": {\"Algorithm\": \"Linear Learner\", \"Host\": \"algo-1\", \"Operation\": \"training\", \"epoch\": 2, \"model\": 13}, \"Metrics\": {\"train_binary_classification_cross_entropy_objective\": {\"sum\": 0.5151768365095879, \"count\": 1, \"min\": 0.5151768365095879, \"max\": 0.5151768365095879}}}\u001b[0m\n",
      "\u001b[34m#metrics {\"StartTime\": 1727126141.477891, \"EndTime\": 1727126141.4779065, \"Dimensions\": {\"Algorithm\": \"Linear Learner\", \"Host\": \"algo-1\", \"Operation\": \"training\", \"epoch\": 2, \"model\": 14}, \"Metrics\": {\"train_binary_classification_cross_entropy_objective\": {\"sum\": 0.5138957808374994, \"count\": 1, \"min\": 0.5138957808374994, \"max\": 0.5138957808374994}}}\u001b[0m\n",
      "\u001b[34m#metrics {\"StartTime\": 1727126141.4779565, \"EndTime\": 1727126141.4779716, \"Dimensions\": {\"Algorithm\": \"Linear Learner\", \"Host\": \"algo-1\", \"Operation\": \"training\", \"epoch\": 2, \"model\": 15}, \"Metrics\": {\"train_binary_classification_cross_entropy_objective\": {\"sum\": 0.515176833756473, \"count\": 1, \"min\": 0.515176833756473, \"max\": 0.515176833756473}}}\u001b[0m\n",
      "\u001b[34m#metrics {\"StartTime\": 1727126141.478018, \"EndTime\": 1727126141.4780343, \"Dimensions\": {\"Algorithm\": \"Linear Learner\", \"Host\": \"algo-1\", \"Operation\": \"training\", \"epoch\": 2, \"model\": 16}, \"Metrics\": {\"train_binary_classification_cross_entropy_objective\": {\"sum\": 0.5138341935883968, \"count\": 1, \"min\": 0.5138341935883968, \"max\": 0.5138341935883968}}}\u001b[0m\n",
      "\u001b[34m#metrics {\"StartTime\": 1727126141.47808, \"EndTime\": 1727126141.478095, \"Dimensions\": {\"Algorithm\": \"Linear Learner\", \"Host\": \"algo-1\", \"Operation\": \"training\", \"epoch\": 2, \"model\": 17}, \"Metrics\": {\"train_binary_classification_cross_entropy_objective\": {\"sum\": 0.5139415873022983, \"count\": 1, \"min\": 0.5139415873022983, \"max\": 0.5139415873022983}}}\u001b[0m\n",
      "\u001b[34m#metrics {\"StartTime\": 1727126141.4781399, \"EndTime\": 1727126141.478155, \"Dimensions\": {\"Algorithm\": \"Linear Learner\", \"Host\": \"algo-1\", \"Operation\": \"training\", \"epoch\": 2, \"model\": 18}, \"Metrics\": {\"train_binary_classification_cross_entropy_objective\": {\"sum\": 0.513834199071295, \"count\": 1, \"min\": 0.513834199071295, \"max\": 0.513834199071295}}}\u001b[0m\n",
      "\u001b[34m#metrics {\"StartTime\": 1727126141.478201, \"EndTime\": 1727126141.4782152, \"Dimensions\": {\"Algorithm\": \"Linear Learner\", \"Host\": \"algo-1\", \"Operation\": \"training\", \"epoch\": 2, \"model\": 19}, \"Metrics\": {\"train_binary_classification_cross_entropy_objective\": {\"sum\": 0.513941588352215, \"count\": 1, \"min\": 0.513941588352215, \"max\": 0.513941588352215}}}\u001b[0m\n",
      "\u001b[34m#metrics {\"StartTime\": 1727126141.478268, \"EndTime\": 1727126141.478284, \"Dimensions\": {\"Algorithm\": \"Linear Learner\", \"Host\": \"algo-1\", \"Operation\": \"training\", \"epoch\": 2, \"model\": 20}, \"Metrics\": {\"train_binary_classification_cross_entropy_objective\": {\"sum\": 0.5139362693343323, \"count\": 1, \"min\": 0.5139362693343323, \"max\": 0.5139362693343323}}}\u001b[0m\n",
      "\u001b[34m#metrics {\"StartTime\": 1727126141.4783335, \"EndTime\": 1727126141.4783487, \"Dimensions\": {\"Algorithm\": \"Linear Learner\", \"Host\": \"algo-1\", \"Operation\": \"training\", \"epoch\": 2, \"model\": 21}, \"Metrics\": {\"train_binary_classification_cross_entropy_objective\": {\"sum\": 0.5151257329818305, \"count\": 1, \"min\": 0.5151257329818305, \"max\": 0.5151257329818305}}}\u001b[0m\n",
      "\u001b[34m#metrics {\"StartTime\": 1727126141.4784043, \"EndTime\": 1727126141.4784203, \"Dimensions\": {\"Algorithm\": \"Linear Learner\", \"Host\": \"algo-1\", \"Operation\": \"training\", \"epoch\": 2, \"model\": 22}, \"Metrics\": {\"train_binary_classification_cross_entropy_objective\": {\"sum\": 0.5139362649713453, \"count\": 1, \"min\": 0.5139362649713453, \"max\": 0.5139362649713453}}}\u001b[0m\n",
      "\u001b[34m#metrics {\"StartTime\": 1727126141.4784987, \"EndTime\": 1727126141.478515, \"Dimensions\": {\"Algorithm\": \"Linear Learner\", \"Host\": \"algo-1\", \"Operation\": \"training\", \"epoch\": 2, \"model\": 23}, \"Metrics\": {\"train_binary_classification_cross_entropy_objective\": {\"sum\": 0.5151257340084158, \"count\": 1, \"min\": 0.5151257340084158, \"max\": 0.5151257340084158}}}\u001b[0m\n",
      "\u001b[34m#metrics {\"StartTime\": 1727126141.4785674, \"EndTime\": 1727126141.4785836, \"Dimensions\": {\"Algorithm\": \"Linear Learner\", \"Host\": \"algo-1\", \"Operation\": \"training\", \"epoch\": 2, \"model\": 24}, \"Metrics\": {\"train_binary_classification_cross_entropy_objective\": {\"sum\": 0.5138526141665397, \"count\": 1, \"min\": 0.5138526141665397, \"max\": 0.5138526141665397}}}\u001b[0m\n",
      "\u001b[34m#metrics {\"StartTime\": 1727126141.4786313, \"EndTime\": 1727126141.4786465, \"Dimensions\": {\"Algorithm\": \"Linear Learner\", \"Host\": \"algo-1\", \"Operation\": \"training\", \"epoch\": 2, \"model\": 25}, \"Metrics\": {\"train_binary_classification_cross_entropy_objective\": {\"sum\": 0.5139593450330449, \"count\": 1, \"min\": 0.5139593450330449, \"max\": 0.5139593450330449}}}\u001b[0m\n",
      "\u001b[34m#metrics {\"StartTime\": 1727126141.478695, \"EndTime\": 1727126141.4787102, \"Dimensions\": {\"Algorithm\": \"Linear Learner\", \"Host\": \"algo-1\", \"Operation\": \"training\", \"epoch\": 2, \"model\": 26}, \"Metrics\": {\"train_binary_classification_cross_entropy_objective\": {\"sum\": 0.5138525888052191, \"count\": 1, \"min\": 0.5138525888052191, \"max\": 0.5138525888052191}}}\u001b[0m\n",
      "\u001b[34m#metrics {\"StartTime\": 1727126141.4787526, \"EndTime\": 1727126141.478767, \"Dimensions\": {\"Algorithm\": \"Linear Learner\", \"Host\": \"algo-1\", \"Operation\": \"training\", \"epoch\": 2, \"model\": 27}, \"Metrics\": {\"train_binary_classification_cross_entropy_objective\": {\"sum\": 0.5139593636515672, \"count\": 1, \"min\": 0.5139593636515672, \"max\": 0.5139593636515672}}}\u001b[0m\n",
      "\u001b[34m#metrics {\"StartTime\": 1727126141.4788234, \"EndTime\": 1727126141.47884, \"Dimensions\": {\"Algorithm\": \"Linear Learner\", \"Host\": \"algo-1\", \"Operation\": \"training\", \"epoch\": 2, \"model\": 28}, \"Metrics\": {\"train_binary_classification_cross_entropy_objective\": {\"sum\": 0.5139540326879659, \"count\": 1, \"min\": 0.5139540326879659, \"max\": 0.5139540326879659}}}\u001b[0m\n",
      "\u001b[34m#metrics {\"StartTime\": 1727126141.4788854, \"EndTime\": 1727126141.4788992, \"Dimensions\": {\"Algorithm\": \"Linear Learner\", \"Host\": \"algo-1\", \"Operation\": \"training\", \"epoch\": 2, \"model\": 29}, \"Metrics\": {\"train_binary_classification_cross_entropy_objective\": {\"sum\": 0.5151155320613756, \"count\": 1, \"min\": 0.5151155320613756, \"max\": 0.5151155320613756}}}\u001b[0m\n",
      "\u001b[34m#metrics {\"StartTime\": 1727126141.4789443, \"EndTime\": 1727126141.478959, \"Dimensions\": {\"Algorithm\": \"Linear Learner\", \"Host\": \"algo-1\", \"Operation\": \"training\", \"epoch\": 2, \"model\": 30}, \"Metrics\": {\"train_binary_classification_cross_entropy_objective\": {\"sum\": 0.5139538515890045, \"count\": 1, \"min\": 0.5139538515890045, \"max\": 0.5139538515890045}}}\u001b[0m\n",
      "\u001b[34m#metrics {\"StartTime\": 1727126141.4790065, \"EndTime\": 1727126141.4790225, \"Dimensions\": {\"Algorithm\": \"Linear Learner\", \"Host\": \"algo-1\", \"Operation\": \"training\", \"epoch\": 2, \"model\": 31}, \"Metrics\": {\"train_binary_classification_cross_entropy_objective\": {\"sum\": 0.5151155375909368, \"count\": 1, \"min\": 0.5151155375909368, \"max\": 0.5151155375909368}}}\u001b[0m\n",
      "\u001b[34m[09/23/2024 21:15:41 INFO 140024616769344] #quality_metric: host=algo-1, epoch=2, train binary_classification_cross_entropy_objective <loss>=0.513780763655263\u001b[0m\n",
      "\u001b[34m[2024-09-23 21:15:45.267] [tensorio] [info] epoch_stats={\"data_pipeline\": \"/opt/ml/input/data/validation\", \"epoch\": 8, \"duration\": 3767, \"num_examples\": 164, \"num_bytes\": 7850832}\u001b[0m\n",
      "\u001b[34m#metrics {\"StartTime\": 1727126145.276664, \"EndTime\": 1727126145.276718, \"Dimensions\": {\"Algorithm\": \"Linear Learner\", \"Host\": \"algo-1\", \"Operation\": \"training\", \"epoch\": 2, \"model\": 0}, \"Metrics\": {\"validation_binary_classification_cross_entropy_objective\": {\"sum\": 0.5137990150005957, \"count\": 1, \"min\": 0.5137990150005957, \"max\": 0.5137990150005957}}}\u001b[0m\n",
      "\u001b[34m#metrics {\"StartTime\": 1727126145.2767968, \"EndTime\": 1727126145.2768116, \"Dimensions\": {\"Algorithm\": \"Linear Learner\", \"Host\": \"algo-1\", \"Operation\": \"training\", \"epoch\": 2, \"model\": 1}, \"Metrics\": {\"validation_binary_classification_cross_entropy_objective\": {\"sum\": 0.5145766588068708, \"count\": 1, \"min\": 0.5145766588068708, \"max\": 0.5145766588068708}}}\u001b[0m\n",
      "\u001b[34m#metrics {\"StartTime\": 1727126145.2768724, \"EndTime\": 1727126145.2768865, \"Dimensions\": {\"Algorithm\": \"Linear Learner\", \"Host\": \"algo-1\", \"Operation\": \"training\", \"epoch\": 2, \"model\": 2}, \"Metrics\": {\"validation_binary_classification_cross_entropy_objective\": {\"sum\": 0.5137990028726016, \"count\": 1, \"min\": 0.5137990028726016, \"max\": 0.5137990028726016}}}\u001b[0m\n",
      "\u001b[34m#metrics {\"StartTime\": 1727126145.2769268, \"EndTime\": 1727126145.2769406, \"Dimensions\": {\"Algorithm\": \"Linear Learner\", \"Host\": \"algo-1\", \"Operation\": \"training\", \"epoch\": 2, \"model\": 3}, \"Metrics\": {\"validation_binary_classification_cross_entropy_objective\": {\"sum\": 0.5145766617922231, \"count\": 1, \"min\": 0.5145766617922231, \"max\": 0.5145766617922231}}}\u001b[0m\n",
      "\u001b[34m#metrics {\"StartTime\": 1727126145.2769904, \"EndTime\": 1727126145.2770047, \"Dimensions\": {\"Algorithm\": \"Linear Learner\", \"Host\": \"algo-1\", \"Operation\": \"training\", \"epoch\": 2, \"model\": 4}, \"Metrics\": {\"validation_binary_classification_cross_entropy_objective\": {\"sum\": 0.5140130847308205, \"count\": 1, \"min\": 0.5140130847308205, \"max\": 0.5140130847308205}}}\u001b[0m\n",
      "\u001b[34m#metrics {\"StartTime\": 1727126145.2770553, \"EndTime\": 1727126145.27707, \"Dimensions\": {\"Algorithm\": \"Linear Learner\", \"Host\": \"algo-1\", \"Operation\": \"training\", \"epoch\": 2, \"model\": 5}, \"Metrics\": {\"validation_binary_classification_cross_entropy_objective\": {\"sum\": 0.5140193565830029, \"count\": 1, \"min\": 0.5140193565830029, \"max\": 0.5140193565830029}}}\u001b[0m\n",
      "\u001b[34m#metrics {\"StartTime\": 1727126145.2771153, \"EndTime\": 1727126145.2771285, \"Dimensions\": {\"Algorithm\": \"Linear Learner\", \"Host\": \"algo-1\", \"Operation\": \"training\", \"epoch\": 2, \"model\": 6}, \"Metrics\": {\"validation_binary_classification_cross_entropy_objective\": {\"sum\": 0.5140130785735313, \"count\": 1, \"min\": 0.5140130785735313, \"max\": 0.5140130785735313}}}\u001b[0m\n",
      "\u001b[34m#metrics {\"StartTime\": 1727126145.2771719, \"EndTime\": 1727126145.2771857, \"Dimensions\": {\"Algorithm\": \"Linear Learner\", \"Host\": \"algo-1\", \"Operation\": \"training\", \"epoch\": 2, \"model\": 7}, \"Metrics\": {\"validation_binary_classification_cross_entropy_objective\": {\"sum\": 0.5140193737487792, \"count\": 1, \"min\": 0.5140193737487792, \"max\": 0.5140193737487792}}}\u001b[0m\n",
      "\u001b[34m#metrics {\"StartTime\": 1727126145.2772355, \"EndTime\": 1727126145.2772474, \"Dimensions\": {\"Algorithm\": \"Linear Learner\", \"Host\": \"algo-1\", \"Operation\": \"training\", \"epoch\": 2, \"model\": 8}, \"Metrics\": {\"validation_binary_classification_cross_entropy_objective\": {\"sum\": 0.5137973794006602, \"count\": 1, \"min\": 0.5137973794006602, \"max\": 0.5137973794006602}}}\u001b[0m\n",
      "\u001b[34m#metrics {\"StartTime\": 1727126145.2772737, \"EndTime\": 1727126145.277281, \"Dimensions\": {\"Algorithm\": \"Linear Learner\", \"Host\": \"algo-1\", \"Operation\": \"training\", \"epoch\": 2, \"model\": 9}, \"Metrics\": {\"validation_binary_classification_cross_entropy_objective\": {\"sum\": 0.5145732663270594, \"count\": 1, \"min\": 0.5145732663270594, \"max\": 0.5145732663270594}}}\u001b[0m\n",
      "\u001b[34m#metrics {\"StartTime\": 1727126145.277319, \"EndTime\": 1727126145.277333, \"Dimensions\": {\"Algorithm\": \"Linear Learner\", \"Host\": \"algo-1\", \"Operation\": \"training\", \"epoch\": 2, \"model\": 10}, \"Metrics\": {\"validation_binary_classification_cross_entropy_objective\": {\"sum\": 0.5137973624214686, \"count\": 1, \"min\": 0.5137973624214686, \"max\": 0.5137973624214686}}}\u001b[0m\n",
      "\u001b[34m#metrics {\"StartTime\": 1727126145.2773764, \"EndTime\": 1727126145.2773914, \"Dimensions\": {\"Algorithm\": \"Linear Learner\", \"Host\": \"algo-1\", \"Operation\": \"training\", \"epoch\": 2, \"model\": 11}, \"Metrics\": {\"validation_binary_classification_cross_entropy_objective\": {\"sum\": 0.5145732614758617, \"count\": 1, \"min\": 0.5145732614758617, \"max\": 0.5145732614758617}}}\u001b[0m\n",
      "\u001b[34m#metrics {\"StartTime\": 1727126145.2774415, \"EndTime\": 1727126145.2774565, \"Dimensions\": {\"Algorithm\": \"Linear Learner\", \"Host\": \"algo-1\", \"Operation\": \"training\", \"epoch\": 2, \"model\": 12}, \"Metrics\": {\"validation_binary_classification_cross_entropy_objective\": {\"sum\": 0.5140087096969069, \"count\": 1, \"min\": 0.5140087096969069, \"max\": 0.5140087096969069}}}\u001b[0m\n",
      "\u001b[34m#metrics {\"StartTime\": 1727126145.2774987, \"EndTime\": 1727126145.2775135, \"Dimensions\": {\"Algorithm\": \"Linear Learner\", \"Host\": \"algo-1\", \"Operation\": \"training\", \"epoch\": 2, \"model\": 13}, \"Metrics\": {\"validation_binary_classification_cross_entropy_objective\": {\"sum\": 0.5139921764422548, \"count\": 1, \"min\": 0.5139921764422548, \"max\": 0.5139921764422548}}}\u001b[0m\n",
      "\u001b[34m#metrics {\"StartTime\": 1727126145.277559, \"EndTime\": 1727126145.2775736, \"Dimensions\": {\"Algorithm\": \"Linear Learner\", \"Host\": \"algo-1\", \"Operation\": \"training\", \"epoch\": 2, \"model\": 14}, \"Metrics\": {\"validation_binary_classification_cross_entropy_objective\": {\"sum\": 0.514008710070076, \"count\": 1, \"min\": 0.514008710070076, \"max\": 0.514008710070076}}}\u001b[0m\n",
      "\u001b[34m#metrics {\"StartTime\": 1727126145.277619, \"EndTime\": 1727126145.2776341, \"Dimensions\": {\"Algorithm\": \"Linear Learner\", \"Host\": \"algo-1\", \"Operation\": \"training\", \"epoch\": 2, \"model\": 15}, \"Metrics\": {\"validation_binary_classification_cross_entropy_objective\": {\"sum\": 0.5139921839056357, \"count\": 1, \"min\": 0.5139921839056357, \"max\": 0.5139921839056357}}}\u001b[0m\n",
      "\u001b[34m#metrics {\"StartTime\": 1727126145.2776744, \"EndTime\": 1727126145.2776835, \"Dimensions\": {\"Algorithm\": \"Linear Learner\", \"Host\": \"algo-1\", \"Operation\": \"training\", \"epoch\": 2, \"model\": 16}, \"Metrics\": {\"validation_binary_classification_cross_entropy_objective\": {\"sum\": 0.5138246509678249, \"count\": 1, \"min\": 0.5138246509678249, \"max\": 0.5138246509678249}}}\u001b[0m\n",
      "\u001b[34m#metrics {\"StartTime\": 1727126145.277733, \"EndTime\": 1727126145.2777495, \"Dimensions\": {\"Algorithm\": \"Linear Learner\", \"Host\": \"algo-1\", \"Operation\": \"training\", \"epoch\": 2, \"model\": 17}, \"Metrics\": {\"validation_binary_classification_cross_entropy_objective\": {\"sum\": 0.5145996950919303, \"count\": 1, \"min\": 0.5145996950919303, \"max\": 0.5145996950919303}}}\u001b[0m\n",
      "\u001b[34m#metrics {\"StartTime\": 1727126145.2777984, \"EndTime\": 1727126145.277814, \"Dimensions\": {\"Algorithm\": \"Linear Learner\", \"Host\": \"algo-1\", \"Operation\": \"training\", \"epoch\": 2, \"model\": 18}, \"Metrics\": {\"validation_binary_classification_cross_entropy_objective\": {\"sum\": 0.5138246602970512, \"count\": 1, \"min\": 0.5138246602970512, \"max\": 0.5138246602970512}}}\u001b[0m\n",
      "\u001b[34m#metrics {\"StartTime\": 1727126145.2778714, \"EndTime\": 1727126145.2778876, \"Dimensions\": {\"Algorithm\": \"Linear Learner\", \"Host\": \"algo-1\", \"Operation\": \"training\", \"epoch\": 2, \"model\": 19}, \"Metrics\": {\"validation_binary_classification_cross_entropy_objective\": {\"sum\": 0.5145997016223886, \"count\": 1, \"min\": 0.5145997016223886, \"max\": 0.5145997016223886}}}\u001b[0m\n",
      "\u001b[34m#metrics {\"StartTime\": 1727126145.2779398, \"EndTime\": 1727126145.2779553, \"Dimensions\": {\"Algorithm\": \"Linear Learner\", \"Host\": \"algo-1\", \"Operation\": \"training\", \"epoch\": 2, \"model\": 20}, \"Metrics\": {\"validation_binary_classification_cross_entropy_objective\": {\"sum\": 0.5140348451509065, \"count\": 1, \"min\": 0.5140348451509065, \"max\": 0.5140348451509065}}}\u001b[0m\n",
      "\u001b[34m#metrics {\"StartTime\": 1727126145.278004, \"EndTime\": 1727126145.2780204, \"Dimensions\": {\"Algorithm\": \"Linear Learner\", \"Host\": \"algo-1\", \"Operation\": \"training\", \"epoch\": 2, \"model\": 21}, \"Metrics\": {\"validation_binary_classification_cross_entropy_objective\": {\"sum\": 0.514026222893478, \"count\": 1, \"min\": 0.514026222893478, \"max\": 0.514026222893478}}}\u001b[0m\n",
      "\u001b[34m#metrics {\"StartTime\": 1727126145.278073, \"EndTime\": 1727126145.2780879, \"Dimensions\": {\"Algorithm\": \"Linear Learner\", \"Host\": \"algo-1\", \"Operation\": \"training\", \"epoch\": 2, \"model\": 22}, \"Metrics\": {\"validation_binary_classification_cross_entropy_objective\": {\"sum\": 0.5140348425387231, \"count\": 1, \"min\": 0.5140348425387231, \"max\": 0.5140348425387231}}}\u001b[0m\n",
      "\u001b[34m#metrics {\"StartTime\": 1727126145.278146, \"EndTime\": 1727126145.2781622, \"Dimensions\": {\"Algorithm\": \"Linear Learner\", \"Host\": \"algo-1\", \"Operation\": \"training\", \"epoch\": 2, \"model\": 23}, \"Metrics\": {\"validation_binary_classification_cross_entropy_objective\": {\"sum\": 0.5140262234532316, \"count\": 1, \"min\": 0.5140262234532316, \"max\": 0.5140262234532316}}}\u001b[0m\n",
      "\u001b[34m#metrics {\"StartTime\": 1727126145.2782192, \"EndTime\": 1727126145.2782354, \"Dimensions\": {\"Algorithm\": \"Linear Learner\", \"Host\": \"algo-1\", \"Operation\": \"training\", \"epoch\": 2, \"model\": 24}, \"Metrics\": {\"validation_binary_classification_cross_entropy_objective\": {\"sum\": 0.5138422880565199, \"count\": 1, \"min\": 0.5138422880565199, \"max\": 0.5138422880565199}}}\u001b[0m\n",
      "\u001b[34m#metrics {\"StartTime\": 1727126145.2782958, \"EndTime\": 1727126145.2783136, \"Dimensions\": {\"Algorithm\": \"Linear Learner\", \"Host\": \"algo-1\", \"Operation\": \"training\", \"epoch\": 2, \"model\": 25}, \"Metrics\": {\"validation_binary_classification_cross_entropy_objective\": {\"sum\": 0.5146166308094002, \"count\": 1, \"min\": 0.5146166308094002, \"max\": 0.5146166308094002}}}\u001b[0m\n",
      "\u001b[34m#metrics {\"StartTime\": 1727126145.2783728, \"EndTime\": 1727126145.278388, \"Dimensions\": {\"Algorithm\": \"Linear Learner\", \"Host\": \"algo-1\", \"Operation\": \"training\", \"epoch\": 2, \"model\": 26}, \"Metrics\": {\"validation_binary_classification_cross_entropy_objective\": {\"sum\": 0.5138420701257961, \"count\": 1, \"min\": 0.5138420701257961, \"max\": 0.5138420701257961}}}\u001b[0m\n",
      "\u001b[34m#metrics {\"StartTime\": 1727126145.2784374, \"EndTime\": 1727126145.2784698, \"Dimensions\": {\"Algorithm\": \"Linear Learner\", \"Host\": \"algo-1\", \"Operation\": \"training\", \"epoch\": 2, \"model\": 27}, \"Metrics\": {\"validation_binary_classification_cross_entropy_objective\": {\"sum\": 0.5146156633686444, \"count\": 1, \"min\": 0.5146156633686444, \"max\": 0.5146156633686444}}}\u001b[0m\n",
      "\u001b[34m#metrics {\"StartTime\": 1727126145.278526, \"EndTime\": 1727126145.2785413, \"Dimensions\": {\"Algorithm\": \"Linear Learner\", \"Host\": \"algo-1\", \"Operation\": \"training\", \"epoch\": 2, \"model\": 28}, \"Metrics\": {\"validation_binary_classification_cross_entropy_objective\": {\"sum\": 0.5140465740406558, \"count\": 1, \"min\": 0.5140465740406558, \"max\": 0.5140465740406558}}}\u001b[0m\n",
      "\u001b[34m#metrics {\"StartTime\": 1727126145.2785993, \"EndTime\": 1727126145.2786145, \"Dimensions\": {\"Algorithm\": \"Linear Learner\", \"Host\": \"algo-1\", \"Operation\": \"training\", \"epoch\": 2, \"model\": 29}, \"Metrics\": {\"validation_binary_classification_cross_entropy_objective\": {\"sum\": 0.5139870964920104, \"count\": 1, \"min\": 0.5139870964920104, \"max\": 0.5139870964920104}}}\u001b[0m\n",
      "\u001b[34m#metrics {\"StartTime\": 1727126145.2786627, \"EndTime\": 1727126145.2786777, \"Dimensions\": {\"Algorithm\": \"Linear Learner\", \"Host\": \"algo-1\", \"Operation\": \"training\", \"epoch\": 2, \"model\": 30}, \"Metrics\": {\"validation_binary_classification_cross_entropy_objective\": {\"sum\": 0.5140458357256952, \"count\": 1, \"min\": 0.5140458357256952, \"max\": 0.5140458357256952}}}\u001b[0m\n",
      "\u001b[34m#metrics {\"StartTime\": 1727126145.2787247, \"EndTime\": 1727126145.2787392, \"Dimensions\": {\"Algorithm\": \"Linear Learner\", \"Host\": \"algo-1\", \"Operation\": \"training\", \"epoch\": 2, \"model\": 31}, \"Metrics\": {\"validation_binary_classification_cross_entropy_objective\": {\"sum\": 0.5139871058212365, \"count\": 1, \"min\": 0.5139871058212365, \"max\": 0.5139871058212365}}}\u001b[0m\n",
      "\u001b[34m[09/23/2024 21:15:45 INFO 140024616769344] #quality_metric: host=algo-1, epoch=2, validation binary_classification_cross_entropy_objective <loss>=0.5137990150005957\u001b[0m\n",
      "\u001b[34m[09/23/2024 21:15:45 INFO 140024616769344] #early_stopping_criteria_metric: host=algo-1, epoch=2, criteria=binary_classification_cross_entropy_objective, value=0.5137973624214686\u001b[0m\n",
      "\u001b[34m[09/23/2024 21:15:45 INFO 140024616769344] Saving model for epoch: 2\u001b[0m\n",
      "\u001b[34m[09/23/2024 21:15:45 INFO 140024616769344] Saved checkpoint to \"/tmp/tmp973r2zcw/mx-mod-0000.params\"\u001b[0m\n",
      "\u001b[34m[09/23/2024 21:15:45 INFO 140024616769344] #progress_metric: host=algo-1, completed 20.0 % of epochs\u001b[0m\n",
      "\u001b[34m#metrics {\"StartTime\": 1727126096.107879, \"EndTime\": 1727126145.2851756, \"Dimensions\": {\"Algorithm\": \"Linear Learner\", \"Host\": \"algo-1\", \"Operation\": \"training\", \"epoch\": 2, \"Meta\": \"training_data_iter\"}, \"Metrics\": {\"Total Records Seen\": {\"sum\": 3937416.0, \"count\": 1, \"min\": 3937416, \"max\": 3937416}, \"Total Batches Seen\": {\"sum\": 3939.0, \"count\": 1, \"min\": 3939, \"max\": 3939}, \"Max Records Seen Between Resets\": {\"sum\": 1308472.0, \"count\": 1, \"min\": 1308472, \"max\": 1308472}, \"Max Batches Seen Between Resets\": {\"sum\": 1309.0, \"count\": 1, \"min\": 1309, \"max\": 1309}, \"Reset Count\": {\"sum\": 5.0, \"count\": 1, \"min\": 5, \"max\": 5}, \"Number of Records Since Last Reset\": {\"sum\": 1308472.0, \"count\": 1, \"min\": 1308472, \"max\": 1308472}, \"Number of Batches Since Last Reset\": {\"sum\": 1309.0, \"count\": 1, \"min\": 1309, \"max\": 1309}}}\u001b[0m\n",
      "\u001b[34m[09/23/2024 21:15:45 INFO 140024616769344] #throughput_metric: host=algo-1, train throughput=26607.159099702054 records/second\u001b[0m\n",
      "\u001b[34m[2024-09-23 21:16:29.792] [tensorio] [info] epoch_stats={\"data_pipeline\": \"/opt/ml/input/data/train\", \"epoch\": 9, \"duration\": 44503, \"num_examples\": 1309, \"num_bytes\": 62806656}\u001b[0m\n",
      "\u001b[34m#metrics {\"StartTime\": 1727126189.792498, \"EndTime\": 1727126189.792581, \"Dimensions\": {\"Algorithm\": \"Linear Learner\", \"Host\": \"algo-1\", \"Operation\": \"training\", \"epoch\": 3, \"model\": 0}, \"Metrics\": {\"train_binary_classification_cross_entropy_objective\": {\"sum\": 0.513775255069091, \"count\": 1, \"min\": 0.513775255069091, \"max\": 0.513775255069091}}}\u001b[0m\n",
      "\u001b[34m#metrics {\"StartTime\": 1727126189.7926855, \"EndTime\": 1727126189.7927063, \"Dimensions\": {\"Algorithm\": \"Linear Learner\", \"Host\": \"algo-1\", \"Operation\": \"training\", \"epoch\": 3, \"model\": 1}, \"Metrics\": {\"train_binary_classification_cross_entropy_objective\": {\"sum\": 0.5138875261592574, \"count\": 1, \"min\": 0.5138875261592574, \"max\": 0.5138875261592574}}}\u001b[0m\n",
      "\u001b[34m#metrics {\"StartTime\": 1727126189.7927656, \"EndTime\": 1727126189.792781, \"Dimensions\": {\"Algorithm\": \"Linear Learner\", \"Host\": \"algo-1\", \"Operation\": \"training\", \"epoch\": 3, \"model\": 2}, \"Metrics\": {\"train_binary_classification_cross_entropy_objective\": {\"sum\": 0.5137770799409359, \"count\": 1, \"min\": 0.5137770799409359, \"max\": 0.5137770799409359}}}\u001b[0m\n",
      "\u001b[34m#metrics {\"StartTime\": 1727126189.7928352, \"EndTime\": 1727126189.7928512, \"Dimensions\": {\"Algorithm\": \"Linear Learner\", \"Host\": \"algo-1\", \"Operation\": \"training\", \"epoch\": 3, \"model\": 3}, \"Metrics\": {\"train_binary_classification_cross_entropy_objective\": {\"sum\": 0.5138875254359814, \"count\": 1, \"min\": 0.5138875254359814, \"max\": 0.5138875254359814}}}\u001b[0m\n",
      "\u001b[34m#metrics {\"StartTime\": 1727126189.7929075, \"EndTime\": 1727126189.7929218, \"Dimensions\": {\"Algorithm\": \"Linear Learner\", \"Host\": \"algo-1\", \"Operation\": \"training\", \"epoch\": 3, \"model\": 4}, \"Metrics\": {\"train_binary_classification_cross_entropy_objective\": {\"sum\": 0.5137998217194817, \"count\": 1, \"min\": 0.5137998217194817, \"max\": 0.5137998217194817}}}\u001b[0m\n",
      "\u001b[34m#metrics {\"StartTime\": 1727126189.7929733, \"EndTime\": 1727126189.7929888, \"Dimensions\": {\"Algorithm\": \"Linear Learner\", \"Host\": \"algo-1\", \"Operation\": \"training\", \"epoch\": 3, \"model\": 5}, \"Metrics\": {\"train_binary_classification_cross_entropy_objective\": {\"sum\": 0.514970907695432, \"count\": 1, \"min\": 0.514970907695432, \"max\": 0.514970907695432}}}\u001b[0m\n",
      "\u001b[34m#metrics {\"StartTime\": 1727126189.7930424, \"EndTime\": 1727126189.7930574, \"Dimensions\": {\"Algorithm\": \"Linear Learner\", \"Host\": \"algo-1\", \"Operation\": \"training\", \"epoch\": 3, \"model\": 6}, \"Metrics\": {\"train_binary_classification_cross_entropy_objective\": {\"sum\": 0.5137998211595262, \"count\": 1, \"min\": 0.5137998211595262, \"max\": 0.5137998211595262}}}\u001b[0m\n",
      "\u001b[34m#metrics {\"StartTime\": 1727126189.7931166, \"EndTime\": 1727126189.7931333, \"Dimensions\": {\"Algorithm\": \"Linear Learner\", \"Host\": \"algo-1\", \"Operation\": \"training\", \"epoch\": 3, \"model\": 7}, \"Metrics\": {\"train_binary_classification_cross_entropy_objective\": {\"sum\": 0.5149709073221282, \"count\": 1, \"min\": 0.5149709073221282, \"max\": 0.5149709073221282}}}\u001b[0m\n",
      "\u001b[34m#metrics {\"StartTime\": 1727126189.7931845, \"EndTime\": 1727126189.7932005, \"Dimensions\": {\"Algorithm\": \"Linear Learner\", \"Host\": \"algo-1\", \"Operation\": \"training\", \"epoch\": 3, \"model\": 8}, \"Metrics\": {\"train_binary_classification_cross_entropy_objective\": {\"sum\": 0.5137754772547918, \"count\": 1, \"min\": 0.5137754772547918, \"max\": 0.5137754772547918}}}\u001b[0m\n",
      "\u001b[34m#metrics {\"StartTime\": 1727126189.7932463, \"EndTime\": 1727126189.7932603, \"Dimensions\": {\"Algorithm\": \"Linear Learner\", \"Host\": \"algo-1\", \"Operation\": \"training\", \"epoch\": 3, \"model\": 9}, \"Metrics\": {\"train_binary_classification_cross_entropy_objective\": {\"sum\": 0.5138871299440343, \"count\": 1, \"min\": 0.5138871299440343, \"max\": 0.5138871299440343}}}\u001b[0m\n",
      "\u001b[34m#metrics {\"StartTime\": 1727126189.7933106, \"EndTime\": 1727126189.793326, \"Dimensions\": {\"Algorithm\": \"Linear Learner\", \"Host\": \"algo-1\", \"Operation\": \"training\", \"epoch\": 3, \"model\": 10}, \"Metrics\": {\"train_binary_classification_cross_entropy_objective\": {\"sum\": 0.5137773213984405, \"count\": 1, \"min\": 0.5137773213984405, \"max\": 0.5137773213984405}}}\u001b[0m\n",
      "\u001b[34m#metrics {\"StartTime\": 1727126189.7933755, \"EndTime\": 1727126189.7933917, \"Dimensions\": {\"Algorithm\": \"Linear Learner\", \"Host\": \"algo-1\", \"Operation\": \"training\", \"epoch\": 3, \"model\": 11}, \"Metrics\": {\"train_binary_classification_cross_entropy_objective\": {\"sum\": 0.5138871301306862, \"count\": 1, \"min\": 0.5138871301306862, \"max\": 0.5138871301306862}}}\u001b[0m\n",
      "\u001b[34m#metrics {\"StartTime\": 1727126189.7934375, \"EndTime\": 1727126189.7934527, \"Dimensions\": {\"Algorithm\": \"Linear Learner\", \"Host\": \"algo-1\", \"Operation\": \"training\", \"epoch\": 3, \"model\": 12}, \"Metrics\": {\"train_binary_classification_cross_entropy_objective\": {\"sum\": 0.5138000003219745, \"count\": 1, \"min\": 0.5138000003219745, \"max\": 0.5138000003219745}}}\u001b[0m\n",
      "\u001b[34m#metrics {\"StartTime\": 1727126189.7935038, \"EndTime\": 1727126189.7935193, \"Dimensions\": {\"Algorithm\": \"Linear Learner\", \"Host\": \"algo-1\", \"Operation\": \"training\", \"epoch\": 3, \"model\": 13}, \"Metrics\": {\"train_binary_classification_cross_entropy_objective\": {\"sum\": 0.5149594440051904, \"count\": 1, \"min\": 0.5149594440051904, \"max\": 0.5149594440051904}}}\u001b[0m\n",
      "\u001b[34m#metrics {\"StartTime\": 1727126189.793569, \"EndTime\": 1727126189.7935843, \"Dimensions\": {\"Algorithm\": \"Linear Learner\", \"Host\": \"algo-1\", \"Operation\": \"training\", \"epoch\": 3, \"model\": 14}, \"Metrics\": {\"train_binary_classification_cross_entropy_objective\": {\"sum\": 0.5137999999253393, \"count\": 1, \"min\": 0.5137999999253393, \"max\": 0.5137999999253393}}}\u001b[0m\n",
      "\u001b[34m#metrics {\"StartTime\": 1727126189.7936435, \"EndTime\": 1727126189.793661, \"Dimensions\": {\"Algorithm\": \"Linear Learner\", \"Host\": \"algo-1\", \"Operation\": \"training\", \"epoch\": 3, \"model\": 15}, \"Metrics\": {\"train_binary_classification_cross_entropy_objective\": {\"sum\": 0.5149594430719312, \"count\": 1, \"min\": 0.5149594430719312, \"max\": 0.5149594430719312}}}\u001b[0m\n",
      "\u001b[34m#metrics {\"StartTime\": 1727126189.7937114, \"EndTime\": 1727126189.793726, \"Dimensions\": {\"Algorithm\": \"Linear Learner\", \"Host\": \"algo-1\", \"Operation\": \"training\", \"epoch\": 3, \"model\": 16}, \"Metrics\": {\"train_binary_classification_cross_entropy_objective\": {\"sum\": 0.51382922878907, \"count\": 1, \"min\": 0.51382922878907, \"max\": 0.51382922878907}}}\u001b[0m\n",
      "\u001b[34m#metrics {\"StartTime\": 1727126189.7937832, \"EndTime\": 1727126189.7937977, \"Dimensions\": {\"Algorithm\": \"Linear Learner\", \"Host\": \"algo-1\", \"Operation\": \"training\", \"epoch\": 3, \"model\": 17}, \"Metrics\": {\"train_binary_classification_cross_entropy_objective\": {\"sum\": 0.5139296796839536, \"count\": 1, \"min\": 0.5139296796839536, \"max\": 0.5139296796839536}}}\u001b[0m\n",
      "\u001b[34m#metrics {\"StartTime\": 1727126189.7938554, \"EndTime\": 1727126189.7938719, \"Dimensions\": {\"Algorithm\": \"Linear Learner\", \"Host\": \"algo-1\", \"Operation\": \"training\", \"epoch\": 3, \"model\": 18}, \"Metrics\": {\"train_binary_classification_cross_entropy_objective\": {\"sum\": 0.513830762647343, \"count\": 1, \"min\": 0.513830762647343, \"max\": 0.513830762647343}}}\u001b[0m\n",
      "\u001b[34m#metrics {\"StartTime\": 1727126189.7939246, \"EndTime\": 1727126189.7939408, \"Dimensions\": {\"Algorithm\": \"Linear Learner\", \"Host\": \"algo-1\", \"Operation\": \"training\", \"epoch\": 3, \"model\": 19}, \"Metrics\": {\"train_binary_classification_cross_entropy_objective\": {\"sum\": 0.5139296789840092, \"count\": 1, \"min\": 0.5139296789840092, \"max\": 0.5139296789840092}}}\u001b[0m\n",
      "\u001b[34m#metrics {\"StartTime\": 1727126189.7939858, \"EndTime\": 1727126189.7940009, \"Dimensions\": {\"Algorithm\": \"Linear Learner\", \"Host\": \"algo-1\", \"Operation\": \"training\", \"epoch\": 3, \"model\": 20}, \"Metrics\": {\"train_binary_classification_cross_entropy_objective\": {\"sum\": 0.5138501810196343, \"count\": 1, \"min\": 0.5138501810196343, \"max\": 0.5138501810196343}}}\u001b[0m\n",
      "\u001b[34m#metrics {\"StartTime\": 1727126189.7940514, \"EndTime\": 1727126189.794067, \"Dimensions\": {\"Algorithm\": \"Linear Learner\", \"Host\": \"algo-1\", \"Operation\": \"training\", \"epoch\": 3, \"model\": 21}, \"Metrics\": {\"train_binary_classification_cross_entropy_objective\": {\"sum\": 0.5149165623282803, \"count\": 1, \"min\": 0.5149165623282803, \"max\": 0.5149165623282803}}}\u001b[0m\n",
      "\u001b[34m#metrics {\"StartTime\": 1727126189.794126, \"EndTime\": 1727126189.7941432, \"Dimensions\": {\"Algorithm\": \"Linear Learner\", \"Host\": \"algo-1\", \"Operation\": \"training\", \"epoch\": 3, \"model\": 22}, \"Metrics\": {\"train_binary_classification_cross_entropy_objective\": {\"sum\": 0.5138501804130158, \"count\": 1, \"min\": 0.5138501804130158, \"max\": 0.5138501804130158}}}\u001b[0m\n",
      "\u001b[34m#metrics {\"StartTime\": 1727126189.7941983, \"EndTime\": 1727126189.7942147, \"Dimensions\": {\"Algorithm\": \"Linear Learner\", \"Host\": \"algo-1\", \"Operation\": \"training\", \"epoch\": 3, \"model\": 23}, \"Metrics\": {\"train_binary_classification_cross_entropy_objective\": {\"sum\": 0.5149165623049489, \"count\": 1, \"min\": 0.5149165623049489, \"max\": 0.5149165623049489}}}\u001b[0m\n",
      "\u001b[34m#metrics {\"StartTime\": 1727126189.7942688, \"EndTime\": 1727126189.7942846, \"Dimensions\": {\"Algorithm\": \"Linear Learner\", \"Host\": \"algo-1\", \"Operation\": \"training\", \"epoch\": 3, \"model\": 24}, \"Metrics\": {\"train_binary_classification_cross_entropy_objective\": {\"sum\": 0.5138479617757534, \"count\": 1, \"min\": 0.5138479617757534, \"max\": 0.5138479617757534}}}\u001b[0m\n",
      "\u001b[34m#metrics {\"StartTime\": 1727126189.7943425, \"EndTime\": 1727126189.7943575, \"Dimensions\": {\"Algorithm\": \"Linear Learner\", \"Host\": \"algo-1\", \"Operation\": \"training\", \"epoch\": 3, \"model\": 25}, \"Metrics\": {\"train_binary_classification_cross_entropy_objective\": {\"sum\": 0.5139473476351584, \"count\": 1, \"min\": 0.5139473476351584, \"max\": 0.5139473476351584}}}\u001b[0m\n",
      "\u001b[34m#metrics {\"StartTime\": 1727126189.7944033, \"EndTime\": 1727126189.7944183, \"Dimensions\": {\"Algorithm\": \"Linear Learner\", \"Host\": \"algo-1\", \"Operation\": \"training\", \"epoch\": 3, \"model\": 26}, \"Metrics\": {\"train_binary_classification_cross_entropy_objective\": {\"sum\": 0.5138495156757693, \"count\": 1, \"min\": 0.5138495156757693, \"max\": 0.5138495156757693}}}\u001b[0m\n",
      "\u001b[34m#metrics {\"StartTime\": 1727126189.794492, \"EndTime\": 1727126189.794507, \"Dimensions\": {\"Algorithm\": \"Linear Learner\", \"Host\": \"algo-1\", \"Operation\": \"training\", \"epoch\": 3, \"model\": 27}, \"Metrics\": {\"train_binary_classification_cross_entropy_objective\": {\"sum\": 0.5139474224825518, \"count\": 1, \"min\": 0.5139474224825518, \"max\": 0.5139474224825518}}}\u001b[0m\n",
      "\u001b[34m#metrics {\"StartTime\": 1727126189.794553, \"EndTime\": 1727126189.794567, \"Dimensions\": {\"Algorithm\": \"Linear Learner\", \"Host\": \"algo-1\", \"Operation\": \"training\", \"epoch\": 3, \"model\": 28}, \"Metrics\": {\"train_binary_classification_cross_entropy_objective\": {\"sum\": 0.5138681765681742, \"count\": 1, \"min\": 0.5138681765681742, \"max\": 0.5138681765681742}}}\u001b[0m\n",
      "\u001b[34m#metrics {\"StartTime\": 1727126189.7946107, \"EndTime\": 1727126189.7946258, \"Dimensions\": {\"Algorithm\": \"Linear Learner\", \"Host\": \"algo-1\", \"Operation\": \"training\", \"epoch\": 3, \"model\": 29}, \"Metrics\": {\"train_binary_classification_cross_entropy_objective\": {\"sum\": 0.5149113412559579, \"count\": 1, \"min\": 0.5149113412559579, \"max\": 0.5149113412559579}}}\u001b[0m\n",
      "\u001b[34m#metrics {\"StartTime\": 1727126189.7946696, \"EndTime\": 1727126189.7946827, \"Dimensions\": {\"Algorithm\": \"Linear Learner\", \"Host\": \"algo-1\", \"Operation\": \"training\", \"epoch\": 3, \"model\": 30}, \"Metrics\": {\"train_binary_classification_cross_entropy_objective\": {\"sum\": 0.5138681639458426, \"count\": 1, \"min\": 0.5138681639458426, \"max\": 0.5138681639458426}}}\u001b[0m\n",
      "\u001b[34m#metrics {\"StartTime\": 1727126189.7947097, \"EndTime\": 1727126189.7947218, \"Dimensions\": {\"Algorithm\": \"Linear Learner\", \"Host\": \"algo-1\", \"Operation\": \"training\", \"epoch\": 3, \"model\": 31}, \"Metrics\": {\"train_binary_classification_cross_entropy_objective\": {\"sum\": 0.5149113431224764, \"count\": 1, \"min\": 0.5149113431224764, \"max\": 0.5149113431224764}}}\u001b[0m\n",
      "\u001b[34m[09/23/2024 21:16:29 INFO 140024616769344] #quality_metric: host=algo-1, epoch=3, train binary_classification_cross_entropy_objective <loss>=0.513775255069091\u001b[0m\n",
      "\u001b[34m[2024-09-23 21:16:33.894] [tensorio] [info] epoch_stats={\"data_pipeline\": \"/opt/ml/input/data/validation\", \"epoch\": 11, \"duration\": 4080, \"num_examples\": 164, \"num_bytes\": 7850832}\u001b[0m\n",
      "\u001b[34m#metrics {\"StartTime\": 1727126193.9038568, \"EndTime\": 1727126193.9039114, \"Dimensions\": {\"Algorithm\": \"Linear Learner\", \"Host\": \"algo-1\", \"Operation\": \"training\", \"epoch\": 3, \"model\": 0}, \"Metrics\": {\"validation_binary_classification_cross_entropy_objective\": {\"sum\": 0.513796291053133, \"count\": 1, \"min\": 0.513796291053133, \"max\": 0.513796291053133}}}\u001b[0m\n",
      "\u001b[34m#metrics {\"StartTime\": 1727126193.9039915, \"EndTime\": 1727126193.9040096, \"Dimensions\": {\"Algorithm\": \"Linear Learner\", \"Host\": \"algo-1\", \"Operation\": \"training\", \"epoch\": 3, \"model\": 1}, \"Metrics\": {\"validation_binary_classification_cross_entropy_objective\": {\"sum\": 0.5144748429907652, \"count\": 1, \"min\": 0.5144748429907652, \"max\": 0.5144748429907652}}}\u001b[0m\n",
      "\u001b[34m#metrics {\"StartTime\": 1727126193.9040666, \"EndTime\": 1727126193.9040797, \"Dimensions\": {\"Algorithm\": \"Linear Learner\", \"Host\": \"algo-1\", \"Operation\": \"training\", \"epoch\": 3, \"model\": 2}, \"Metrics\": {\"validation_binary_classification_cross_entropy_objective\": {\"sum\": 0.5137991202342671, \"count\": 1, \"min\": 0.5137991202342671, \"max\": 0.5137991202342671}}}\u001b[0m\n",
      "\u001b[34m#metrics {\"StartTime\": 1727126193.9041212, \"EndTime\": 1727126193.9041367, \"Dimensions\": {\"Algorithm\": \"Linear Learner\", \"Host\": \"algo-1\", \"Operation\": \"training\", \"epoch\": 3, \"model\": 3}, \"Metrics\": {\"validation_binary_classification_cross_entropy_objective\": {\"sum\": 0.5144748429907652, \"count\": 1, \"min\": 0.5144748429907652, \"max\": 0.5144748429907652}}}\u001b[0m\n",
      "\u001b[34m#metrics {\"StartTime\": 1727126193.904188, \"EndTime\": 1727126193.9042034, \"Dimensions\": {\"Algorithm\": \"Linear Learner\", \"Host\": \"algo-1\", \"Operation\": \"training\", \"epoch\": 3, \"model\": 4}, \"Metrics\": {\"validation_binary_classification_cross_entropy_objective\": {\"sum\": 0.5138062432850469, \"count\": 1, \"min\": 0.5138062432850469, \"max\": 0.5138062432850469}}}\u001b[0m\n",
      "\u001b[34m#metrics {\"StartTime\": 1727126193.904257, \"EndTime\": 1727126193.9042704, \"Dimensions\": {\"Algorithm\": \"Linear Learner\", \"Host\": \"algo-1\", \"Operation\": \"training\", \"epoch\": 3, \"model\": 5}, \"Metrics\": {\"validation_binary_classification_cross_entropy_objective\": {\"sum\": 0.5139286496362743, \"count\": 1, \"min\": 0.5139286496362743, \"max\": 0.5139286496362743}}}\u001b[0m\n",
      "\u001b[34m#metrics {\"StartTime\": 1727126193.9043224, \"EndTime\": 1727126193.904338, \"Dimensions\": {\"Algorithm\": \"Linear Learner\", \"Host\": \"algo-1\", \"Operation\": \"training\", \"epoch\": 3, \"model\": 6}, \"Metrics\": {\"validation_binary_classification_cross_entropy_objective\": {\"sum\": 0.5138062416057861, \"count\": 1, \"min\": 0.5138062416057861, \"max\": 0.5138062416057861}}}\u001b[0m\n",
      "\u001b[34m#metrics {\"StartTime\": 1727126193.9043891, \"EndTime\": 1727126193.9044034, \"Dimensions\": {\"Algorithm\": \"Linear Learner\", \"Host\": \"algo-1\", \"Operation\": \"training\", \"epoch\": 3, \"model\": 7}, \"Metrics\": {\"validation_binary_classification_cross_entropy_objective\": {\"sum\": 0.5139286544874718, \"count\": 1, \"min\": 0.5139286544874718, \"max\": 0.5139286544874718}}}\u001b[0m\n",
      "\u001b[34m#metrics {\"StartTime\": 1727126193.9044645, \"EndTime\": 1727126193.9044824, \"Dimensions\": {\"Algorithm\": \"Linear Learner\", \"Host\": \"algo-1\", \"Operation\": \"training\", \"epoch\": 3, \"model\": 8}, \"Metrics\": {\"validation_binary_classification_cross_entropy_objective\": {\"sum\": 0.5137948500608558, \"count\": 1, \"min\": 0.5137948500608558, \"max\": 0.5137948500608558}}}\u001b[0m\n",
      "\u001b[34m#metrics {\"StartTime\": 1727126193.9045417, \"EndTime\": 1727126193.9045582, \"Dimensions\": {\"Algorithm\": \"Linear Learner\", \"Host\": \"algo-1\", \"Operation\": \"training\", \"epoch\": 3, \"model\": 9}, \"Metrics\": {\"validation_binary_classification_cross_entropy_objective\": {\"sum\": 0.5144711717536753, \"count\": 1, \"min\": 0.5144711717536753, \"max\": 0.5144711717536753}}}\u001b[0m\n",
      "\u001b[34m#metrics {\"StartTime\": 1727126193.9046235, \"EndTime\": 1727126193.90464, \"Dimensions\": {\"Algorithm\": \"Linear Learner\", \"Host\": \"algo-1\", \"Operation\": \"training\", \"epoch\": 3, \"model\": 10}, \"Metrics\": {\"validation_binary_classification_cross_entropy_objective\": {\"sum\": 0.5137974499296102, \"count\": 1, \"min\": 0.5137974499296102, \"max\": 0.5137974499296102}}}\u001b[0m\n",
      "\u001b[34m#metrics {\"StartTime\": 1727126193.9046957, \"EndTime\": 1727126193.90471, \"Dimensions\": {\"Algorithm\": \"Linear Learner\", \"Host\": \"algo-1\", \"Operation\": \"training\", \"epoch\": 3, \"model\": 11}, \"Metrics\": {\"validation_binary_classification_cross_entropy_objective\": {\"sum\": 0.5144711711939217, \"count\": 1, \"min\": 0.5144711711939217, \"max\": 0.5144711711939217}}}\u001b[0m\n",
      "\u001b[34m#metrics {\"StartTime\": 1727126193.904759, \"EndTime\": 1727126193.9047742, \"Dimensions\": {\"Algorithm\": \"Linear Learner\", \"Host\": \"algo-1\", \"Operation\": \"training\", \"epoch\": 3, \"model\": 12}, \"Metrics\": {\"validation_binary_classification_cross_entropy_objective\": {\"sum\": 0.5138034372403938, \"count\": 1, \"min\": 0.5138034372403938, \"max\": 0.5138034372403938}}}\u001b[0m\n",
      "\u001b[34m#metrics {\"StartTime\": 1727126193.9048219, \"EndTime\": 1727126193.9048378, \"Dimensions\": {\"Algorithm\": \"Linear Learner\", \"Host\": \"algo-1\", \"Operation\": \"training\", \"epoch\": 3, \"model\": 13}, \"Metrics\": {\"validation_binary_classification_cross_entropy_objective\": {\"sum\": 0.5139079900648786, \"count\": 1, \"min\": 0.5139079900648786, \"max\": 0.5139079900648786}}}\u001b[0m\n",
      "\u001b[34m#metrics {\"StartTime\": 1727126193.9048991, \"EndTime\": 1727126193.904917, \"Dimensions\": {\"Algorithm\": \"Linear Learner\", \"Host\": \"algo-1\", \"Operation\": \"training\", \"epoch\": 3, \"model\": 14}, \"Metrics\": {\"validation_binary_classification_cross_entropy_objective\": {\"sum\": 0.513803434814795, \"count\": 1, \"min\": 0.513803434814795, \"max\": 0.513803434814795}}}\u001b[0m\n",
      "\u001b[34m#metrics {\"StartTime\": 1727126193.9049766, \"EndTime\": 1727126193.9049928, \"Dimensions\": {\"Algorithm\": \"Linear Learner\", \"Host\": \"algo-1\", \"Operation\": \"training\", \"epoch\": 3, \"model\": 15}, \"Metrics\": {\"validation_binary_classification_cross_entropy_objective\": {\"sum\": 0.5139079837210049, \"count\": 1, \"min\": 0.5139079837210049, \"max\": 0.5139079837210049}}}\u001b[0m\n",
      "\u001b[34m#metrics {\"StartTime\": 1727126193.905046, \"EndTime\": 1727126193.9050624, \"Dimensions\": {\"Algorithm\": \"Linear Learner\", \"Host\": \"algo-1\", \"Operation\": \"training\", \"epoch\": 3, \"model\": 16}, \"Metrics\": {\"validation_binary_classification_cross_entropy_objective\": {\"sum\": 0.5138242326453226, \"count\": 1, \"min\": 0.5138242326453226, \"max\": 0.5138242326453226}}}\u001b[0m\n",
      "\u001b[34m#metrics {\"StartTime\": 1727126193.9051106, \"EndTime\": 1727126193.9051254, \"Dimensions\": {\"Algorithm\": \"Linear Learner\", \"Host\": \"algo-1\", \"Operation\": \"training\", \"epoch\": 3, \"model\": 17}, \"Metrics\": {\"validation_binary_classification_cross_entropy_objective\": {\"sum\": 0.5144986313980401, \"count\": 1, \"min\": 0.5144986313980401, \"max\": 0.5144986313980401}}}\u001b[0m\n",
      "\u001b[34m#metrics {\"StartTime\": 1727126193.9051855, \"EndTime\": 1727126193.9052012, \"Dimensions\": {\"Algorithm\": \"Linear Learner\", \"Host\": \"algo-1\", \"Operation\": \"training\", \"epoch\": 3, \"model\": 18}, \"Metrics\": {\"validation_binary_classification_cross_entropy_objective\": {\"sum\": 0.5138247388491357, \"count\": 1, \"min\": 0.5138247388491357, \"max\": 0.5138247388491357}}}\u001b[0m\n",
      "\u001b[34m#metrics {\"StartTime\": 1727126193.905252, \"EndTime\": 1727126193.905267, \"Dimensions\": {\"Algorithm\": \"Linear Learner\", \"Host\": \"algo-1\", \"Operation\": \"training\", \"epoch\": 3, \"model\": 19}, \"Metrics\": {\"validation_binary_classification_cross_entropy_objective\": {\"sum\": 0.5144986377419138, \"count\": 1, \"min\": 0.5144986377419138, \"max\": 0.5144986377419138}}}\u001b[0m\n",
      "\u001b[34m#metrics {\"StartTime\": 1727126193.9053152, \"EndTime\": 1727126193.9053307, \"Dimensions\": {\"Algorithm\": \"Linear Learner\", \"Host\": \"algo-1\", \"Operation\": \"training\", \"epoch\": 3, \"model\": 20}, \"Metrics\": {\"validation_binary_classification_cross_entropy_objective\": {\"sum\": 0.5138270355180389, \"count\": 1, \"min\": 0.5138270355180389, \"max\": 0.5138270355180389}}}\u001b[0m\n",
      "\u001b[34m#metrics {\"StartTime\": 1727126193.905389, \"EndTime\": 1727126193.905406, \"Dimensions\": {\"Algorithm\": \"Linear Learner\", \"Host\": \"algo-1\", \"Operation\": \"training\", \"epoch\": 3, \"model\": 21}, \"Metrics\": {\"validation_binary_classification_cross_entropy_objective\": {\"sum\": 0.5139020169345189, \"count\": 1, \"min\": 0.5139020169345189, \"max\": 0.5139020169345189}}}\u001b[0m\n",
      "\u001b[34m#metrics {\"StartTime\": 1727126193.9054585, \"EndTime\": 1727126193.905474, \"Dimensions\": {\"Algorithm\": \"Linear Learner\", \"Host\": \"algo-1\", \"Operation\": \"training\", \"epoch\": 3, \"model\": 22}, \"Metrics\": {\"validation_binary_classification_cross_entropy_objective\": {\"sum\": 0.5138270302936723, \"count\": 1, \"min\": 0.5138270302936723, \"max\": 0.5138270302936723}}}\u001b[0m\n",
      "\u001b[34m#metrics {\"StartTime\": 1727126193.905522, \"EndTime\": 1727126193.9055367, \"Dimensions\": {\"Algorithm\": \"Linear Learner\", \"Host\": \"algo-1\", \"Operation\": \"training\", \"epoch\": 3, \"model\": 23}, \"Metrics\": {\"validation_binary_classification_cross_entropy_objective\": {\"sum\": 0.5139020169345189, \"count\": 1, \"min\": 0.5139020169345189, \"max\": 0.5139020169345189}}}\u001b[0m\n",
      "\u001b[34m#metrics {\"StartTime\": 1727126193.9055867, \"EndTime\": 1727126193.9055989, \"Dimensions\": {\"Algorithm\": \"Linear Learner\", \"Host\": \"algo-1\", \"Operation\": \"training\", \"epoch\": 3, \"model\": 24}, \"Metrics\": {\"validation_binary_classification_cross_entropy_objective\": {\"sum\": 0.5138403123129975, \"count\": 1, \"min\": 0.5138403123129975, \"max\": 0.5138403123129975}}}\u001b[0m\n",
      "\u001b[34m#metrics {\"StartTime\": 1727126193.905633, \"EndTime\": 1727126193.9056463, \"Dimensions\": {\"Algorithm\": \"Linear Learner\", \"Host\": \"algo-1\", \"Operation\": \"training\", \"epoch\": 3, \"model\": 25}, \"Metrics\": {\"validation_binary_classification_cross_entropy_objective\": {\"sum\": 0.5145128696630498, \"count\": 1, \"min\": 0.5145128696630498, \"max\": 0.5145128696630498}}}\u001b[0m\n",
      "\u001b[34m#metrics {\"StartTime\": 1727126193.9056818, \"EndTime\": 1727126193.9056952, \"Dimensions\": {\"Algorithm\": \"Linear Learner\", \"Host\": \"algo-1\", \"Operation\": \"training\", \"epoch\": 3, \"model\": 26}, \"Metrics\": {\"validation_binary_classification_cross_entropy_objective\": {\"sum\": 0.5138420981134746, \"count\": 1, \"min\": 0.5138420981134746, \"max\": 0.5138420981134746}}}\u001b[0m\n",
      "\u001b[34m#metrics {\"StartTime\": 1727126193.905747, \"EndTime\": 1727126193.9057622, \"Dimensions\": {\"Algorithm\": \"Linear Learner\", \"Host\": \"algo-1\", \"Operation\": \"training\", \"epoch\": 3, \"model\": 27}, \"Metrics\": {\"validation_binary_classification_cross_entropy_objective\": {\"sum\": 0.5145127024833164, \"count\": 1, \"min\": 0.5145127024833164, \"max\": 0.5145127024833164}}}\u001b[0m\n",
      "\u001b[34m#metrics {\"StartTime\": 1727126193.9058154, \"EndTime\": 1727126193.9058323, \"Dimensions\": {\"Algorithm\": \"Linear Learner\", \"Host\": \"algo-1\", \"Operation\": \"training\", \"epoch\": 3, \"model\": 28}, \"Metrics\": {\"validation_binary_classification_cross_entropy_objective\": {\"sum\": 0.5138442580159219, \"count\": 1, \"min\": 0.5138442580159219, \"max\": 0.5138442580159219}}}\u001b[0m\n",
      "\u001b[34m#metrics {\"StartTime\": 1727126193.9058747, \"EndTime\": 1727126193.9058895, \"Dimensions\": {\"Algorithm\": \"Linear Learner\", \"Host\": \"algo-1\", \"Operation\": \"training\", \"epoch\": 3, \"model\": 29}, \"Metrics\": {\"validation_binary_classification_cross_entropy_objective\": {\"sum\": 0.5138661663975351, \"count\": 1, \"min\": 0.5138661663975351, \"max\": 0.5138661663975351}}}\u001b[0m\n",
      "\u001b[34m#metrics {\"StartTime\": 1727126193.9059322, \"EndTime\": 1727126193.9059453, \"Dimensions\": {\"Algorithm\": \"Linear Learner\", \"Host\": \"algo-1\", \"Operation\": \"training\", \"epoch\": 3, \"model\": 30}, \"Metrics\": {\"validation_binary_classification_cross_entropy_objective\": {\"sum\": 0.51384466626286, \"count\": 1, \"min\": 0.51384466626286, \"max\": 0.51384466626286}}}\u001b[0m\n",
      "\u001b[34m#metrics {\"StartTime\": 1727126193.9059849, \"EndTime\": 1727126193.9059992, \"Dimensions\": {\"Algorithm\": \"Linear Learner\", \"Host\": \"algo-1\", \"Operation\": \"training\", \"epoch\": 3, \"model\": 31}, \"Metrics\": {\"validation_binary_classification_cross_entropy_objective\": {\"sum\": 0.5138661628524293, \"count\": 1, \"min\": 0.5138661628524293, \"max\": 0.5138661628524293}}}\u001b[0m\n",
      "\u001b[34m[09/23/2024 21:16:33 INFO 140024616769344] #quality_metric: host=algo-1, epoch=3, validation binary_classification_cross_entropy_objective <loss>=0.513796291053133\u001b[0m\n",
      "\u001b[34m[09/23/2024 21:16:33 INFO 140024616769344] #early_stopping_criteria_metric: host=algo-1, epoch=3, criteria=binary_classification_cross_entropy_objective, value=0.5137948500608558\u001b[0m\n",
      "\u001b[34m[09/23/2024 21:16:33 INFO 140024616769344] Saving model for epoch: 3\u001b[0m\n",
      "\u001b[34m[09/23/2024 21:16:33 INFO 140024616769344] Saved checkpoint to \"/tmp/tmpsumwa07s/mx-mod-0000.params\"\u001b[0m\n",
      "\u001b[34m[09/23/2024 21:16:33 INFO 140024616769344] #progress_metric: host=algo-1, completed 26.666666666666668 % of epochs\u001b[0m\n",
      "\u001b[34m#metrics {\"StartTime\": 1727126145.2889004, \"EndTime\": 1727126193.9126184, \"Dimensions\": {\"Algorithm\": \"Linear Learner\", \"Host\": \"algo-1\", \"Operation\": \"training\", \"epoch\": 3, \"Meta\": \"training_data_iter\"}, \"Metrics\": {\"Total Records Seen\": {\"sum\": 5245888.0, \"count\": 1, \"min\": 5245888, \"max\": 5245888}, \"Total Batches Seen\": {\"sum\": 5248.0, \"count\": 1, \"min\": 5248, \"max\": 5248}, \"Max Records Seen Between Resets\": {\"sum\": 1308472.0, \"count\": 1, \"min\": 1308472, \"max\": 1308472}, \"Max Batches Seen Between Resets\": {\"sum\": 1309.0, \"count\": 1, \"min\": 1309, \"max\": 1309}, \"Reset Count\": {\"sum\": 6.0, \"count\": 1, \"min\": 6, \"max\": 6}, \"Number of Records Since Last Reset\": {\"sum\": 1308472.0, \"count\": 1, \"min\": 1308472, \"max\": 1308472}, \"Number of Batches Since Last Reset\": {\"sum\": 1309.0, \"count\": 1, \"min\": 1309, \"max\": 1309}}}\u001b[0m\n",
      "\u001b[34m[09/23/2024 21:16:33 INFO 140024616769344] #throughput_metric: host=algo-1, train throughput=26910.074898456456 records/second\u001b[0m\n",
      "\u001b[34m[2024-09-23 21:17:19.238] [tensorio] [info] epoch_stats={\"data_pipeline\": \"/opt/ml/input/data/train\", \"epoch\": 11, \"duration\": 45322, \"num_examples\": 1309, \"num_bytes\": 62806656}\u001b[0m\n",
      "\u001b[34m#metrics {\"StartTime\": 1727126239.2389486, \"EndTime\": 1727126239.239041, \"Dimensions\": {\"Algorithm\": \"Linear Learner\", \"Host\": \"algo-1\", \"Operation\": \"training\", \"epoch\": 4, \"model\": 0}, \"Metrics\": {\"train_binary_classification_cross_entropy_objective\": {\"sum\": 0.5137730161101082, \"count\": 1, \"min\": 0.5137730161101082, \"max\": 0.5137730161101082}}}\u001b[0m\n",
      "\u001b[34m#metrics {\"StartTime\": 1727126239.2391467, \"EndTime\": 1727126239.2391691, \"Dimensions\": {\"Algorithm\": \"Linear Learner\", \"Host\": \"algo-1\", \"Operation\": \"training\", \"epoch\": 4, \"model\": 1}, \"Metrics\": {\"train_binary_classification_cross_entropy_objective\": {\"sum\": 0.5138726005204227, \"count\": 1, \"min\": 0.5138726005204227, \"max\": 0.5138726005204227}}}\u001b[0m\n",
      "\u001b[34m#metrics {\"StartTime\": 1727126239.2392206, \"EndTime\": 1727126239.2392368, \"Dimensions\": {\"Algorithm\": \"Linear Learner\", \"Host\": \"algo-1\", \"Operation\": \"training\", \"epoch\": 4, \"model\": 2}, \"Metrics\": {\"train_binary_classification_cross_entropy_objective\": {\"sum\": 0.5137771522451978, \"count\": 1, \"min\": 0.5137771522451978, \"max\": 0.5137771522451978}}}\u001b[0m\n",
      "\u001b[34m#metrics {\"StartTime\": 1727126239.2392943, \"EndTime\": 1727126239.2393103, \"Dimensions\": {\"Algorithm\": \"Linear Learner\", \"Host\": \"algo-1\", \"Operation\": \"training\", \"epoch\": 4, \"model\": 3}, \"Metrics\": {\"train_binary_classification_cross_entropy_objective\": {\"sum\": 0.5138726002404449, \"count\": 1, \"min\": 0.5138726002404449, \"max\": 0.5138726002404449}}}\u001b[0m\n",
      "\u001b[34m#metrics {\"StartTime\": 1727126239.239362, \"EndTime\": 1727126239.2393775, \"Dimensions\": {\"Algorithm\": \"Linear Learner\", \"Host\": \"algo-1\", \"Operation\": \"training\", \"epoch\": 4, \"model\": 4}, \"Metrics\": {\"train_binary_classification_cross_entropy_objective\": {\"sum\": 0.5137836759841405, \"count\": 1, \"min\": 0.5137836759841405, \"max\": 0.5137836759841405}}}\u001b[0m\n",
      "\u001b[34m#metrics {\"StartTime\": 1727126239.2394342, \"EndTime\": 1727126239.2394497, \"Dimensions\": {\"Algorithm\": \"Linear Learner\", \"Host\": \"algo-1\", \"Operation\": \"training\", \"epoch\": 4, \"model\": 5}, \"Metrics\": {\"train_binary_classification_cross_entropy_objective\": {\"sum\": 0.514831457248886, \"count\": 1, \"min\": 0.514831457248886, \"max\": 0.514831457248886}}}\u001b[0m\n",
      "\u001b[34m#metrics {\"StartTime\": 1727126239.2394996, \"EndTime\": 1727126239.2395144, \"Dimensions\": {\"Algorithm\": \"Linear Learner\", \"Host\": \"algo-1\", \"Operation\": \"training\", \"epoch\": 4, \"model\": 6}, \"Metrics\": {\"train_binary_classification_cross_entropy_objective\": {\"sum\": 0.5137836755641739, \"count\": 1, \"min\": 0.5137836755641739, \"max\": 0.5137836755641739}}}\u001b[0m\n",
      "\u001b[34m#metrics {\"StartTime\": 1727126239.2395627, \"EndTime\": 1727126239.2395785, \"Dimensions\": {\"Algorithm\": \"Linear Learner\", \"Host\": \"algo-1\", \"Operation\": \"training\", \"epoch\": 4, \"model\": 7}, \"Metrics\": {\"train_binary_classification_cross_entropy_objective\": {\"sum\": 0.5148314564322842, \"count\": 1, \"min\": 0.5148314564322842, \"max\": 0.5148314564322842}}}\u001b[0m\n",
      "\u001b[34m#metrics {\"StartTime\": 1727126239.2396252, \"EndTime\": 1727126239.2396412, \"Dimensions\": {\"Algorithm\": \"Linear Learner\", \"Host\": \"algo-1\", \"Operation\": \"training\", \"epoch\": 4, \"model\": 8}, \"Metrics\": {\"train_binary_classification_cross_entropy_objective\": {\"sum\": 0.5137732505681682, \"count\": 1, \"min\": 0.5137732505681682, \"max\": 0.5137732505681682}}}\u001b[0m\n",
      "\u001b[34m#metrics {\"StartTime\": 1727126239.239691, \"EndTime\": 1727126239.239706, \"Dimensions\": {\"Algorithm\": \"Linear Learner\", \"Host\": \"algo-1\", \"Operation\": \"training\", \"epoch\": 4, \"model\": 9}, \"Metrics\": {\"train_binary_classification_cross_entropy_objective\": {\"sum\": 0.5138723081769564, \"count\": 1, \"min\": 0.5138723081769564, \"max\": 0.5138723081769564}}}\u001b[0m\n",
      "\u001b[34m#metrics {\"StartTime\": 1727126239.2397537, \"EndTime\": 1727126239.2397695, \"Dimensions\": {\"Algorithm\": \"Linear Learner\", \"Host\": \"algo-1\", \"Operation\": \"training\", \"epoch\": 4, \"model\": 10}, \"Metrics\": {\"train_binary_classification_cross_entropy_objective\": {\"sum\": 0.5137773894097097, \"count\": 1, \"min\": 0.5137773894097097, \"max\": 0.5137773894097097}}}\u001b[0m\n",
      "\u001b[34m#metrics {\"StartTime\": 1727126239.2398198, \"EndTime\": 1727126239.2398357, \"Dimensions\": {\"Algorithm\": \"Linear Learner\", \"Host\": \"algo-1\", \"Operation\": \"training\", \"epoch\": 4, \"model\": 11}, \"Metrics\": {\"train_binary_classification_cross_entropy_objective\": {\"sum\": 0.5138723075470064, \"count\": 1, \"min\": 0.5138723075470064, \"max\": 0.5138723075470064}}}\u001b[0m\n",
      "\u001b[34m#metrics {\"StartTime\": 1727126239.2398858, \"EndTime\": 1727126239.2399006, \"Dimensions\": {\"Algorithm\": \"Linear Learner\", \"Host\": \"algo-1\", \"Operation\": \"training\", \"epoch\": 4, \"model\": 12}, \"Metrics\": {\"train_binary_classification_cross_entropy_objective\": {\"sum\": 0.5137839627047197, \"count\": 1, \"min\": 0.5137839627047197, \"max\": 0.5137839627047197}}}\u001b[0m\n",
      "\u001b[34m#metrics {\"StartTime\": 1727126239.2399511, \"EndTime\": 1727126239.2399662, \"Dimensions\": {\"Algorithm\": \"Linear Learner\", \"Host\": \"algo-1\", \"Operation\": \"training\", \"epoch\": 4, \"model\": 13}, \"Metrics\": {\"train_binary_classification_cross_entropy_objective\": {\"sum\": 0.5148194098283027, \"count\": 1, \"min\": 0.5148194098283027, \"max\": 0.5148194098283027}}}\u001b[0m\n",
      "\u001b[34m#metrics {\"StartTime\": 1727126239.2400155, \"EndTime\": 1727126239.2400308, \"Dimensions\": {\"Algorithm\": \"Linear Learner\", \"Host\": \"algo-1\", \"Operation\": \"training\", \"epoch\": 4, \"model\": 14}, \"Metrics\": {\"train_binary_classification_cross_entropy_objective\": {\"sum\": 0.5137839627047197, \"count\": 1, \"min\": 0.5137839627047197, \"max\": 0.5137839627047197}}}\u001b[0m\n",
      "\u001b[34m#metrics {\"StartTime\": 1727126239.240081, \"EndTime\": 1727126239.2400963, \"Dimensions\": {\"Algorithm\": \"Linear Learner\", \"Host\": \"algo-1\", \"Operation\": \"training\", \"epoch\": 4, \"model\": 15}, \"Metrics\": {\"train_binary_classification_cross_entropy_objective\": {\"sum\": 0.5148194093383416, \"count\": 1, \"min\": 0.5148194093383416, \"max\": 0.5148194093383416}}}\u001b[0m\n",
      "\u001b[34m#metrics {\"StartTime\": 1727126239.2401543, \"EndTime\": 1727126239.24017, \"Dimensions\": {\"Algorithm\": \"Linear Learner\", \"Host\": \"algo-1\", \"Operation\": \"training\", \"epoch\": 4, \"model\": 16}, \"Metrics\": {\"train_binary_classification_cross_entropy_objective\": {\"sum\": 0.513826856304017, \"count\": 1, \"min\": 0.513826856304017, \"max\": 0.513826856304017}}}\u001b[0m\n",
      "\u001b[34m#metrics {\"StartTime\": 1727126239.2402186, \"EndTime\": 1727126239.2402332, \"Dimensions\": {\"Algorithm\": \"Linear Learner\", \"Host\": \"algo-1\", \"Operation\": \"training\", \"epoch\": 4, \"model\": 17}, \"Metrics\": {\"train_binary_classification_cross_entropy_objective\": {\"sum\": 0.5139159414542195, \"count\": 1, \"min\": 0.5139159414542195, \"max\": 0.5139159414542195}}}\u001b[0m\n",
      "\u001b[34m#metrics {\"StartTime\": 1727126239.240282, \"EndTime\": 1727126239.2402973, \"Dimensions\": {\"Algorithm\": \"Linear Learner\", \"Host\": \"algo-1\", \"Operation\": \"training\", \"epoch\": 4, \"model\": 18}, \"Metrics\": {\"train_binary_classification_cross_entropy_objective\": {\"sum\": 0.5138308361648419, \"count\": 1, \"min\": 0.5138308361648419, \"max\": 0.5138308361648419}}}\u001b[0m\n",
      "\u001b[34m#metrics {\"StartTime\": 1727126239.2403467, \"EndTime\": 1727126239.2403624, \"Dimensions\": {\"Algorithm\": \"Linear Learner\", \"Host\": \"algo-1\", \"Operation\": \"training\", \"epoch\": 4, \"model\": 19}, \"Metrics\": {\"train_binary_classification_cross_entropy_objective\": {\"sum\": 0.5139159409175954, \"count\": 1, \"min\": 0.5139159409175954, \"max\": 0.5139159409175954}}}\u001b[0m\n",
      "\u001b[34m#metrics {\"StartTime\": 1727126239.2404118, \"EndTime\": 1727126239.2404273, \"Dimensions\": {\"Algorithm\": \"Linear Learner\", \"Host\": \"algo-1\", \"Operation\": \"training\", \"epoch\": 4, \"model\": 20}, \"Metrics\": {\"train_binary_classification_cross_entropy_objective\": {\"sum\": 0.5138368581136068, \"count\": 1, \"min\": 0.5138368581136068, \"max\": 0.5138368581136068}}}\u001b[0m\n",
      "\u001b[34m#metrics {\"StartTime\": 1727126239.2404757, \"EndTime\": 1727126239.2404912, \"Dimensions\": {\"Algorithm\": \"Linear Learner\", \"Host\": \"algo-1\", \"Operation\": \"training\", \"epoch\": 4, \"model\": 21}, \"Metrics\": {\"train_binary_classification_cross_entropy_objective\": {\"sum\": 0.5147819219466743, \"count\": 1, \"min\": 0.5147819219466743, \"max\": 0.5147819219466743}}}\u001b[0m\n",
      "\u001b[34m#metrics {\"StartTime\": 1727126239.2405407, \"EndTime\": 1727126239.240556, \"Dimensions\": {\"Algorithm\": \"Linear Learner\", \"Host\": \"algo-1\", \"Operation\": \"training\", \"epoch\": 4, \"model\": 22}, \"Metrics\": {\"train_binary_classification_cross_entropy_objective\": {\"sum\": 0.5138368576236456, \"count\": 1, \"min\": 0.5138368576236456, \"max\": 0.5138368576236456}}}\u001b[0m\n",
      "\u001b[34m#metrics {\"StartTime\": 1727126239.2406118, \"EndTime\": 1727126239.2406297, \"Dimensions\": {\"Algorithm\": \"Linear Learner\", \"Host\": \"algo-1\", \"Operation\": \"training\", \"epoch\": 4, \"model\": 23}, \"Metrics\": {\"train_binary_classification_cross_entropy_objective\": {\"sum\": 0.5147819205467854, \"count\": 1, \"min\": 0.5147819205467854, \"max\": 0.5147819205467854}}}\u001b[0m\n",
      "\u001b[34m#metrics {\"StartTime\": 1727126239.240674, \"EndTime\": 1727126239.2406874, \"Dimensions\": {\"Algorithm\": \"Linear Learner\", \"Host\": \"algo-1\", \"Operation\": \"training\", \"epoch\": 4, \"model\": 24}, \"Metrics\": {\"train_binary_classification_cross_entropy_objective\": {\"sum\": 0.5138459958884329, \"count\": 1, \"min\": 0.5138459958884329, \"max\": 0.5138459958884329}}}\u001b[0m\n",
      "\u001b[34m#metrics {\"StartTime\": 1727126239.240733, \"EndTime\": 1727126239.2407472, \"Dimensions\": {\"Algorithm\": \"Linear Learner\", \"Host\": \"algo-1\", \"Operation\": \"training\", \"epoch\": 4, \"model\": 25}, \"Metrics\": {\"train_binary_classification_cross_entropy_objective\": {\"sum\": 0.5139337519374463, \"count\": 1, \"min\": 0.5139337519374463, \"max\": 0.5139337519374463}}}\u001b[0m\n",
      "\u001b[34m#metrics {\"StartTime\": 1727126239.240795, \"EndTime\": 1727126239.2408104, \"Dimensions\": {\"Algorithm\": \"Linear Learner\", \"Host\": \"algo-1\", \"Operation\": \"training\", \"epoch\": 4, \"model\": 26}, \"Metrics\": {\"train_binary_classification_cross_entropy_objective\": {\"sum\": 0.5138495807939348, \"count\": 1, \"min\": 0.5138495807939348, \"max\": 0.5138495807939348}}}\u001b[0m\n",
      "\u001b[34m#metrics {\"StartTime\": 1727126239.2408607, \"EndTime\": 1727126239.240876, \"Dimensions\": {\"Algorithm\": \"Linear Learner\", \"Host\": \"algo-1\", \"Operation\": \"training\", \"epoch\": 4, \"model\": 27}, \"Metrics\": {\"train_binary_classification_cross_entropy_objective\": {\"sum\": 0.5139337543639203, \"count\": 1, \"min\": 0.5139337543639203, \"max\": 0.5139337543639203}}}\u001b[0m\n",
      "\u001b[34m#metrics {\"StartTime\": 1727126239.240918, \"EndTime\": 1727126239.240931, \"Dimensions\": {\"Algorithm\": \"Linear Learner\", \"Host\": \"algo-1\", \"Operation\": \"training\", \"epoch\": 4, \"model\": 28}, \"Metrics\": {\"train_binary_classification_cross_entropy_objective\": {\"sum\": 0.5138551506952408, \"count\": 1, \"min\": 0.5138551506952408, \"max\": 0.5138551506952408}}}\u001b[0m\n",
      "\u001b[34m#metrics {\"StartTime\": 1727126239.2409742, \"EndTime\": 1727126239.2409887, \"Dimensions\": {\"Algorithm\": \"Linear Learner\", \"Host\": \"algo-1\", \"Operation\": \"training\", \"epoch\": 4, \"model\": 29}, \"Metrics\": {\"train_binary_classification_cross_entropy_objective\": {\"sum\": 0.5147812187358145, \"count\": 1, \"min\": 0.5147812187358145, \"max\": 0.5147812187358145}}}\u001b[0m\n",
      "\u001b[34m#metrics {\"StartTime\": 1727126239.2410324, \"EndTime\": 1727126239.241048, \"Dimensions\": {\"Algorithm\": \"Linear Learner\", \"Host\": \"algo-1\", \"Operation\": \"training\", \"epoch\": 4, \"model\": 30}, \"Metrics\": {\"train_binary_classification_cross_entropy_objective\": {\"sum\": 0.5138551228841146, \"count\": 1, \"min\": 0.5138551228841146, \"max\": 0.5138551228841146}}}\u001b[0m\n",
      "\u001b[34m#metrics {\"StartTime\": 1727126239.2410965, \"EndTime\": 1727126239.2411106, \"Dimensions\": {\"Algorithm\": \"Linear Learner\", \"Host\": \"algo-1\", \"Operation\": \"training\", \"epoch\": 4, \"model\": 31}, \"Metrics\": {\"train_binary_classification_cross_entropy_objective\": {\"sum\": 0.5147812197157366, \"count\": 1, \"min\": 0.5147812197157366, \"max\": 0.5147812197157366}}}\u001b[0m\n",
      "\u001b[34m[09/23/2024 21:17:19 INFO 140024616769344] #quality_metric: host=algo-1, epoch=4, train binary_classification_cross_entropy_objective <loss>=0.5137730161101082\u001b[0m\n",
      "\u001b[34m[2024-09-23 21:17:23.110] [tensorio] [info] epoch_stats={\"data_pipeline\": \"/opt/ml/input/data/validation\", \"epoch\": 14, \"duration\": 3850, \"num_examples\": 164, \"num_bytes\": 7850832}\u001b[0m\n",
      "\u001b[34m#metrics {\"StartTime\": 1727126243.1185315, \"EndTime\": 1727126243.1185887, \"Dimensions\": {\"Algorithm\": \"Linear Learner\", \"Host\": \"algo-1\", \"Operation\": \"training\", \"epoch\": 4, \"model\": 0}, \"Metrics\": {\"validation_binary_classification_cross_entropy_objective\": {\"sum\": 0.5137957527567819, \"count\": 1, \"min\": 0.5137957527567819, \"max\": 0.5137957527567819}}}\u001b[0m\n",
      "\u001b[34m#metrics {\"StartTime\": 1727126243.1186697, \"EndTime\": 1727126243.1186852, \"Dimensions\": {\"Algorithm\": \"Linear Learner\", \"Host\": \"algo-1\", \"Operation\": \"training\", \"epoch\": 4, \"model\": 1}, \"Metrics\": {\"validation_binary_classification_cross_entropy_objective\": {\"sum\": 0.5143423700313109, \"count\": 1, \"min\": 0.5143423700313109, \"max\": 0.5143423700313109}}}\u001b[0m\n",
      "\u001b[34m#metrics {\"StartTime\": 1727126243.1187427, \"EndTime\": 1727126243.118759, \"Dimensions\": {\"Algorithm\": \"Linear Learner\", \"Host\": \"algo-1\", \"Operation\": \"training\", \"epoch\": 4, \"model\": 2}, \"Metrics\": {\"validation_binary_classification_cross_entropy_objective\": {\"sum\": 0.5137991586706789, \"count\": 1, \"min\": 0.5137991586706789, \"max\": 0.5137991586706789}}}\u001b[0m\n",
      "\u001b[34m#metrics {\"StartTime\": 1727126243.118816, \"EndTime\": 1727126243.1188345, \"Dimensions\": {\"Algorithm\": \"Linear Learner\", \"Host\": \"algo-1\", \"Operation\": \"training\", \"epoch\": 4, \"model\": 3}, \"Metrics\": {\"validation_binary_classification_cross_entropy_objective\": {\"sum\": 0.5143423700313109, \"count\": 1, \"min\": 0.5143423700313109, \"max\": 0.5143423700313109}}}\u001b[0m\n",
      "\u001b[34m#metrics {\"StartTime\": 1727126243.1188848, \"EndTime\": 1727126243.1189008, \"Dimensions\": {\"Algorithm\": \"Linear Learner\", \"Host\": \"algo-1\", \"Operation\": \"training\", \"epoch\": 4, \"model\": 4}, \"Metrics\": {\"validation_binary_classification_cross_entropy_objective\": {\"sum\": 0.5138010114550001, \"count\": 1, \"min\": 0.5138010114550001, \"max\": 0.5138010114550001}}}\u001b[0m\n",
      "\u001b[34m#metrics {\"StartTime\": 1727126243.1189528, \"EndTime\": 1727126243.1189687, \"Dimensions\": {\"Algorithm\": \"Linear Learner\", \"Host\": \"algo-1\", \"Operation\": \"training\", \"epoch\": 4, \"model\": 5}, \"Metrics\": {\"validation_binary_classification_cross_entropy_objective\": {\"sum\": 0.513952665303499, \"count\": 1, \"min\": 0.513952665303499, \"max\": 0.513952665303499}}}\u001b[0m\n",
      "\u001b[34m#metrics {\"StartTime\": 1727126243.1190214, \"EndTime\": 1727126243.1190379, \"Dimensions\": {\"Algorithm\": \"Linear Learner\", \"Host\": \"algo-1\", \"Operation\": \"training\", \"epoch\": 4, \"model\": 6}, \"Metrics\": {\"validation_binary_classification_cross_entropy_objective\": {\"sum\": 0.513801010708662, \"count\": 1, \"min\": 0.513801010708662, \"max\": 0.513801010708662}}}\u001b[0m\n",
      "\u001b[34m#metrics {\"StartTime\": 1727126243.1190884, \"EndTime\": 1727126243.1191053, \"Dimensions\": {\"Algorithm\": \"Linear Learner\", \"Host\": \"algo-1\", \"Operation\": \"training\", \"epoch\": 4, \"model\": 7}, \"Metrics\": {\"validation_binary_classification_cross_entropy_objective\": {\"sum\": 0.5139526750058943, \"count\": 1, \"min\": 0.5139526750058943, \"max\": 0.5139526750058943}}}\u001b[0m\n",
      "\u001b[34m#metrics {\"StartTime\": 1727126243.1191535, \"EndTime\": 1727126243.1191692, \"Dimensions\": {\"Algorithm\": \"Linear Learner\", \"Host\": \"algo-1\", \"Operation\": \"training\", \"epoch\": 4, \"model\": 8}, \"Metrics\": {\"validation_binary_classification_cross_entropy_objective\": {\"sum\": 0.5137943485216558, \"count\": 1, \"min\": 0.5137943485216558, \"max\": 0.5137943485216558}}}\u001b[0m\n",
      "\u001b[34m#metrics {\"StartTime\": 1727126243.119215, \"EndTime\": 1727126243.1192253, \"Dimensions\": {\"Algorithm\": \"Linear Learner\", \"Host\": \"algo-1\", \"Operation\": \"training\", \"epoch\": 4, \"model\": 9}, \"Metrics\": {\"validation_binary_classification_cross_entropy_objective\": {\"sum\": 0.5143384407478245, \"count\": 1, \"min\": 0.5143384407478245, \"max\": 0.5143384407478245}}}\u001b[0m\n",
      "\u001b[34m#metrics {\"StartTime\": 1727126243.119281, \"EndTime\": 1727126243.1192975, \"Dimensions\": {\"Algorithm\": \"Linear Learner\", \"Host\": \"algo-1\", \"Operation\": \"training\", \"epoch\": 4, \"model\": 10}, \"Metrics\": {\"validation_binary_classification_cross_entropy_objective\": {\"sum\": 0.5137974818355637, \"count\": 1, \"min\": 0.5137974818355637, \"max\": 0.5137974818355637}}}\u001b[0m\n",
      "\u001b[34m#metrics {\"StartTime\": 1727126243.1193435, \"EndTime\": 1727126243.1193593, \"Dimensions\": {\"Algorithm\": \"Linear Learner\", \"Host\": \"algo-1\", \"Operation\": \"training\", \"epoch\": 4, \"model\": 11}, \"Metrics\": {\"validation_binary_classification_cross_entropy_objective\": {\"sum\": 0.5143384407478245, \"count\": 1, \"min\": 0.5143384407478245, \"max\": 0.5143384407478245}}}\u001b[0m\n",
      "\u001b[34m#metrics {\"StartTime\": 1727126243.1194131, \"EndTime\": 1727126243.1194286, \"Dimensions\": {\"Algorithm\": \"Linear Learner\", \"Host\": \"algo-1\", \"Operation\": \"training\", \"epoch\": 4, \"model\": 12}, \"Metrics\": {\"validation_binary_classification_cross_entropy_objective\": {\"sum\": 0.5137991846059278, \"count\": 1, \"min\": 0.5137991846059278, \"max\": 0.5137991846059278}}}\u001b[0m\n",
      "\u001b[34m#metrics {\"StartTime\": 1727126243.119479, \"EndTime\": 1727126243.119493, \"Dimensions\": {\"Algorithm\": \"Linear Learner\", \"Host\": \"algo-1\", \"Operation\": \"training\", \"epoch\": 4, \"model\": 13}, \"Metrics\": {\"validation_binary_classification_cross_entropy_objective\": {\"sum\": 0.5139351112449173, \"count\": 1, \"min\": 0.5139351112449173, \"max\": 0.5139351112449173}}}\u001b[0m\n",
      "\u001b[34m#metrics {\"StartTime\": 1727126243.11954, \"EndTime\": 1727126243.1195548, \"Dimensions\": {\"Algorithm\": \"Linear Learner\", \"Host\": \"algo-1\", \"Operation\": \"training\", \"epoch\": 4, \"model\": 14}, \"Metrics\": {\"validation_binary_classification_cross_entropy_objective\": {\"sum\": 0.5137991846059278, \"count\": 1, \"min\": 0.5137991846059278, \"max\": 0.5137991846059278}}}\u001b[0m\n",
      "\u001b[34m#metrics {\"StartTime\": 1727126243.1196153, \"EndTime\": 1727126243.119631, \"Dimensions\": {\"Algorithm\": \"Linear Learner\", \"Host\": \"algo-1\", \"Operation\": \"training\", \"epoch\": 4, \"model\": 15}, \"Metrics\": {\"validation_binary_classification_cross_entropy_objective\": {\"sum\": 0.5139351231863267, \"count\": 1, \"min\": 0.5139351231863267, \"max\": 0.5139351231863267}}}\u001b[0m\n",
      "\u001b[34m#metrics {\"StartTime\": 1727126243.1196783, \"EndTime\": 1727126243.1196926, \"Dimensions\": {\"Algorithm\": \"Linear Learner\", \"Host\": \"algo-1\", \"Operation\": \"training\", \"epoch\": 4, \"model\": 16}, \"Metrics\": {\"validation_binary_classification_cross_entropy_objective\": {\"sum\": 0.5138245761474309, \"count\": 1, \"min\": 0.5138245761474309, \"max\": 0.5138245761474309}}}\u001b[0m\n",
      "\u001b[34m#metrics {\"StartTime\": 1727126243.1197472, \"EndTime\": 1727126243.1197627, \"Dimensions\": {\"Algorithm\": \"Linear Learner\", \"Host\": \"algo-1\", \"Operation\": \"training\", \"epoch\": 4, \"model\": 17}, \"Metrics\": {\"validation_binary_classification_cross_entropy_objective\": {\"sum\": 0.5143666245267261, \"count\": 1, \"min\": 0.5143666245267261, \"max\": 0.5143666245267261}}}\u001b[0m\n",
      "\u001b[34m#metrics {\"StartTime\": 1727126243.1198199, \"EndTime\": 1727126243.1198351, \"Dimensions\": {\"Algorithm\": \"Linear Learner\", \"Host\": \"algo-1\", \"Operation\": \"training\", \"epoch\": 4, \"model\": 18}, \"Metrics\": {\"validation_binary_classification_cross_entropy_objective\": {\"sum\": 0.5138247731806881, \"count\": 1, \"min\": 0.5138247731806881, \"max\": 0.5138247731806881}}}\u001b[0m\n",
      "\u001b[34m#metrics {\"StartTime\": 1727126243.119887, \"EndTime\": 1727126243.1199026, \"Dimensions\": {\"Algorithm\": \"Linear Learner\", \"Host\": \"algo-1\", \"Operation\": \"training\", \"epoch\": 4, \"model\": 19}, \"Metrics\": {\"validation_binary_classification_cross_entropy_objective\": {\"sum\": 0.5143666258328178, \"count\": 1, \"min\": 0.5143666258328178, \"max\": 0.5143666258328178}}}\u001b[0m\n",
      "\u001b[34m#metrics {\"StartTime\": 1727126243.1199632, \"EndTime\": 1727126243.1199787, \"Dimensions\": {\"Algorithm\": \"Linear Learner\", \"Host\": \"algo-1\", \"Operation\": \"training\", \"epoch\": 4, \"model\": 20}, \"Metrics\": {\"validation_binary_classification_cross_entropy_objective\": {\"sum\": 0.5138253917083844, \"count\": 1, \"min\": 0.5138253917083844, \"max\": 0.5138253917083844}}}\u001b[0m\n",
      "\u001b[34m#metrics {\"StartTime\": 1727126243.1200333, \"EndTime\": 1727126243.12005, \"Dimensions\": {\"Algorithm\": \"Linear Learner\", \"Host\": \"algo-1\", \"Operation\": \"training\", \"epoch\": 4, \"model\": 21}, \"Metrics\": {\"validation_binary_classification_cross_entropy_objective\": {\"sum\": 0.5139099951021712, \"count\": 1, \"min\": 0.5139099951021712, \"max\": 0.5139099951021712}}}\u001b[0m\n",
      "\u001b[34m#metrics {\"StartTime\": 1727126243.120103, \"EndTime\": 1727126243.120113, \"Dimensions\": {\"Algorithm\": \"Linear Learner\", \"Host\": \"algo-1\", \"Operation\": \"training\", \"epoch\": 4, \"model\": 22}, \"Metrics\": {\"validation_binary_classification_cross_entropy_objective\": {\"sum\": 0.5138253937608142, \"count\": 1, \"min\": 0.5138253937608142, \"max\": 0.5138253937608142}}}\u001b[0m\n",
      "\u001b[34m#metrics {\"StartTime\": 1727126243.1201463, \"EndTime\": 1727126243.1201594, \"Dimensions\": {\"Algorithm\": \"Linear Learner\", \"Host\": \"algo-1\", \"Operation\": \"training\", \"epoch\": 4, \"model\": 23}, \"Metrics\": {\"validation_binary_classification_cross_entropy_objective\": {\"sum\": 0.513909993982664, \"count\": 1, \"min\": 0.513909993982664, \"max\": 0.513909993982664}}}\u001b[0m\n",
      "\u001b[34m#metrics {\"StartTime\": 1727126243.1202145, \"EndTime\": 1727126243.1202304, \"Dimensions\": {\"Algorithm\": \"Linear Learner\", \"Host\": \"algo-1\", \"Operation\": \"training\", \"epoch\": 4, \"model\": 24}, \"Metrics\": {\"validation_binary_classification_cross_entropy_objective\": {\"sum\": 0.5138399258964488, \"count\": 1, \"min\": 0.5138399258964488, \"max\": 0.5138399258964488}}}\u001b[0m\n",
      "\u001b[34m#metrics {\"StartTime\": 1727126243.1202877, \"EndTime\": 1727126243.1203039, \"Dimensions\": {\"Algorithm\": \"Linear Learner\", \"Host\": \"algo-1\", \"Operation\": \"training\", \"epoch\": 4, \"model\": 25}, \"Metrics\": {\"validation_binary_classification_cross_entropy_objective\": {\"sum\": 0.5143788532764146, \"count\": 1, \"min\": 0.5143788532764146, \"max\": 0.5143788532764146}}}\u001b[0m\n",
      "\u001b[34m#metrics {\"StartTime\": 1727126243.1203597, \"EndTime\": 1727126243.1203759, \"Dimensions\": {\"Algorithm\": \"Linear Learner\", \"Host\": \"algo-1\", \"Operation\": \"training\", \"epoch\": 4, \"model\": 26}, \"Metrics\": {\"validation_binary_classification_cross_entropy_objective\": {\"sum\": 0.513842144199852, \"count\": 1, \"min\": 0.513842144199852, \"max\": 0.513842144199852}}}\u001b[0m\n",
      "\u001b[34m#metrics {\"StartTime\": 1727126243.1204228, \"EndTime\": 1727126243.120438, \"Dimensions\": {\"Algorithm\": \"Linear Learner\", \"Host\": \"algo-1\", \"Operation\": \"training\", \"epoch\": 4, \"model\": 27}, \"Metrics\": {\"validation_binary_classification_cross_entropy_objective\": {\"sum\": 0.5143788726812052, \"count\": 1, \"min\": 0.5143788726812052, \"max\": 0.5143788726812052}}}\u001b[0m\n",
      "\u001b[34m#metrics {\"StartTime\": 1727126243.120481, \"EndTime\": 1727126243.1204956, \"Dimensions\": {\"Algorithm\": \"Linear Learner\", \"Host\": \"algo-1\", \"Operation\": \"training\", \"epoch\": 4, \"model\": 28}, \"Metrics\": {\"validation_binary_classification_cross_entropy_objective\": {\"sum\": 0.5138432967324554, \"count\": 1, \"min\": 0.5138432967324554, \"max\": 0.5138432967324554}}}\u001b[0m\n",
      "\u001b[34m#metrics {\"StartTime\": 1727126243.1205409, \"EndTime\": 1727126243.120556, \"Dimensions\": {\"Algorithm\": \"Linear Learner\", \"Host\": \"algo-1\", \"Operation\": \"training\", \"epoch\": 4, \"model\": 29}, \"Metrics\": {\"validation_binary_classification_cross_entropy_objective\": {\"sum\": 0.5138957846382556, \"count\": 1, \"min\": 0.5138957846382556, \"max\": 0.5138957846382556}}}\u001b[0m\n",
      "\u001b[34m#metrics {\"StartTime\": 1727126243.120602, \"EndTime\": 1727126243.1206172, \"Dimensions\": {\"Algorithm\": \"Linear Learner\", \"Host\": \"algo-1\", \"Operation\": \"training\", \"epoch\": 4, \"model\": 30}, \"Metrics\": {\"validation_binary_classification_cross_entropy_objective\": {\"sum\": 0.5138433217347815, \"count\": 1, \"min\": 0.5138433217347815, \"max\": 0.5138433217347815}}}\u001b[0m\n",
      "\u001b[34m#metrics {\"StartTime\": 1727126243.120663, \"EndTime\": 1727126243.1206782, \"Dimensions\": {\"Algorithm\": \"Linear Learner\", \"Host\": \"algo-1\", \"Operation\": \"training\", \"epoch\": 4, \"model\": 31}, \"Metrics\": {\"validation_binary_classification_cross_entropy_objective\": {\"sum\": 0.5138957794138889, \"count\": 1, \"min\": 0.5138957794138889, \"max\": 0.5138957794138889}}}\u001b[0m\n",
      "\u001b[34m[09/23/2024 21:17:23 INFO 140024616769344] #quality_metric: host=algo-1, epoch=4, validation binary_classification_cross_entropy_objective <loss>=0.5137957527567819\u001b[0m\n",
      "\u001b[34m[09/23/2024 21:17:23 INFO 140024616769344] #early_stopping_criteria_metric: host=algo-1, epoch=4, criteria=binary_classification_cross_entropy_objective, value=0.5137943485216558\u001b[0m\n",
      "\u001b[34m[09/23/2024 21:17:23 INFO 140024616769344] Saving model for epoch: 4\u001b[0m\n",
      "\u001b[34m[09/23/2024 21:17:23 INFO 140024616769344] Saved checkpoint to \"/tmp/tmp7yt9z5eu/mx-mod-0000.params\"\u001b[0m\n",
      "\u001b[34m[09/23/2024 21:17:23 INFO 140024616769344] Early stop condition met. Stopping training.\u001b[0m\n",
      "\u001b[34m[09/23/2024 21:17:23 INFO 140024616769344] #progress_metric: host=algo-1, completed 100 % epochs\u001b[0m\n",
      "\u001b[34m#metrics {\"StartTime\": 1727126193.9161143, \"EndTime\": 1727126243.1278446, \"Dimensions\": {\"Algorithm\": \"Linear Learner\", \"Host\": \"algo-1\", \"Operation\": \"training\", \"epoch\": 4, \"Meta\": \"training_data_iter\"}, \"Metrics\": {\"Total Records Seen\": {\"sum\": 6554360.0, \"count\": 1, \"min\": 6554360, \"max\": 6554360}, \"Total Batches Seen\": {\"sum\": 6557.0, \"count\": 1, \"min\": 6557, \"max\": 6557}, \"Max Records Seen Between Resets\": {\"sum\": 1308472.0, \"count\": 1, \"min\": 1308472, \"max\": 1308472}, \"Max Batches Seen Between Resets\": {\"sum\": 1309.0, \"count\": 1, \"min\": 1309, \"max\": 1309}, \"Reset Count\": {\"sum\": 7.0, \"count\": 1, \"min\": 7, \"max\": 7}, \"Number of Records Since Last Reset\": {\"sum\": 1308472.0, \"count\": 1, \"min\": 1308472, \"max\": 1308472}, \"Number of Batches Since Last Reset\": {\"sum\": 1309.0, \"count\": 1, \"min\": 1309, \"max\": 1309}}}\u001b[0m\n",
      "\u001b[34m[09/23/2024 21:17:23 INFO 140024616769344] #throughput_metric: host=algo-1, train throughput=26588.53753248432 records/second\u001b[0m\n",
      "\u001b[34m[09/23/2024 21:17:23 WARNING 140024616769344] wait_for_all_workers will not sync workers since the kv store is not running distributed\u001b[0m\n",
      "\u001b[34m[09/23/2024 21:17:23 WARNING 140024616769344] wait_for_all_workers will not sync workers since the kv store is not running distributed\u001b[0m\n",
      "\u001b[34m[2024-09-23 21:17:27.154] [tensorio] [info] epoch_stats={\"data_pipeline\": \"/opt/ml/input/data/validation\", \"epoch\": 17, \"duration\": 4006, \"num_examples\": 164, \"num_bytes\": 7850832}\u001b[0m\n",
      "\u001b[34m[09/23/2024 21:17:27 INFO 140024616769344] #early_stopping_criteria_metric: host=algo-1, epoch=4, criteria=binary_classification_cross_entropy_objective, value=0.5137943485216558\u001b[0m\n",
      "\u001b[34m[2024-09-23 21:17:27.793] [tensorio] [info] epoch_stats={\"data_pipeline\": \"/opt/ml/input/data/validation\", \"epoch\": 19, \"duration\": 627, \"num_examples\": 164, \"num_bytes\": 7850832}\u001b[0m\n",
      "\u001b[34m[09/23/2024 21:17:28 INFO 140024616769344] #validation_score (algo-1) : ('binary_classification_cross_entropy_objective', 0.5138043046718448)\u001b[0m\n",
      "\u001b[34m[09/23/2024 21:17:28 INFO 140024616769344] #validation_score (algo-1) : ('binary_classification_accuracy', 0.7900879804841067)\u001b[0m\n",
      "\u001b[34m[09/23/2024 21:17:28 INFO 140024616769344] #validation_score (algo-1) : ('binary_f_1.000', 0.0)\u001b[0m\n",
      "\u001b[34m[09/23/2024 21:17:28 INFO 140024616769344] #validation_score (algo-1) : ('precision', nan)\u001b[0m\n",
      "\u001b[34m[09/23/2024 21:17:28 INFO 140024616769344] #validation_score (algo-1) : ('recall', 0.0)\u001b[0m\n",
      "\u001b[34m[09/23/2024 21:17:28 INFO 140024616769344] #validation_score (algo-1) : ('roc_auc_score', 0.5070964096347673)\u001b[0m\n",
      "\u001b[34m[09/23/2024 21:17:28 INFO 140024616769344] #validation_score (algo-1) : ('binary_balanced_accuracy', 0.5)\u001b[0m\n",
      "\u001b[34m[09/23/2024 21:17:28 INFO 140024616769344] #validation_score (algo-1) : ('binary_log_loss', 0.7597385794360073)\u001b[0m\n",
      "\u001b[34m[09/23/2024 21:17:28 INFO 140024616769344] #quality_metric: host=algo-1, validation binary_classification_cross_entropy_objective <loss>=0.5138043046718448\u001b[0m\n",
      "\u001b[34m[09/23/2024 21:17:28 INFO 140024616769344] #quality_metric: host=algo-1, validation binary_classification_accuracy <score>=0.7900879804841067\u001b[0m\n",
      "\u001b[34m[09/23/2024 21:17:28 INFO 140024616769344] #quality_metric: host=algo-1, validation binary_f_1.000 <score>=0.0\u001b[0m\n",
      "\u001b[34m[09/23/2024 21:17:28 INFO 140024616769344] #quality_metric: host=algo-1, validation precision <score>=nan\u001b[0m\n",
      "\u001b[34m[09/23/2024 21:17:28 INFO 140024616769344] #quality_metric: host=algo-1, validation recall <score>=0.0\u001b[0m\n",
      "\u001b[34m[09/23/2024 21:17:28 INFO 140024616769344] #quality_metric: host=algo-1, validation roc_auc_score <score>=0.5070964096347673\u001b[0m\n",
      "\u001b[34m[09/23/2024 21:17:28 INFO 140024616769344] #quality_metric: host=algo-1, validation binary_balanced_accuracy <score>=0.5\u001b[0m\n",
      "\u001b[34m[09/23/2024 21:17:28 INFO 140024616769344] #quality_metric: host=algo-1, validation binary_log_loss <score>=0.7597385794360073\u001b[0m\n",
      "\u001b[34m[09/23/2024 21:17:28 INFO 140024616769344] Best model found for hyperparameters: {\"optimizer\": \"adam\", \"learning_rate\": 0.005, \"wd\": 0.01, \"l1\": 0.0, \"lr_scheduler_step\": 10, \"lr_scheduler_factor\": 0.99, \"lr_scheduler_minimum_lr\": 1e-05}\u001b[0m\n",
      "\u001b[34m[09/23/2024 21:17:28 INFO 140024616769344] Saved checkpoint to \"/tmp/tmp9nndsbew/mx-mod-0000.params\"\u001b[0m\n",
      "\u001b[34m[2024-09-23 21:17:28.037] [tensorio] [info] epoch_stats={\"data_pipeline\": \"/opt/ml/input/data/test\", \"epoch\": 0, \"duration\": 249852, \"num_examples\": 1, \"num_bytes\": 48000}\u001b[0m\n",
      "\u001b[34m[2024-09-23 21:17:28.662] [tensorio] [info] epoch_stats={\"data_pipeline\": \"/opt/ml/input/data/test\", \"epoch\": 1, \"duration\": 624, \"num_examples\": 164, \"num_bytes\": 7850832}\u001b[0m\n",
      "\u001b[34m#metrics {\"StartTime\": 1727126248.0364861, \"EndTime\": 1727126248.897567, \"Dimensions\": {\"Algorithm\": \"Linear Learner\", \"Host\": \"algo-1\", \"Operation\": \"training\", \"Meta\": \"test_data_iter\"}, \"Metrics\": {\"Total Records Seen\": {\"sum\": 163559.0, \"count\": 1, \"min\": 163559, \"max\": 163559}, \"Total Batches Seen\": {\"sum\": 164.0, \"count\": 1, \"min\": 164, \"max\": 164}, \"Max Records Seen Between Resets\": {\"sum\": 163559.0, \"count\": 1, \"min\": 163559, \"max\": 163559}, \"Max Batches Seen Between Resets\": {\"sum\": 164.0, \"count\": 1, \"min\": 164, \"max\": 164}, \"Reset Count\": {\"sum\": 1.0, \"count\": 1, \"min\": 1, \"max\": 1}, \"Number of Records Since Last Reset\": {\"sum\": 163559.0, \"count\": 1, \"min\": 163559, \"max\": 163559}, \"Number of Batches Since Last Reset\": {\"sum\": 164.0, \"count\": 1, \"min\": 164, \"max\": 164}}}\u001b[0m\n",
      "\u001b[34m[09/23/2024 21:17:28 INFO 140024616769344] #test_score (algo-1) : ('binary_classification_cross_entropy_objective', 0.5137726259782284)\u001b[0m\n",
      "\u001b[34m[09/23/2024 21:17:28 INFO 140024616769344] #test_score (algo-1) : ('binary_classification_accuracy', 0.7900879804841067)\u001b[0m\n",
      "\u001b[34m[09/23/2024 21:17:28 INFO 140024616769344] #test_score (algo-1) : ('binary_f_1.000', 0.0)\u001b[0m\n",
      "\u001b[34m[09/23/2024 21:17:28 INFO 140024616769344] #test_score (algo-1) : ('precision', nan)\u001b[0m\n",
      "\u001b[34m[09/23/2024 21:17:28 INFO 140024616769344] #test_score (algo-1) : ('recall', 0.0)\u001b[0m\n",
      "\u001b[34m[09/23/2024 21:17:28 INFO 140024616769344] #test_score (algo-1) : ('roc_auc_score', 0.5089874844775345)\u001b[0m\n",
      "\u001b[34m[09/23/2024 21:17:28 INFO 140024616769344] #test_score (algo-1) : ('binary_balanced_accuracy', 0.5)\u001b[0m\n",
      "\u001b[34m[09/23/2024 21:17:28 INFO 140024616769344] #test_score (algo-1) : ('binary_log_loss', 0.7597311041313681)\u001b[0m\n",
      "\u001b[34m[09/23/2024 21:17:28 INFO 140024616769344] #quality_metric: host=algo-1, test binary_classification_cross_entropy_objective <loss>=0.5137726259782284\u001b[0m\n",
      "\u001b[34m[09/23/2024 21:17:28 INFO 140024616769344] #quality_metric: host=algo-1, test binary_classification_accuracy <score>=0.7900879804841067\u001b[0m\n",
      "\u001b[34m[09/23/2024 21:17:28 INFO 140024616769344] #quality_metric: host=algo-1, test binary_f_1.000 <score>=0.0\u001b[0m\n",
      "\u001b[34m[09/23/2024 21:17:28 INFO 140024616769344] #quality_metric: host=algo-1, test precision <score>=nan\u001b[0m\n",
      "\u001b[34m[09/23/2024 21:17:28 INFO 140024616769344] #quality_metric: host=algo-1, test recall <score>=0.0\u001b[0m\n",
      "\u001b[34m[09/23/2024 21:17:28 INFO 140024616769344] #quality_metric: host=algo-1, test roc_auc_score <score>=0.5089874844775345\u001b[0m\n",
      "\u001b[34m[09/23/2024 21:17:28 INFO 140024616769344] #quality_metric: host=algo-1, test binary_balanced_accuracy <score>=0.5\u001b[0m\n",
      "\u001b[34m[09/23/2024 21:17:28 INFO 140024616769344] #quality_metric: host=algo-1, test binary_log_loss <score>=0.7597311041313681\u001b[0m\n",
      "\u001b[34m#metrics {\"StartTime\": 1727125998.1773477, \"EndTime\": 1727126248.9033518, \"Dimensions\": {\"Algorithm\": \"Linear Learner\", \"Host\": \"algo-1\", \"Operation\": \"training\"}, \"Metrics\": {\"initialize.time\": {\"sum\": 232.2995662689209, \"count\": 1, \"min\": 232.2995662689209, \"max\": 232.2995662689209}, \"epochs\": {\"sum\": 15.0, \"count\": 1, \"min\": 15, \"max\": 15}, \"check_early_stopping.time\": {\"sum\": 2.1567344665527344, \"count\": 6, \"min\": 0.2384185791015625, \"max\": 0.8406639099121094}, \"update.time\": {\"sum\": 244669.70205307007, \"count\": 5, \"min\": 47565.49143791199, \"max\": 50100.71897506714}, \"finalize.time\": {\"sum\": 4905.298233032227, \"count\": 1, \"min\": 4905.298233032227, \"max\": 4905.298233032227}, \"setuptime\": {\"sum\": 2.536773681640625, \"count\": 1, \"min\": 2.536773681640625, \"max\": 2.536773681640625}, \"totaltime\": {\"sum\": 250850.47841072083, \"count\": 1, \"min\": 250850.47841072083, \"max\": 250850.47841072083}}}\u001b[0m\n",
      "\n",
      "2024-09-23 21:17:44 Uploading - Uploading generated training model\n",
      "2024-09-23 21:17:44 Completed - Training job completed\n",
      "Training seconds: 401\n",
      "Billable seconds: 401\n"
     ]
    }
   ],
   "source": [
    "### Fit the classifier\n",
    "classifier_estimator.fit([train_records,val_records,test_records])"
   ]
  },
  {
   "cell_type": "markdown",
   "metadata": {},
   "source": [
    "## Model evaluation\n",
    "In this section, you will evaluate your trained model. "
   ]
  },
  {
   "cell_type": "markdown",
   "metadata": {},
   "source": [
    "First, examine the metrics for the training job:"
   ]
  },
  {
   "cell_type": "code",
   "execution_count": 65,
   "metadata": {
    "tags": []
   },
   "outputs": [
    {
     "name": "stderr",
     "output_type": "stream",
     "text": [
      "WARNING:sagemaker.analytics:Warning: No metrics called test:precision found\n"
     ]
    },
    {
     "data": {
      "text/html": [
       "<div>\n",
       "<style scoped>\n",
       "    .dataframe tbody tr th:only-of-type {\n",
       "        vertical-align: middle;\n",
       "    }\n",
       "\n",
       "    .dataframe tbody tr th {\n",
       "        vertical-align: top;\n",
       "    }\n",
       "\n",
       "    .dataframe thead th {\n",
       "        text-align: right;\n",
       "    }\n",
       "</style>\n",
       "<table border=\"1\" class=\"dataframe\">\n",
       "  <thead>\n",
       "    <tr style=\"text-align: right;\">\n",
       "      <th></th>\n",
       "      <th>timestamp</th>\n",
       "      <th>metric_name</th>\n",
       "      <th>value</th>\n",
       "    </tr>\n",
       "  </thead>\n",
       "  <tbody>\n",
       "    <tr>\n",
       "      <th>0</th>\n",
       "      <td>0.0</td>\n",
       "      <td>test:objective_loss</td>\n",
       "      <td>0.513773</td>\n",
       "    </tr>\n",
       "    <tr>\n",
       "      <th>1</th>\n",
       "      <td>0.0</td>\n",
       "      <td>test:binary_f_beta</td>\n",
       "      <td>0.000000</td>\n",
       "    </tr>\n",
       "    <tr>\n",
       "      <th>2</th>\n",
       "      <td>0.0</td>\n",
       "      <td>test:recall</td>\n",
       "      <td>0.000000</td>\n",
       "    </tr>\n",
       "  </tbody>\n",
       "</table>\n",
       "</div>"
      ],
      "text/plain": [
       "   timestamp          metric_name     value\n",
       "0        0.0  test:objective_loss  0.513773\n",
       "1        0.0   test:binary_f_beta  0.000000\n",
       "2        0.0          test:recall  0.000000"
      ]
     },
     "execution_count": 65,
     "metadata": {},
     "output_type": "execute_result"
    }
   ],
   "source": [
    "sagemaker.analytics.TrainingJobAnalytics(classifier_estimator._current_job_name, \n",
    "                                         metric_names = ['test:objective_loss', \n",
    "                                                         'test:binary_f_beta',\n",
    "                                                         'test:precision',\n",
    "                                                         'test:recall']\n",
    "                                        ).dataframe()"
   ]
  },
  {
   "cell_type": "markdown",
   "metadata": {},
   "source": [
    "Next, set up some functions that will help load the test data into Amazon S3 and perform a prediction by using the batch prediction function. Using batch prediction will help reduce costs because the instances will only run when predictions are performed on the supplied test data.\n",
    "\n",
    "**Note:** Replace `<LabBucketName>` with the name of the lab bucket that was created during the lab setup."
   ]
  },
  {
   "cell_type": "code",
   "execution_count": 66,
   "metadata": {
    "tags": []
   },
   "outputs": [
    {
     "name": "stderr",
     "output_type": "stream",
     "text": [
      "INFO:botocore.credentials:Found credentials from IAM Role: BaseNotebookInstanceEc2InstanceRole\n"
     ]
    }
   ],
   "source": [
    "import io\n",
    "bucket='sagemaker-us-east-1-581949618029'\n",
    "prefix='flight-linear'\n",
    "train_file='flight_train.csv'\n",
    "test_file='flight_test.csv'\n",
    "validate_file='flight_validate.csv'\n",
    "whole_file='flight.csv'\n",
    "s3_resource = boto3.Session().resource('s3')\n",
    "\n",
    "def upload_s3_csv(filename, folder, dataframe):\n",
    "    csv_buffer = io.StringIO()\n",
    "    dataframe.to_csv(csv_buffer, header=False, index=False )\n",
    "    s3_resource.Bucket(bucket).Object(os.path.join(prefix, folder, filename)).put(Body=csv_buffer.getvalue())"
   ]
  },
  {
   "cell_type": "code",
   "execution_count": 67,
   "metadata": {
    "tags": []
   },
   "outputs": [],
   "source": [
    "def batch_linear_predict(test_data, estimator):\n",
    "    batch_X = test_data.iloc[:,1:];\n",
    "    batch_X_file='batch-in.csv'\n",
    "    upload_s3_csv(batch_X_file, 'batch-in', batch_X)\n",
    "\n",
    "    batch_output = \"s3://{}/{}/batch-out/\".format(bucket,prefix)\n",
    "    batch_input = \"s3://{}/{}/batch-in/{}\".format(bucket,prefix,batch_X_file)\n",
    "\n",
    "    classifier_transformer = estimator.transformer(instance_count=1,\n",
    "                                           instance_type='ml.m4.xlarge',\n",
    "                                           strategy='MultiRecord',\n",
    "                                           assemble_with='Line',\n",
    "                                           output_path=batch_output)\n",
    "\n",
    "    classifier_transformer.transform(data=batch_input,\n",
    "                             data_type='S3Prefix',\n",
    "                             content_type='text/csv',\n",
    "                             split_type='Line')\n",
    "    \n",
    "    classifier_transformer.wait()\n",
    "\n",
    "    s3 = boto3.client('s3')\n",
    "    obj = s3.get_object(Bucket=bucket, Key=\"{}/batch-out/{}\".format(prefix,'batch-in.csv.out'))\n",
    "    target_predicted_df = pd.read_json(io.BytesIO(obj['Body'].read()),orient=\"records\",lines=True)\n",
    "    return test_data.iloc[:,0], target_predicted_df.iloc[:,0]"
   ]
  },
  {
   "cell_type": "markdown",
   "metadata": {},
   "source": [
    "\n",
    "To run the predictions on the test dataset, run the `batch_linear_predict` function (which was defined previously) on your test dataset.\n"
   ]
  },
  {
   "cell_type": "code",
   "execution_count": 68,
   "metadata": {
    "tags": []
   },
   "outputs": [
    {
     "name": "stderr",
     "output_type": "stream",
     "text": [
      "INFO:sagemaker.image_uris:Same images used for training and inference. Defaulting to image scope: inference.\n",
      "INFO:sagemaker.image_uris:Ignoring unnecessary instance type: None.\n",
      "INFO:sagemaker:Creating model with name: linear-learner-2024-09-23-21-19-05-475\n",
      "INFO:sagemaker:Creating transform job with name: linear-learner-2024-09-23-21-19-06-229\n"
     ]
    },
    {
     "name": "stdout",
     "output_type": "stream",
     "text": [
      "..............................................\u001b[34mDocker entrypoint called with argument(s): serve\u001b[0m\n",
      "\u001b[34mRunning default environment configuration script\u001b[0m\n",
      "\u001b[34m[09/23/2024 21:26:48 INFO 139835639039808] Memory profiler is not enabled by the environment variable ENABLE_PROFILER.\u001b[0m\n",
      "\u001b[34m/opt/amazon/lib/python3.8/site-packages/mxnet/model.py:97: SyntaxWarning: \"is\" with a literal. Did you mean \"==\"?\n",
      "  if num_device is 1 and 'dist' not in kvstore:\u001b[0m\n",
      "\u001b[34m/opt/amazon/lib/python3.8/site-packages/scipy/optimize/_shgo.py:495: SyntaxWarning: \"is\" with a literal. Did you mean \"==\"?\n",
      "  if cons['type'] is 'ineq':\u001b[0m\n",
      "\u001b[34m/opt/amazon/lib/python3.8/site-packages/scipy/optimize/_shgo.py:743: SyntaxWarning: \"is not\" with a literal. Did you mean \"!=\"?\n",
      "  if len(self.X_min) is not 0:\u001b[0m\n",
      "\u001b[34m[09/23/2024 21:26:51 WARNING 139835639039808] Loggers have already been setup.\u001b[0m\n",
      "\u001b[34m[09/23/2024 21:26:51 INFO 139835639039808] loaded entry point class algorithm.serve.server_config:config_api\u001b[0m\n",
      "\u001b[34m[09/23/2024 21:26:51 INFO 139835639039808] loading entry points\u001b[0m\n",
      "\u001b[34m[09/23/2024 21:26:51 INFO 139835639039808] loaded request iterator application/json\u001b[0m\n",
      "\u001b[34m[09/23/2024 21:26:51 INFO 139835639039808] loaded request iterator application/jsonlines\u001b[0m\n",
      "\u001b[34m[09/23/2024 21:26:51 INFO 139835639039808] loaded request iterator application/x-recordio-protobuf\u001b[0m\n",
      "\u001b[34m[09/23/2024 21:26:51 INFO 139835639039808] loaded request iterator text/csv\u001b[0m\n",
      "\u001b[34m[09/23/2024 21:26:51 INFO 139835639039808] loaded response encoder application/json\u001b[0m\n",
      "\u001b[34m[09/23/2024 21:26:51 INFO 139835639039808] loaded response encoder application/jsonlines\u001b[0m\n",
      "\u001b[34m[09/23/2024 21:26:51 INFO 139835639039808] loaded response encoder application/x-recordio-protobuf\u001b[0m\n",
      "\u001b[34m[09/23/2024 21:26:51 INFO 139835639039808] loaded response encoder text/csv\u001b[0m\n",
      "\u001b[34m[09/23/2024 21:26:51 INFO 139835639039808] loaded entry point class algorithm:model\u001b[0m\n",
      "\u001b[34m[09/23/2024 21:26:51 INFO 139835639039808] Number of server workers: 4\u001b[0m\n",
      "\u001b[34m[09/23/2024 21:26:51 INFO 139835639039808] loading model...\u001b[0m\n",
      "\u001b[34m[09/23/2024 21:26:51 INFO 139835639039808] ...model loaded.\u001b[0m\n",
      "\u001b[34m[2024-09-23 21:26:51 +0000] [1] [INFO] Starting gunicorn 20.1.0\u001b[0m\n",
      "\u001b[34m[2024-09-23 21:26:51 +0000] [1] [INFO] Listening at: http://0.0.0.0:8080 (1)\u001b[0m\n",
      "\u001b[34m[2024-09-23 21:26:51 +0000] [1] [INFO] Using worker: sync\u001b[0m\n",
      "\u001b[34m[2024-09-23 21:26:51 +0000] [43] [INFO] Booting worker with pid: 43\u001b[0m\n",
      "\u001b[34m[2024-09-23 21:26:51 +0000] [52] [INFO] Booting worker with pid: 52\u001b[0m\n",
      "\u001b[34m[2024-09-23 21:26:51 +0000] [61] [INFO] Booting worker with pid: 61\u001b[0m\n",
      "\u001b[34m[2024-09-23 21:26:51 +0000] [70] [INFO] Booting worker with pid: 70\u001b[0m\n",
      "\u001b[34m#metrics {\"StartTime\": 1727126811.585557, \"EndTime\": 1727126812.5275633, \"Dimensions\": {\"Algorithm\": \"LinearLearnerModel\", \"Host\": \"UNKNOWN\", \"Operation\": \"scoring\"}, \"Metrics\": {\"execution_parameters.count\": {\"sum\": 1.0, \"count\": 1, \"min\": 1, \"max\": 1}}}\u001b[0m\n",
      "\u001b[34m#metrics {\"StartTime\": 1727126811.585557, \"EndTime\": 1727126814.391669, \"Dimensions\": {\"Algorithm\": \"LinearLearnerModel\", \"Host\": \"UNKNOWN\", \"Operation\": \"scoring\"}, \"Metrics\": {\"json.encoder.time\": {\"sum\": 295.1316833496094, \"count\": 1, \"min\": 295.1316833496094, \"max\": 295.1316833496094}, \"invocations.count\": {\"sum\": 1.0, \"count\": 1, \"min\": 1, \"max\": 1}}}\u001b[0m\n",
      "\u001b[32m2024-09-23T21:26:52.537:[sagemaker logs]: MaxConcurrentTransforms=4, MaxPayloadInMB=6, BatchStrategy=MULTI_RECORD\u001b[0m\n",
      "\n",
      "\u001b[34mDocker entrypoint called with argument(s): serve\u001b[0m\n",
      "\u001b[34mRunning default environment configuration script\u001b[0m\n",
      "\u001b[34m[09/23/2024 21:26:48 INFO 139835639039808] Memory profiler is not enabled by the environment variable ENABLE_PROFILER.\u001b[0m\n",
      "\u001b[34m/opt/amazon/lib/python3.8/site-packages/mxnet/model.py:97: SyntaxWarning: \"is\" with a literal. Did you mean \"==\"?\n",
      "  if num_device is 1 and 'dist' not in kvstore:\u001b[0m\n",
      "\u001b[34m/opt/amazon/lib/python3.8/site-packages/scipy/optimize/_shgo.py:495: SyntaxWarning: \"is\" with a literal. Did you mean \"==\"?\n",
      "  if cons['type'] is 'ineq':\u001b[0m\n",
      "\u001b[35mDocker entrypoint called with argument(s): serve\u001b[0m\n",
      "\u001b[35mRunning default environment configuration script\u001b[0m\n",
      "\u001b[35m[09/23/2024 21:26:48 INFO 139835639039808] Memory profiler is not enabled by the environment variable ENABLE_PROFILER.\u001b[0m\n",
      "\u001b[35m/opt/amazon/lib/python3.8/site-packages/mxnet/model.py:97: SyntaxWarning: \"is\" with a literal. Did you mean \"==\"?\n",
      "  if num_device is 1 and 'dist' not in kvstore:\u001b[0m\n",
      "\u001b[35m/opt/amazon/lib/python3.8/site-packages/scipy/optimize/_shgo.py:495: SyntaxWarning: \"is\" with a literal. Did you mean \"==\"?\n",
      "  if cons['type'] is 'ineq':\u001b[0m\n",
      "\u001b[34m/opt/amazon/lib/python3.8/site-packages/scipy/optimize/_shgo.py:743: SyntaxWarning: \"is not\" with a literal. Did you mean \"!=\"?\n",
      "  if len(self.X_min) is not 0:\u001b[0m\n",
      "\u001b[34m[09/23/2024 21:26:51 WARNING 139835639039808] Loggers have already been setup.\u001b[0m\n",
      "\u001b[34m[09/23/2024 21:26:51 INFO 139835639039808] loaded entry point class algorithm.serve.server_config:config_api\u001b[0m\n",
      "\u001b[34m[09/23/2024 21:26:51 INFO 139835639039808] loading entry points\u001b[0m\n",
      "\u001b[34m[09/23/2024 21:26:51 INFO 139835639039808] loaded request iterator application/json\u001b[0m\n",
      "\u001b[34m[09/23/2024 21:26:51 INFO 139835639039808] loaded request iterator application/jsonlines\u001b[0m\n",
      "\u001b[34m[09/23/2024 21:26:51 INFO 139835639039808] loaded request iterator application/x-recordio-protobuf\u001b[0m\n",
      "\u001b[34m[09/23/2024 21:26:51 INFO 139835639039808] loaded request iterator text/csv\u001b[0m\n",
      "\u001b[34m[09/23/2024 21:26:51 INFO 139835639039808] loaded response encoder application/json\u001b[0m\n",
      "\u001b[34m[09/23/2024 21:26:51 INFO 139835639039808] loaded response encoder application/jsonlines\u001b[0m\n",
      "\u001b[34m[09/23/2024 21:26:51 INFO 139835639039808] loaded response encoder application/x-recordio-protobuf\u001b[0m\n",
      "\u001b[34m[09/23/2024 21:26:51 INFO 139835639039808] loaded response encoder text/csv\u001b[0m\n",
      "\u001b[34m[09/23/2024 21:26:51 INFO 139835639039808] loaded entry point class algorithm:model\u001b[0m\n",
      "\u001b[34m[09/23/2024 21:26:51 INFO 139835639039808] Number of server workers: 4\u001b[0m\n",
      "\u001b[34m[09/23/2024 21:26:51 INFO 139835639039808] loading model...\u001b[0m\n",
      "\u001b[34m[09/23/2024 21:26:51 INFO 139835639039808] ...model loaded.\u001b[0m\n",
      "\u001b[34m[2024-09-23 21:26:51 +0000] [1] [INFO] Starting gunicorn 20.1.0\u001b[0m\n",
      "\u001b[34m[2024-09-23 21:26:51 +0000] [1] [INFO] Listening at: http://0.0.0.0:8080 (1)\u001b[0m\n",
      "\u001b[34m[2024-09-23 21:26:51 +0000] [1] [INFO] Using worker: sync\u001b[0m\n",
      "\u001b[34m[2024-09-23 21:26:51 +0000] [43] [INFO] Booting worker with pid: 43\u001b[0m\n",
      "\u001b[34m[2024-09-23 21:26:51 +0000] [52] [INFO] Booting worker with pid: 52\u001b[0m\n",
      "\u001b[34m[2024-09-23 21:26:51 +0000] [61] [INFO] Booting worker with pid: 61\u001b[0m\n",
      "\u001b[34m[2024-09-23 21:26:51 +0000] [70] [INFO] Booting worker with pid: 70\u001b[0m\n",
      "\u001b[35m/opt/amazon/lib/python3.8/site-packages/scipy/optimize/_shgo.py:743: SyntaxWarning: \"is not\" with a literal. Did you mean \"!=\"?\n",
      "  if len(self.X_min) is not 0:\u001b[0m\n",
      "\u001b[35m[09/23/2024 21:26:51 WARNING 139835639039808] Loggers have already been setup.\u001b[0m\n",
      "\u001b[35m[09/23/2024 21:26:51 INFO 139835639039808] loaded entry point class algorithm.serve.server_config:config_api\u001b[0m\n",
      "\u001b[35m[09/23/2024 21:26:51 INFO 139835639039808] loading entry points\u001b[0m\n",
      "\u001b[35m[09/23/2024 21:26:51 INFO 139835639039808] loaded request iterator application/json\u001b[0m\n",
      "\u001b[35m[09/23/2024 21:26:51 INFO 139835639039808] loaded request iterator application/jsonlines\u001b[0m\n",
      "\u001b[35m[09/23/2024 21:26:51 INFO 139835639039808] loaded request iterator application/x-recordio-protobuf\u001b[0m\n",
      "\u001b[35m[09/23/2024 21:26:51 INFO 139835639039808] loaded request iterator text/csv\u001b[0m\n",
      "\u001b[35m[09/23/2024 21:26:51 INFO 139835639039808] loaded response encoder application/json\u001b[0m\n",
      "\u001b[35m[09/23/2024 21:26:51 INFO 139835639039808] loaded response encoder application/jsonlines\u001b[0m\n",
      "\u001b[35m[09/23/2024 21:26:51 INFO 139835639039808] loaded response encoder application/x-recordio-protobuf\u001b[0m\n",
      "\u001b[35m[09/23/2024 21:26:51 INFO 139835639039808] loaded response encoder text/csv\u001b[0m\n",
      "\u001b[35m[09/23/2024 21:26:51 INFO 139835639039808] loaded entry point class algorithm:model\u001b[0m\n",
      "\u001b[35m[09/23/2024 21:26:51 INFO 139835639039808] Number of server workers: 4\u001b[0m\n",
      "\u001b[35m[09/23/2024 21:26:51 INFO 139835639039808] loading model...\u001b[0m\n",
      "\u001b[35m[09/23/2024 21:26:51 INFO 139835639039808] ...model loaded.\u001b[0m\n",
      "\u001b[35m[2024-09-23 21:26:51 +0000] [1] [INFO] Starting gunicorn 20.1.0\u001b[0m\n",
      "\u001b[35m[2024-09-23 21:26:51 +0000] [1] [INFO] Listening at: http://0.0.0.0:8080 (1)\u001b[0m\n",
      "\u001b[35m[2024-09-23 21:26:51 +0000] [1] [INFO] Using worker: sync\u001b[0m\n",
      "\u001b[35m[2024-09-23 21:26:51 +0000] [43] [INFO] Booting worker with pid: 43\u001b[0m\n",
      "\u001b[35m[2024-09-23 21:26:51 +0000] [52] [INFO] Booting worker with pid: 52\u001b[0m\n",
      "\u001b[35m[2024-09-23 21:26:51 +0000] [61] [INFO] Booting worker with pid: 61\u001b[0m\n",
      "\u001b[35m[2024-09-23 21:26:51 +0000] [70] [INFO] Booting worker with pid: 70\u001b[0m\n",
      "\u001b[34m#metrics {\"StartTime\": 1727126811.585557, \"EndTime\": 1727126812.5275633, \"Dimensions\": {\"Algorithm\": \"LinearLearnerModel\", \"Host\": \"UNKNOWN\", \"Operation\": \"scoring\"}, \"Metrics\": {\"execution_parameters.count\": {\"sum\": 1.0, \"count\": 1, \"min\": 1, \"max\": 1}}}\u001b[0m\n",
      "\u001b[35m#metrics {\"StartTime\": 1727126811.585557, \"EndTime\": 1727126812.5275633, \"Dimensions\": {\"Algorithm\": \"LinearLearnerModel\", \"Host\": \"UNKNOWN\", \"Operation\": \"scoring\"}, \"Metrics\": {\"execution_parameters.count\": {\"sum\": 1.0, \"count\": 1, \"min\": 1, \"max\": 1}}}\u001b[0m\n",
      "\u001b[34m#metrics {\"StartTime\": 1727126811.585557, \"EndTime\": 1727126814.391669, \"Dimensions\": {\"Algorithm\": \"LinearLearnerModel\", \"Host\": \"UNKNOWN\", \"Operation\": \"scoring\"}, \"Metrics\": {\"json.encoder.time\": {\"sum\": 295.1316833496094, \"count\": 1, \"min\": 295.1316833496094, \"max\": 295.1316833496094}, \"invocations.count\": {\"sum\": 1.0, \"count\": 1, \"min\": 1, \"max\": 1}}}\u001b[0m\n",
      "\u001b[35m#metrics {\"StartTime\": 1727126811.585557, \"EndTime\": 1727126814.391669, \"Dimensions\": {\"Algorithm\": \"LinearLearnerModel\", \"Host\": \"UNKNOWN\", \"Operation\": \"scoring\"}, \"Metrics\": {\"json.encoder.time\": {\"sum\": 295.1316833496094, \"count\": 1, \"min\": 295.1316833496094, \"max\": 295.1316833496094}, \"invocations.count\": {\"sum\": 1.0, \"count\": 1, \"min\": 1, \"max\": 1}}}\u001b[0m\n",
      "\u001b[32m2024-09-23T21:26:52.537:[sagemaker logs]: MaxConcurrentTransforms=4, MaxPayloadInMB=6, BatchStrategy=MULTI_RECORD\u001b[0m\n"
     ]
    }
   ],
   "source": [
    "test_labels, target_predicted = batch_linear_predict(test, classifier_estimator)"
   ]
  },
  {
   "cell_type": "markdown",
   "metadata": {},
   "source": [
    "To view a plot of the confusion matrix, and various scoring metrics, create a couple of functions:"
   ]
  },
  {
   "cell_type": "code",
   "execution_count": 69,
   "metadata": {
    "tags": []
   },
   "outputs": [],
   "source": [
    "from sklearn.metrics import confusion_matrix\n",
    "\n",
    "def plot_confusion_matrix(test_labels, target_predicted):\n",
    "    matrix = confusion_matrix(test_labels, target_predicted)\n",
    "    df_confusion = pd.DataFrame(matrix)\n",
    "    colormap = sns.color_palette(\"BrBG\", 10)\n",
    "    sns.heatmap(df_confusion, annot=True, fmt='.2f', cbar=None, cmap=colormap)\n",
    "    plt.title(\"Confusion Matrix\")\n",
    "    plt.tight_layout()\n",
    "    plt.ylabel(\"True Class\")\n",
    "    plt.xlabel(\"Predicted Class\")\n",
    "    plt.show()\n",
    "    "
   ]
  },
  {
   "cell_type": "code",
   "execution_count": 70,
   "metadata": {
    "tags": []
   },
   "outputs": [],
   "source": [
    "from sklearn import metrics\n",
    "\n",
    "def plot_roc(test_labels, target_predicted):\n",
    "    TN, FP, FN, TP = confusion_matrix(test_labels, target_predicted).ravel()\n",
    "    # Sensitivity, hit rate, recall, or true positive rate\n",
    "    Sensitivity  = float(TP)/(TP+FN)*100\n",
    "    # Specificity or true negative rate\n",
    "    Specificity  = float(TN)/(TN+FP)*100\n",
    "    # Precision or positive predictive value\n",
    "    Precision = float(TP)/(TP+FP)*100\n",
    "    # Negative predictive value\n",
    "    NPV = float(TN)/(TN+FN)*100\n",
    "    # Fall out or false positive rate\n",
    "    FPR = float(FP)/(FP+TN)*100\n",
    "    # False negative rate\n",
    "    FNR = float(FN)/(TP+FN)*100\n",
    "    # False discovery rate\n",
    "    FDR = float(FP)/(TP+FP)*100\n",
    "    # Overall accuracy\n",
    "    ACC = float(TP+TN)/(TP+FP+FN+TN)*100\n",
    "\n",
    "    print(\"Sensitivity or TPR: \", Sensitivity, \"%\") \n",
    "    print( \"Specificity or TNR: \",Specificity, \"%\") \n",
    "    print(\"Precision: \",Precision, \"%\") \n",
    "    print(\"Negative Predictive Value: \",NPV, \"%\") \n",
    "    print( \"False Positive Rate: \",FPR,\"%\")\n",
    "    print(\"False Negative Rate: \",FNR, \"%\") \n",
    "    print(\"False Discovery Rate: \",FDR, \"%\" )\n",
    "    print(\"Accuracy: \",ACC, \"%\") \n",
    "\n",
    "    test_labels = test.iloc[:,0];\n",
    "    print(\"Validation AUC\", metrics.roc_auc_score(test_labels, target_predicted) )\n",
    "\n",
    "    fpr, tpr, thresholds = metrics.roc_curve(test_labels, target_predicted)\n",
    "    roc_auc = metrics.auc(fpr, tpr)\n",
    "\n",
    "    plt.figure()\n",
    "    plt.plot(fpr, tpr, label='ROC curve (area = %0.2f)' % (roc_auc))\n",
    "    plt.plot([0, 1], [0, 1], 'k--')\n",
    "    plt.xlim([0.0, 1.0])\n",
    "    plt.ylim([0.0, 1.05])\n",
    "    plt.xlabel('False Positive Rate')\n",
    "    plt.ylabel('True Positive Rate')\n",
    "    plt.title('Receiver operating characteristic')\n",
    "    plt.legend(loc=\"lower right\")\n",
    "\n",
    "    # create the axis of thresholds (scores)\n",
    "    ax2 = plt.gca().twinx()\n",
    "    ax2.plot(fpr, thresholds, markeredgecolor='r',linestyle='dashed', color='r')\n",
    "    ax2.set_ylabel('Threshold',color='r')\n",
    "    ax2.set_ylim([thresholds[-1],thresholds[0]])\n",
    "    ax2.set_xlim([fpr[0],fpr[-1]])\n",
    "\n",
    "    print(plt.figure())"
   ]
  },
  {
   "cell_type": "markdown",
   "metadata": {},
   "source": [
    "To plot the confusion matrix, call the `plot_confusion_matrix` function on the `test_labels` and the `target_predicted` data from your batch job:"
   ]
  },
  {
   "cell_type": "code",
   "execution_count": 71,
   "metadata": {
    "tags": []
   },
   "outputs": [
    {
     "data": {
      "image/png": "[encoded data removed]",
      "text/plain": [
       "<Figure size 640x480 with 1 Axes>"
      ]
     },
     "metadata": {},
     "output_type": "display_data"
    }
   ],
   "source": [
    "plot_confusion_matrix(test_labels, target_predicted)\n"
   ]
  },
  {
   "cell_type": "markdown",
   "metadata": {},
   "source": [
    "### Key questions to consider:\n",
    "\n",
    "1. How does your model's performance on the test set compare to its performance on the training set? What can you deduce from this comparison? \n",
    "2. Are there obvious differences between the outcomes of metrics like accuracy, precision, and recall? If so, why might you be seeing those differences? \n",
    "3. Given your business situation and goals, which metric (or metrics) is the most important for you to consider? Why?\n",
    "4. From a business standpoint, is the outcome for the metric (or metrics) that you consider to be the most important sufficient for what you need? If not, what are some things you might change in your next iteration? (This will happen in the feature engineering section, which is next.)\n",
    "\n",
    "Use the following cells to answer these (and other) questions. Insert and delete cells where needed.\n",
    "\n",
    "#### <span style=\"color: blue;\">Project presentation: In your project presentation, write down your answers to these questions -- and other similar questions that you might answer -- in this section. Record the key details and decisions that you made.</span>"
   ]
  },
  {
   "cell_type": "markdown",
   "metadata": {},
   "source": [
    "\n",
    "**Question**: What can you summarize from the confusion matrix?\n"
   ]
  },
  {
   "cell_type": "code",
   "execution_count": null,
   "metadata": {},
   "outputs": [],
   "source": [
    "#the model doesn't give anyhthing in class 1"
   ]
  },
  {
   "cell_type": "markdown",
   "metadata": {},
   "source": [
    "## <span style=\"color:red\"> End of Step 3 </span>\n",
    "\n",
    "Save the project file to your local computer. Follow these steps:\n",
    "\n",
    "1. In the file explorer on the left, right-click the notebook that you're working on. \n",
    "\n",
    "2. Select **Download**, and save the file locally.  \n",
    "\n",
    "This action downloads the current notebook to the default download folder on your computer."
   ]
  },
  {
   "cell_type": "markdown",
   "metadata": {},
   "source": [
    "# Iteration II"
   ]
  },
  {
   "cell_type": "markdown",
   "metadata": {},
   "source": [
    "# Step 4: Feature engineering\n",
    "\n",
    "You have now gone through one iteration of training and evaluating your model. Given that the first outcome that you reached for your model probably wasn't sufficient for solving your business problem, what could you change about your data to possibly improve model performance?\n",
    "\n",
    "### Key questions to consider:\n",
    "\n",
    "1. How might the balance of your two main classes (*delay* and *no delay*) impact model performance?\n",
    "2. Do you have any features that are correlated?\n",
    "3. At this stage, could you perform any feature-reduction techniques that might have a positive impact on model performance? \n",
    "4. Can you think of adding some more data or datasets?\n",
    "5. After performing some feature engineering, how does the performance of your model compare to the first iteration?\n",
    "\n",
    "Use the following cells to perform specific feature-engineering techniques that you think could improve your model performance (use the previous questions as a guide). Insert and delete cells where needed.\n",
    "\n",
    "#### <span style=\"color: blue;\">Project presentation: In your project presentation, record your key decisions and the methods that you use in this section. Also include any new performance metrics that you obtain after you evaluate your model again.</span>\n",
    "\n",
    "Before you start, think about why the precision and recall are around 80 percent, and the accuracy is at 99 percent."
   ]
  },
  {
   "cell_type": "markdown",
   "metadata": {},
   "source": [
    "Add more features:\n",
    "\n",
    "1. Holidays\n",
    "2. Weather"
   ]
  },
  {
   "cell_type": "markdown",
   "metadata": {},
   "source": [
    "Because the list of holidays from 2014 to 2018 is known, you can create an indicator variable **is_holiday** to mark them.\n",
    "\n",
    "The hypothesis is that airplane delays could be higher during holidays compared to the rest of the days. Add a boolean variable `is_holiday` that includes the holidays for the years 2014-2018."
   ]
  },
  {
   "cell_type": "code",
   "execution_count": 72,
   "metadata": {
    "tags": []
   },
   "outputs": [],
   "source": [
    "# Source: http://www.calendarpedia.com/holidays/federal-holidays-2014.html\n",
    "\n",
    "holidays_14 = ['2014-01-01',  '2014-01-20', '2014-02-17', '2014-05-26', '2014-07-04', '2014-09-01', '2014-10-13', '2014-11-11', '2014-11-27', '2014-12-25' ] \n",
    "holidays_15 = ['2015-01-01',  '2015-01-19', '2015-02-16', '2015-05-25', '2015-06-03', '2015-07-04', '2015-09-07', '2015-10-12', '2015-11-11', '2015-11-26', '2015-12-25'] \n",
    "holidays_16 = ['2016-01-01',  '2016-01-18', '2016-02-15', '2016-05-30', '2016-07-04', '2016-09-05', '2016-10-10', '2016-11-11', '2016-11-24', '2016-12-25', '2016-12-26']\n",
    "holidays_17 = ['2017-01-02', '2017-01-16', '2017-02-20', '2017-05-29' , '2017-07-04', '2017-09-04' ,'2017-10-09', '2017-11-10', '2017-11-23', '2017-12-25']\n",
    "holidays_18 = ['2018-01-01', '2018-01-15', '2018-02-19', '2018-05-28' , '2018-07-04', '2018-09-03' ,'2018-10-08', '2018-11-12','2018-11-22', '2018-12-25']\n",
    "holidays = holidays_14+ holidays_15+ holidays_16 + holidays_17+ holidays_18\n",
    "\n",
    "### Add indicator variable for holidays\n",
    "data_orig['is_holiday'] = 0"
   ]
  },
  {
   "cell_type": "markdown",
   "metadata": {},
   "source": [
    "Weather data was fetched from https://www.ncei.noaa.gov/access/services/data/v1?dataset=daily-summaries&stations=USW00023174,USW00012960,USW00003017,USW00094846,USW00013874,USW00023234,USW00003927,USW00023183,USW00013881&dataTypes=AWND,PRCP,SNOW,SNWD,TAVG,TMIN,TMAX&startDate=2014-01-01&endDate=2018-12-31.\n",
    "<br>\n",
    "\n",
    "This dataset has information on wind speed, precipitation, snow, and temperature for cities by their airport codes.\n",
    "\n",
    "**Question**: Could bad weather because of rain, heavy winds, or snow lead to airplane delays? You will now check."
   ]
  },
  {
   "cell_type": "code",
   "execution_count": 73,
   "metadata": {
    "tags": []
   },
   "outputs": [
    {
     "name": "stdout",
     "output_type": "stream",
     "text": [
      "download: s3://aws-tc-largeobjects/CUR-TF-200-ACMLFO-1/flight_delay_project/data2/daily-summaries.csv to ../project/data/daily-summaries.csv\n"
     ]
    }
   ],
   "source": [
    "!aws s3 cp s3://aws-tc-largeobjects/CUR-TF-200-ACMLFO-1/flight_delay_project/data2/daily-summaries.csv /home/ec2-user/SageMaker/project/data/\n",
    "#!wget 'https://www.ncei.noaa.gov/access/services/data/v1?dataset=daily-summaries&stations=USW00023174,USW00012960,USW00003017,USW00094846,USW00013874,USW00023234,USW00003927,USW00023183,USW00013881&dataTypes=AWND,PRCP,SNOW,SNWD,TAVG,TMIN,TMAX&startDate=2014-01-01&endDate=2018-12-31' -O /home/ec2-user/SageMaker/project/data/daily-summaries.csv"
   ]
  },
  {
   "cell_type": "markdown",
   "metadata": {},
   "source": [
    "Import the weather data that was prepared for the airport codes in the dataset. Use the following stations and airports  for the analysis. Create a new column called *airport* that maps the weather station to the airport name."
   ]
  },
  {
   "cell_type": "code",
   "execution_count": 74,
   "metadata": {
    "tags": []
   },
   "outputs": [],
   "source": [
    "weather = pd.read_csv('/home/ec2-user/SageMaker/project/data/daily-summaries.csv')\n",
    "station = ['USW00023174','USW00012960','USW00003017','USW00094846','USW00013874','USW00023234','USW00003927','USW00023183','USW00013881'] \n",
    "airports = ['LAX', 'IAH', 'DEN', 'ORD', 'ATL', 'SFO', 'DFW', 'PHX', 'CLT']\n",
    "\n",
    "### Map weather stations to airport code\n",
    "station_map = {s:a for s,a in zip(station, airports)}\n",
    "weather['airport'] = weather['STATION'].map(station_map)"
   ]
  },
  {
   "cell_type": "markdown",
   "metadata": {},
   "source": [
    "From the **DATE** column, create another column called *MONTH*."
   ]
  },
  {
   "cell_type": "code",
   "execution_count": 75,
   "metadata": {
    "tags": []
   },
   "outputs": [
    {
     "data": {
      "text/html": [
       "<div>\n",
       "<style scoped>\n",
       "    .dataframe tbody tr th:only-of-type {\n",
       "        vertical-align: middle;\n",
       "    }\n",
       "\n",
       "    .dataframe tbody tr th {\n",
       "        vertical-align: top;\n",
       "    }\n",
       "\n",
       "    .dataframe thead th {\n",
       "        text-align: right;\n",
       "    }\n",
       "</style>\n",
       "<table border=\"1\" class=\"dataframe\">\n",
       "  <thead>\n",
       "    <tr style=\"text-align: right;\">\n",
       "      <th></th>\n",
       "      <th>STATION</th>\n",
       "      <th>DATE</th>\n",
       "      <th>AWND</th>\n",
       "      <th>PRCP</th>\n",
       "      <th>SNOW</th>\n",
       "      <th>SNWD</th>\n",
       "      <th>TAVG</th>\n",
       "      <th>TMAX</th>\n",
       "      <th>TMIN</th>\n",
       "      <th>airport</th>\n",
       "      <th>MONTH</th>\n",
       "    </tr>\n",
       "  </thead>\n",
       "  <tbody>\n",
       "    <tr>\n",
       "      <th>0</th>\n",
       "      <td>USW00023174</td>\n",
       "      <td>2014-01-01</td>\n",
       "      <td>16</td>\n",
       "      <td>0</td>\n",
       "      <td>NaN</td>\n",
       "      <td>NaN</td>\n",
       "      <td>131.0</td>\n",
       "      <td>178.0</td>\n",
       "      <td>78.0</td>\n",
       "      <td>LAX</td>\n",
       "      <td>01</td>\n",
       "    </tr>\n",
       "    <tr>\n",
       "      <th>1</th>\n",
       "      <td>USW00023174</td>\n",
       "      <td>2014-01-02</td>\n",
       "      <td>22</td>\n",
       "      <td>0</td>\n",
       "      <td>NaN</td>\n",
       "      <td>NaN</td>\n",
       "      <td>159.0</td>\n",
       "      <td>256.0</td>\n",
       "      <td>100.0</td>\n",
       "      <td>LAX</td>\n",
       "      <td>01</td>\n",
       "    </tr>\n",
       "    <tr>\n",
       "      <th>2</th>\n",
       "      <td>USW00023174</td>\n",
       "      <td>2014-01-03</td>\n",
       "      <td>17</td>\n",
       "      <td>0</td>\n",
       "      <td>NaN</td>\n",
       "      <td>NaN</td>\n",
       "      <td>140.0</td>\n",
       "      <td>178.0</td>\n",
       "      <td>83.0</td>\n",
       "      <td>LAX</td>\n",
       "      <td>01</td>\n",
       "    </tr>\n",
       "    <tr>\n",
       "      <th>3</th>\n",
       "      <td>USW00023174</td>\n",
       "      <td>2014-01-04</td>\n",
       "      <td>18</td>\n",
       "      <td>0</td>\n",
       "      <td>NaN</td>\n",
       "      <td>NaN</td>\n",
       "      <td>136.0</td>\n",
       "      <td>183.0</td>\n",
       "      <td>100.0</td>\n",
       "      <td>LAX</td>\n",
       "      <td>01</td>\n",
       "    </tr>\n",
       "    <tr>\n",
       "      <th>4</th>\n",
       "      <td>USW00023174</td>\n",
       "      <td>2014-01-05</td>\n",
       "      <td>18</td>\n",
       "      <td>0</td>\n",
       "      <td>NaN</td>\n",
       "      <td>NaN</td>\n",
       "      <td>151.0</td>\n",
       "      <td>244.0</td>\n",
       "      <td>83.0</td>\n",
       "      <td>LAX</td>\n",
       "      <td>01</td>\n",
       "    </tr>\n",
       "  </tbody>\n",
       "</table>\n",
       "</div>"
      ],
      "text/plain": [
       "       STATION        DATE  AWND  PRCP  SNOW  SNWD   TAVG   TMAX   TMIN  \\\n",
       "0  USW00023174  2014-01-01    16     0   NaN   NaN  131.0  178.0   78.0   \n",
       "1  USW00023174  2014-01-02    22     0   NaN   NaN  159.0  256.0  100.0   \n",
       "2  USW00023174  2014-01-03    17     0   NaN   NaN  140.0  178.0   83.0   \n",
       "3  USW00023174  2014-01-04    18     0   NaN   NaN  136.0  183.0  100.0   \n",
       "4  USW00023174  2014-01-05    18     0   NaN   NaN  151.0  244.0   83.0   \n",
       "\n",
       "  airport MONTH  \n",
       "0     LAX    01  \n",
       "1     LAX    01  \n",
       "2     LAX    01  \n",
       "3     LAX    01  \n",
       "4     LAX    01  "
      ]
     },
     "execution_count": 75,
     "metadata": {},
     "output_type": "execute_result"
    }
   ],
   "source": [
    "weather['MONTH'] = weather['DATE'].apply(lambda x: x.split('-')[1])\n",
    "weather.head()"
   ]
  },
  {
   "cell_type": "markdown",
   "metadata": {},
   "source": [
    "### Sample output\n",
    "```\n",
    "  STATION     DATE      AWND PRCP SNOW SNWD TAVG TMAX  TMIN airport MONTH\n",
    "0 USW00023174 2014-01-01 16   0   NaN  NaN 131.0 178.0 78.0  LAX    01\n",
    "1 USW00023174 2014-01-02 22   0   NaN  NaN 159.0 256.0 100.0 LAX    01\n",
    "2 USW00023174 2014-01-03 17   0   NaN  NaN 140.0 178.0 83.0  LAX    01\n",
    "3 USW00023174 2014-01-04 18   0   NaN  NaN 136.0 183.0 100.0 LAX    01\n",
    "4 USW00023174 2014-01-05 18   0   NaN  NaN 151.0 244.0 83.0  LAX    01\n",
    "```"
   ]
  },
  {
   "cell_type": "markdown",
   "metadata": {},
   "source": [
    "Analyze and handle the **SNOW** and **SNWD** columns for missing values by using `fillna()`. To check the missing values for all the columns, use the `isna()` function."
   ]
  },
  {
   "cell_type": "code",
   "execution_count": 76,
   "metadata": {
    "tags": []
   },
   "outputs": [
    {
     "data": {
      "text/plain": [
       "STATION     0\n",
       "DATE        0\n",
       "AWND        0\n",
       "PRCP        0\n",
       "SNOW        0\n",
       "SNWD        0\n",
       "TAVG       62\n",
       "TMAX       20\n",
       "TMIN       20\n",
       "airport     0\n",
       "MONTH       0\n",
       "dtype: int64"
      ]
     },
     "execution_count": 76,
     "metadata": {},
     "output_type": "execute_result"
    }
   ],
   "source": [
    "weather.SNOW.fillna(0, inplace=True)\n",
    "weather.SNWD.fillna(0, inplace=True)\n",
    "weather.isna().sum()"
   ]
  },
  {
   "cell_type": "markdown",
   "metadata": {},
   "source": [
    "**Question**: Print the index of the rows that have missing values for *TAVG*, *TMAX*, *TMIN*.\n",
    "\n",
    "**Hint**: To find the rows that are missing, use the `isna()` function. Then, to get the index, use the list on the *idx* variable."
   ]
  },
  {
   "cell_type": "code",
   "execution_count": 77,
   "metadata": {
    "tags": []
   },
   "outputs": [
    {
     "data": {
      "text/plain": [
       "array([ 3956,  3957,  3958,  3959,  3960,  3961,  3962,  3963,  3964,\n",
       "        3965,  3966,  3967,  3968,  3969,  3970,  3971,  3972,  3973,\n",
       "        3974,  3975,  3976,  3977,  3978,  3979,  3980,  3981,  3982,\n",
       "        3983,  3984,  3985,  4017,  4018,  4019,  4020,  4021,  4022,\n",
       "        4023,  4024,  4025,  4026,  4027,  4028,  4029,  4030,  4031,\n",
       "        4032,  4033,  4034,  4035,  4036,  4037,  4038,  4039,  4040,\n",
       "        4041,  4042,  4043,  4044,  4045,  4046,  4047, 13420])"
      ]
     },
     "execution_count": 77,
     "metadata": {},
     "output_type": "execute_result"
    }
   ],
   "source": [
    "idx = np.array([i for i in range(len(weather))])\n",
    "TAVG_idx = idx[weather.TAVG.isna()] \n",
    "TMAX_idx = idx[weather.TMAX.isna()]\n",
    "TMIN_idx = idx[weather.TMIN.isna()]\n",
    "TAVG_idx"
   ]
  },
  {
   "cell_type": "markdown",
   "metadata": {},
   "source": [
    "### Sample output\n",
    "\n",
    "```\n",
    "array([ 3956,  3957,  3958,  3959,  3960,  3961,  3962,  3963,  3964,\n",
    "        3965,  3966,  3967,  3968,  3969,  3970,  3971,  3972,  3973,\n",
    "        3974,  3975,  3976,  3977,  3978,  3979,  3980,  3981,  3982,\n",
    "        3983,  3984,  3985,  4017,  4018,  4019,  4020,  4021,  4022,\n",
    "        4023,  4024,  4025,  4026,  4027,  4028,  4029,  4030,  4031,\n",
    "        4032,  4033,  4034,  4035,  4036,  4037,  4038,  4039,  4040,\n",
    "        4041,  4042,  4043,  4044,  4045,  4046,  4047, 13420])\n",
    "```"
   ]
  },
  {
   "cell_type": "markdown",
   "metadata": {},
   "source": [
    "You can replace the missing *TAVG*, *TMAX*, and *TMIN* values with the average value for a particular station or airport. Because consecutive rows of *TAVG_idx* are missing, replacing them with a previous value would not be possible. Instead, replace them with the mean. Use the `groupby` function to aggregate the variables with a mean value.\n",
    "\n",
    "**Hint:** Group by `MONTH` and `STATION`."
   ]
  },
  {
   "cell_type": "code",
   "execution_count": 78,
   "metadata": {
    "tags": []
   },
   "outputs": [
    {
     "data": {
      "text/html": [
       "<div>\n",
       "<style scoped>\n",
       "    .dataframe tbody tr th:only-of-type {\n",
       "        vertical-align: middle;\n",
       "    }\n",
       "\n",
       "    .dataframe tbody tr th {\n",
       "        vertical-align: top;\n",
       "    }\n",
       "\n",
       "    .dataframe thead th {\n",
       "        text-align: right;\n",
       "    }\n",
       "</style>\n",
       "<table border=\"1\" class=\"dataframe\">\n",
       "  <thead>\n",
       "    <tr style=\"text-align: right;\">\n",
       "      <th></th>\n",
       "      <th>MONTH</th>\n",
       "      <th>STATION</th>\n",
       "      <th>TAVG</th>\n",
       "      <th>TMAX</th>\n",
       "      <th>TMIN</th>\n",
       "    </tr>\n",
       "  </thead>\n",
       "  <tbody>\n",
       "    <tr>\n",
       "      <th>0</th>\n",
       "      <td>01</td>\n",
       "      <td>USW00003017</td>\n",
       "      <td>-2.741935</td>\n",
       "      <td>74.000000</td>\n",
       "      <td>-69.858065</td>\n",
       "    </tr>\n",
       "    <tr>\n",
       "      <th>1</th>\n",
       "      <td>01</td>\n",
       "      <td>USW00003927</td>\n",
       "      <td>79.529032</td>\n",
       "      <td>143.767742</td>\n",
       "      <td>20.696774</td>\n",
       "    </tr>\n",
       "  </tbody>\n",
       "</table>\n",
       "</div>"
      ],
      "text/plain": [
       "  MONTH      STATION       TAVG        TMAX       TMIN\n",
       "0    01  USW00003017  -2.741935   74.000000 -69.858065\n",
       "1    01  USW00003927  79.529032  143.767742  20.696774"
      ]
     },
     "execution_count": 78,
     "metadata": {},
     "output_type": "execute_result"
    }
   ],
   "source": [
    "weather_impute = weather.groupby(['MONTH', 'STATION']).agg({'TAVG':'mean','TMAX':'mean', 'TMIN':'mean' }).reset_index()# Enter your code here\n",
    "weather_impute.head(2)"
   ]
  },
  {
   "cell_type": "markdown",
   "metadata": {},
   "source": [
    "Merge the mean data with the weather data."
   ]
  },
  {
   "cell_type": "code",
   "execution_count": 79,
   "metadata": {
    "tags": []
   },
   "outputs": [],
   "source": [
    "\n",
    "weather = pd.merge(weather, weather_impute,  how='left', left_on=['MONTH','STATION'], right_on = ['MONTH','STATION'])\\\n",
    ".rename(columns = {'TAVG_y':'TAVG_AVG',\n",
    "                   'TMAX_y':'TMAX_AVG', \n",
    "                   'TMIN_y':'TMIN_AVG',\n",
    "                   'TAVG_x':'TAVG',\n",
    "                   'TMAX_x':'TMAX', \n",
    "                   'TMIN_x':'TMIN'})"
   ]
  },
  {
   "cell_type": "markdown",
   "metadata": {},
   "source": [
    "Check for missing values again."
   ]
  },
  {
   "cell_type": "code",
   "execution_count": 80,
   "metadata": {
    "tags": []
   },
   "outputs": [
    {
     "data": {
      "text/plain": [
       "STATION     0\n",
       "DATE        0\n",
       "AWND        0\n",
       "PRCP        0\n",
       "SNOW        0\n",
       "SNWD        0\n",
       "TAVG        0\n",
       "TMAX        0\n",
       "TMIN        0\n",
       "airport     0\n",
       "MONTH       0\n",
       "TAVG_AVG    0\n",
       "TMAX_AVG    0\n",
       "TMIN_AVG    0\n",
       "dtype: int64"
      ]
     },
     "execution_count": 80,
     "metadata": {},
     "output_type": "execute_result"
    }
   ],
   "source": [
    "weather.TAVG[TAVG_idx] = weather.TAVG_AVG[TAVG_idx]\n",
    "weather.TMAX[TMAX_idx] = weather.TMAX_AVG[TMAX_idx]\n",
    "weather.TMIN[TMIN_idx] = weather.TMIN_AVG[TMIN_idx]\n",
    "weather.isna().sum()"
   ]
  },
  {
   "cell_type": "markdown",
   "metadata": {},
   "source": [
    "Drop `STATION,MONTH,TAVG_AVG,TMAX_AVG,TMIN_AVG,TMAX,TMIN,SNWD` from the dataset."
   ]
  },
  {
   "cell_type": "code",
   "execution_count": 81,
   "metadata": {
    "tags": []
   },
   "outputs": [],
   "source": [
    "weather.drop(columns=['STATION','MONTH','TAVG_AVG', 'TMAX_AVG', 'TMIN_AVG', 'TMAX' ,'TMIN', 'SNWD'],inplace=True)"
   ]
  },
  {
   "cell_type": "markdown",
   "metadata": {},
   "source": [
    "Add the origin and destination weather conditions to the dataset."
   ]
  },
  {
   "cell_type": "code",
   "execution_count": 82,
   "metadata": {
    "tags": []
   },
   "outputs": [],
   "source": [
    "### Add origin weather conditions\n",
    "data_orig = pd.merge(data_orig, weather,  how='left', left_on=['FlightDate','Origin'], right_on = ['DATE','airport'])\\\n",
    ".rename(columns = {'AWND':'AWND_O','PRCP':'PRCP_O', 'TAVG':'TAVG_O', 'SNOW': 'SNOW_O'})\\\n",
    ".drop(columns=['DATE','airport'])\n",
    "\n",
    "### Add destination weather conditions\n",
    "data_orig = pd.merge(data_orig, weather,  how='left', left_on=['FlightDate','Dest'], right_on = ['DATE','airport'])\\\n",
    ".rename(columns = {'AWND':'AWND_D','PRCP':'PRCP_D', 'TAVG':'TAVG_D', 'SNOW': 'SNOW_D'})\\\n",
    ".drop(columns=['DATE','airport'])"
   ]
  },
  {
   "cell_type": "markdown",
   "metadata": {},
   "source": [
    "**Note**: It's always a good practice to check for nulls or NAs after joins."
   ]
  },
  {
   "cell_type": "code",
   "execution_count": 83,
   "metadata": {
    "tags": []
   },
   "outputs": [
    {
     "data": {
      "text/plain": [
       "0"
      ]
     },
     "execution_count": 83,
     "metadata": {},
     "output_type": "execute_result"
    }
   ],
   "source": [
    "sum(data.isna().any())"
   ]
  },
  {
   "cell_type": "code",
   "execution_count": 84,
   "metadata": {
    "tags": []
   },
   "outputs": [
    {
     "data": {
      "text/plain": [
       "Index(['Year', 'Quarter', 'Month', 'DayofMonth', 'DayOfWeek', 'FlightDate',\n",
       "       'Reporting_Airline', 'Origin', 'OriginState', 'Dest', 'DestState',\n",
       "       'CRSDepTime', 'Cancelled', 'Diverted', 'Distance', 'DistanceGroup',\n",
       "       'ArrDelay', 'ArrDelayMinutes', 'is_delay', 'AirTime', 'DepHourofDay',\n",
       "       'is_holiday', 'AWND_O', 'PRCP_O', 'SNOW_O', 'TAVG_O', 'AWND_D',\n",
       "       'PRCP_D', 'SNOW_D', 'TAVG_D'],\n",
       "      dtype='object')"
      ]
     },
     "execution_count": 84,
     "metadata": {},
     "output_type": "execute_result"
    }
   ],
   "source": [
    "data_orig.columns"
   ]
  },
  {
   "cell_type": "markdown",
   "metadata": {},
   "source": [
    "Convert the categorical data into numerical data by using one-hot encoding."
   ]
  },
  {
   "cell_type": "code",
   "execution_count": 85,
   "metadata": {
    "tags": []
   },
   "outputs": [],
   "source": [
    "data = data_orig.copy()\n",
    "data = data[['is_delay', 'Year', 'Quarter', 'Month', 'DayofMonth', 'DayOfWeek', \n",
    "       'Reporting_Airline', 'Origin', 'Dest','Distance','DepHourofDay','is_holiday', 'AWND_O', 'PRCP_O',\n",
    "       'TAVG_O', 'AWND_D', 'PRCP_D', 'TAVG_D', 'SNOW_O', 'SNOW_D']]\n",
    "\n",
    "\n",
    "categorical_columns  = ['Year', 'Quarter', 'Month', 'DayofMonth', 'DayOfWeek', \n",
    "       'Reporting_Airline', 'Origin', 'Dest', 'is_holiday']\n",
    "for c in categorical_columns:\n",
    "    data[c] = data[c].astype('category')"
   ]
  },
  {
   "cell_type": "code",
   "execution_count": 86,
   "metadata": {
    "tags": []
   },
   "outputs": [],
   "source": [
    "data_dummies = pd.get_dummies(data[['Year', 'Quarter', 'Month', 'DayofMonth', 'DayOfWeek', 'Reporting_Airline', 'Origin', 'Dest', 'is_holiday']], drop_first=True)\n",
    "data_dummies = data_dummies.replace({True: 1, False: 0})\n",
    "data = pd.concat([data, data_dummies], axis = 1)\n",
    "data.drop(categorical_columns,axis=1, inplace=True)"
   ]
  },
  {
   "cell_type": "markdown",
   "metadata": {},
   "source": [
    "Check the new columns."
   ]
  },
  {
   "cell_type": "code",
   "execution_count": 87,
   "metadata": {
    "tags": []
   },
   "outputs": [
    {
     "data": {
      "text/plain": [
       "(1635590, 85)"
      ]
     },
     "execution_count": 87,
     "metadata": {},
     "output_type": "execute_result"
    }
   ],
   "source": [
    "data.shape"
   ]
  },
  {
   "cell_type": "code",
   "execution_count": 88,
   "metadata": {
    "tags": []
   },
   "outputs": [
    {
     "data": {
      "text/plain": [
       "Index(['is_delay', 'Distance', 'DepHourofDay', 'AWND_O', 'PRCP_O', 'TAVG_O',\n",
       "       'AWND_D', 'PRCP_D', 'TAVG_D', 'SNOW_O', 'SNOW_D', 'Year_2015',\n",
       "       'Year_2016', 'Year_2017', 'Year_2018', 'Quarter_2', 'Quarter_3',\n",
       "       'Quarter_4', 'Month_2', 'Month_3', 'Month_4', 'Month_5', 'Month_6',\n",
       "       'Month_7', 'Month_8', 'Month_9', 'Month_10', 'Month_11', 'Month_12',\n",
       "       'DayofMonth_2', 'DayofMonth_3', 'DayofMonth_4', 'DayofMonth_5',\n",
       "       'DayofMonth_6', 'DayofMonth_7', 'DayofMonth_8', 'DayofMonth_9',\n",
       "       'DayofMonth_10', 'DayofMonth_11', 'DayofMonth_12', 'DayofMonth_13',\n",
       "       'DayofMonth_14', 'DayofMonth_15', 'DayofMonth_16', 'DayofMonth_17',\n",
       "       'DayofMonth_18', 'DayofMonth_19', 'DayofMonth_20', 'DayofMonth_21',\n",
       "       'DayofMonth_22', 'DayofMonth_23', 'DayofMonth_24', 'DayofMonth_25',\n",
       "       'DayofMonth_26', 'DayofMonth_27', 'DayofMonth_28', 'DayofMonth_29',\n",
       "       'DayofMonth_30', 'DayofMonth_31', 'DayOfWeek_2', 'DayOfWeek_3',\n",
       "       'DayOfWeek_4', 'DayOfWeek_5', 'DayOfWeek_6', 'DayOfWeek_7',\n",
       "       'Reporting_Airline_DL', 'Reporting_Airline_OO', 'Reporting_Airline_UA',\n",
       "       'Reporting_Airline_WN', 'Origin_CLT', 'Origin_DEN', 'Origin_DFW',\n",
       "       'Origin_IAH', 'Origin_LAX', 'Origin_ORD', 'Origin_PHX', 'Origin_SFO',\n",
       "       'Dest_CLT', 'Dest_DEN', 'Dest_DFW', 'Dest_IAH', 'Dest_LAX', 'Dest_ORD',\n",
       "       'Dest_PHX', 'Dest_SFO'],\n",
       "      dtype='object')"
      ]
     },
     "execution_count": 88,
     "metadata": {},
     "output_type": "execute_result"
    }
   ],
   "source": [
    "data.columns"
   ]
  },
  {
   "cell_type": "markdown",
   "metadata": {},
   "source": [
    "### Sample output\n",
    "\n",
    "```\n",
    "Index(['Distance', 'DepHourofDay', 'is_delay', 'AWND_O', 'PRCP_O', 'TAVG_O',\n",
    "       'AWND_D', 'PRCP_D', 'TAVG_D', 'SNOW_O', 'SNOW_D', 'Year_2015',\n",
    "       'Year_2016', 'Year_2017', 'Year_2018', 'Quarter_2', 'Quarter_3',\n",
    "       'Quarter_4', 'Month_2', 'Month_3', 'Month_4', 'Month_5', 'Month_6',\n",
    "       'Month_7', 'Month_8', 'Month_9', 'Month_10', 'Month_11', 'Month_12',\n",
    "       'DayofMonth_2', 'DayofMonth_3', 'DayofMonth_4', 'DayofMonth_5',\n",
    "       'DayofMonth_6', 'DayofMonth_7', 'DayofMonth_8', 'DayofMonth_9',\n",
    "       'DayofMonth_10', 'DayofMonth_11', 'DayofMonth_12', 'DayofMonth_13',\n",
    "       'DayofMonth_14', 'DayofMonth_15', 'DayofMonth_16', 'DayofMonth_17',\n",
    "       'DayofMonth_18', 'DayofMonth_19', 'DayofMonth_20', 'DayofMonth_21',\n",
    "       'DayofMonth_22', 'DayofMonth_23', 'DayofMonth_24', 'DayofMonth_25',\n",
    "       'DayofMonth_26', 'DayofMonth_27', 'DayofMonth_28', 'DayofMonth_29',\n",
    "       'DayofMonth_30', 'DayofMonth_31', 'DayOfWeek_2', 'DayOfWeek_3',\n",
    "       'DayOfWeek_4', 'DayOfWeek_5', 'DayOfWeek_6', 'DayOfWeek_7',\n",
    "       'Reporting_Airline_DL', 'Reporting_Airline_OO', 'Reporting_Airline_UA',\n",
    "       'Reporting_Airline_WN', 'Origin_CLT', 'Origin_DEN', 'Origin_DFW',\n",
    "       'Origin_IAH', 'Origin_LAX', 'Origin_ORD', 'Origin_PHX', 'Origin_SFO',\n",
    "       'Dest_CLT', 'Dest_DEN', 'Dest_DFW', 'Dest_IAH', 'Dest_LAX', 'Dest_ORD',\n",
    "       'Dest_PHX', 'Dest_SFO', 'is_holiday_1'],\n",
    "      dtype='object')\n",
    "```"
   ]
  },
  {
   "cell_type": "markdown",
   "metadata": {},
   "source": [
    "Rename the **is_delay** column to *target* again. Use the same code that you used previously."
   ]
  },
  {
   "cell_type": "code",
   "execution_count": 89,
   "metadata": {
    "tags": []
   },
   "outputs": [],
   "source": [
    "data.rename(columns = {'is_delay':'target'}, inplace=True )# Enter your code here"
   ]
  },
  {
   "cell_type": "markdown",
   "metadata": {},
   "source": [
    "Create the training sets again.\n",
    "\n",
    "**Hint:** Use the `split_data` function that you defined (and used) earlier."
   ]
  },
  {
   "cell_type": "code",
   "execution_count": 90,
   "metadata": {
    "tags": []
   },
   "outputs": [
    {
     "name": "stdout",
     "output_type": "stream",
     "text": [
      "target\n",
      "0.0    1033806\n",
      "1.0     274666\n",
      "Name: count, dtype: int64\n",
      "target\n",
      "0.0    129226\n",
      "1.0     34333\n",
      "Name: count, dtype: int64\n",
      "target\n",
      "0.0    129226\n",
      "1.0     34333\n",
      "Name: count, dtype: int64\n"
     ]
    }
   ],
   "source": [
    "from sklearn.model_selection import train_test_split\n",
    "def split_data(data):\n",
    "    train, test_and_validate = train_test_split(data, test_size=0.2 , random_state=42, stratify=data['target'])\n",
    "    test, validate = train_test_split(test_and_validate, test_size=0.5, random_state=42, stratify=test_and_validate['target'])\n",
    "    return train, validate, test \n",
    "train, validate , test = split_data(data)\n",
    "print(train['target'].value_counts())\n",
    "print(test['target'].value_counts())\n",
    "print(validate['target'].value_counts())"
   ]
  },
  {
   "cell_type": "markdown",
   "metadata": {},
   "source": [
    "### New baseline classifier\n",
    "\n",
    "Now, see if these new features add any predictive power to the model."
   ]
  },
  {
   "cell_type": "code",
   "execution_count": 91,
   "metadata": {
    "tags": []
   },
   "outputs": [],
   "source": [
    "# Instantiate the LinearLearner estimator object\n",
    "classifier_estimator2 = sagemaker.LinearLearner(role=sagemaker.get_execution_role(),\n",
    "                                               instance_count=1,\n",
    "                                               instance_type='ml.m4.xlarge',\n",
    "                                               predictor_type='binary_classifier',\n",
    "                                               binary_classifier_model_selection_criteria = 'cross_entropy_loss')"
   ]
  },
  {
   "cell_type": "markdown",
   "metadata": {},
   "source": [
    "### Sample code\n",
    "\n",
    "```\n",
    "num_classes = len(pd.unique(train_labels)) \n",
    "classifier_estimator2 = sagemaker.LinearLearner(role=sagemaker.get_execution_role(),\n",
    "                                               instance_count=1,\n",
    "                                               instance_type='ml.m4.xlarge',\n",
    "                                               predictor_type='binary_classifier',\n",
    "                                               binary_classifier_model_selection_criteria = 'cross_entropy_loss')\n",
    "```"
   ]
  },
  {
   "cell_type": "code",
   "execution_count": 92,
   "metadata": {
    "tags": []
   },
   "outputs": [],
   "source": [
    "train_records = classifier_estimator2.record_set(train.values[:, 1:].astype(np.float32), train.values[:, 0].astype(np.float32), channel='train')\n",
    "val_records = classifier_estimator2.record_set(validate.values[:, 1:].astype(np.float32), validate.values[:, 0].astype(np.float32), channel='validation')\n",
    "test_records = classifier_estimator2.record_set(test.values[:, 1:].astype(np.float32), test.values[:, 0].astype(np.float32), channel='test')"
   ]
  },
  {
   "cell_type": "markdown",
   "metadata": {},
   "source": [
    "Train your model by using the three datasets that you just created."
   ]
  },
  {
   "cell_type": "code",
   "execution_count": 93,
   "metadata": {
    "tags": []
   },
   "outputs": [
    {
     "name": "stderr",
     "output_type": "stream",
     "text": [
      "INFO:sagemaker.image_uris:Same images used for training and inference. Defaulting to image scope: inference.\n",
      "INFO:sagemaker.image_uris:Ignoring unnecessary instance type: None.\n",
      "INFO:sagemaker.image_uris:Same images used for training and inference. Defaulting to image scope: inference.\n",
      "INFO:sagemaker.image_uris:Ignoring unnecessary instance type: None.\n",
      "INFO:sagemaker:Creating training-job with name: linear-learner-2024-09-23-21-31-43-325\n"
     ]
    },
    {
     "name": "stdout",
     "output_type": "stream",
     "text": [
      "2024-09-23 21:31:44 Starting - Starting the training job...\n",
      "2024-09-23 21:32:00 Starting - Preparing the instances for training...\n",
      "2024-09-23 21:32:33 Downloading - Downloading input data......\n",
      "2024-09-23 21:33:23 Downloading - Downloading the training image......\n",
      "2024-09-23 21:34:19 Training - Training image download completed. Training in progress..\u001b[34mDocker entrypoint called with argument(s): train\u001b[0m\n",
      "\u001b[34mRunning default environment configuration script\u001b[0m\n",
      "\u001b[34m[09/23/2024 21:34:42 INFO 140539079042880] Reading default configuration from /opt/amazon/lib/python3.8/site-packages/algorithm/resources/default-input.json: {'mini_batch_size': '1000', 'epochs': '15', 'feature_dim': 'auto', 'use_bias': 'true', 'binary_classifier_model_selection_criteria': 'accuracy', 'f_beta': '1.0', 'target_recall': '0.8', 'target_precision': '0.8', 'num_models': 'auto', 'num_calibration_samples': '10000000', 'init_method': 'uniform', 'init_scale': '0.07', 'init_sigma': '0.01', 'init_bias': '0.0', 'optimizer': 'auto', 'loss': 'auto', 'margin': '1.0', 'quantile': '0.5', 'loss_insensitivity': '0.01', 'huber_delta': '1.0', 'num_classes': '1', 'accuracy_top_k': '3', 'wd': 'auto', 'l1': 'auto', 'momentum': 'auto', 'learning_rate': 'auto', 'beta_1': 'auto', 'beta_2': 'auto', 'bias_lr_mult': 'auto', 'bias_wd_mult': 'auto', 'use_lr_scheduler': 'true', 'lr_scheduler_step': 'auto', 'lr_scheduler_factor': 'auto', 'lr_scheduler_minimum_lr': 'auto', 'positive_example_weight_mult': '1.0', 'balance_multiclass_weights': 'false', 'normalize_data': 'true', 'normalize_label': 'auto', 'unbias_data': 'auto', 'unbias_label': 'auto', 'num_point_for_scaler': '10000', '_kvstore': 'auto', '_num_gpus': 'auto', '_num_kv_servers': 'auto', '_log_level': 'info', '_tuning_objective_metric': '', 'early_stopping_patience': '3', 'early_stopping_tolerance': '0.001', '_enable_profiler': 'false'}\u001b[0m\n",
      "\u001b[34m[09/23/2024 21:34:42 INFO 140539079042880] Merging with provided configuration from /opt/ml/input/config/hyperparameters.json: {'binary_classifier_model_selection_criteria': 'cross_entropy_loss', 'feature_dim': '84', 'mini_batch_size': '1000', 'predictor_type': 'binary_classifier'}\u001b[0m\n",
      "\u001b[34m[09/23/2024 21:34:42 INFO 140539079042880] Final configuration: {'mini_batch_size': '1000', 'epochs': '15', 'feature_dim': '84', 'use_bias': 'true', 'binary_classifier_model_selection_criteria': 'cross_entropy_loss', 'f_beta': '1.0', 'target_recall': '0.8', 'target_precision': '0.8', 'num_models': 'auto', 'num_calibration_samples': '10000000', 'init_method': 'uniform', 'init_scale': '0.07', 'init_sigma': '0.01', 'init_bias': '0.0', 'optimizer': 'auto', 'loss': 'auto', 'margin': '1.0', 'quantile': '0.5', 'loss_insensitivity': '0.01', 'huber_delta': '1.0', 'num_classes': '1', 'accuracy_top_k': '3', 'wd': 'auto', 'l1': 'auto', 'momentum': 'auto', 'learning_rate': 'auto', 'beta_1': 'auto', 'beta_2': 'auto', 'bias_lr_mult': 'auto', 'bias_wd_mult': 'auto', 'use_lr_scheduler': 'true', 'lr_scheduler_step': 'auto', 'lr_scheduler_factor': 'auto', 'lr_scheduler_minimum_lr': 'auto', 'positive_example_weight_mult': '1.0', 'balance_multiclass_weights': 'false', 'normalize_data': 'true', 'normalize_label': 'auto', 'unbias_data': 'auto', 'unbias_label': 'auto', 'num_point_for_scaler': '10000', '_kvstore': 'auto', '_num_gpus': 'auto', '_num_kv_servers': 'auto', '_log_level': 'info', '_tuning_objective_metric': '', 'early_stopping_patience': '3', 'early_stopping_tolerance': '0.001', '_enable_profiler': 'false', 'predictor_type': 'binary_classifier'}\u001b[0m\n",
      "\u001b[34m/opt/amazon/lib/python3.8/site-packages/mxnet/model.py:97: SyntaxWarning: \"is\" with a literal. Did you mean \"==\"?\n",
      "  if num_device is 1 and 'dist' not in kvstore:\u001b[0m\n",
      "\u001b[34m/opt/amazon/lib/python3.8/site-packages/scipy/optimize/_shgo.py:495: SyntaxWarning: \"is\" with a literal. Did you mean \"==\"?\n",
      "  if cons['type'] is 'ineq':\u001b[0m\n",
      "\u001b[34m/opt/amazon/lib/python3.8/site-packages/scipy/optimize/_shgo.py:743: SyntaxWarning: \"is not\" with a literal. Did you mean \"!=\"?\n",
      "  if len(self.X_min) is not 0:\u001b[0m\n",
      "\u001b[34m[09/23/2024 21:34:45 WARNING 140539079042880] Loggers have already been setup.\u001b[0m\n",
      "\u001b[34m[09/23/2024 21:34:45 INFO 140539079042880] Final configuration: {'mini_batch_size': '1000', 'epochs': '15', 'feature_dim': '84', 'use_bias': 'true', 'binary_classifier_model_selection_criteria': 'cross_entropy_loss', 'f_beta': '1.0', 'target_recall': '0.8', 'target_precision': '0.8', 'num_models': 'auto', 'num_calibration_samples': '10000000', 'init_method': 'uniform', 'init_scale': '0.07', 'init_sigma': '0.01', 'init_bias': '0.0', 'optimizer': 'auto', 'loss': 'auto', 'margin': '1.0', 'quantile': '0.5', 'loss_insensitivity': '0.01', 'huber_delta': '1.0', 'num_classes': '1', 'accuracy_top_k': '3', 'wd': 'auto', 'l1': 'auto', 'momentum': 'auto', 'learning_rate': 'auto', 'beta_1': 'auto', 'beta_2': 'auto', 'bias_lr_mult': 'auto', 'bias_wd_mult': 'auto', 'use_lr_scheduler': 'true', 'lr_scheduler_step': 'auto', 'lr_scheduler_factor': 'auto', 'lr_scheduler_minimum_lr': 'auto', 'positive_example_weight_mult': '1.0', 'balance_multiclass_weights': 'false', 'normalize_data': 'true', 'normalize_label': 'auto', 'unbias_data': 'auto', 'unbias_label': 'auto', 'num_point_for_scaler': '10000', '_kvstore': 'auto', '_num_gpus': 'auto', '_num_kv_servers': 'auto', '_log_level': 'info', '_tuning_objective_metric': '', 'early_stopping_patience': '3', 'early_stopping_tolerance': '0.001', '_enable_profiler': 'false', 'predictor_type': 'binary_classifier'}\u001b[0m\n",
      "\u001b[34m[09/23/2024 21:34:45 WARNING 140539079042880] Loggers have already been setup.\u001b[0m\n",
      "\u001b[34mProcess 7 is a worker.\u001b[0m\n",
      "\u001b[34m[09/23/2024 21:34:45 INFO 140539079042880] Using default worker.\u001b[0m\n",
      "\u001b[34m[09/23/2024 21:34:45 INFO 140539079042880] Checkpoint loading and saving are disabled.\u001b[0m\n",
      "\u001b[34m[2024-09-23 21:34:45.816] [tensorio] [warning] TensorIO is already initialized; ignoring the initialization routine.\u001b[0m\n",
      "\u001b[34m[2024-09-23 21:34:45.821] [tensorio] [warning] TensorIO is already initialized; ignoring the initialization routine.\u001b[0m\n",
      "\u001b[34m[2024-09-23 21:34:45.886] [tensorio] [info] epoch_stats={\"data_pipeline\": \"/opt/ml/input/data/train\", \"epoch\": 0, \"duration\": 72, \"num_examples\": 1, \"num_bytes\": 384000}\u001b[0m\n",
      "\u001b[34m[09/23/2024 21:34:45 INFO 140539079042880] Create Store: local\u001b[0m\n",
      "\u001b[34m[2024-09-23 21:34:45.993] [tensorio] [info] epoch_stats={\"data_pipeline\": \"/opt/ml/input/data/train\", \"epoch\": 1, \"duration\": 105, \"num_examples\": 11, \"num_bytes\": 4224000}\u001b[0m\n",
      "\u001b[34m[09/23/2024 21:34:45 INFO 140539079042880] Scaler algorithm parameters\n",
      " <algorithm.scaler.ScalerAlgorithmStable object at 0x7fd13d95cb80>\u001b[0m\n",
      "\u001b[34m[09/23/2024 21:34:45 INFO 140539079042880] Scaling model computed with parameters:\n",
      " {'stdev_label': None, 'stdev_weight': \u001b[0m\n",
      "\u001b[34m[5.3656177e+02 4.9665051e+00 1.6415043e+01 7.6470490e+01 8.9286293e+01\n",
      " 1.5953535e+01 7.4930412e+01 8.9455292e+01 6.1173754e+00 7.0701246e+00\n",
      " 3.9620072e-01 4.1716257e-01 4.0878889e-01 4.0229961e-01 4.2867699e-01\n",
      " 4.3942702e-01 4.4191238e-01 2.5863838e-01 2.7269542e-01 2.6162291e-01\n",
      " 2.7779642e-01 2.7806830e-01 2.8889754e-01 2.8303033e-01 2.7394879e-01\n",
      " 2.8657207e-01 2.8889757e-01 2.7725145e-01 1.8377978e-01 1.7527308e-01\n",
      " 1.7624155e-01 1.7551577e-01 1.7257783e-01 1.7503001e-01 1.7648271e-01\n",
      " 1.8052632e-01 1.8560937e-01 1.8285699e-01 1.7982028e-01 1.8354957e-01\n",
      " 1.7405386e-01 1.7008545e-01 1.7744365e-01 1.8764298e-01 1.7356344e-01\n",
      " 1.7839870e-01 1.8308820e-01 1.7792189e-01 1.7033654e-01 1.7233042e-01\n",
      " 1.7307143e-01 1.7934784e-01 1.8515392e-01 1.8122914e-01 1.7768294e-01\n",
      " 1.7208263e-01 1.7331764e-01 1.3811614e-01 3.5401526e-01 3.5563987e-01\n",
      " 3.5200915e-01 3.5062826e-01 3.2633847e-01 3.5635707e-01 3.6886725e-01\n",
      " 2.3391527e-01 4.5781982e-01 3.1413215e-01 2.3832709e-01 3.1243593e-01\n",
      " 3.3102790e-01 2.7311414e-01 3.5626769e-01 3.3957475e-01 3.0024230e-01\n",
      " 3.3327827e-01 2.4328971e-01 3.2250047e-01 3.2707569e-01 2.7185535e-01\n",
      " 3.5635707e-01 3.3710191e-01 2.9484043e-01 3.2833287e-01]\u001b[0m\n",
      "\u001b[34m<NDArray 84 @cpu(0)>, 'mean_label': None, 'mean_weight': \u001b[0m\n",
      "\u001b[34m[1.01061426e+03 1.28080921e+01 3.86912727e+01 2.06083660e+01\n",
      " 1.72403458e+02 3.81644554e+01 2.05383644e+01 1.72255096e+02\n",
      " 5.28727233e-01 6.37727261e-01 1.95000023e-01 2.24363640e-01\n",
      " 2.12090924e-01 2.03090936e-01 2.42636383e-01 2.61454582e-01\n",
      " 2.66090959e-01 7.20909163e-02 8.09091032e-02 7.39090890e-02\n",
      " 8.42727423e-02 8.44545588e-02 9.19090956e-02 8.78181979e-02\n",
      " 8.17272812e-02 9.02727246e-02 9.19091031e-02 8.39091018e-02\n",
      " 3.50000039e-02 3.17272767e-02 3.20909135e-02 3.18181850e-02\n",
      " 3.07272766e-02 3.16363648e-02 3.21818218e-02 3.37272733e-02\n",
      " 3.57272737e-02 3.46363671e-02 3.34545486e-02 3.49090956e-02\n",
      " 3.12727280e-02 2.98181847e-02 3.25454548e-02 3.65454629e-02\n",
      " 3.10909078e-02 3.29090953e-02 3.47272754e-02 3.27272750e-02\n",
      " 2.99090929e-02 3.06363646e-02 3.09090931e-02 3.32727320e-02\n",
      " 3.55454572e-02 3.40000093e-02 3.26363668e-02 3.05454582e-02\n",
      " 3.10000032e-02 1.94545444e-02 1.46909088e-01 1.48545489e-01\n",
      " 1.44909114e-01 1.43545449e-01 1.21181831e-01 1.49272725e-01\n",
      " 1.62454560e-01 5.80909103e-02 2.98999965e-01 1.11000001e-01\n",
      " 6.04545511e-02 1.09636374e-01 1.25272736e-01 8.11818242e-02\n",
      " 1.49181813e-01 1.33000016e-01 1.00181825e-01 1.27272740e-01\n",
      " 6.31818250e-02 1.17909104e-01 1.21818192e-01 8.03636461e-02\n",
      " 1.49272755e-01 1.30727291e-01 9.61818397e-02 1.22909114e-01]\u001b[0m\n",
      "\u001b[34m<NDArray 84 @cpu(0)>}\u001b[0m\n",
      "\u001b[34m/opt/amazon/python3.8/lib/python3.8/subprocess.py:848: RuntimeWarning: line buffering (buffering=1) isn't supported in binary mode, the default buffer size will be used\n",
      "  self.stdout = io.open(c2pread, 'rb', bufsize)\u001b[0m\n",
      "\u001b[34m[09/23/2024 21:34:46 INFO 140539079042880] nvidia-smi: took 0.038 seconds to run.\u001b[0m\n",
      "\u001b[34m[09/23/2024 21:34:46 INFO 140539079042880] nvidia-smi identified 0 GPUs.\u001b[0m\n",
      "\u001b[34m[09/23/2024 21:34:46 INFO 140539079042880] Number of GPUs being used: 0\u001b[0m\n",
      "\u001b[34m#metrics {\"StartTime\": 1727127286.0910063, \"EndTime\": 1727127286.0910735, \"Dimensions\": {\"Algorithm\": \"Linear Learner\", \"Host\": \"algo-1\", \"Operation\": \"training\", \"Meta\": \"init_train_data_iter\"}, \"Metrics\": {\"Total Records Seen\": {\"sum\": 12000.0, \"count\": 1, \"min\": 12000, \"max\": 12000}, \"Total Batches Seen\": {\"sum\": 12.0, \"count\": 1, \"min\": 12, \"max\": 12}, \"Max Records Seen Between Resets\": {\"sum\": 11000.0, \"count\": 1, \"min\": 11000, \"max\": 11000}, \"Max Batches Seen Between Resets\": {\"sum\": 11.0, \"count\": 1, \"min\": 11, \"max\": 11}, \"Reset Count\": {\"sum\": 2.0, \"count\": 1, \"min\": 2, \"max\": 2}, \"Number of Records Since Last Reset\": {\"sum\": 0.0, \"count\": 1, \"min\": 0, \"max\": 0}, \"Number of Batches Since Last Reset\": {\"sum\": 0.0, \"count\": 1, \"min\": 0, \"max\": 0}}}\u001b[0m\n",
      "\u001b[34m[2024-09-23 21:35:15.489] [tensorio] [info] epoch_stats={\"data_pipeline\": \"/opt/ml/input/data/train\", \"epoch\": 3, \"duration\": 29398, \"num_examples\": 1309, \"num_bytes\": 502453248}\u001b[0m\n",
      "\u001b[34m#metrics {\"StartTime\": 1727127315.489866, \"EndTime\": 1727127315.4899635, \"Dimensions\": {\"Algorithm\": \"Linear Learner\", \"Host\": \"algo-1\", \"Operation\": \"training\", \"epoch\": 0, \"model\": 0}, \"Metrics\": {\"train_binary_classification_cross_entropy_objective\": {\"sum\": 0.48312153914798656, \"count\": 1, \"min\": 0.48312153914798656, \"max\": 0.48312153914798656}}}\u001b[0m\n",
      "\u001b[34m#metrics {\"StartTime\": 1727127315.4900465, \"EndTime\": 1727127315.4900622, \"Dimensions\": {\"Algorithm\": \"Linear Learner\", \"Host\": \"algo-1\", \"Operation\": \"training\", \"epoch\": 0, \"model\": 1}, \"Metrics\": {\"train_binary_classification_cross_entropy_objective\": {\"sum\": 0.48368906255599553, \"count\": 1, \"min\": 0.48368906255599553, \"max\": 0.48368906255599553}}}\u001b[0m\n",
      "\u001b[34m#metrics {\"StartTime\": 1727127315.4900992, \"EndTime\": 1727127315.4901106, \"Dimensions\": {\"Algorithm\": \"Linear Learner\", \"Host\": \"algo-1\", \"Operation\": \"training\", \"epoch\": 0, \"model\": 2}, \"Metrics\": {\"train_binary_classification_cross_entropy_objective\": {\"sum\": 0.48325386618984584, \"count\": 1, \"min\": 0.48325386618984584, \"max\": 0.48325386618984584}}}\u001b[0m\n",
      "\u001b[34m#metrics {\"StartTime\": 1727127315.490141, \"EndTime\": 1727127315.4901512, \"Dimensions\": {\"Algorithm\": \"Linear Learner\", \"Host\": \"algo-1\", \"Operation\": \"training\", \"epoch\": 0, \"model\": 3}, \"Metrics\": {\"train_binary_classification_cross_entropy_objective\": {\"sum\": 0.4839588847962359, \"count\": 1, \"min\": 0.4839588847962359, \"max\": 0.4839588847962359}}}\u001b[0m\n",
      "\u001b[34m#metrics {\"StartTime\": 1727127315.4901922, \"EndTime\": 1727127315.490203, \"Dimensions\": {\"Algorithm\": \"Linear Learner\", \"Host\": \"algo-1\", \"Operation\": \"training\", \"epoch\": 0, \"model\": 4}, \"Metrics\": {\"train_binary_classification_cross_entropy_objective\": {\"sum\": 0.4951444639853381, \"count\": 1, \"min\": 0.4951444639853381, \"max\": 0.4951444639853381}}}\u001b[0m\n",
      "\u001b[34m#metrics {\"StartTime\": 1727127315.4902306, \"EndTime\": 1727127315.4902406, \"Dimensions\": {\"Algorithm\": \"Linear Learner\", \"Host\": \"algo-1\", \"Operation\": \"training\", \"epoch\": 0, \"model\": 5}, \"Metrics\": {\"train_binary_classification_cross_entropy_objective\": {\"sum\": 0.5044718244826757, \"count\": 1, \"min\": 0.5044718244826757, \"max\": 0.5044718244826757}}}\u001b[0m\n",
      "\u001b[34m#metrics {\"StartTime\": 1727127315.4902666, \"EndTime\": 1727127315.4902756, \"Dimensions\": {\"Algorithm\": \"Linear Learner\", \"Host\": \"algo-1\", \"Operation\": \"training\", \"epoch\": 0, \"model\": 6}, \"Metrics\": {\"train_binary_classification_cross_entropy_objective\": {\"sum\": 0.49520411745123905, \"count\": 1, \"min\": 0.49520411745123905, \"max\": 0.49520411745123905}}}\u001b[0m\n",
      "\u001b[34m#metrics {\"StartTime\": 1727127315.4903111, \"EndTime\": 1727127315.4903216, \"Dimensions\": {\"Algorithm\": \"Linear Learner\", \"Host\": \"algo-1\", \"Operation\": \"training\", \"epoch\": 0, \"model\": 7}, \"Metrics\": {\"train_binary_classification_cross_entropy_objective\": {\"sum\": 0.5044305580209154, \"count\": 1, \"min\": 0.5044305580209154, \"max\": 0.5044305580209154}}}\u001b[0m\n",
      "\u001b[34m#metrics {\"StartTime\": 1727127315.490348, \"EndTime\": 1727127315.490358, \"Dimensions\": {\"Algorithm\": \"Linear Learner\", \"Host\": \"algo-1\", \"Operation\": \"training\", \"epoch\": 0, \"model\": 8}, \"Metrics\": {\"train_binary_classification_cross_entropy_objective\": {\"sum\": 0.48357100929470237, \"count\": 1, \"min\": 0.48357100929470237, \"max\": 0.48357100929470237}}}\u001b[0m\n",
      "\u001b[34m#metrics {\"StartTime\": 1727127315.4903836, \"EndTime\": 1727127315.4903936, \"Dimensions\": {\"Algorithm\": \"Linear Learner\", \"Host\": \"algo-1\", \"Operation\": \"training\", \"epoch\": 0, \"model\": 9}, \"Metrics\": {\"train_binary_classification_cross_entropy_objective\": {\"sum\": 0.48391757038828065, \"count\": 1, \"min\": 0.48391757038828065, \"max\": 0.48391757038828065}}}\u001b[0m\n",
      "\u001b[34m#metrics {\"StartTime\": 1727127315.490428, \"EndTime\": 1727127315.490438, \"Dimensions\": {\"Algorithm\": \"Linear Learner\", \"Host\": \"algo-1\", \"Operation\": \"training\", \"epoch\": 0, \"model\": 10}, \"Metrics\": {\"train_binary_classification_cross_entropy_objective\": {\"sum\": 0.4833798690235943, \"count\": 1, \"min\": 0.4833798690235943, \"max\": 0.4833798690235943}}}\u001b[0m\n",
      "\u001b[34m#metrics {\"StartTime\": 1727127315.4904642, \"EndTime\": 1727127315.490474, \"Dimensions\": {\"Algorithm\": \"Linear Learner\", \"Host\": \"algo-1\", \"Operation\": \"training\", \"epoch\": 0, \"model\": 11}, \"Metrics\": {\"train_binary_classification_cross_entropy_objective\": {\"sum\": 0.4838856473216952, \"count\": 1, \"min\": 0.4838856473216952, \"max\": 0.4838856473216952}}}\u001b[0m\n",
      "\u001b[34m#metrics {\"StartTime\": 1727127315.4904995, \"EndTime\": 1727127315.4905086, \"Dimensions\": {\"Algorithm\": \"Linear Learner\", \"Host\": \"algo-1\", \"Operation\": \"training\", \"epoch\": 0, \"model\": 12}, \"Metrics\": {\"train_binary_classification_cross_entropy_objective\": {\"sum\": 0.49443604553875936, \"count\": 1, \"min\": 0.49443604553875936, \"max\": 0.49443604553875936}}}\u001b[0m\n",
      "\u001b[34m#metrics {\"StartTime\": 1727127315.4905436, \"EndTime\": 1727127315.4905536, \"Dimensions\": {\"Algorithm\": \"Linear Learner\", \"Host\": \"algo-1\", \"Operation\": \"training\", \"epoch\": 0, \"model\": 13}, \"Metrics\": {\"train_binary_classification_cross_entropy_objective\": {\"sum\": 0.5029982283939279, \"count\": 1, \"min\": 0.5029982283939279, \"max\": 0.5029982283939279}}}\u001b[0m\n",
      "\u001b[34m#metrics {\"StartTime\": 1727127315.4905796, \"EndTime\": 1727127315.4905894, \"Dimensions\": {\"Algorithm\": \"Linear Learner\", \"Host\": \"algo-1\", \"Operation\": \"training\", \"epoch\": 0, \"model\": 14}, \"Metrics\": {\"train_binary_classification_cross_entropy_objective\": {\"sum\": 0.49448346159582107, \"count\": 1, \"min\": 0.49448346159582107, \"max\": 0.49448346159582107}}}\u001b[0m\n",
      "\u001b[34m#metrics {\"StartTime\": 1727127315.4906154, \"EndTime\": 1727127315.4906247, \"Dimensions\": {\"Algorithm\": \"Linear Learner\", \"Host\": \"algo-1\", \"Operation\": \"training\", \"epoch\": 0, \"model\": 15}, \"Metrics\": {\"train_binary_classification_cross_entropy_objective\": {\"sum\": 0.503038727646574, \"count\": 1, \"min\": 0.503038727646574, \"max\": 0.503038727646574}}}\u001b[0m\n",
      "\u001b[34m#metrics {\"StartTime\": 1727127315.4906592, \"EndTime\": 1727127315.4906685, \"Dimensions\": {\"Algorithm\": \"Linear Learner\", \"Host\": \"algo-1\", \"Operation\": \"training\", \"epoch\": 0, \"model\": 16}, \"Metrics\": {\"train_binary_classification_cross_entropy_objective\": {\"sum\": 0.5055409416175399, \"count\": 1, \"min\": 0.5055409416175399, \"max\": 0.5055409416175399}}}\u001b[0m\n",
      "\u001b[34m#metrics {\"StartTime\": 1727127315.4906974, \"EndTime\": 1727127315.4907072, \"Dimensions\": {\"Algorithm\": \"Linear Learner\", \"Host\": \"algo-1\", \"Operation\": \"training\", \"epoch\": 0, \"model\": 17}, \"Metrics\": {\"train_binary_classification_cross_entropy_objective\": {\"sum\": 0.5056351826519048, \"count\": 1, \"min\": 0.5056351826519048, \"max\": 0.5056351826519048}}}\u001b[0m\n",
      "\u001b[34m#metrics {\"StartTime\": 1727127315.4907331, \"EndTime\": 1727127315.490743, \"Dimensions\": {\"Algorithm\": \"Linear Learner\", \"Host\": \"algo-1\", \"Operation\": \"training\", \"epoch\": 0, \"model\": 18}, \"Metrics\": {\"train_binary_classification_cross_entropy_objective\": {\"sum\": 0.5055221922521562, \"count\": 1, \"min\": 0.5055221922521562, \"max\": 0.5055221922521562}}}\u001b[0m\n",
      "\u001b[34m#metrics {\"StartTime\": 1727127315.4907765, \"EndTime\": 1727127315.4907863, \"Dimensions\": {\"Algorithm\": \"Linear Learner\", \"Host\": \"algo-1\", \"Operation\": \"training\", \"epoch\": 0, \"model\": 19}, \"Metrics\": {\"train_binary_classification_cross_entropy_objective\": {\"sum\": 0.5056538735019322, \"count\": 1, \"min\": 0.5056538735019322, \"max\": 0.5056538735019322}}}\u001b[0m\n",
      "\u001b[34m#metrics {\"StartTime\": 1727127315.490812, \"EndTime\": 1727127315.4908216, \"Dimensions\": {\"Algorithm\": \"Linear Learner\", \"Host\": \"algo-1\", \"Operation\": \"training\", \"epoch\": 0, \"model\": 20}, \"Metrics\": {\"train_binary_classification_cross_entropy_objective\": {\"sum\": 0.5068824513286626, \"count\": 1, \"min\": 0.5068824513286626, \"max\": 0.5068824513286626}}}\u001b[0m\n",
      "\u001b[34m#metrics {\"StartTime\": 1727127315.4908538, \"EndTime\": 1727127315.4908636, \"Dimensions\": {\"Algorithm\": \"Linear Learner\", \"Host\": \"algo-1\", \"Operation\": \"training\", \"epoch\": 0, \"model\": 21}, \"Metrics\": {\"train_binary_classification_cross_entropy_objective\": {\"sum\": 0.508589900562158, \"count\": 1, \"min\": 0.508589900562158, \"max\": 0.508589900562158}}}\u001b[0m\n",
      "\u001b[34m#metrics {\"StartTime\": 1727127315.4908893, \"EndTime\": 1727127315.4908986, \"Dimensions\": {\"Algorithm\": \"Linear Learner\", \"Host\": \"algo-1\", \"Operation\": \"training\", \"epoch\": 0, \"model\": 22}, \"Metrics\": {\"train_binary_classification_cross_entropy_objective\": {\"sum\": 0.5068631577098042, \"count\": 1, \"min\": 0.5068631577098042, \"max\": 0.5068631577098042}}}\u001b[0m\n",
      "\u001b[34m#metrics {\"StartTime\": 1727127315.4909241, \"EndTime\": 1727127315.4909341, \"Dimensions\": {\"Algorithm\": \"Linear Learner\", \"Host\": \"algo-1\", \"Operation\": \"training\", \"epoch\": 0, \"model\": 23}, \"Metrics\": {\"train_binary_classification_cross_entropy_objective\": {\"sum\": 0.5086276218285983, \"count\": 1, \"min\": 0.5086276218285983, \"max\": 0.5086276218285983}}}\u001b[0m\n",
      "\u001b[34m#metrics {\"StartTime\": 1727127315.4909682, \"EndTime\": 1727127315.490978, \"Dimensions\": {\"Algorithm\": \"Linear Learner\", \"Host\": \"algo-1\", \"Operation\": \"training\", \"epoch\": 0, \"model\": 24}, \"Metrics\": {\"train_binary_classification_cross_entropy_objective\": {\"sum\": 0.5150400814791338, \"count\": 1, \"min\": 0.5150400814791338, \"max\": 0.5150400814791338}}}\u001b[0m\n",
      "\u001b[34m#metrics {\"StartTime\": 1727127315.491004, \"EndTime\": 1727127315.4910135, \"Dimensions\": {\"Algorithm\": \"Linear Learner\", \"Host\": \"algo-1\", \"Operation\": \"training\", \"epoch\": 0, \"model\": 25}, \"Metrics\": {\"train_binary_classification_cross_entropy_objective\": {\"sum\": 0.5150423489258559, \"count\": 1, \"min\": 0.5150423489258559, \"max\": 0.5150423489258559}}}\u001b[0m\n",
      "\u001b[34m#metrics {\"StartTime\": 1727127315.4910393, \"EndTime\": 1727127315.491049, \"Dimensions\": {\"Algorithm\": \"Linear Learner\", \"Host\": \"algo-1\", \"Operation\": \"training\", \"epoch\": 0, \"model\": 26}, \"Metrics\": {\"train_binary_classification_cross_entropy_objective\": {\"sum\": 0.5149865228262152, \"count\": 1, \"min\": 0.5149865228262152, \"max\": 0.5149865228262152}}}\u001b[0m\n",
      "\u001b[34m#metrics {\"StartTime\": 1727127315.4910975, \"EndTime\": 1727127315.4911067, \"Dimensions\": {\"Algorithm\": \"Linear Learner\", \"Host\": \"algo-1\", \"Operation\": \"training\", \"epoch\": 0, \"model\": 27}, \"Metrics\": {\"train_binary_classification_cross_entropy_objective\": {\"sum\": 0.5150509601791335, \"count\": 1, \"min\": 0.5150509601791335, \"max\": 0.5150509601791335}}}\u001b[0m\n",
      "\u001b[34m#metrics {\"StartTime\": 1727127315.491157, \"EndTime\": 1727127315.4911678, \"Dimensions\": {\"Algorithm\": \"Linear Learner\", \"Host\": \"algo-1\", \"Operation\": \"training\", \"epoch\": 0, \"model\": 28}, \"Metrics\": {\"train_binary_classification_cross_entropy_objective\": {\"sum\": 0.5150091628328376, \"count\": 1, \"min\": 0.5150091628328376, \"max\": 0.5150091628328376}}}\u001b[0m\n",
      "\u001b[34m#metrics {\"StartTime\": 1727127315.491202, \"EndTime\": 1727127315.4912128, \"Dimensions\": {\"Algorithm\": \"Linear Learner\", \"Host\": \"algo-1\", \"Operation\": \"training\", \"epoch\": 0, \"model\": 29}, \"Metrics\": {\"train_binary_classification_cross_entropy_objective\": {\"sum\": 0.5157388496282268, \"count\": 1, \"min\": 0.5157388496282268, \"max\": 0.5157388496282268}}}\u001b[0m\n",
      "\u001b[34m#metrics {\"StartTime\": 1727127315.4912462, \"EndTime\": 1727127315.4912567, \"Dimensions\": {\"Algorithm\": \"Linear Learner\", \"Host\": \"algo-1\", \"Operation\": \"training\", \"epoch\": 0, \"model\": 30}, \"Metrics\": {\"train_binary_classification_cross_entropy_objective\": {\"sum\": 0.5150204983165869, \"count\": 1, \"min\": 0.5150204983165869, \"max\": 0.5150204983165869}}}\u001b[0m\n",
      "\u001b[34m#metrics {\"StartTime\": 1727127315.49129, \"EndTime\": 1727127315.4913003, \"Dimensions\": {\"Algorithm\": \"Linear Learner\", \"Host\": \"algo-1\", \"Operation\": \"training\", \"epoch\": 0, \"model\": 31}, \"Metrics\": {\"train_binary_classification_cross_entropy_objective\": {\"sum\": 0.515763006531135, \"count\": 1, \"min\": 0.515763006531135, \"max\": 0.515763006531135}}}\u001b[0m\n",
      "\u001b[34m[09/23/2024 21:35:15 INFO 140539079042880] #quality_metric: host=algo-1, epoch=0, train binary_classification_cross_entropy_objective <loss>=0.48312153914798656\u001b[0m\n",
      "\u001b[34m[2024-09-23 21:35:15.510] [tensorio] [info] epoch_stats={\"data_pipeline\": \"/opt/ml/input/data/validation\", \"epoch\": 0, \"duration\": 29693, \"num_examples\": 1, \"num_bytes\": 384000}\u001b[0m\n",
      "\u001b[34m[2024-09-23 21:35:18.411] [tensorio] [info] epoch_stats={\"data_pipeline\": \"/opt/ml/input/data/validation\", \"epoch\": 2, \"duration\": 2901, \"num_examples\": 164, \"num_bytes\": 62806656}\u001b[0m\n",
      "\u001b[34m#metrics {\"StartTime\": 1727127318.416254, \"EndTime\": 1727127318.416306, \"Dimensions\": {\"Algorithm\": \"Linear Learner\", \"Host\": \"algo-1\", \"Operation\": \"training\", \"epoch\": 0, \"model\": 0}, \"Metrics\": {\"validation_binary_classification_cross_entropy_objective\": {\"sum\": 0.4808657369351904, \"count\": 1, \"min\": 0.4808657369351904, \"max\": 0.4808657369351904}}}\u001b[0m\n",
      "\u001b[34m#metrics {\"StartTime\": 1727127318.4163718, \"EndTime\": 1727127318.4163818, \"Dimensions\": {\"Algorithm\": \"Linear Learner\", \"Host\": \"algo-1\", \"Operation\": \"training\", \"epoch\": 0, \"model\": 1}, \"Metrics\": {\"validation_binary_classification_cross_entropy_objective\": {\"sum\": 0.4822161392541142, \"count\": 1, \"min\": 0.4822161392541142, \"max\": 0.4822161392541142}}}\u001b[0m\n",
      "\u001b[34m#metrics {\"StartTime\": 1727127318.416419, \"EndTime\": 1727127318.4164283, \"Dimensions\": {\"Algorithm\": \"Linear Learner\", \"Host\": \"algo-1\", \"Operation\": \"training\", \"epoch\": 0, \"model\": 2}, \"Metrics\": {\"validation_binary_classification_cross_entropy_objective\": {\"sum\": 0.48086758561465204, \"count\": 1, \"min\": 0.48086758561465204, \"max\": 0.48086758561465204}}}\u001b[0m\n",
      "\u001b[34m#metrics {\"StartTime\": 1727127318.4164662, \"EndTime\": 1727127318.4164748, \"Dimensions\": {\"Algorithm\": \"Linear Learner\", \"Host\": \"algo-1\", \"Operation\": \"training\", \"epoch\": 0, \"model\": 3}, \"Metrics\": {\"validation_binary_classification_cross_entropy_objective\": {\"sum\": 0.48221782616479375, \"count\": 1, \"min\": 0.48221782616479375, \"max\": 0.48221782616479375}}}\u001b[0m\n",
      "\u001b[34m#metrics {\"StartTime\": 1727127318.4165068, \"EndTime\": 1727127318.4165168, \"Dimensions\": {\"Algorithm\": \"Linear Learner\", \"Host\": \"algo-1\", \"Operation\": \"training\", \"epoch\": 0, \"model\": 4}, \"Metrics\": {\"validation_binary_classification_cross_entropy_objective\": {\"sum\": 0.4895684380420206, \"count\": 1, \"min\": 0.4895684380420206, \"max\": 0.4895684380420206}}}\u001b[0m\n",
      "\u001b[34m#metrics {\"StartTime\": 1727127318.416548, \"EndTime\": 1727127318.4165583, \"Dimensions\": {\"Algorithm\": \"Linear Learner\", \"Host\": \"algo-1\", \"Operation\": \"training\", \"epoch\": 0, \"model\": 5}, \"Metrics\": {\"validation_binary_classification_cross_entropy_objective\": {\"sum\": 0.5046638837356068, \"count\": 1, \"min\": 0.5046638837356068, \"max\": 0.5046638837356068}}}\u001b[0m\n",
      "\u001b[34m#metrics {\"StartTime\": 1727127318.4165947, \"EndTime\": 1727127318.4166055, \"Dimensions\": {\"Algorithm\": \"Linear Learner\", \"Host\": \"algo-1\", \"Operation\": \"training\", \"epoch\": 0, \"model\": 6}, \"Metrics\": {\"validation_binary_classification_cross_entropy_objective\": {\"sum\": 0.4895621227156442, \"count\": 1, \"min\": 0.4895621227156442, \"max\": 0.4895621227156442}}}\u001b[0m\n",
      "\u001b[34m#metrics {\"StartTime\": 1727127318.4166417, \"EndTime\": 1727127318.4166522, \"Dimensions\": {\"Algorithm\": \"Linear Learner\", \"Host\": \"algo-1\", \"Operation\": \"training\", \"epoch\": 0, \"model\": 7}, \"Metrics\": {\"validation_binary_classification_cross_entropy_objective\": {\"sum\": 0.5046813357324541, \"count\": 1, \"min\": 0.5046813357324541, \"max\": 0.5046813357324541}}}\u001b[0m\n",
      "\u001b[34m#metrics {\"StartTime\": 1727127318.416688, \"EndTime\": 1727127318.4166968, \"Dimensions\": {\"Algorithm\": \"Linear Learner\", \"Host\": \"algo-1\", \"Operation\": \"training\", \"epoch\": 0, \"model\": 8}, \"Metrics\": {\"validation_binary_classification_cross_entropy_objective\": {\"sum\": 0.4811742766488197, \"count\": 1, \"min\": 0.4811742766488197, \"max\": 0.4811742766488197}}}\u001b[0m\n",
      "\u001b[34m#metrics {\"StartTime\": 1727127318.4167318, \"EndTime\": 1727127318.416742, \"Dimensions\": {\"Algorithm\": \"Linear Learner\", \"Host\": \"algo-1\", \"Operation\": \"training\", \"epoch\": 0, \"model\": 9}, \"Metrics\": {\"validation_binary_classification_cross_entropy_objective\": {\"sum\": 0.4825127013608239, \"count\": 1, \"min\": 0.4825127013608239, \"max\": 0.4825127013608239}}}\u001b[0m\n",
      "\u001b[34m#metrics {\"StartTime\": 1727127318.4167783, \"EndTime\": 1727127318.4167886, \"Dimensions\": {\"Algorithm\": \"Linear Learner\", \"Host\": \"algo-1\", \"Operation\": \"training\", \"epoch\": 0, \"model\": 10}, \"Metrics\": {\"validation_binary_classification_cross_entropy_objective\": {\"sum\": 0.4811756381560897, \"count\": 1, \"min\": 0.4811756381560897, \"max\": 0.4811756381560897}}}\u001b[0m\n",
      "\u001b[34m#metrics {\"StartTime\": 1727127318.416828, \"EndTime\": 1727127318.416839, \"Dimensions\": {\"Algorithm\": \"Linear Learner\", \"Host\": \"algo-1\", \"Operation\": \"training\", \"epoch\": 0, \"model\": 11}, \"Metrics\": {\"validation_binary_classification_cross_entropy_objective\": {\"sum\": 0.4825117613479931, \"count\": 1, \"min\": 0.4825117613479931, \"max\": 0.4825117613479931}}}\u001b[0m\n",
      "\u001b[34m#metrics {\"StartTime\": 1727127318.4168723, \"EndTime\": 1727127318.4168797, \"Dimensions\": {\"Algorithm\": \"Linear Learner\", \"Host\": \"algo-1\", \"Operation\": \"training\", \"epoch\": 0, \"model\": 12}, \"Metrics\": {\"validation_binary_classification_cross_entropy_objective\": {\"sum\": 0.4898999754177129, \"count\": 1, \"min\": 0.4898999754177129, \"max\": 0.4898999754177129}}}\u001b[0m\n",
      "\u001b[34m#metrics {\"StartTime\": 1727127318.4169133, \"EndTime\": 1727127318.4169216, \"Dimensions\": {\"Algorithm\": \"Linear Learner\", \"Host\": \"algo-1\", \"Operation\": \"training\", \"epoch\": 0, \"model\": 13}, \"Metrics\": {\"validation_binary_classification_cross_entropy_objective\": {\"sum\": 0.5048842090851605, \"count\": 1, \"min\": 0.5048842090851605, \"max\": 0.5048842090851605}}}\u001b[0m\n",
      "\u001b[34m#metrics {\"StartTime\": 1727127318.4169555, \"EndTime\": 1727127318.416964, \"Dimensions\": {\"Algorithm\": \"Linear Learner\", \"Host\": \"algo-1\", \"Operation\": \"training\", \"epoch\": 0, \"model\": 14}, \"Metrics\": {\"validation_binary_classification_cross_entropy_objective\": {\"sum\": 0.4898963215329837, \"count\": 1, \"min\": 0.4898963215329837, \"max\": 0.4898963215329837}}}\u001b[0m\n",
      "\u001b[34m#metrics {\"StartTime\": 1727127318.416998, \"EndTime\": 1727127318.4170067, \"Dimensions\": {\"Algorithm\": \"Linear Learner\", \"Host\": \"algo-1\", \"Operation\": \"training\", \"epoch\": 0, \"model\": 15}, \"Metrics\": {\"validation_binary_classification_cross_entropy_objective\": {\"sum\": 0.504873570222199, \"count\": 1, \"min\": 0.504873570222199, \"max\": 0.504873570222199}}}\u001b[0m\n",
      "\u001b[34m#metrics {\"StartTime\": 1727127318.4170353, \"EndTime\": 1727127318.4170454, \"Dimensions\": {\"Algorithm\": \"Linear Learner\", \"Host\": \"algo-1\", \"Operation\": \"training\", \"epoch\": 0, \"model\": 16}, \"Metrics\": {\"validation_binary_classification_cross_entropy_objective\": {\"sum\": 0.5044645855289605, \"count\": 1, \"min\": 0.5044645855289605, \"max\": 0.5044645855289605}}}\u001b[0m\n",
      "\u001b[34m#metrics {\"StartTime\": 1727127318.4170766, \"EndTime\": 1727127318.4170847, \"Dimensions\": {\"Algorithm\": \"Linear Learner\", \"Host\": \"algo-1\", \"Operation\": \"training\", \"epoch\": 0, \"model\": 17}, \"Metrics\": {\"validation_binary_classification_cross_entropy_objective\": {\"sum\": 0.5054773394558691, \"count\": 1, \"min\": 0.5054773394558691, \"max\": 0.5054773394558691}}}\u001b[0m\n",
      "\u001b[34m#metrics {\"StartTime\": 1727127318.417114, \"EndTime\": 1727127318.4171228, \"Dimensions\": {\"Algorithm\": \"Linear Learner\", \"Host\": \"algo-1\", \"Operation\": \"training\", \"epoch\": 0, \"model\": 18}, \"Metrics\": {\"validation_binary_classification_cross_entropy_objective\": {\"sum\": 0.5044600240971077, \"count\": 1, \"min\": 0.5044600240971077, \"max\": 0.5044600240971077}}}\u001b[0m\n",
      "\u001b[34m#metrics {\"StartTime\": 1727127318.4171538, \"EndTime\": 1727127318.4171634, \"Dimensions\": {\"Algorithm\": \"Linear Learner\", \"Host\": \"algo-1\", \"Operation\": \"training\", \"epoch\": 0, \"model\": 19}, \"Metrics\": {\"validation_binary_classification_cross_entropy_objective\": {\"sum\": 0.5054698908150953, \"count\": 1, \"min\": 0.5054698908150953, \"max\": 0.5054698908150953}}}\u001b[0m\n",
      "\u001b[34m#metrics {\"StartTime\": 1727127318.417201, \"EndTime\": 1727127318.4172103, \"Dimensions\": {\"Algorithm\": \"Linear Learner\", \"Host\": \"algo-1\", \"Operation\": \"training\", \"epoch\": 0, \"model\": 20}, \"Metrics\": {\"validation_binary_classification_cross_entropy_objective\": {\"sum\": 0.5063998732350716, \"count\": 1, \"min\": 0.5063998732350716, \"max\": 0.5063998732350716}}}\u001b[0m\n",
      "\u001b[34m#metrics {\"StartTime\": 1727127318.417246, \"EndTime\": 1727127318.4172556, \"Dimensions\": {\"Algorithm\": \"Linear Learner\", \"Host\": \"algo-1\", \"Operation\": \"training\", \"epoch\": 0, \"model\": 21}, \"Metrics\": {\"validation_binary_classification_cross_entropy_objective\": {\"sum\": 0.5037472462139403, \"count\": 1, \"min\": 0.5037472462139403, \"max\": 0.5037472462139403}}}\u001b[0m\n",
      "\u001b[34m#metrics {\"StartTime\": 1727127318.4172933, \"EndTime\": 1727127318.4173026, \"Dimensions\": {\"Algorithm\": \"Linear Learner\", \"Host\": \"algo-1\", \"Operation\": \"training\", \"epoch\": 0, \"model\": 22}, \"Metrics\": {\"validation_binary_classification_cross_entropy_objective\": {\"sum\": 0.5064072241055549, \"count\": 1, \"min\": 0.5064072241055549, \"max\": 0.5064072241055549}}}\u001b[0m\n",
      "\u001b[34m#metrics {\"StartTime\": 1727127318.4173377, \"EndTime\": 1727127318.4173484, \"Dimensions\": {\"Algorithm\": \"Linear Learner\", \"Host\": \"algo-1\", \"Operation\": \"training\", \"epoch\": 0, \"model\": 23}, \"Metrics\": {\"validation_binary_classification_cross_entropy_objective\": {\"sum\": 0.5037284250598575, \"count\": 1, \"min\": 0.5037284250598575, \"max\": 0.5037284250598575}}}\u001b[0m\n",
      "\u001b[34m#metrics {\"StartTime\": 1727127318.4173894, \"EndTime\": 1727127318.417399, \"Dimensions\": {\"Algorithm\": \"Linear Learner\", \"Host\": \"algo-1\", \"Operation\": \"training\", \"epoch\": 0, \"model\": 24}, \"Metrics\": {\"validation_binary_classification_cross_entropy_objective\": {\"sum\": 0.5137120227651509, \"count\": 1, \"min\": 0.5137120227651509, \"max\": 0.5137120227651509}}}\u001b[0m\n",
      "\u001b[34m#metrics {\"StartTime\": 1727127318.4174354, \"EndTime\": 1727127318.4174457, \"Dimensions\": {\"Algorithm\": \"Linear Learner\", \"Host\": \"algo-1\", \"Operation\": \"training\", \"epoch\": 0, \"model\": 25}, \"Metrics\": {\"validation_binary_classification_cross_entropy_objective\": {\"sum\": 0.5143497686674323, \"count\": 1, \"min\": 0.5143497686674323, \"max\": 0.5143497686674323}}}\u001b[0m\n",
      "\u001b[34m#metrics {\"StartTime\": 1727127318.4174829, \"EndTime\": 1727127318.4174912, \"Dimensions\": {\"Algorithm\": \"Linear Learner\", \"Host\": \"algo-1\", \"Operation\": \"training\", \"epoch\": 0, \"model\": 26}, \"Metrics\": {\"validation_binary_classification_cross_entropy_objective\": {\"sum\": 0.513698571327078, \"count\": 1, \"min\": 0.513698571327078, \"max\": 0.513698571327078}}}\u001b[0m\n",
      "\u001b[34m#metrics {\"StartTime\": 1727127318.4175231, \"EndTime\": 1727127318.4175327, \"Dimensions\": {\"Algorithm\": \"Linear Learner\", \"Host\": \"algo-1\", \"Operation\": \"training\", \"epoch\": 0, \"model\": 27}, \"Metrics\": {\"validation_binary_classification_cross_entropy_objective\": {\"sum\": 0.5143702015386316, \"count\": 1, \"min\": 0.5143702015386316, \"max\": 0.5143702015386316}}}\u001b[0m\n",
      "\u001b[34m#metrics {\"StartTime\": 1727127318.4175675, \"EndTime\": 1727127318.417577, \"Dimensions\": {\"Algorithm\": \"Linear Learner\", \"Host\": \"algo-1\", \"Operation\": \"training\", \"epoch\": 0, \"model\": 28}, \"Metrics\": {\"validation_binary_classification_cross_entropy_objective\": {\"sum\": 0.5153099001610991, \"count\": 1, \"min\": 0.5153099001610991, \"max\": 0.5153099001610991}}}\u001b[0m\n",
      "\u001b[34m#metrics {\"StartTime\": 1727127318.4176137, \"EndTime\": 1727127318.4176233, \"Dimensions\": {\"Algorithm\": \"Linear Learner\", \"Host\": \"algo-1\", \"Operation\": \"training\", \"epoch\": 0, \"model\": 29}, \"Metrics\": {\"validation_binary_classification_cross_entropy_objective\": {\"sum\": 0.5135470128232706, \"count\": 1, \"min\": 0.5135470128232706, \"max\": 0.5135470128232706}}}\u001b[0m\n",
      "\u001b[34m#metrics {\"StartTime\": 1727127318.4176588, \"EndTime\": 1727127318.4176693, \"Dimensions\": {\"Algorithm\": \"Linear Learner\", \"Host\": \"algo-1\", \"Operation\": \"training\", \"epoch\": 0, \"model\": 30}, \"Metrics\": {\"validation_binary_classification_cross_entropy_objective\": {\"sum\": 0.5152371958221474, \"count\": 1, \"min\": 0.5152371958221474, \"max\": 0.5152371958221474}}}\u001b[0m\n",
      "\u001b[34m#metrics {\"StartTime\": 1727127318.4177084, \"EndTime\": 1727127318.4177182, \"Dimensions\": {\"Algorithm\": \"Linear Learner\", \"Host\": \"algo-1\", \"Operation\": \"training\", \"epoch\": 0, \"model\": 31}, \"Metrics\": {\"validation_binary_classification_cross_entropy_objective\": {\"sum\": 0.5136502250379522, \"count\": 1, \"min\": 0.5136502250379522, \"max\": 0.5136502250379522}}}\u001b[0m\n",
      "\u001b[34m[09/23/2024 21:35:18 INFO 140539079042880] #quality_metric: host=algo-1, epoch=0, validation binary_classification_cross_entropy_objective <loss>=0.4808657369351904\u001b[0m\n",
      "\u001b[34m[09/23/2024 21:35:18 INFO 140539079042880] #early_stopping_criteria_metric: host=algo-1, epoch=0, criteria=binary_classification_cross_entropy_objective, value=0.4808657369351904\u001b[0m\n",
      "\u001b[34m[09/23/2024 21:35:18 INFO 140539079042880] Epoch 0: Loss improved. Updating best model\u001b[0m\n",
      "\u001b[34m[09/23/2024 21:35:18 INFO 140539079042880] Saving model for epoch: 0\u001b[0m\n",
      "\u001b[34m[09/23/2024 21:35:18 INFO 140539079042880] Saved checkpoint to \"/tmp/tmp7xi879kl/mx-mod-0000.params\"\u001b[0m\n",
      "\u001b[34m[09/23/2024 21:35:18 INFO 140539079042880] #progress_metric: host=algo-1, completed 6.666666666666667 % of epochs\u001b[0m\n",
      "\u001b[34m#metrics {\"StartTime\": 1727127286.0914, \"EndTime\": 1727127318.424794, \"Dimensions\": {\"Algorithm\": \"Linear Learner\", \"Host\": \"algo-1\", \"Operation\": \"training\", \"epoch\": 0, \"Meta\": \"training_data_iter\"}, \"Metrics\": {\"Total Records Seen\": {\"sum\": 1320472.0, \"count\": 1, \"min\": 1320472, \"max\": 1320472}, \"Total Batches Seen\": {\"sum\": 1321.0, \"count\": 1, \"min\": 1321, \"max\": 1321}, \"Max Records Seen Between Resets\": {\"sum\": 1308472.0, \"count\": 1, \"min\": 1308472, \"max\": 1308472}, \"Max Batches Seen Between Resets\": {\"sum\": 1309.0, \"count\": 1, \"min\": 1309, \"max\": 1309}, \"Reset Count\": {\"sum\": 3.0, \"count\": 1, \"min\": 3, \"max\": 3}, \"Number of Records Since Last Reset\": {\"sum\": 1308472.0, \"count\": 1, \"min\": 1308472, \"max\": 1308472}, \"Number of Batches Since Last Reset\": {\"sum\": 1309.0, \"count\": 1, \"min\": 1309, \"max\": 1309}}}\u001b[0m\n",
      "\u001b[34m[09/23/2024 21:35:18 INFO 140539079042880] #throughput_metric: host=algo-1, train throughput=40468.00247663057 records/second\u001b[0m\n",
      "\u001b[34m[2024-09-23 21:35:47.648] [tensorio] [info] epoch_stats={\"data_pipeline\": \"/opt/ml/input/data/train\", \"epoch\": 5, \"duration\": 29223, \"num_examples\": 1309, \"num_bytes\": 502453248}\u001b[0m\n",
      "\u001b[34m#metrics {\"StartTime\": 1727127347.6483967, \"EndTime\": 1727127347.6484492, \"Dimensions\": {\"Algorithm\": \"Linear Learner\", \"Host\": \"algo-1\", \"Operation\": \"training\", \"epoch\": 1, \"model\": 0}, \"Metrics\": {\"train_binary_classification_cross_entropy_objective\": {\"sum\": 0.4808663464700775, \"count\": 1, \"min\": 0.4808663464700775, \"max\": 0.4808663464700775}}}\u001b[0m\n",
      "\u001b[34m#metrics {\"StartTime\": 1727127347.6485126, \"EndTime\": 1727127347.6485224, \"Dimensions\": {\"Algorithm\": \"Linear Learner\", \"Host\": \"algo-1\", \"Operation\": \"training\", \"epoch\": 1, \"model\": 1}, \"Metrics\": {\"train_binary_classification_cross_entropy_objective\": {\"sum\": 0.4818355175099971, \"count\": 1, \"min\": 0.4818355175099971, \"max\": 0.4818355175099971}}}\u001b[0m\n",
      "\u001b[34m#metrics {\"StartTime\": 1727127347.6485457, \"EndTime\": 1727127347.6485524, \"Dimensions\": {\"Algorithm\": \"Linear Learner\", \"Host\": \"algo-1\", \"Operation\": \"training\", \"epoch\": 1, \"model\": 2}, \"Metrics\": {\"train_binary_classification_cross_entropy_objective\": {\"sum\": 0.4808668298283848, \"count\": 1, \"min\": 0.4808668298283848, \"max\": 0.4808668298283848}}}\u001b[0m\n",
      "\u001b[34m#metrics {\"StartTime\": 1727127347.6485722, \"EndTime\": 1727127347.6485775, \"Dimensions\": {\"Algorithm\": \"Linear Learner\", \"Host\": \"algo-1\", \"Operation\": \"training\", \"epoch\": 1, \"model\": 3}, \"Metrics\": {\"train_binary_classification_cross_entropy_objective\": {\"sum\": 0.481834865091773, \"count\": 1, \"min\": 0.481834865091773, \"max\": 0.481834865091773}}}\u001b[0m\n",
      "\u001b[34m#metrics {\"StartTime\": 1727127347.6486044, \"EndTime\": 1727127347.6486137, \"Dimensions\": {\"Algorithm\": \"Linear Learner\", \"Host\": \"algo-1\", \"Operation\": \"training\", \"epoch\": 1, \"model\": 4}, \"Metrics\": {\"train_binary_classification_cross_entropy_objective\": {\"sum\": 0.4846263488862857, \"count\": 1, \"min\": 0.4846263488862857, \"max\": 0.4846263488862857}}}\u001b[0m\n",
      "\u001b[34m#metrics {\"StartTime\": 1727127347.6486413, \"EndTime\": 1727127347.6486492, \"Dimensions\": {\"Algorithm\": \"Linear Learner\", \"Host\": \"algo-1\", \"Operation\": \"training\", \"epoch\": 1, \"model\": 5}, \"Metrics\": {\"train_binary_classification_cross_entropy_objective\": {\"sum\": 0.5010800921938835, \"count\": 1, \"min\": 0.5010800921938835, \"max\": 0.5010800921938835}}}\u001b[0m\n",
      "\u001b[34m#metrics {\"StartTime\": 1727127347.6486766, \"EndTime\": 1727127347.6486845, \"Dimensions\": {\"Algorithm\": \"Linear Learner\", \"Host\": \"algo-1\", \"Operation\": \"training\", \"epoch\": 1, \"model\": 6}, \"Metrics\": {\"train_binary_classification_cross_entropy_objective\": {\"sum\": 0.4846256719933373, \"count\": 1, \"min\": 0.4846256719933373, \"max\": 0.4846256719933373}}}\u001b[0m\n",
      "\u001b[34m#metrics {\"StartTime\": 1727127347.6487088, \"EndTime\": 1727127347.6487167, \"Dimensions\": {\"Algorithm\": \"Linear Learner\", \"Host\": \"algo-1\", \"Operation\": \"training\", \"epoch\": 1, \"model\": 7}, \"Metrics\": {\"train_binary_classification_cross_entropy_objective\": {\"sum\": 0.5010815285965572, \"count\": 1, \"min\": 0.5010815285965572, \"max\": 0.5010815285965572}}}\u001b[0m\n",
      "\u001b[34m#metrics {\"StartTime\": 1727127347.6487467, \"EndTime\": 1727127347.6487558, \"Dimensions\": {\"Algorithm\": \"Linear Learner\", \"Host\": \"algo-1\", \"Operation\": \"training\", \"epoch\": 1, \"model\": 8}, \"Metrics\": {\"train_binary_classification_cross_entropy_objective\": {\"sum\": 0.4811160431374833, \"count\": 1, \"min\": 0.4811160431374833, \"max\": 0.4811160431374833}}}\u001b[0m\n",
      "\u001b[34m#metrics {\"StartTime\": 1727127347.6487877, \"EndTime\": 1727127347.6487975, \"Dimensions\": {\"Algorithm\": \"Linear Learner\", \"Host\": \"algo-1\", \"Operation\": \"training\", \"epoch\": 1, \"model\": 9}, \"Metrics\": {\"train_binary_classification_cross_entropy_objective\": {\"sum\": 0.4820317371146759, \"count\": 1, \"min\": 0.4820317371146759, \"max\": 0.4820317371146759}}}\u001b[0m\n",
      "\u001b[34m#metrics {\"StartTime\": 1727127347.6488268, \"EndTime\": 1727127347.6488352, \"Dimensions\": {\"Algorithm\": \"Linear Learner\", \"Host\": \"algo-1\", \"Operation\": \"training\", \"epoch\": 1, \"model\": 10}, \"Metrics\": {\"train_binary_classification_cross_entropy_objective\": {\"sum\": 0.4811160679855113, \"count\": 1, \"min\": 0.4811160679855113, \"max\": 0.4811160679855113}}}\u001b[0m\n",
      "\u001b[34m#metrics {\"StartTime\": 1727127347.6488788, \"EndTime\": 1727127347.648888, \"Dimensions\": {\"Algorithm\": \"Linear Learner\", \"Host\": \"algo-1\", \"Operation\": \"training\", \"epoch\": 1, \"model\": 11}, \"Metrics\": {\"train_binary_classification_cross_entropy_objective\": {\"sum\": 0.48203190038838517, \"count\": 1, \"min\": 0.48203190038838517, \"max\": 0.48203190038838517}}}\u001b[0m\n",
      "\u001b[34m#metrics {\"StartTime\": 1727127347.6489213, \"EndTime\": 1727127347.6489303, \"Dimensions\": {\"Algorithm\": \"Linear Learner\", \"Host\": \"algo-1\", \"Operation\": \"training\", \"epoch\": 1, \"model\": 12}, \"Metrics\": {\"train_binary_classification_cross_entropy_objective\": {\"sum\": 0.4846448822488114, \"count\": 1, \"min\": 0.4846448822488114, \"max\": 0.4846448822488114}}}\u001b[0m\n",
      "\u001b[34m#metrics {\"StartTime\": 1727127347.648966, \"EndTime\": 1727127347.648976, \"Dimensions\": {\"Algorithm\": \"Linear Learner\", \"Host\": \"algo-1\", \"Operation\": \"training\", \"epoch\": 1, \"model\": 13}, \"Metrics\": {\"train_binary_classification_cross_entropy_objective\": {\"sum\": 0.49990377200998665, \"count\": 1, \"min\": 0.49990377200998665, \"max\": 0.49990377200998665}}}\u001b[0m\n",
      "\u001b[34m#metrics {\"StartTime\": 1727127347.649013, \"EndTime\": 1727127347.649023, \"Dimensions\": {\"Algorithm\": \"Linear Learner\", \"Host\": \"algo-1\", \"Operation\": \"training\", \"epoch\": 1, \"model\": 14}, \"Metrics\": {\"train_binary_classification_cross_entropy_objective\": {\"sum\": 0.4846445557947188, \"count\": 1, \"min\": 0.4846445557947188, \"max\": 0.4846445557947188}}}\u001b[0m\n",
      "\u001b[34m#metrics {\"StartTime\": 1727127347.6490583, \"EndTime\": 1727127347.6490684, \"Dimensions\": {\"Algorithm\": \"Linear Learner\", \"Host\": \"algo-1\", \"Operation\": \"training\", \"epoch\": 1, \"model\": 15}, \"Metrics\": {\"train_binary_classification_cross_entropy_objective\": {\"sum\": 0.49990134273610715, \"count\": 1, \"min\": 0.49990134273610715, \"max\": 0.49990134273610715}}}\u001b[0m\n",
      "\u001b[34m#metrics {\"StartTime\": 1727127347.6490986, \"EndTime\": 1727127347.649108, \"Dimensions\": {\"Algorithm\": \"Linear Learner\", \"Host\": \"algo-1\", \"Operation\": \"training\", \"epoch\": 1, \"model\": 16}, \"Metrics\": {\"train_binary_classification_cross_entropy_objective\": {\"sum\": 0.5040824842073867, \"count\": 1, \"min\": 0.5040824842073867, \"max\": 0.5040824842073867}}}\u001b[0m\n",
      "\u001b[34m#metrics {\"StartTime\": 1727127347.6491377, \"EndTime\": 1727127347.6491475, \"Dimensions\": {\"Algorithm\": \"Linear Learner\", \"Host\": \"algo-1\", \"Operation\": \"training\", \"epoch\": 1, \"model\": 17}, \"Metrics\": {\"train_binary_classification_cross_entropy_objective\": {\"sum\": 0.5043421698520673, \"count\": 1, \"min\": 0.5043421698520673, \"max\": 0.5043421698520673}}}\u001b[0m\n",
      "\u001b[34m#metrics {\"StartTime\": 1727127347.6491818, \"EndTime\": 1727127347.649192, \"Dimensions\": {\"Algorithm\": \"Linear Learner\", \"Host\": \"algo-1\", \"Operation\": \"training\", \"epoch\": 1, \"model\": 18}, \"Metrics\": {\"train_binary_classification_cross_entropy_objective\": {\"sum\": 0.5040824860039107, \"count\": 1, \"min\": 0.5040824860039107, \"max\": 0.5040824860039107}}}\u001b[0m\n",
      "\u001b[34m#metrics {\"StartTime\": 1727127347.6492302, \"EndTime\": 1727127347.6492405, \"Dimensions\": {\"Algorithm\": \"Linear Learner\", \"Host\": \"algo-1\", \"Operation\": \"training\", \"epoch\": 1, \"model\": 19}, \"Metrics\": {\"train_binary_classification_cross_entropy_objective\": {\"sum\": 0.5043421203893259, \"count\": 1, \"min\": 0.5043421203893259, \"max\": 0.5043421203893259}}}\u001b[0m\n",
      "\u001b[34m#metrics {\"StartTime\": 1727127347.6492789, \"EndTime\": 1727127347.649289, \"Dimensions\": {\"Algorithm\": \"Linear Learner\", \"Host\": \"algo-1\", \"Operation\": \"training\", \"epoch\": 1, \"model\": 20}, \"Metrics\": {\"train_binary_classification_cross_entropy_objective\": {\"sum\": 0.5050011463456927, \"count\": 1, \"min\": 0.5050011463456927, \"max\": 0.5050011463456927}}}\u001b[0m\n",
      "\u001b[34m#metrics {\"StartTime\": 1727127347.6493227, \"EndTime\": 1727127347.649333, \"Dimensions\": {\"Algorithm\": \"Linear Learner\", \"Host\": \"algo-1\", \"Operation\": \"training\", \"epoch\": 1, \"model\": 21}, \"Metrics\": {\"train_binary_classification_cross_entropy_objective\": {\"sum\": 0.5078268405552668, \"count\": 1, \"min\": 0.5078268405552668, \"max\": 0.5078268405552668}}}\u001b[0m\n",
      "\u001b[34m#metrics {\"StartTime\": 1727127347.6493692, \"EndTime\": 1727127347.6493793, \"Dimensions\": {\"Algorithm\": \"Linear Learner\", \"Host\": \"algo-1\", \"Operation\": \"training\", \"epoch\": 1, \"model\": 22}, \"Metrics\": {\"train_binary_classification_cross_entropy_objective\": {\"sum\": 0.5050017768089924, \"count\": 1, \"min\": 0.5050017768089924, \"max\": 0.5050017768089924}}}\u001b[0m\n",
      "\u001b[34m#metrics {\"StartTime\": 1727127347.6494157, \"EndTime\": 1727127347.6494248, \"Dimensions\": {\"Algorithm\": \"Linear Learner\", \"Host\": \"algo-1\", \"Operation\": \"training\", \"epoch\": 1, \"model\": 23}, \"Metrics\": {\"train_binary_classification_cross_entropy_objective\": {\"sum\": 0.5078262578515103, \"count\": 1, \"min\": 0.5078262578515103, \"max\": 0.5078262578515103}}}\u001b[0m\n",
      "\u001b[34m#metrics {\"StartTime\": 1727127347.6494627, \"EndTime\": 1727127347.6494722, \"Dimensions\": {\"Algorithm\": \"Linear Learner\", \"Host\": \"algo-1\", \"Operation\": \"training\", \"epoch\": 1, \"model\": 24}, \"Metrics\": {\"train_binary_classification_cross_entropy_objective\": {\"sum\": 0.5137319639013448, \"count\": 1, \"min\": 0.5137319639013448, \"max\": 0.5137319639013448}}}\u001b[0m\n",
      "\u001b[34m#metrics {\"StartTime\": 1727127347.649504, \"EndTime\": 1727127347.6495135, \"Dimensions\": {\"Algorithm\": \"Linear Learner\", \"Host\": \"algo-1\", \"Operation\": \"training\", \"epoch\": 1, \"model\": 25}, \"Metrics\": {\"train_binary_classification_cross_entropy_objective\": {\"sum\": 0.5138293278778729, \"count\": 1, \"min\": 0.5138293278778729, \"max\": 0.5138293278778729}}}\u001b[0m\n",
      "\u001b[34m#metrics {\"StartTime\": 1727127347.6495514, \"EndTime\": 1727127347.649562, \"Dimensions\": {\"Algorithm\": \"Linear Learner\", \"Host\": \"algo-1\", \"Operation\": \"training\", \"epoch\": 1, \"model\": 26}, \"Metrics\": {\"train_binary_classification_cross_entropy_objective\": {\"sum\": 0.5137319838030987, \"count\": 1, \"min\": 0.5137319838030987, \"max\": 0.5137319838030987}}}\u001b[0m\n",
      "\u001b[34m#metrics {\"StartTime\": 1727127347.6495955, \"EndTime\": 1727127347.649604, \"Dimensions\": {\"Algorithm\": \"Linear Learner\", \"Host\": \"algo-1\", \"Operation\": \"training\", \"epoch\": 1, \"model\": 27}, \"Metrics\": {\"train_binary_classification_cross_entropy_objective\": {\"sum\": 0.513830283278719, \"count\": 1, \"min\": 0.513830283278719, \"max\": 0.513830283278719}}}\u001b[0m\n",
      "\u001b[34m#metrics {\"StartTime\": 1727127347.6496384, \"EndTime\": 1727127347.6496475, \"Dimensions\": {\"Algorithm\": \"Linear Learner\", \"Host\": \"algo-1\", \"Operation\": \"training\", \"epoch\": 1, \"model\": 28}, \"Metrics\": {\"train_binary_classification_cross_entropy_objective\": {\"sum\": 0.5141123008378055, \"count\": 1, \"min\": 0.5141123008378055, \"max\": 0.5141123008378055}}}\u001b[0m\n",
      "\u001b[34m#metrics {\"StartTime\": 1727127347.6496825, \"EndTime\": 1727127347.6496916, \"Dimensions\": {\"Algorithm\": \"Linear Learner\", \"Host\": \"algo-1\", \"Operation\": \"training\", \"epoch\": 1, \"model\": 29}, \"Metrics\": {\"train_binary_classification_cross_entropy_objective\": {\"sum\": 0.5151904927291637, \"count\": 1, \"min\": 0.5151904927291637, \"max\": 0.5151904927291637}}}\u001b[0m\n",
      "\u001b[34m#metrics {\"StartTime\": 1727127347.6497254, \"EndTime\": 1727127347.6497347, \"Dimensions\": {\"Algorithm\": \"Linear Learner\", \"Host\": \"algo-1\", \"Operation\": \"training\", \"epoch\": 1, \"model\": 30}, \"Metrics\": {\"train_binary_classification_cross_entropy_objective\": {\"sum\": 0.5141120359554933, \"count\": 1, \"min\": 0.5141120359554933, \"max\": 0.5141120359554933}}}\u001b[0m\n",
      "\u001b[34m#metrics {\"StartTime\": 1727127347.6497662, \"EndTime\": 1727127347.6497746, \"Dimensions\": {\"Algorithm\": \"Linear Learner\", \"Host\": \"algo-1\", \"Operation\": \"training\", \"epoch\": 1, \"model\": 31}, \"Metrics\": {\"train_binary_classification_cross_entropy_objective\": {\"sum\": 0.5151877478269992, \"count\": 1, \"min\": 0.5151877478269992, \"max\": 0.5151877478269992}}}\u001b[0m\n",
      "\u001b[34m[09/23/2024 21:35:47 INFO 140539079042880] #quality_metric: host=algo-1, epoch=1, train binary_classification_cross_entropy_objective <loss>=0.4808663464700775\u001b[0m\n",
      "\u001b[34m[2024-09-23 21:35:50.345] [tensorio] [info] epoch_stats={\"data_pipeline\": \"/opt/ml/input/data/validation\", \"epoch\": 5, \"duration\": 2683, \"num_examples\": 164, \"num_bytes\": 62806656}\u001b[0m\n",
      "\u001b[34m#metrics {\"StartTime\": 1727127350.3513663, \"EndTime\": 1727127350.3514175, \"Dimensions\": {\"Algorithm\": \"Linear Learner\", \"Host\": \"algo-1\", \"Operation\": \"training\", \"epoch\": 1, \"model\": 0}, \"Metrics\": {\"validation_binary_classification_cross_entropy_objective\": {\"sum\": 0.48058316642875, \"count\": 1, \"min\": 0.48058316642875, \"max\": 0.48058316642875}}}\u001b[0m\n",
      "\u001b[34m#metrics {\"StartTime\": 1727127350.3514836, \"EndTime\": 1727127350.3514946, \"Dimensions\": {\"Algorithm\": \"Linear Learner\", \"Host\": \"algo-1\", \"Operation\": \"training\", \"epoch\": 1, \"model\": 1}, \"Metrics\": {\"validation_binary_classification_cross_entropy_objective\": {\"sum\": 0.4823254686424079, \"count\": 1, \"min\": 0.4823254686424079, \"max\": 0.4823254686424079}}}\u001b[0m\n",
      "\u001b[34m#metrics {\"StartTime\": 1727127350.3515224, \"EndTime\": 1727127350.351529, \"Dimensions\": {\"Algorithm\": \"Linear Learner\", \"Host\": \"algo-1\", \"Operation\": \"training\", \"epoch\": 1, \"model\": 2}, \"Metrics\": {\"validation_binary_classification_cross_entropy_objective\": {\"sum\": 0.48058413872070344, \"count\": 1, \"min\": 0.48058413872070344, \"max\": 0.48058413872070344}}}\u001b[0m\n",
      "\u001b[34m#metrics {\"StartTime\": 1727127350.3515491, \"EndTime\": 1727127350.3515549, \"Dimensions\": {\"Algorithm\": \"Linear Learner\", \"Host\": \"algo-1\", \"Operation\": \"training\", \"epoch\": 1, \"model\": 3}, \"Metrics\": {\"validation_binary_classification_cross_entropy_objective\": {\"sum\": 0.4823260830652447, \"count\": 1, \"min\": 0.4823260830652447, \"max\": 0.4823260830652447}}}\u001b[0m\n",
      "\u001b[34m#metrics {\"StartTime\": 1727127350.3515732, \"EndTime\": 1727127350.3515785, \"Dimensions\": {\"Algorithm\": \"Linear Learner\", \"Host\": \"algo-1\", \"Operation\": \"training\", \"epoch\": 1, \"model\": 4}, \"Metrics\": {\"validation_binary_classification_cross_entropy_objective\": {\"sum\": 0.4824375042526345, \"count\": 1, \"min\": 0.4824375042526345, \"max\": 0.4824375042526345}}}\u001b[0m\n",
      "\u001b[34m#metrics {\"StartTime\": 1727127350.351596, \"EndTime\": 1727127350.351601, \"Dimensions\": {\"Algorithm\": \"Linear Learner\", \"Host\": \"algo-1\", \"Operation\": \"training\", \"epoch\": 1, \"model\": 5}, \"Metrics\": {\"validation_binary_classification_cross_entropy_objective\": {\"sum\": 0.5007320496388751, \"count\": 1, \"min\": 0.5007320496388751, \"max\": 0.5007320496388751}}}\u001b[0m\n",
      "\u001b[34m#metrics {\"StartTime\": 1727127350.3516185, \"EndTime\": 1727127350.3516235, \"Dimensions\": {\"Algorithm\": \"Linear Learner\", \"Host\": \"algo-1\", \"Operation\": \"training\", \"epoch\": 1, \"model\": 6}, \"Metrics\": {\"validation_binary_classification_cross_entropy_objective\": {\"sum\": 0.482438038444126, \"count\": 1, \"min\": 0.482438038444126, \"max\": 0.482438038444126}}}\u001b[0m\n",
      "\u001b[34m#metrics {\"StartTime\": 1727127350.351643, \"EndTime\": 1727127350.3516483, \"Dimensions\": {\"Algorithm\": \"Linear Learner\", \"Host\": \"algo-1\", \"Operation\": \"training\", \"epoch\": 1, \"model\": 7}, \"Metrics\": {\"validation_binary_classification_cross_entropy_objective\": {\"sum\": 0.5007348010142627, \"count\": 1, \"min\": 0.5007348010142627, \"max\": 0.5007348010142627}}}\u001b[0m\n",
      "\u001b[34m#metrics {\"StartTime\": 1727127350.3516688, \"EndTime\": 1727127350.3516738, \"Dimensions\": {\"Algorithm\": \"Linear Learner\", \"Host\": \"algo-1\", \"Operation\": \"training\", \"epoch\": 1, \"model\": 8}, \"Metrics\": {\"validation_binary_classification_cross_entropy_objective\": {\"sum\": 0.4808682082472079, \"count\": 1, \"min\": 0.4808682082472079, \"max\": 0.4808682082472079}}}\u001b[0m\n",
      "\u001b[34m#metrics {\"StartTime\": 1727127350.3516908, \"EndTime\": 1727127350.3516955, \"Dimensions\": {\"Algorithm\": \"Linear Learner\", \"Host\": \"algo-1\", \"Operation\": \"training\", \"epoch\": 1, \"model\": 9}, \"Metrics\": {\"validation_binary_classification_cross_entropy_objective\": {\"sum\": 0.4826238689798459, \"count\": 1, \"min\": 0.4826238689798459, \"max\": 0.4826238689798459}}}\u001b[0m\n",
      "\u001b[34m#metrics {\"StartTime\": 1727127350.3517125, \"EndTime\": 1727127350.3517175, \"Dimensions\": {\"Algorithm\": \"Linear Learner\", \"Host\": \"algo-1\", \"Operation\": \"training\", \"epoch\": 1, \"model\": 10}, \"Metrics\": {\"validation_binary_classification_cross_entropy_objective\": {\"sum\": 0.4808686200392519, \"count\": 1, \"min\": 0.4808686200392519, \"max\": 0.4808686200392519}}}\u001b[0m\n",
      "\u001b[34m#metrics {\"StartTime\": 1727127350.3517342, \"EndTime\": 1727127350.3517392, \"Dimensions\": {\"Algorithm\": \"Linear Learner\", \"Host\": \"algo-1\", \"Operation\": \"training\", \"epoch\": 1, \"model\": 11}, \"Metrics\": {\"validation_binary_classification_cross_entropy_objective\": {\"sum\": 0.4826235926481661, \"count\": 1, \"min\": 0.4826235926481661, \"max\": 0.4826235926481661}}}\u001b[0m\n",
      "\u001b[34m#metrics {\"StartTime\": 1727127350.3517559, \"EndTime\": 1727127350.3517606, \"Dimensions\": {\"Algorithm\": \"Linear Learner\", \"Host\": \"algo-1\", \"Operation\": \"training\", \"epoch\": 1, \"model\": 12}, \"Metrics\": {\"validation_binary_classification_cross_entropy_objective\": {\"sum\": 0.48269395777694324, \"count\": 1, \"min\": 0.48269395777694324, \"max\": 0.48269395777694324}}}\u001b[0m\n",
      "\u001b[34m#metrics {\"StartTime\": 1727127350.3517776, \"EndTime\": 1727127350.3517823, \"Dimensions\": {\"Algorithm\": \"Linear Learner\", \"Host\": \"algo-1\", \"Operation\": \"training\", \"epoch\": 1, \"model\": 13}, \"Metrics\": {\"validation_binary_classification_cross_entropy_objective\": {\"sum\": 0.50089553164009, \"count\": 1, \"min\": 0.50089553164009, \"max\": 0.50089553164009}}}\u001b[0m\n",
      "\u001b[34m#metrics {\"StartTime\": 1727127350.3517992, \"EndTime\": 1727127350.3518045, \"Dimensions\": {\"Algorithm\": \"Linear Learner\", \"Host\": \"algo-1\", \"Operation\": \"training\", \"epoch\": 1, \"model\": 14}, \"Metrics\": {\"validation_binary_classification_cross_entropy_objective\": {\"sum\": 0.4826935157582064, \"count\": 1, \"min\": 0.4826935157582064, \"max\": 0.4826935157582064}}}\u001b[0m\n",
      "\u001b[34m#metrics {\"StartTime\": 1727127350.3518214, \"EndTime\": 1727127350.3518262, \"Dimensions\": {\"Algorithm\": \"Linear Learner\", \"Host\": \"algo-1\", \"Operation\": \"training\", \"epoch\": 1, \"model\": 15}, \"Metrics\": {\"validation_binary_classification_cross_entropy_objective\": {\"sum\": 0.5008941884181033, \"count\": 1, \"min\": 0.5008941884181033, \"max\": 0.5008941884181033}}}\u001b[0m\n",
      "\u001b[34m#metrics {\"StartTime\": 1727127350.3518448, \"EndTime\": 1727127350.35185, \"Dimensions\": {\"Algorithm\": \"Linear Learner\", \"Host\": \"algo-1\", \"Operation\": \"training\", \"epoch\": 1, \"model\": 16}, \"Metrics\": {\"validation_binary_classification_cross_entropy_objective\": {\"sum\": 0.504380051358032, \"count\": 1, \"min\": 0.504380051358032, \"max\": 0.504380051358032}}}\u001b[0m\n",
      "\u001b[34m#metrics {\"StartTime\": 1727127350.3518689, \"EndTime\": 1727127350.3518739, \"Dimensions\": {\"Algorithm\": \"Linear Learner\", \"Host\": \"algo-1\", \"Operation\": \"training\", \"epoch\": 1, \"model\": 17}, \"Metrics\": {\"validation_binary_classification_cross_entropy_objective\": {\"sum\": 0.505550640492128, \"count\": 1, \"min\": 0.505550640492128, \"max\": 0.505550640492128}}}\u001b[0m\n",
      "\u001b[34m#metrics {\"StartTime\": 1727127350.351891, \"EndTime\": 1727127350.3518982, \"Dimensions\": {\"Algorithm\": \"Linear Learner\", \"Host\": \"algo-1\", \"Operation\": \"training\", \"epoch\": 1, \"model\": 18}, \"Metrics\": {\"validation_binary_classification_cross_entropy_objective\": {\"sum\": 0.5043807823961962, \"count\": 1, \"min\": 0.5043807823961962, \"max\": 0.5043807823961962}}}\u001b[0m\n",
      "\u001b[34m#metrics {\"StartTime\": 1727127350.351925, \"EndTime\": 1727127350.3519306, \"Dimensions\": {\"Algorithm\": \"Linear Learner\", \"Host\": \"algo-1\", \"Operation\": \"training\", \"epoch\": 1, \"model\": 19}, \"Metrics\": {\"validation_binary_classification_cross_entropy_objective\": {\"sum\": 0.5055486890045937, \"count\": 1, \"min\": 0.5055486890045937, \"max\": 0.5055486890045937}}}\u001b[0m\n",
      "\u001b[34m#metrics {\"StartTime\": 1727127350.351948, \"EndTime\": 1727127350.3519528, \"Dimensions\": {\"Algorithm\": \"Linear Learner\", \"Host\": \"algo-1\", \"Operation\": \"training\", \"epoch\": 1, \"model\": 20}, \"Metrics\": {\"validation_binary_classification_cross_entropy_objective\": {\"sum\": 0.5055445380586931, \"count\": 1, \"min\": 0.5055445380586931, \"max\": 0.5055445380586931}}}\u001b[0m\n",
      "\u001b[34m#metrics {\"StartTime\": 1727127350.3519695, \"EndTime\": 1727127350.3519747, \"Dimensions\": {\"Algorithm\": \"Linear Learner\", \"Host\": \"algo-1\", \"Operation\": \"training\", \"epoch\": 1, \"model\": 21}, \"Metrics\": {\"validation_binary_classification_cross_entropy_objective\": {\"sum\": 0.5041068279898949, \"count\": 1, \"min\": 0.5041068279898949, \"max\": 0.5041068279898949}}}\u001b[0m\n",
      "\u001b[34m#metrics {\"StartTime\": 1727127350.351991, \"EndTime\": 1727127350.3519957, \"Dimensions\": {\"Algorithm\": \"Linear Learner\", \"Host\": \"algo-1\", \"Operation\": \"training\", \"epoch\": 1, \"model\": 22}, \"Metrics\": {\"validation_binary_classification_cross_entropy_objective\": {\"sum\": 0.5055440602157277, \"count\": 1, \"min\": 0.5055440602157277, \"max\": 0.5055440602157277}}}\u001b[0m\n",
      "\u001b[34m#metrics {\"StartTime\": 1727127350.352012, \"EndTime\": 1727127350.352017, \"Dimensions\": {\"Algorithm\": \"Linear Learner\", \"Host\": \"algo-1\", \"Operation\": \"training\", \"epoch\": 1, \"model\": 23}, \"Metrics\": {\"validation_binary_classification_cross_entropy_objective\": {\"sum\": 0.5041076655678222, \"count\": 1, \"min\": 0.5041076655678222, \"max\": 0.5041076655678222}}}\u001b[0m\n",
      "\u001b[34m#metrics {\"StartTime\": 1727127350.3520331, \"EndTime\": 1727127350.3520377, \"Dimensions\": {\"Algorithm\": \"Linear Learner\", \"Host\": \"algo-1\", \"Operation\": \"training\", \"epoch\": 1, \"model\": 24}, \"Metrics\": {\"validation_binary_classification_cross_entropy_objective\": {\"sum\": 0.5137370818130327, \"count\": 1, \"min\": 0.5137370818130327, \"max\": 0.5137370818130327}}}\u001b[0m\n",
      "\u001b[34m#metrics {\"StartTime\": 1727127350.3520544, \"EndTime\": 1727127350.352059, \"Dimensions\": {\"Algorithm\": \"Linear Learner\", \"Host\": \"algo-1\", \"Operation\": \"training\", \"epoch\": 1, \"model\": 25}, \"Metrics\": {\"validation_binary_classification_cross_entropy_objective\": {\"sum\": 0.5145203496500236, \"count\": 1, \"min\": 0.5145203496500236, \"max\": 0.5145203496500236}}}\u001b[0m\n",
      "\u001b[34m#metrics {\"StartTime\": 1727127350.3520787, \"EndTime\": 1727127350.3520834, \"Dimensions\": {\"Algorithm\": \"Linear Learner\", \"Host\": \"algo-1\", \"Operation\": \"training\", \"epoch\": 1, \"model\": 26}, \"Metrics\": {\"validation_binary_classification_cross_entropy_objective\": {\"sum\": 0.5137130105436197, \"count\": 1, \"min\": 0.5137130105436197, \"max\": 0.5137130105436197}}}\u001b[0m\n",
      "\u001b[34m#metrics {\"StartTime\": 1727127350.352102, \"EndTime\": 1727127350.352107, \"Dimensions\": {\"Algorithm\": \"Linear Learner\", \"Host\": \"algo-1\", \"Operation\": \"training\", \"epoch\": 1, \"model\": 27}, \"Metrics\": {\"validation_binary_classification_cross_entropy_objective\": {\"sum\": 0.5144915176764864, \"count\": 1, \"min\": 0.5144915176764864, \"max\": 0.5144915176764864}}}\u001b[0m\n",
      "\u001b[34m#metrics {\"StartTime\": 1727127350.352126, \"EndTime\": 1727127350.3521311, \"Dimensions\": {\"Algorithm\": \"Linear Learner\", \"Host\": \"algo-1\", \"Operation\": \"training\", \"epoch\": 1, \"model\": 28}, \"Metrics\": {\"validation_binary_classification_cross_entropy_objective\": {\"sum\": 0.5138482458869487, \"count\": 1, \"min\": 0.5138482458869487, \"max\": 0.5138482458869487}}}\u001b[0m\n",
      "\u001b[34m#metrics {\"StartTime\": 1727127350.35215, \"EndTime\": 1727127350.3521552, \"Dimensions\": {\"Algorithm\": \"Linear Learner\", \"Host\": \"algo-1\", \"Operation\": \"training\", \"epoch\": 1, \"model\": 29}, \"Metrics\": {\"validation_binary_classification_cross_entropy_objective\": {\"sum\": 0.5134846049646792, \"count\": 1, \"min\": 0.5134846049646792, \"max\": 0.5134846049646792}}}\u001b[0m\n",
      "\u001b[34m#metrics {\"StartTime\": 1727127350.3521721, \"EndTime\": 1727127350.352177, \"Dimensions\": {\"Algorithm\": \"Linear Learner\", \"Host\": \"algo-1\", \"Operation\": \"training\", \"epoch\": 1, \"model\": 30}, \"Metrics\": {\"validation_binary_classification_cross_entropy_objective\": {\"sum\": 0.5138724179120044, \"count\": 1, \"min\": 0.5138724179120044, \"max\": 0.5138724179120044}}}\u001b[0m\n",
      "\u001b[34m#metrics {\"StartTime\": 1727127350.3521955, \"EndTime\": 1727127350.3522007, \"Dimensions\": {\"Algorithm\": \"Linear Learner\", \"Host\": \"algo-1\", \"Operation\": \"training\", \"epoch\": 1, \"model\": 31}, \"Metrics\": {\"validation_binary_classification_cross_entropy_objective\": {\"sum\": 0.5134746258645939, \"count\": 1, \"min\": 0.5134746258645939, \"max\": 0.5134746258645939}}}\u001b[0m\n",
      "\u001b[34m[09/23/2024 21:35:50 INFO 140539079042880] #quality_metric: host=algo-1, epoch=1, validation binary_classification_cross_entropy_objective <loss>=0.48058316642875\u001b[0m\n",
      "\u001b[34m[09/23/2024 21:35:50 INFO 140539079042880] #early_stopping_criteria_metric: host=algo-1, epoch=1, criteria=binary_classification_cross_entropy_objective, value=0.48058316642875\u001b[0m\n",
      "\u001b[34m[09/23/2024 21:35:50 INFO 140539079042880] Saving model for epoch: 1\u001b[0m\n",
      "\u001b[34m[09/23/2024 21:35:50 INFO 140539079042880] Saved checkpoint to \"/tmp/tmpdk8pscrr/mx-mod-0000.params\"\u001b[0m\n",
      "\u001b[34m[09/23/2024 21:35:50 INFO 140539079042880] #progress_metric: host=algo-1, completed 13.333333333333334 % of epochs\u001b[0m\n",
      "\u001b[34m#metrics {\"StartTime\": 1727127318.4249887, \"EndTime\": 1727127350.3573115, \"Dimensions\": {\"Algorithm\": \"Linear Learner\", \"Host\": \"algo-1\", \"Operation\": \"training\", \"epoch\": 1, \"Meta\": \"training_data_iter\"}, \"Metrics\": {\"Total Records Seen\": {\"sum\": 2628944.0, \"count\": 1, \"min\": 2628944, \"max\": 2628944}, \"Total Batches Seen\": {\"sum\": 2630.0, \"count\": 1, \"min\": 2630, \"max\": 2630}, \"Max Records Seen Between Resets\": {\"sum\": 1308472.0, \"count\": 1, \"min\": 1308472, \"max\": 1308472}, \"Max Batches Seen Between Resets\": {\"sum\": 1309.0, \"count\": 1, \"min\": 1309, \"max\": 1309}, \"Reset Count\": {\"sum\": 4.0, \"count\": 1, \"min\": 4, \"max\": 4}, \"Number of Records Since Last Reset\": {\"sum\": 1308472.0, \"count\": 1, \"min\": 1308472, \"max\": 1308472}, \"Number of Batches Since Last Reset\": {\"sum\": 1309.0, \"count\": 1, \"min\": 1309, \"max\": 1309}}}\u001b[0m\n",
      "\u001b[34m[09/23/2024 21:35:50 INFO 140539079042880] #throughput_metric: host=algo-1, train throughput=40976.280963077596 records/second\u001b[0m\n",
      "\u001b[34m[2024-09-23 21:36:19.416] [tensorio] [info] epoch_stats={\"data_pipeline\": \"/opt/ml/input/data/train\", \"epoch\": 7, \"duration\": 29058, \"num_examples\": 1309, \"num_bytes\": 502453248}\u001b[0m\n",
      "\u001b[34m#metrics {\"StartTime\": 1727127379.4164662, \"EndTime\": 1727127379.4165351, \"Dimensions\": {\"Algorithm\": \"Linear Learner\", \"Host\": \"algo-1\", \"Operation\": \"training\", \"epoch\": 2, \"model\": 0}, \"Metrics\": {\"train_binary_classification_cross_entropy_objective\": {\"sum\": 0.4807073335793405, \"count\": 1, \"min\": 0.4807073335793405, \"max\": 0.4807073335793405}}}\u001b[0m\n",
      "\u001b[34m#metrics {\"StartTime\": 1727127379.4166183, \"EndTime\": 1727127379.4166343, \"Dimensions\": {\"Algorithm\": \"Linear Learner\", \"Host\": \"algo-1\", \"Operation\": \"training\", \"epoch\": 2, \"model\": 1}, \"Metrics\": {\"train_binary_classification_cross_entropy_objective\": {\"sum\": 0.4817077401770729, \"count\": 1, \"min\": 0.4817077401770729, \"max\": 0.4817077401770729}}}\u001b[0m\n",
      "\u001b[34m#metrics {\"StartTime\": 1727127379.416674, \"EndTime\": 1727127379.4166842, \"Dimensions\": {\"Algorithm\": \"Linear Learner\", \"Host\": \"algo-1\", \"Operation\": \"training\", \"epoch\": 2, \"model\": 2}, \"Metrics\": {\"train_binary_classification_cross_entropy_objective\": {\"sum\": 0.4807076826416389, \"count\": 1, \"min\": 0.4807076826416389, \"max\": 0.4807076826416389}}}\u001b[0m\n",
      "\u001b[34m#metrics {\"StartTime\": 1727127379.4167125, \"EndTime\": 1727127379.4167206, \"Dimensions\": {\"Algorithm\": \"Linear Learner\", \"Host\": \"algo-1\", \"Operation\": \"training\", \"epoch\": 2, \"model\": 3}, \"Metrics\": {\"train_binary_classification_cross_entropy_objective\": {\"sum\": 0.48170762032325115, \"count\": 1, \"min\": 0.48170762032325115, \"max\": 0.48170762032325115}}}\u001b[0m\n",
      "\u001b[34m#metrics {\"StartTime\": 1727127379.4167492, \"EndTime\": 1727127379.416758, \"Dimensions\": {\"Algorithm\": \"Linear Learner\", \"Host\": \"algo-1\", \"Operation\": \"training\", \"epoch\": 2, \"model\": 4}, \"Metrics\": {\"train_binary_classification_cross_entropy_objective\": {\"sum\": 0.48178777744864837, \"count\": 1, \"min\": 0.48178777744864837, \"max\": 0.48178777744864837}}}\u001b[0m\n",
      "\u001b[34m#metrics {\"StartTime\": 1727127379.4167836, \"EndTime\": 1727127379.4167914, \"Dimensions\": {\"Algorithm\": \"Linear Learner\", \"Host\": \"algo-1\", \"Operation\": \"training\", \"epoch\": 2, \"model\": 5}, \"Metrics\": {\"train_binary_classification_cross_entropy_objective\": {\"sum\": 0.4987026186601831, \"count\": 1, \"min\": 0.4987026186601831, \"max\": 0.4987026186601831}}}\u001b[0m\n",
      "\u001b[34m#metrics {\"StartTime\": 1727127379.4168286, \"EndTime\": 1727127379.4168384, \"Dimensions\": {\"Algorithm\": \"Linear Learner\", \"Host\": \"algo-1\", \"Operation\": \"training\", \"epoch\": 2, \"model\": 6}, \"Metrics\": {\"train_binary_classification_cross_entropy_objective\": {\"sum\": 0.48178773064569597, \"count\": 1, \"min\": 0.48178773064569597, \"max\": 0.48178773064569597}}}\u001b[0m\n",
      "\u001b[34m#metrics {\"StartTime\": 1727127379.4168696, \"EndTime\": 1727127379.4168801, \"Dimensions\": {\"Algorithm\": \"Linear Learner\", \"Host\": \"algo-1\", \"Operation\": \"training\", \"epoch\": 2, \"model\": 7}, \"Metrics\": {\"train_binary_classification_cross_entropy_objective\": {\"sum\": 0.4987029267990626, \"count\": 1, \"min\": 0.4987029267990626, \"max\": 0.4987029267990626}}}\u001b[0m\n",
      "\u001b[34m#metrics {\"StartTime\": 1727127379.4169128, \"EndTime\": 1727127379.4169238, \"Dimensions\": {\"Algorithm\": \"Linear Learner\", \"Host\": \"algo-1\", \"Operation\": \"training\", \"epoch\": 2, \"model\": 8}, \"Metrics\": {\"train_binary_classification_cross_entropy_objective\": {\"sum\": 0.4809691341295155, \"count\": 1, \"min\": 0.4809691341295155, \"max\": 0.4809691341295155}}}\u001b[0m\n",
      "\u001b[34m#metrics {\"StartTime\": 1727127379.416956, \"EndTime\": 1727127379.4169662, \"Dimensions\": {\"Algorithm\": \"Linear Learner\", \"Host\": \"algo-1\", \"Operation\": \"training\", \"epoch\": 2, \"model\": 9}, \"Metrics\": {\"train_binary_classification_cross_entropy_objective\": {\"sum\": 0.48191277147578904, \"count\": 1, \"min\": 0.48191277147578904, \"max\": 0.48191277147578904}}}\u001b[0m\n",
      "\u001b[34m#metrics {\"StartTime\": 1727127379.4170015, \"EndTime\": 1727127379.417011, \"Dimensions\": {\"Algorithm\": \"Linear Learner\", \"Host\": \"algo-1\", \"Operation\": \"training\", \"epoch\": 2, \"model\": 10}, \"Metrics\": {\"train_binary_classification_cross_entropy_objective\": {\"sum\": 0.48096913391953217, \"count\": 1, \"min\": 0.48096913391953217, \"max\": 0.48096913391953217}}}\u001b[0m\n",
      "\u001b[34m#metrics {\"StartTime\": 1727127379.4170518, \"EndTime\": 1727127379.4170628, \"Dimensions\": {\"Algorithm\": \"Linear Learner\", \"Host\": \"algo-1\", \"Operation\": \"training\", \"epoch\": 2, \"model\": 11}, \"Metrics\": {\"train_binary_classification_cross_entropy_objective\": {\"sum\": 0.4819128029032949, \"count\": 1, \"min\": 0.4819128029032949, \"max\": 0.4819128029032949}}}\u001b[0m\n",
      "\u001b[34m#metrics {\"StartTime\": 1727127379.4171026, \"EndTime\": 1727127379.4171128, \"Dimensions\": {\"Algorithm\": \"Linear Learner\", \"Host\": \"algo-1\", \"Operation\": \"training\", \"epoch\": 2, \"model\": 12}, \"Metrics\": {\"train_binary_classification_cross_entropy_objective\": {\"sum\": 0.4819808856602473, \"count\": 1, \"min\": 0.4819808856602473, \"max\": 0.4819808856602473}}}\u001b[0m\n",
      "\u001b[34m#metrics {\"StartTime\": 1727127379.4171515, \"EndTime\": 1727127379.417161, \"Dimensions\": {\"Algorithm\": \"Linear Learner\", \"Host\": \"algo-1\", \"Operation\": \"training\", \"epoch\": 2, \"model\": 13}, \"Metrics\": {\"train_binary_classification_cross_entropy_objective\": {\"sum\": 0.4977100142266043, \"count\": 1, \"min\": 0.4977100142266043, \"max\": 0.4977100142266043}}}\u001b[0m\n",
      "\u001b[34m#metrics {\"StartTime\": 1727127379.4171991, \"EndTime\": 1727127379.41721, \"Dimensions\": {\"Algorithm\": \"Linear Learner\", \"Host\": \"algo-1\", \"Operation\": \"training\", \"epoch\": 2, \"model\": 14}, \"Metrics\": {\"train_binary_classification_cross_entropy_objective\": {\"sum\": 0.48198086389197486, \"count\": 1, \"min\": 0.48198086389197486, \"max\": 0.48198086389197486}}}\u001b[0m\n",
      "\u001b[34m#metrics {\"StartTime\": 1727127379.417251, \"EndTime\": 1727127379.4172618, \"Dimensions\": {\"Algorithm\": \"Linear Learner\", \"Host\": \"algo-1\", \"Operation\": \"training\", \"epoch\": 2, \"model\": 15}, \"Metrics\": {\"train_binary_classification_cross_entropy_objective\": {\"sum\": 0.49770965842150766, \"count\": 1, \"min\": 0.49770965842150766, \"max\": 0.49770965842150766}}}\u001b[0m\n",
      "\u001b[34m#metrics {\"StartTime\": 1727127379.4173014, \"EndTime\": 1727127379.4173126, \"Dimensions\": {\"Algorithm\": \"Linear Learner\", \"Host\": \"algo-1\", \"Operation\": \"training\", \"epoch\": 2, \"model\": 16}, \"Metrics\": {\"train_binary_classification_cross_entropy_objective\": {\"sum\": 0.5040436872663119, \"count\": 1, \"min\": 0.5040436872663119, \"max\": 0.5040436872663119}}}\u001b[0m\n",
      "\u001b[34m#metrics {\"StartTime\": 1727127379.4173453, \"EndTime\": 1727127379.4173543, \"Dimensions\": {\"Algorithm\": \"Linear Learner\", \"Host\": \"algo-1\", \"Operation\": \"training\", \"epoch\": 2, \"model\": 17}, \"Metrics\": {\"train_binary_classification_cross_entropy_objective\": {\"sum\": 0.5043191118619493, \"count\": 1, \"min\": 0.5043191118619493, \"max\": 0.5043191118619493}}}\u001b[0m\n",
      "\u001b[34m#metrics {\"StartTime\": 1727127379.4173825, \"EndTime\": 1727127379.4173915, \"Dimensions\": {\"Algorithm\": \"Linear Learner\", \"Host\": \"algo-1\", \"Operation\": \"training\", \"epoch\": 2, \"model\": 18}, \"Metrics\": {\"train_binary_classification_cross_entropy_objective\": {\"sum\": 0.5040436928192046, \"count\": 1, \"min\": 0.5040436928192046, \"max\": 0.5040436928192046}}}\u001b[0m\n",
      "\u001b[34m#metrics {\"StartTime\": 1727127379.4174242, \"EndTime\": 1727127379.4174323, \"Dimensions\": {\"Algorithm\": \"Linear Learner\", \"Host\": \"algo-1\", \"Operation\": \"training\", \"epoch\": 2, \"model\": 19}, \"Metrics\": {\"train_binary_classification_cross_entropy_objective\": {\"sum\": 0.5043190646390302, \"count\": 1, \"min\": 0.5043190646390302, \"max\": 0.5043190646390302}}}\u001b[0m\n",
      "\u001b[34m#metrics {\"StartTime\": 1727127379.4174638, \"EndTime\": 1727127379.4174724, \"Dimensions\": {\"Algorithm\": \"Linear Learner\", \"Host\": \"algo-1\", \"Operation\": \"training\", \"epoch\": 2, \"model\": 20}, \"Metrics\": {\"train_binary_classification_cross_entropy_objective\": {\"sum\": 0.504318940305564, \"count\": 1, \"min\": 0.504318940305564, \"max\": 0.504318940305564}}}\u001b[0m\n",
      "\u001b[34m#metrics {\"StartTime\": 1727127379.4175053, \"EndTime\": 1727127379.4175143, \"Dimensions\": {\"Algorithm\": \"Linear Learner\", \"Host\": \"algo-1\", \"Operation\": \"training\", \"epoch\": 2, \"model\": 21}, \"Metrics\": {\"train_binary_classification_cross_entropy_objective\": {\"sum\": 0.5074154681051178, \"count\": 1, \"min\": 0.5074154681051178, \"max\": 0.5074154681051178}}}\u001b[0m\n",
      "\u001b[34m#metrics {\"StartTime\": 1727127379.4175463, \"EndTime\": 1727127379.417556, \"Dimensions\": {\"Algorithm\": \"Linear Learner\", \"Host\": \"algo-1\", \"Operation\": \"training\", \"epoch\": 2, \"model\": 22}, \"Metrics\": {\"train_binary_classification_cross_entropy_objective\": {\"sum\": 0.5043189629604328, \"count\": 1, \"min\": 0.5043189629604328, \"max\": 0.5043189629604328}}}\u001b[0m\n",
      "\u001b[34m#metrics {\"StartTime\": 1727127379.4175904, \"EndTime\": 1727127379.4176002, \"Dimensions\": {\"Algorithm\": \"Linear Learner\", \"Host\": \"algo-1\", \"Operation\": \"training\", \"epoch\": 2, \"model\": 23}, \"Metrics\": {\"train_binary_classification_cross_entropy_objective\": {\"sum\": 0.5074153298194255, \"count\": 1, \"min\": 0.5074153298194255, \"max\": 0.5074153298194255}}}\u001b[0m\n",
      "\u001b[34m#metrics {\"StartTime\": 1727127379.4176424, \"EndTime\": 1727127379.417652, \"Dimensions\": {\"Algorithm\": \"Linear Learner\", \"Host\": \"algo-1\", \"Operation\": \"training\", \"epoch\": 2, \"model\": 24}, \"Metrics\": {\"train_binary_classification_cross_entropy_objective\": {\"sum\": 0.5137239507039388, \"count\": 1, \"min\": 0.5137239507039388, \"max\": 0.5137239507039388}}}\u001b[0m\n",
      "\u001b[34m#metrics {\"StartTime\": 1727127379.4176939, \"EndTime\": 1727127379.4177036, \"Dimensions\": {\"Algorithm\": \"Linear Learner\", \"Host\": \"algo-1\", \"Operation\": \"training\", \"epoch\": 2, \"model\": 25}, \"Metrics\": {\"train_binary_classification_cross_entropy_objective\": {\"sum\": 0.5138316864806942, \"count\": 1, \"min\": 0.5138316864806942, \"max\": 0.5138316864806942}}}\u001b[0m\n",
      "\u001b[34m#metrics {\"StartTime\": 1727127379.4177437, \"EndTime\": 1727127379.4177542, \"Dimensions\": {\"Algorithm\": \"Linear Learner\", \"Host\": \"algo-1\", \"Operation\": \"training\", \"epoch\": 2, \"model\": 26}, \"Metrics\": {\"train_binary_classification_cross_entropy_objective\": {\"sum\": 0.5137238923985659, \"count\": 1, \"min\": 0.5137238923985659, \"max\": 0.5137238923985659}}}\u001b[0m\n",
      "\u001b[34m#metrics {\"StartTime\": 1727127379.417793, \"EndTime\": 1727127379.417804, \"Dimensions\": {\"Algorithm\": \"Linear Learner\", \"Host\": \"algo-1\", \"Operation\": \"training\", \"epoch\": 2, \"model\": 27}, \"Metrics\": {\"train_binary_classification_cross_entropy_objective\": {\"sum\": 0.513830976620362, \"count\": 1, \"min\": 0.513830976620362, \"max\": 0.513830976620362}}}\u001b[0m\n",
      "\u001b[34m#metrics {\"StartTime\": 1727127379.4178383, \"EndTime\": 1727127379.417848, \"Dimensions\": {\"Algorithm\": \"Linear Learner\", \"Host\": \"algo-1\", \"Operation\": \"training\", \"epoch\": 2, \"model\": 28}, \"Metrics\": {\"train_binary_classification_cross_entropy_objective\": {\"sum\": 0.5138249747833346, \"count\": 1, \"min\": 0.5138249747833346, \"max\": 0.5138249747833346}}}\u001b[0m\n",
      "\u001b[34m#metrics {\"StartTime\": 1727127379.4178789, \"EndTime\": 1727127379.417888, \"Dimensions\": {\"Algorithm\": \"Linear Learner\", \"Host\": \"algo-1\", \"Operation\": \"training\", \"epoch\": 2, \"model\": 29}, \"Metrics\": {\"train_binary_classification_cross_entropy_objective\": {\"sum\": 0.5150128338781701, \"count\": 1, \"min\": 0.5150128338781701, \"max\": 0.5150128338781701}}}\u001b[0m\n",
      "\u001b[34m#metrics {\"StartTime\": 1727127379.4179275, \"EndTime\": 1727127379.4179375, \"Dimensions\": {\"Algorithm\": \"Linear Learner\", \"Host\": \"algo-1\", \"Operation\": \"training\", \"epoch\": 2, \"model\": 30}, \"Metrics\": {\"train_binary_classification_cross_entropy_objective\": {\"sum\": 0.5138252721897324, \"count\": 1, \"min\": 0.5138252721897324, \"max\": 0.5138252721897324}}}\u001b[0m\n",
      "\u001b[34m#metrics {\"StartTime\": 1727127379.4179816, \"EndTime\": 1727127379.4179916, \"Dimensions\": {\"Algorithm\": \"Linear Learner\", \"Host\": \"algo-1\", \"Operation\": \"training\", \"epoch\": 2, \"model\": 31}, \"Metrics\": {\"train_binary_classification_cross_entropy_objective\": {\"sum\": 0.5150123977427818, \"count\": 1, \"min\": 0.5150123977427818, \"max\": 0.5150123977427818}}}\u001b[0m\n",
      "\u001b[34m[09/23/2024 21:36:19 INFO 140539079042880] #quality_metric: host=algo-1, epoch=2, train binary_classification_cross_entropy_objective <loss>=0.4807073335793405\u001b[0m\n",
      "\u001b[34m[2024-09-23 21:36:21.962] [tensorio] [info] epoch_stats={\"data_pipeline\": \"/opt/ml/input/data/validation\", \"epoch\": 8, \"duration\": 2530, \"num_examples\": 164, \"num_bytes\": 62806656}\u001b[0m\n",
      "\u001b[34m#metrics {\"StartTime\": 1727127381.9673767, \"EndTime\": 1727127381.9674327, \"Dimensions\": {\"Algorithm\": \"Linear Learner\", \"Host\": \"algo-1\", \"Operation\": \"training\", \"epoch\": 2, \"model\": 0}, \"Metrics\": {\"validation_binary_classification_cross_entropy_objective\": {\"sum\": 0.48051643298114377, \"count\": 1, \"min\": 0.48051643298114377, \"max\": 0.48051643298114377}}}\u001b[0m\n",
      "\u001b[34m#metrics {\"StartTime\": 1727127381.9674997, \"EndTime\": 1727127381.96751, \"Dimensions\": {\"Algorithm\": \"Linear Learner\", \"Host\": \"algo-1\", \"Operation\": \"training\", \"epoch\": 2, \"model\": 1}, \"Metrics\": {\"validation_binary_classification_cross_entropy_objective\": {\"sum\": 0.48216839656592286, \"count\": 1, \"min\": 0.48216839656592286, \"max\": 0.48216839656592286}}}\u001b[0m\n",
      "\u001b[34m#metrics {\"StartTime\": 1727127381.967545, \"EndTime\": 1727127381.9675543, \"Dimensions\": {\"Algorithm\": \"Linear Learner\", \"Host\": \"algo-1\", \"Operation\": \"training\", \"epoch\": 2, \"model\": 2}, \"Metrics\": {\"validation_binary_classification_cross_entropy_objective\": {\"sum\": 0.4805171890216341, \"count\": 1, \"min\": 0.4805171890216341, \"max\": 0.4805171890216341}}}\u001b[0m\n",
      "\u001b[34m#metrics {\"StartTime\": 1727127381.967592, \"EndTime\": 1727127381.9676003, \"Dimensions\": {\"Algorithm\": \"Linear Learner\", \"Host\": \"algo-1\", \"Operation\": \"training\", \"epoch\": 2, \"model\": 3}, \"Metrics\": {\"validation_binary_classification_cross_entropy_objective\": {\"sum\": 0.48216860274182166, \"count\": 1, \"min\": 0.48216860274182166, \"max\": 0.48216860274182166}}}\u001b[0m\n",
      "\u001b[34m#metrics {\"StartTime\": 1727127381.9676318, \"EndTime\": 1727127381.967641, \"Dimensions\": {\"Algorithm\": \"Linear Learner\", \"Host\": \"algo-1\", \"Operation\": \"training\", \"epoch\": 2, \"model\": 4}, \"Metrics\": {\"validation_binary_classification_cross_entropy_objective\": {\"sum\": 0.481220999092835, \"count\": 1, \"min\": 0.481220999092835, \"max\": 0.481220999092835}}}\u001b[0m\n",
      "\u001b[34m#metrics {\"StartTime\": 1727127381.9676728, \"EndTime\": 1727127381.9676821, \"Dimensions\": {\"Algorithm\": \"Linear Learner\", \"Host\": \"algo-1\", \"Operation\": \"training\", \"epoch\": 2, \"model\": 5}, \"Metrics\": {\"validation_binary_classification_cross_entropy_objective\": {\"sum\": 0.4984707543626029, \"count\": 1, \"min\": 0.4984707543626029, \"max\": 0.4984707543626029}}}\u001b[0m\n",
      "\u001b[34m#metrics {\"StartTime\": 1727127381.9677212, \"EndTime\": 1727127381.967732, \"Dimensions\": {\"Algorithm\": \"Linear Learner\", \"Host\": \"algo-1\", \"Operation\": \"training\", \"epoch\": 2, \"model\": 6}, \"Metrics\": {\"validation_binary_classification_cross_entropy_objective\": {\"sum\": 0.481221006929385, \"count\": 1, \"min\": 0.481221006929385, \"max\": 0.481221006929385}}}\u001b[0m\n",
      "\u001b[34m#metrics {\"StartTime\": 1727127381.9677658, \"EndTime\": 1727127381.9677758, \"Dimensions\": {\"Algorithm\": \"Linear Learner\", \"Host\": \"algo-1\", \"Operation\": \"training\", \"epoch\": 2, \"model\": 7}, \"Metrics\": {\"validation_binary_classification_cross_entropy_objective\": {\"sum\": 0.49847119507524806, \"count\": 1, \"min\": 0.49847119507524806, \"max\": 0.49847119507524806}}}\u001b[0m\n",
      "\u001b[34m#metrics {\"StartTime\": 1727127381.9678147, \"EndTime\": 1727127381.967824, \"Dimensions\": {\"Algorithm\": \"Linear Learner\", \"Host\": \"algo-1\", \"Operation\": \"training\", \"epoch\": 2, \"model\": 8}, \"Metrics\": {\"validation_binary_classification_cross_entropy_objective\": {\"sum\": 0.48078398940412465, \"count\": 1, \"min\": 0.48078398940412465, \"max\": 0.48078398940412465}}}\u001b[0m\n",
      "\u001b[34m#metrics {\"StartTime\": 1727127381.9678602, \"EndTime\": 1727127381.9678698, \"Dimensions\": {\"Algorithm\": \"Linear Learner\", \"Host\": \"algo-1\", \"Operation\": \"training\", \"epoch\": 2, \"model\": 9}, \"Metrics\": {\"validation_binary_classification_cross_entropy_objective\": {\"sum\": 0.48247311148339916, \"count\": 1, \"min\": 0.48247311148339916, \"max\": 0.48247311148339916}}}\u001b[0m\n",
      "\u001b[34m#metrics {\"StartTime\": 1727127381.967903, \"EndTime\": 1727127381.967912, \"Dimensions\": {\"Algorithm\": \"Linear Learner\", \"Host\": \"algo-1\", \"Operation\": \"training\", \"epoch\": 2, \"model\": 10}, \"Metrics\": {\"validation_binary_classification_cross_entropy_objective\": {\"sum\": 0.48078397634320796, \"count\": 1, \"min\": 0.48078397634320796, \"max\": 0.48078397634320796}}}\u001b[0m\n",
      "\u001b[34m#metrics {\"StartTime\": 1727127381.9679441, \"EndTime\": 1727127381.967954, \"Dimensions\": {\"Algorithm\": \"Linear Learner\", \"Host\": \"algo-1\", \"Operation\": \"training\", \"epoch\": 2, \"model\": 11}, \"Metrics\": {\"validation_binary_classification_cross_entropy_objective\": {\"sum\": 0.4824730357300825, \"count\": 1, \"min\": 0.4824730357300825, \"max\": 0.4824730357300825}}}\u001b[0m\n",
      "\u001b[34m#metrics {\"StartTime\": 1727127381.9679906, \"EndTime\": 1727127381.9680004, \"Dimensions\": {\"Algorithm\": \"Linear Learner\", \"Host\": \"algo-1\", \"Operation\": \"training\", \"epoch\": 2, \"model\": 12}, \"Metrics\": {\"validation_binary_classification_cross_entropy_objective\": {\"sum\": 0.48153145316367824, \"count\": 1, \"min\": 0.48153145316367824, \"max\": 0.48153145316367824}}}\u001b[0m\n",
      "\u001b[34m#metrics {\"StartTime\": 1727127381.9680362, \"EndTime\": 1727127381.9680464, \"Dimensions\": {\"Algorithm\": \"Linear Learner\", \"Host\": \"algo-1\", \"Operation\": \"training\", \"epoch\": 2, \"model\": 13}, \"Metrics\": {\"validation_binary_classification_cross_entropy_objective\": {\"sum\": 0.49800989581323196, \"count\": 1, \"min\": 0.49800989581323196, \"max\": 0.49800989581323196}}}\u001b[0m\n",
      "\u001b[34m#metrics {\"StartTime\": 1727127381.9680767, \"EndTime\": 1727127381.9680867, \"Dimensions\": {\"Algorithm\": \"Linear Learner\", \"Host\": \"algo-1\", \"Operation\": \"training\", \"epoch\": 2, \"model\": 14}, \"Metrics\": {\"validation_binary_classification_cross_entropy_objective\": {\"sum\": 0.4815314680904401, \"count\": 1, \"min\": 0.4815314680904401, \"max\": 0.4815314680904401}}}\u001b[0m\n",
      "\u001b[34m#metrics {\"StartTime\": 1727127381.968125, \"EndTime\": 1727127381.9681363, \"Dimensions\": {\"Algorithm\": \"Linear Learner\", \"Host\": \"algo-1\", \"Operation\": \"training\", \"epoch\": 2, \"model\": 15}, \"Metrics\": {\"validation_binary_classification_cross_entropy_objective\": {\"sum\": 0.49800989973150694, \"count\": 1, \"min\": 0.49800989973150694, \"max\": 0.49800989973150694}}}\u001b[0m\n",
      "\u001b[34m#metrics {\"StartTime\": 1727127381.9681652, \"EndTime\": 1727127381.9681714, \"Dimensions\": {\"Algorithm\": \"Linear Learner\", \"Host\": \"algo-1\", \"Operation\": \"training\", \"epoch\": 2, \"model\": 16}, \"Metrics\": {\"validation_binary_classification_cross_entropy_objective\": {\"sum\": 0.5042103575848513, \"count\": 1, \"min\": 0.5042103575848513, \"max\": 0.5042103575848513}}}\u001b[0m\n",
      "\u001b[34m#metrics {\"StartTime\": 1727127381.968204, \"EndTime\": 1727127381.9682136, \"Dimensions\": {\"Algorithm\": \"Linear Learner\", \"Host\": \"algo-1\", \"Operation\": \"training\", \"epoch\": 2, \"model\": 17}, \"Metrics\": {\"validation_binary_classification_cross_entropy_objective\": {\"sum\": 0.505431607402506, \"count\": 1, \"min\": 0.505431607402506, \"max\": 0.505431607402506}}}\u001b[0m\n",
      "\u001b[34m#metrics {\"StartTime\": 1727127381.9682446, \"EndTime\": 1727127381.9682505, \"Dimensions\": {\"Algorithm\": \"Linear Learner\", \"Host\": \"algo-1\", \"Operation\": \"training\", \"epoch\": 2, \"model\": 18}, \"Metrics\": {\"validation_binary_classification_cross_entropy_objective\": {\"sum\": 0.5042111875128131, \"count\": 1, \"min\": 0.5042111875128131, \"max\": 0.5042111875128131}}}\u001b[0m\n",
      "\u001b[34m#metrics {\"StartTime\": 1727127381.9682837, \"EndTime\": 1727127381.9682918, \"Dimensions\": {\"Algorithm\": \"Linear Learner\", \"Host\": \"algo-1\", \"Operation\": \"training\", \"epoch\": 2, \"model\": 19}, \"Metrics\": {\"validation_binary_classification_cross_entropy_objective\": {\"sum\": 0.5054310789951347, \"count\": 1, \"min\": 0.5054310789951347, \"max\": 0.5054310789951347}}}\u001b[0m\n",
      "\u001b[34m#metrics {\"StartTime\": 1727127381.9683204, \"EndTime\": 1727127381.9683294, \"Dimensions\": {\"Algorithm\": \"Linear Learner\", \"Host\": \"algo-1\", \"Operation\": \"training\", \"epoch\": 2, \"model\": 20}, \"Metrics\": {\"validation_binary_classification_cross_entropy_objective\": {\"sum\": 0.5047076422844619, \"count\": 1, \"min\": 0.5047076422844619, \"max\": 0.5047076422844619}}}\u001b[0m\n",
      "\u001b[34m#metrics {\"StartTime\": 1727127381.9683647, \"EndTime\": 1727127381.968374, \"Dimensions\": {\"Algorithm\": \"Linear Learner\", \"Host\": \"algo-1\", \"Operation\": \"training\", \"epoch\": 2, \"model\": 21}, \"Metrics\": {\"validation_binary_classification_cross_entropy_objective\": {\"sum\": 0.5043205898556555, \"count\": 1, \"min\": 0.5043205898556555, \"max\": 0.5043205898556555}}}\u001b[0m\n",
      "\u001b[34m#metrics {\"StartTime\": 1727127381.968404, \"EndTime\": 1727127381.9684143, \"Dimensions\": {\"Algorithm\": \"Linear Learner\", \"Host\": \"algo-1\", \"Operation\": \"training\", \"epoch\": 2, \"model\": 22}, \"Metrics\": {\"validation_binary_classification_cross_entropy_objective\": {\"sum\": 0.5047077665497547, \"count\": 1, \"min\": 0.5047077665497547, \"max\": 0.5047077665497547}}}\u001b[0m\n",
      "\u001b[34m#metrics {\"StartTime\": 1727127381.9684422, \"EndTime\": 1727127381.9684503, \"Dimensions\": {\"Algorithm\": \"Linear Learner\", \"Host\": \"algo-1\", \"Operation\": \"training\", \"epoch\": 2, \"model\": 23}, \"Metrics\": {\"validation_binary_classification_cross_entropy_objective\": {\"sum\": 0.5043207922998639, \"count\": 1, \"min\": 0.5043207922998639, \"max\": 0.5043207922998639}}}\u001b[0m\n",
      "\u001b[34m#metrics {\"StartTime\": 1727127381.968478, \"EndTime\": 1727127381.9684858, \"Dimensions\": {\"Algorithm\": \"Linear Learner\", \"Host\": \"algo-1\", \"Operation\": \"training\", \"epoch\": 2, \"model\": 24}, \"Metrics\": {\"validation_binary_classification_cross_entropy_objective\": {\"sum\": 0.5137204183223829, \"count\": 1, \"min\": 0.5137204183223829, \"max\": 0.5137204183223829}}}\u001b[0m\n",
      "\u001b[34m#metrics {\"StartTime\": 1727127381.9685192, \"EndTime\": 1727127381.968529, \"Dimensions\": {\"Algorithm\": \"Linear Learner\", \"Host\": \"algo-1\", \"Operation\": \"training\", \"epoch\": 2, \"model\": 25}, \"Metrics\": {\"validation_binary_classification_cross_entropy_objective\": {\"sum\": 0.5144884716841357, \"count\": 1, \"min\": 0.5144884716841357, \"max\": 0.5144884716841357}}}\u001b[0m\n",
      "\u001b[34m#metrics {\"StartTime\": 1727127381.9685585, \"EndTime\": 1727127381.9685674, \"Dimensions\": {\"Algorithm\": \"Linear Learner\", \"Host\": \"algo-1\", \"Operation\": \"training\", \"epoch\": 2, \"model\": 26}, \"Metrics\": {\"validation_binary_classification_cross_entropy_objective\": {\"sum\": 0.5137204401527722, \"count\": 1, \"min\": 0.5137204401527722, \"max\": 0.5137204401527722}}}\u001b[0m\n",
      "\u001b[34m#metrics {\"StartTime\": 1727127381.9685977, \"EndTime\": 1727127381.9686067, \"Dimensions\": {\"Algorithm\": \"Linear Learner\", \"Host\": \"algo-1\", \"Operation\": \"training\", \"epoch\": 2, \"model\": 27}, \"Metrics\": {\"validation_binary_classification_cross_entropy_objective\": {\"sum\": 0.5144336594949228, \"count\": 1, \"min\": 0.5144336594949228, \"max\": 0.5144336594949228}}}\u001b[0m\n",
      "\u001b[34m#metrics {\"StartTime\": 1727127381.968644, \"EndTime\": 1727127381.9686513, \"Dimensions\": {\"Algorithm\": \"Linear Learner\", \"Host\": \"algo-1\", \"Operation\": \"training\", \"epoch\": 2, \"model\": 28}, \"Metrics\": {\"validation_binary_classification_cross_entropy_objective\": {\"sum\": 0.5139077357501727, \"count\": 1, \"min\": 0.5139077357501727, \"max\": 0.5139077357501727}}}\u001b[0m\n",
      "\u001b[34m#metrics {\"StartTime\": 1727127381.968684, \"EndTime\": 1727127381.968693, \"Dimensions\": {\"Algorithm\": \"Linear Learner\", \"Host\": \"algo-1\", \"Operation\": \"training\", \"epoch\": 2, \"model\": 29}, \"Metrics\": {\"validation_binary_classification_cross_entropy_objective\": {\"sum\": 0.5135517914395092, \"count\": 1, \"min\": 0.5135517914395092, \"max\": 0.5135517914395092}}}\u001b[0m\n",
      "\u001b[34m#metrics {\"StartTime\": 1727127381.968726, \"EndTime\": 1727127381.9687345, \"Dimensions\": {\"Algorithm\": \"Linear Learner\", \"Host\": \"algo-1\", \"Operation\": \"training\", \"epoch\": 2, \"model\": 30}, \"Metrics\": {\"validation_binary_classification_cross_entropy_objective\": {\"sum\": 0.5138975271511231, \"count\": 1, \"min\": 0.5138975271511231, \"max\": 0.5138975271511231}}}\u001b[0m\n",
      "\u001b[34m#metrics {\"StartTime\": 1727127381.9687676, \"EndTime\": 1727127381.9687772, \"Dimensions\": {\"Algorithm\": \"Linear Learner\", \"Host\": \"algo-1\", \"Operation\": \"training\", \"epoch\": 2, \"model\": 31}, \"Metrics\": {\"validation_binary_classification_cross_entropy_objective\": {\"sum\": 0.5135517903200021, \"count\": 1, \"min\": 0.5135517903200021, \"max\": 0.5135517903200021}}}\u001b[0m\n",
      "\u001b[34m[09/23/2024 21:36:21 INFO 140539079042880] #quality_metric: host=algo-1, epoch=2, validation binary_classification_cross_entropy_objective <loss>=0.48051643298114377\u001b[0m\n",
      "\u001b[34m[09/23/2024 21:36:21 INFO 140539079042880] #early_stopping_criteria_metric: host=algo-1, epoch=2, criteria=binary_classification_cross_entropy_objective, value=0.48051643298114377\u001b[0m\n",
      "\u001b[34m[09/23/2024 21:36:21 INFO 140539079042880] Saving model for epoch: 2\u001b[0m\n",
      "\u001b[34m[09/23/2024 21:36:21 INFO 140539079042880] Saved checkpoint to \"/tmp/tmp8domx7j7/mx-mod-0000.params\"\u001b[0m\n",
      "\u001b[34m[09/23/2024 21:36:21 INFO 140539079042880] #progress_metric: host=algo-1, completed 20.0 % of epochs\u001b[0m\n",
      "\u001b[34m#metrics {\"StartTime\": 1727127350.357947, \"EndTime\": 1727127381.9747095, \"Dimensions\": {\"Algorithm\": \"Linear Learner\", \"Host\": \"algo-1\", \"Operation\": \"training\", \"epoch\": 2, \"Meta\": \"training_data_iter\"}, \"Metrics\": {\"Total Records Seen\": {\"sum\": 3937416.0, \"count\": 1, \"min\": 3937416, \"max\": 3937416}, \"Total Batches Seen\": {\"sum\": 3939.0, \"count\": 1, \"min\": 3939, \"max\": 3939}, \"Max Records Seen Between Resets\": {\"sum\": 1308472.0, \"count\": 1, \"min\": 1308472, \"max\": 1308472}, \"Max Batches Seen Between Resets\": {\"sum\": 1309.0, \"count\": 1, \"min\": 1309, \"max\": 1309}, \"Reset Count\": {\"sum\": 5.0, \"count\": 1, \"min\": 5, \"max\": 5}, \"Number of Records Since Last Reset\": {\"sum\": 1308472.0, \"count\": 1, \"min\": 1308472, \"max\": 1308472}, \"Number of Batches Since Last Reset\": {\"sum\": 1309.0, \"count\": 1, \"min\": 1309, \"max\": 1309}}}\u001b[0m\n",
      "\u001b[34m[09/23/2024 21:36:21 INFO 140539079042880] #throughput_metric: host=algo-1, train throughput=41385.243227385006 records/second\u001b[0m\n",
      "\u001b[34m[2024-09-23 21:36:51.403] [tensorio] [info] epoch_stats={\"data_pipeline\": \"/opt/ml/input/data/train\", \"epoch\": 9, \"duration\": 29428, \"num_examples\": 1309, \"num_bytes\": 502453248}\u001b[0m\n",
      "\u001b[34m#metrics {\"StartTime\": 1727127411.4037118, \"EndTime\": 1727127411.4037933, \"Dimensions\": {\"Algorithm\": \"Linear Learner\", \"Host\": \"algo-1\", \"Operation\": \"training\", \"epoch\": 3, \"model\": 0}, \"Metrics\": {\"train_binary_classification_cross_entropy_objective\": {\"sum\": 0.4806480257460101, \"count\": 1, \"min\": 0.4806480257460101, \"max\": 0.4806480257460101}}}\u001b[0m\n",
      "\u001b[34m#metrics {\"StartTime\": 1727127411.4038749, \"EndTime\": 1727127411.40389, \"Dimensions\": {\"Algorithm\": \"Linear Learner\", \"Host\": \"algo-1\", \"Operation\": \"training\", \"epoch\": 3, \"model\": 1}, \"Metrics\": {\"train_binary_classification_cross_entropy_objective\": {\"sum\": 0.4815809088190761, \"count\": 1, \"min\": 0.4815809088190761, \"max\": 0.4815809088190761}}}\u001b[0m\n",
      "\u001b[34m#metrics {\"StartTime\": 1727127411.4039245, \"EndTime\": 1727127411.4039347, \"Dimensions\": {\"Algorithm\": \"Linear Learner\", \"Host\": \"algo-1\", \"Operation\": \"training\", \"epoch\": 3, \"model\": 2}, \"Metrics\": {\"train_binary_classification_cross_entropy_objective\": {\"sum\": 0.48066237659046046, \"count\": 1, \"min\": 0.48066237659046046, \"max\": 0.48066237659046046}}}\u001b[0m\n",
      "\u001b[34m#metrics {\"StartTime\": 1727127411.4039707, \"EndTime\": 1727127411.4039803, \"Dimensions\": {\"Algorithm\": \"Linear Learner\", \"Host\": \"algo-1\", \"Operation\": \"training\", \"epoch\": 3, \"model\": 3}, \"Metrics\": {\"train_binary_classification_cross_entropy_objective\": {\"sum\": 0.4815808801213536, \"count\": 1, \"min\": 0.4815808801213536, \"max\": 0.4815808801213536}}}\u001b[0m\n",
      "\u001b[34m#metrics {\"StartTime\": 1727127411.4040072, \"EndTime\": 1727127411.404017, \"Dimensions\": {\"Algorithm\": \"Linear Learner\", \"Host\": \"algo-1\", \"Operation\": \"training\", \"epoch\": 3, \"model\": 4}, \"Metrics\": {\"train_binary_classification_cross_entropy_objective\": {\"sum\": 0.48095808282321384, \"count\": 1, \"min\": 0.48095808282321384, \"max\": 0.48095808282321384}}}\u001b[0m\n",
      "\u001b[34m#metrics {\"StartTime\": 1727127411.4040556, \"EndTime\": 1727127411.4040654, \"Dimensions\": {\"Algorithm\": \"Linear Learner\", \"Host\": \"algo-1\", \"Operation\": \"training\", \"epoch\": 3, \"model\": 5}, \"Metrics\": {\"train_binary_classification_cross_entropy_objective\": {\"sum\": 0.49657911847782427, \"count\": 1, \"min\": 0.49657911847782427, \"max\": 0.49657911847782427}}}\u001b[0m\n",
      "\u001b[34m#metrics {\"StartTime\": 1727127411.4041045, \"EndTime\": 1727127411.4041147, \"Dimensions\": {\"Algorithm\": \"Linear Learner\", \"Host\": \"algo-1\", \"Operation\": \"training\", \"epoch\": 3, \"model\": 6}, \"Metrics\": {\"train_binary_classification_cross_entropy_objective\": {\"sum\": 0.48095807899685084, \"count\": 1, \"min\": 0.48095807899685084, \"max\": 0.48095807899685084}}}\u001b[0m\n",
      "\u001b[34m#metrics {\"StartTime\": 1727127411.4041471, \"EndTime\": 1727127411.4041564, \"Dimensions\": {\"Algorithm\": \"Linear Learner\", \"Host\": \"algo-1\", \"Operation\": \"training\", \"epoch\": 3, \"model\": 7}, \"Metrics\": {\"train_binary_classification_cross_entropy_objective\": {\"sum\": 0.4965791812861731, \"count\": 1, \"min\": 0.4965791812861731, \"max\": 0.4965791812861731}}}\u001b[0m\n",
      "\u001b[34m#metrics {\"StartTime\": 1727127411.4041924, \"EndTime\": 1727127411.4042025, \"Dimensions\": {\"Algorithm\": \"Linear Learner\", \"Host\": \"algo-1\", \"Operation\": \"training\", \"epoch\": 3, \"model\": 8}, \"Metrics\": {\"train_binary_classification_cross_entropy_objective\": {\"sum\": 0.48091268745912324, \"count\": 1, \"min\": 0.48091268745912324, \"max\": 0.48091268745912324}}}\u001b[0m\n",
      "\u001b[34m#metrics {\"StartTime\": 1727127411.4042366, \"EndTime\": 1727127411.4042456, \"Dimensions\": {\"Algorithm\": \"Linear Learner\", \"Host\": \"algo-1\", \"Operation\": \"training\", \"epoch\": 3, \"model\": 9}, \"Metrics\": {\"train_binary_classification_cross_entropy_objective\": {\"sum\": 0.4817938011706058, \"count\": 1, \"min\": 0.4817938011706058, \"max\": 0.4817938011706058}}}\u001b[0m\n",
      "\u001b[34m#metrics {\"StartTime\": 1727127411.4042823, \"EndTime\": 1727127411.4042923, \"Dimensions\": {\"Algorithm\": \"Linear Learner\", \"Host\": \"algo-1\", \"Operation\": \"training\", \"epoch\": 3, \"model\": 10}, \"Metrics\": {\"train_binary_classification_cross_entropy_objective\": {\"sum\": 0.480924092750666, \"count\": 1, \"min\": 0.480924092750666, \"max\": 0.480924092750666}}}\u001b[0m\n",
      "\u001b[34m#metrics {\"StartTime\": 1727127411.4043279, \"EndTime\": 1727127411.404338, \"Dimensions\": {\"Algorithm\": \"Linear Learner\", \"Host\": \"algo-1\", \"Operation\": \"training\", \"epoch\": 3, \"model\": 11}, \"Metrics\": {\"train_binary_classification_cross_entropy_objective\": {\"sum\": 0.48179380938328736, \"count\": 1, \"min\": 0.48179380938328736, \"max\": 0.48179380938328736}}}\u001b[0m\n",
      "\u001b[34m#metrics {\"StartTime\": 1727127411.404373, \"EndTime\": 1727127411.404383, \"Dimensions\": {\"Algorithm\": \"Linear Learner\", \"Host\": \"algo-1\", \"Operation\": \"training\", \"epoch\": 3, \"model\": 12}, \"Metrics\": {\"train_binary_classification_cross_entropy_objective\": {\"sum\": 0.48120424122474975, \"count\": 1, \"min\": 0.48120424122474975, \"max\": 0.48120424122474975}}}\u001b[0m\n",
      "\u001b[34m#metrics {\"StartTime\": 1727127411.4044192, \"EndTime\": 1727127411.4044292, \"Dimensions\": {\"Algorithm\": \"Linear Learner\", \"Host\": \"algo-1\", \"Operation\": \"training\", \"epoch\": 3, \"model\": 13}, \"Metrics\": {\"train_binary_classification_cross_entropy_objective\": {\"sum\": 0.4957590384060454, \"count\": 1, \"min\": 0.4957590384060454, \"max\": 0.4957590384060454}}}\u001b[0m\n",
      "\u001b[34m#metrics {\"StartTime\": 1727127411.4044645, \"EndTime\": 1727127411.404474, \"Dimensions\": {\"Algorithm\": \"Linear Learner\", \"Host\": \"algo-1\", \"Operation\": \"training\", \"epoch\": 3, \"model\": 14}, \"Metrics\": {\"train_binary_classification_cross_entropy_objective\": {\"sum\": 0.48120423966154047, \"count\": 1, \"min\": 0.48120423966154047, \"max\": 0.48120423966154047}}}\u001b[0m\n",
      "\u001b[34m#metrics {\"StartTime\": 1727127411.4045107, \"EndTime\": 1727127411.404521, \"Dimensions\": {\"Algorithm\": \"Linear Learner\", \"Host\": \"algo-1\", \"Operation\": \"training\", \"epoch\": 3, \"model\": 15}, \"Metrics\": {\"train_binary_classification_cross_entropy_objective\": {\"sum\": 0.49575897268126135, \"count\": 1, \"min\": 0.49575897268126135, \"max\": 0.49575897268126135}}}\u001b[0m\n",
      "\u001b[34m#metrics {\"StartTime\": 1727127411.4045565, \"EndTime\": 1727127411.4045663, \"Dimensions\": {\"Algorithm\": \"Linear Learner\", \"Host\": \"algo-1\", \"Operation\": \"training\", \"epoch\": 3, \"model\": 16}, \"Metrics\": {\"train_binary_classification_cross_entropy_objective\": {\"sum\": 0.5040385485774516, \"count\": 1, \"min\": 0.5040385485774516, \"max\": 0.5040385485774516}}}\u001b[0m\n",
      "\u001b[34m#metrics {\"StartTime\": 1727127411.4046018, \"EndTime\": 1727127411.4046128, \"Dimensions\": {\"Algorithm\": \"Linear Learner\", \"Host\": \"algo-1\", \"Operation\": \"training\", \"epoch\": 3, \"model\": 17}, \"Metrics\": {\"train_binary_classification_cross_entropy_objective\": {\"sum\": 0.5042860472326249, \"count\": 1, \"min\": 0.5042860472326249, \"max\": 0.5042860472326249}}}\u001b[0m\n",
      "\u001b[34m#metrics {\"StartTime\": 1727127411.4046528, \"EndTime\": 1727127411.4046624, \"Dimensions\": {\"Algorithm\": \"Linear Learner\", \"Host\": \"algo-1\", \"Operation\": \"training\", \"epoch\": 3, \"model\": 18}, \"Metrics\": {\"train_binary_classification_cross_entropy_objective\": {\"sum\": 0.5040443957967495, \"count\": 1, \"min\": 0.5040443957967495, \"max\": 0.5040443957967495}}}\u001b[0m\n",
      "\u001b[34m#metrics {\"StartTime\": 1727127411.4046974, \"EndTime\": 1727127411.404707, \"Dimensions\": {\"Algorithm\": \"Linear Learner\", \"Host\": \"algo-1\", \"Operation\": \"training\", \"epoch\": 3, \"model\": 19}, \"Metrics\": {\"train_binary_classification_cross_entropy_objective\": {\"sum\": 0.5042860322538136, \"count\": 1, \"min\": 0.5042860322538136, \"max\": 0.5042860322538136}}}\u001b[0m\n",
      "\u001b[34m#metrics {\"StartTime\": 1727127411.4047465, \"EndTime\": 1727127411.4047575, \"Dimensions\": {\"Algorithm\": \"Linear Learner\", \"Host\": \"algo-1\", \"Operation\": \"training\", \"epoch\": 3, \"model\": 20}, \"Metrics\": {\"train_binary_classification_cross_entropy_objective\": {\"sum\": 0.5041030596345207, \"count\": 1, \"min\": 0.5041030596345207, \"max\": 0.5041030596345207}}}\u001b[0m\n",
      "\u001b[34m#metrics {\"StartTime\": 1727127411.4047925, \"EndTime\": 1727127411.4048018, \"Dimensions\": {\"Algorithm\": \"Linear Learner\", \"Host\": \"algo-1\", \"Operation\": \"training\", \"epoch\": 3, \"model\": 21}, \"Metrics\": {\"train_binary_classification_cross_entropy_objective\": {\"sum\": 0.5069961611313193, \"count\": 1, \"min\": 0.5069961611313193, \"max\": 0.5069961611313193}}}\u001b[0m\n",
      "\u001b[34m#metrics {\"StartTime\": 1727127411.40484, \"EndTime\": 1727127411.4048502, \"Dimensions\": {\"Algorithm\": \"Linear Learner\", \"Host\": \"algo-1\", \"Operation\": \"training\", \"epoch\": 3, \"model\": 22}, \"Metrics\": {\"train_binary_classification_cross_entropy_objective\": {\"sum\": 0.5041030618510115, \"count\": 1, \"min\": 0.5041030618510115, \"max\": 0.5041030618510115}}}\u001b[0m\n",
      "\u001b[34m#metrics {\"StartTime\": 1727127411.4048898, \"EndTime\": 1727127411.4049003, \"Dimensions\": {\"Algorithm\": \"Linear Learner\", \"Host\": \"algo-1\", \"Operation\": \"training\", \"epoch\": 3, \"model\": 23}, \"Metrics\": {\"train_binary_classification_cross_entropy_objective\": {\"sum\": 0.5069961287005597, \"count\": 1, \"min\": 0.5069961287005597, \"max\": 0.5069961287005597}}}\u001b[0m\n",
      "\u001b[34m#metrics {\"StartTime\": 1727127411.4049368, \"EndTime\": 1727127411.4049468, \"Dimensions\": {\"Algorithm\": \"Linear Learner\", \"Host\": \"algo-1\", \"Operation\": \"training\", \"epoch\": 3, \"model\": 24}, \"Metrics\": {\"train_binary_classification_cross_entropy_objective\": {\"sum\": 0.5137187498600111, \"count\": 1, \"min\": 0.5137187498600111, \"max\": 0.5137187498600111}}}\u001b[0m\n",
      "\u001b[34m#metrics {\"StartTime\": 1727127411.4049826, \"EndTime\": 1727127411.4049923, \"Dimensions\": {\"Algorithm\": \"Linear Learner\", \"Host\": \"algo-1\", \"Operation\": \"training\", \"epoch\": 3, \"model\": 25}, \"Metrics\": {\"train_binary_classification_cross_entropy_objective\": {\"sum\": 0.5138189427787011, \"count\": 1, \"min\": 0.5138189427787011, \"max\": 0.5138189427787011}}}\u001b[0m\n",
      "\u001b[34m#metrics {\"StartTime\": 1727127411.4050329, \"EndTime\": 1727127411.4050434, \"Dimensions\": {\"Algorithm\": \"Linear Learner\", \"Host\": \"algo-1\", \"Operation\": \"training\", \"epoch\": 3, \"model\": 26}, \"Metrics\": {\"train_binary_classification_cross_entropy_objective\": {\"sum\": 0.5137206311007159, \"count\": 1, \"min\": 0.5137206311007159, \"max\": 0.5137206311007159}}}\u001b[0m\n",
      "\u001b[34m#metrics {\"StartTime\": 1727127411.405076, \"EndTime\": 1727127411.4050858, \"Dimensions\": {\"Algorithm\": \"Linear Learner\", \"Host\": \"algo-1\", \"Operation\": \"training\", \"epoch\": 3, \"model\": 27}, \"Metrics\": {\"train_binary_classification_cross_entropy_objective\": {\"sum\": 0.5138191942920743, \"count\": 1, \"min\": 0.5138191942920743, \"max\": 0.5138191942920743}}}\u001b[0m\n",
      "\u001b[34m#metrics {\"StartTime\": 1727127411.4051187, \"EndTime\": 1727127411.4051273, \"Dimensions\": {\"Algorithm\": \"Linear Learner\", \"Host\": \"algo-1\", \"Operation\": \"training\", \"epoch\": 3, \"model\": 28}, \"Metrics\": {\"train_binary_classification_cross_entropy_objective\": {\"sum\": 0.513739322230721, \"count\": 1, \"min\": 0.513739322230721, \"max\": 0.513739322230721}}}\u001b[0m\n",
      "\u001b[34m#metrics {\"StartTime\": 1727127411.4051564, \"EndTime\": 1727127411.4051645, \"Dimensions\": {\"Algorithm\": \"Linear Learner\", \"Host\": \"algo-1\", \"Operation\": \"training\", \"epoch\": 3, \"model\": 29}, \"Metrics\": {\"train_binary_classification_cross_entropy_objective\": {\"sum\": 0.5148026312965136, \"count\": 1, \"min\": 0.5148026312965136, \"max\": 0.5148026312965136}}}\u001b[0m\n",
      "\u001b[34m#metrics {\"StartTime\": 1727127411.4052017, \"EndTime\": 1727127411.4052114, \"Dimensions\": {\"Algorithm\": \"Linear Learner\", \"Host\": \"algo-1\", \"Operation\": \"training\", \"epoch\": 3, \"model\": 30}, \"Metrics\": {\"train_binary_classification_cross_entropy_objective\": {\"sum\": 0.5137389373079353, \"count\": 1, \"min\": 0.5137389373079353, \"max\": 0.5137389373079353}}}\u001b[0m\n",
      "\u001b[34m#metrics {\"StartTime\": 1727127411.4052455, \"EndTime\": 1727127411.405255, \"Dimensions\": {\"Algorithm\": \"Linear Learner\", \"Host\": \"algo-1\", \"Operation\": \"training\", \"epoch\": 3, \"model\": 31}, \"Metrics\": {\"train_binary_classification_cross_entropy_objective\": {\"sum\": 0.5148026287067192, \"count\": 1, \"min\": 0.5148026287067192, \"max\": 0.5148026287067192}}}\u001b[0m\n",
      "\u001b[34m[09/23/2024 21:36:51 INFO 140539079042880] #quality_metric: host=algo-1, epoch=3, train binary_classification_cross_entropy_objective <loss>=0.4806480257460101\u001b[0m\n",
      "\u001b[34m[2024-09-23 21:36:53.969] [tensorio] [info] epoch_stats={\"data_pipeline\": \"/opt/ml/input/data/validation\", \"epoch\": 11, \"duration\": 2548, \"num_examples\": 164, \"num_bytes\": 62806656}\u001b[0m\n",
      "\u001b[34m#metrics {\"StartTime\": 1727127413.9739256, \"EndTime\": 1727127413.9739783, \"Dimensions\": {\"Algorithm\": \"Linear Learner\", \"Host\": \"algo-1\", \"Operation\": \"training\", \"epoch\": 3, \"model\": 0}, \"Metrics\": {\"validation_binary_classification_cross_entropy_objective\": {\"sum\": 0.48050096419119975, \"count\": 1, \"min\": 0.48050096419119975, \"max\": 0.48050096419119975}}}\u001b[0m\n",
      "\u001b[34m#metrics {\"StartTime\": 1727127413.9740455, \"EndTime\": 1727127413.9740565, \"Dimensions\": {\"Algorithm\": \"Linear Learner\", \"Host\": \"algo-1\", \"Operation\": \"training\", \"epoch\": 3, \"model\": 1}, \"Metrics\": {\"validation_binary_classification_cross_entropy_objective\": {\"sum\": 0.48194617495785397, \"count\": 1, \"min\": 0.48194617495785397, \"max\": 0.48194617495785397}}}\u001b[0m\n",
      "\u001b[34m#metrics {\"StartTime\": 1727127413.9740944, \"EndTime\": 1727127413.9741018, \"Dimensions\": {\"Algorithm\": \"Linear Learner\", \"Host\": \"algo-1\", \"Operation\": \"training\", \"epoch\": 3, \"model\": 2}, \"Metrics\": {\"validation_binary_classification_cross_entropy_objective\": {\"sum\": 0.48051489104663925, \"count\": 1, \"min\": 0.48051489104663925, \"max\": 0.48051489104663925}}}\u001b[0m\n",
      "\u001b[34m#metrics {\"StartTime\": 1727127413.9741268, \"EndTime\": 1727127413.9741328, \"Dimensions\": {\"Algorithm\": \"Linear Learner\", \"Host\": \"algo-1\", \"Operation\": \"training\", \"epoch\": 3, \"model\": 3}, \"Metrics\": {\"validation_binary_classification_cross_entropy_objective\": {\"sum\": 0.481946238023423, \"count\": 1, \"min\": 0.481946238023423, \"max\": 0.481946238023423}}}\u001b[0m\n",
      "\u001b[34m#metrics {\"StartTime\": 1727127413.9741561, \"EndTime\": 1727127413.974164, \"Dimensions\": {\"Algorithm\": \"Linear Learner\", \"Host\": \"algo-1\", \"Operation\": \"training\", \"epoch\": 3, \"model\": 4}, \"Metrics\": {\"validation_binary_classification_cross_entropy_objective\": {\"sum\": 0.4806326525627316, \"count\": 1, \"min\": 0.4806326525627316, \"max\": 0.4806326525627316}}}\u001b[0m\n",
      "\u001b[34m#metrics {\"StartTime\": 1727127413.9741962, \"EndTime\": 1727127413.9742048, \"Dimensions\": {\"Algorithm\": \"Linear Learner\", \"Host\": \"algo-1\", \"Operation\": \"training\", \"epoch\": 3, \"model\": 5}, \"Metrics\": {\"validation_binary_classification_cross_entropy_objective\": {\"sum\": 0.4973403596397888, \"count\": 1, \"min\": 0.4973403596397888, \"max\": 0.4973403596397888}}}\u001b[0m\n",
      "\u001b[34m#metrics {\"StartTime\": 1727127413.974232, \"EndTime\": 1727127413.9742405, \"Dimensions\": {\"Algorithm\": \"Linear Learner\", \"Host\": \"algo-1\", \"Operation\": \"training\", \"epoch\": 3, \"model\": 6}, \"Metrics\": {\"validation_binary_classification_cross_entropy_objective\": {\"sum\": 0.4806326540554078, \"count\": 1, \"min\": 0.4806326540554078, \"max\": 0.4806326540554078}}}\u001b[0m\n",
      "\u001b[34m#metrics {\"StartTime\": 1727127413.974271, \"EndTime\": 1727127413.974279, \"Dimensions\": {\"Algorithm\": \"Linear Learner\", \"Host\": \"algo-1\", \"Operation\": \"training\", \"epoch\": 3, \"model\": 7}, \"Metrics\": {\"validation_binary_classification_cross_entropy_objective\": {\"sum\": 0.4973404079651805, \"count\": 1, \"min\": 0.4973404079651805, \"max\": 0.4973404079651805}}}\u001b[0m\n",
      "\u001b[34m#metrics {\"StartTime\": 1727127413.9743075, \"EndTime\": 1727127413.9743168, \"Dimensions\": {\"Algorithm\": \"Linear Learner\", \"Host\": \"algo-1\", \"Operation\": \"training\", \"epoch\": 3, \"model\": 8}, \"Metrics\": {\"validation_binary_classification_cross_entropy_objective\": {\"sum\": 0.48076598996828457, \"count\": 1, \"min\": 0.48076598996828457, \"max\": 0.48076598996828457}}}\u001b[0m\n",
      "\u001b[34m#metrics {\"StartTime\": 1727127413.974351, \"EndTime\": 1727127413.9743612, \"Dimensions\": {\"Algorithm\": \"Linear Learner\", \"Host\": \"algo-1\", \"Operation\": \"training\", \"epoch\": 3, \"model\": 9}, \"Metrics\": {\"validation_binary_classification_cross_entropy_objective\": {\"sum\": 0.48225630213261156, \"count\": 1, \"min\": 0.48225630213261156, \"max\": 0.48225630213261156}}}\u001b[0m\n",
      "\u001b[34m#metrics {\"StartTime\": 1727127413.9743953, \"EndTime\": 1727127413.9744017, \"Dimensions\": {\"Algorithm\": \"Linear Learner\", \"Host\": \"algo-1\", \"Operation\": \"training\", \"epoch\": 3, \"model\": 10}, \"Metrics\": {\"validation_binary_classification_cross_entropy_objective\": {\"sum\": 0.48078285758240336, \"count\": 1, \"min\": 0.48078285758240336, \"max\": 0.48078285758240336}}}\u001b[0m\n",
      "\u001b[34m#metrics {\"StartTime\": 1727127413.9744315, \"EndTime\": 1727127413.974439, \"Dimensions\": {\"Algorithm\": \"Linear Learner\", \"Host\": \"algo-1\", \"Operation\": \"training\", \"epoch\": 3, \"model\": 11}, \"Metrics\": {\"validation_binary_classification_cross_entropy_objective\": {\"sum\": 0.4822562750778556, \"count\": 1, \"min\": 0.4822562750778556, \"max\": 0.4822562750778556}}}\u001b[0m\n",
      "\u001b[34m#metrics {\"StartTime\": 1727127413.9744651, \"EndTime\": 1727127413.9744706, \"Dimensions\": {\"Algorithm\": \"Linear Learner\", \"Host\": \"algo-1\", \"Operation\": \"training\", \"epoch\": 3, \"model\": 12}, \"Metrics\": {\"validation_binary_classification_cross_entropy_objective\": {\"sum\": 0.48092513835735023, \"count\": 1, \"min\": 0.48092513835735023, \"max\": 0.48092513835735023}}}\u001b[0m\n",
      "\u001b[34m#metrics {\"StartTime\": 1727127413.9744947, \"EndTime\": 1727127413.9745002, \"Dimensions\": {\"Algorithm\": \"Linear Learner\", \"Host\": \"algo-1\", \"Operation\": \"training\", \"epoch\": 3, \"model\": 13}, \"Metrics\": {\"validation_binary_classification_cross_entropy_objective\": {\"sum\": 0.49675774125456545, \"count\": 1, \"min\": 0.49675774125456545, \"max\": 0.49675774125456545}}}\u001b[0m\n",
      "\u001b[34m#metrics {\"StartTime\": 1727127413.9745176, \"EndTime\": 1727127413.9745224, \"Dimensions\": {\"Algorithm\": \"Linear Learner\", \"Host\": \"algo-1\", \"Operation\": \"training\", \"epoch\": 3, \"model\": 14}, \"Metrics\": {\"validation_binary_classification_cross_entropy_objective\": {\"sum\": 0.4809251405963645, \"count\": 1, \"min\": 0.4809251405963645, \"max\": 0.4809251405963645}}}\u001b[0m\n",
      "\u001b[34m#metrics {\"StartTime\": 1727127413.9745395, \"EndTime\": 1727127413.9745443, \"Dimensions\": {\"Algorithm\": \"Linear Learner\", \"Host\": \"algo-1\", \"Operation\": \"training\", \"epoch\": 3, \"model\": 15}, \"Metrics\": {\"validation_binary_classification_cross_entropy_objective\": {\"sum\": 0.4967577733471035, \"count\": 1, \"min\": 0.4967577733471035, \"max\": 0.4967577733471035}}}\u001b[0m\n",
      "\u001b[34m#metrics {\"StartTime\": 1727127413.9745696, \"EndTime\": 1727127413.974578, \"Dimensions\": {\"Algorithm\": \"Linear Learner\", \"Host\": \"algo-1\", \"Operation\": \"training\", \"epoch\": 3, \"model\": 16}, \"Metrics\": {\"validation_binary_classification_cross_entropy_objective\": {\"sum\": 0.5040566408578575, \"count\": 1, \"min\": 0.5040566408578575, \"max\": 0.5040566408578575}}}\u001b[0m\n",
      "\u001b[34m#metrics {\"StartTime\": 1727127413.9746087, \"EndTime\": 1727127413.974618, \"Dimensions\": {\"Algorithm\": \"Linear Learner\", \"Host\": \"algo-1\", \"Operation\": \"training\", \"epoch\": 3, \"model\": 17}, \"Metrics\": {\"validation_binary_classification_cross_entropy_objective\": {\"sum\": 0.5052721638367238, \"count\": 1, \"min\": 0.5052721638367238, \"max\": 0.5052721638367238}}}\u001b[0m\n",
      "\u001b[34m#metrics {\"StartTime\": 1727127413.9746547, \"EndTime\": 1727127413.9746637, \"Dimensions\": {\"Algorithm\": \"Linear Learner\", \"Host\": \"algo-1\", \"Operation\": \"training\", \"epoch\": 3, \"model\": 18}, \"Metrics\": {\"validation_binary_classification_cross_entropy_objective\": {\"sum\": 0.5042062542180044, \"count\": 1, \"min\": 0.5042062542180044, \"max\": 0.5042062542180044}}}\u001b[0m\n",
      "\u001b[34m#metrics {\"StartTime\": 1727127413.9746983, \"EndTime\": 1727127413.9747086, \"Dimensions\": {\"Algorithm\": \"Linear Learner\", \"Host\": \"algo-1\", \"Operation\": \"training\", \"epoch\": 3, \"model\": 19}, \"Metrics\": {\"validation_binary_classification_cross_entropy_objective\": {\"sum\": 0.5052720306153738, \"count\": 1, \"min\": 0.5052720306153738, \"max\": 0.5052720306153738}}}\u001b[0m\n",
      "\u001b[34m#metrics {\"StartTime\": 1727127413.97475, \"EndTime\": 1727127413.974759, \"Dimensions\": {\"Algorithm\": \"Linear Learner\", \"Host\": \"algo-1\", \"Operation\": \"training\", \"epoch\": 3, \"model\": 20}, \"Metrics\": {\"validation_binary_classification_cross_entropy_objective\": {\"sum\": 0.5044132072413233, \"count\": 1, \"min\": 0.5044132072413233, \"max\": 0.5044132072413233}}}\u001b[0m\n",
      "\u001b[34m#metrics {\"StartTime\": 1727127413.9747992, \"EndTime\": 1727127413.974809, \"Dimensions\": {\"Algorithm\": \"Linear Learner\", \"Host\": \"algo-1\", \"Operation\": \"training\", \"epoch\": 3, \"model\": 21}, \"Metrics\": {\"validation_binary_classification_cross_entropy_objective\": {\"sum\": 0.5042684935907709, \"count\": 1, \"min\": 0.5042684935907709, \"max\": 0.5042684935907709}}}\u001b[0m\n",
      "\u001b[34m#metrics {\"StartTime\": 1727127413.9748409, \"EndTime\": 1727127413.9748487, \"Dimensions\": {\"Algorithm\": \"Linear Learner\", \"Host\": \"algo-1\", \"Operation\": \"training\", \"epoch\": 3, \"model\": 22}, \"Metrics\": {\"validation_binary_classification_cross_entropy_objective\": {\"sum\": 0.5044131960462519, \"count\": 1, \"min\": 0.5044131960462519, \"max\": 0.5044131960462519}}}\u001b[0m\n",
      "\u001b[34m#metrics {\"StartTime\": 1727127413.974881, \"EndTime\": 1727127413.9748902, \"Dimensions\": {\"Algorithm\": \"Linear Learner\", \"Host\": \"algo-1\", \"Operation\": \"training\", \"epoch\": 3, \"model\": 23}, \"Metrics\": {\"validation_binary_classification_cross_entropy_objective\": {\"sum\": 0.5042684866871435, \"count\": 1, \"min\": 0.5042684866871435, \"max\": 0.5042684866871435}}}\u001b[0m\n",
      "\u001b[34m#metrics {\"StartTime\": 1727127413.974922, \"EndTime\": 1727127413.974931, \"Dimensions\": {\"Algorithm\": \"Linear Learner\", \"Host\": \"algo-1\", \"Operation\": \"training\", \"epoch\": 3, \"model\": 24}, \"Metrics\": {\"validation_binary_classification_cross_entropy_objective\": {\"sum\": 0.5137175048050441, \"count\": 1, \"min\": 0.5137175048050441, \"max\": 0.5137175048050441}}}\u001b[0m\n",
      "\u001b[34m#metrics {\"StartTime\": 1727127413.9749694, \"EndTime\": 1727127413.9749799, \"Dimensions\": {\"Algorithm\": \"Linear Learner\", \"Host\": \"algo-1\", \"Operation\": \"training\", \"epoch\": 3, \"model\": 25}, \"Metrics\": {\"validation_binary_classification_cross_entropy_objective\": {\"sum\": 0.514407462654615, \"count\": 1, \"min\": 0.514407462654615, \"max\": 0.514407462654615}}}\u001b[0m\n",
      "\u001b[34m#metrics {\"StartTime\": 1727127413.9750128, \"EndTime\": 1727127413.9750223, \"Dimensions\": {\"Algorithm\": \"Linear Learner\", \"Host\": \"algo-1\", \"Operation\": \"training\", \"epoch\": 3, \"model\": 26}, \"Metrics\": {\"validation_binary_classification_cross_entropy_objective\": {\"sum\": 0.5137221013147873, \"count\": 1, \"min\": 0.5137221013147873, \"max\": 0.5137221013147873}}}\u001b[0m\n",
      "\u001b[34m#metrics {\"StartTime\": 1727127413.9760504, \"EndTime\": 1727127413.9760647, \"Dimensions\": {\"Algorithm\": \"Linear Learner\", \"Host\": \"algo-1\", \"Operation\": \"training\", \"epoch\": 3, \"model\": 27}, \"Metrics\": {\"validation_binary_classification_cross_entropy_objective\": {\"sum\": 0.5143936033427731, \"count\": 1, \"min\": 0.5143936033427731, \"max\": 0.5143936033427731}}}\u001b[0m\n",
      "\u001b[34m#metrics {\"StartTime\": 1727127413.9761055, \"EndTime\": 1727127413.9761162, \"Dimensions\": {\"Algorithm\": \"Linear Learner\", \"Host\": \"algo-1\", \"Operation\": \"training\", \"epoch\": 3, \"model\": 28}, \"Metrics\": {\"validation_binary_classification_cross_entropy_objective\": {\"sum\": 0.5137241000082061, \"count\": 1, \"min\": 0.5137241000082061, \"max\": 0.5137241000082061}}}\u001b[0m\n",
      "\u001b[34m#metrics {\"StartTime\": 1727127413.976149, \"EndTime\": 1727127413.976156, \"Dimensions\": {\"Algorithm\": \"Linear Learner\", \"Host\": \"algo-1\", \"Operation\": \"training\", \"epoch\": 3, \"model\": 29}, \"Metrics\": {\"validation_binary_classification_cross_entropy_objective\": {\"sum\": 0.5134963084789333, \"count\": 1, \"min\": 0.5134963084789333, \"max\": 0.5134963084789333}}}\u001b[0m\n",
      "\u001b[34m#metrics {\"StartTime\": 1727127413.9761834, \"EndTime\": 1727127413.9761894, \"Dimensions\": {\"Algorithm\": \"Linear Learner\", \"Host\": \"algo-1\", \"Operation\": \"training\", \"epoch\": 3, \"model\": 30}, \"Metrics\": {\"validation_binary_classification_cross_entropy_objective\": {\"sum\": 0.5137305931496337, \"count\": 1, \"min\": 0.5137305931496337, \"max\": 0.5137305931496337}}}\u001b[0m\n",
      "\u001b[34m#metrics {\"StartTime\": 1727127413.9762154, \"EndTime\": 1727127413.9762232, \"Dimensions\": {\"Algorithm\": \"Linear Learner\", \"Host\": \"algo-1\", \"Operation\": \"training\", \"epoch\": 3, \"model\": 31}, \"Metrics\": {\"validation_binary_classification_cross_entropy_objective\": {\"sum\": 0.5134963084789333, \"count\": 1, \"min\": 0.5134963084789333, \"max\": 0.5134963084789333}}}\u001b[0m\n",
      "\u001b[34m[09/23/2024 21:36:53 INFO 140539079042880] #quality_metric: host=algo-1, epoch=3, validation binary_classification_cross_entropy_objective <loss>=0.48050096419119975\u001b[0m\n",
      "\u001b[34m[09/23/2024 21:36:53 INFO 140539079042880] #early_stopping_criteria_metric: host=algo-1, epoch=3, criteria=binary_classification_cross_entropy_objective, value=0.48050096419119975\u001b[0m\n",
      "\u001b[34m[09/23/2024 21:36:53 INFO 140539079042880] Saving model for epoch: 3\u001b[0m\n",
      "\u001b[34m[09/23/2024 21:36:53 INFO 140539079042880] Saved checkpoint to \"/tmp/tmpx7r5brn9/mx-mod-0000.params\"\u001b[0m\n",
      "\u001b[34m[09/23/2024 21:36:53 INFO 140539079042880] #progress_metric: host=algo-1, completed 26.666666666666668 % of epochs\u001b[0m\n",
      "\u001b[34m#metrics {\"StartTime\": 1727127381.9751763, \"EndTime\": 1727127413.98117, \"Dimensions\": {\"Algorithm\": \"Linear Learner\", \"Host\": \"algo-1\", \"Operation\": \"training\", \"epoch\": 3, \"Meta\": \"training_data_iter\"}, \"Metrics\": {\"Total Records Seen\": {\"sum\": 5245888.0, \"count\": 1, \"min\": 5245888, \"max\": 5245888}, \"Total Batches Seen\": {\"sum\": 5248.0, \"count\": 1, \"min\": 5248, \"max\": 5248}, \"Max Records Seen Between Resets\": {\"sum\": 1308472.0, \"count\": 1, \"min\": 1308472, \"max\": 1308472}, \"Max Batches Seen Between Resets\": {\"sum\": 1309.0, \"count\": 1, \"min\": 1309, \"max\": 1309}, \"Reset Count\": {\"sum\": 6.0, \"count\": 1, \"min\": 6, \"max\": 6}, \"Number of Records Since Last Reset\": {\"sum\": 1308472.0, \"count\": 1, \"min\": 1308472, \"max\": 1308472}, \"Number of Batches Since Last Reset\": {\"sum\": 1309.0, \"count\": 1, \"min\": 1309, \"max\": 1309}}}\u001b[0m\n",
      "\u001b[34m[09/23/2024 21:36:53 INFO 140539079042880] #throughput_metric: host=algo-1, train throughput=40881.93380970142 records/second\u001b[0m\n",
      "\u001b[34m[2024-09-23 21:37:23.806] [tensorio] [info] epoch_stats={\"data_pipeline\": \"/opt/ml/input/data/train\", \"epoch\": 11, \"duration\": 29824, \"num_examples\": 1309, \"num_bytes\": 502453248}\u001b[0m\n",
      "\u001b[34m#metrics {\"StartTime\": 1727127443.8068907, \"EndTime\": 1727127443.8069532, \"Dimensions\": {\"Algorithm\": \"Linear Learner\", \"Host\": \"algo-1\", \"Operation\": \"training\", \"epoch\": 4, \"model\": 0}, \"Metrics\": {\"train_binary_classification_cross_entropy_objective\": {\"sum\": 0.4806246442415663, \"count\": 1, \"min\": 0.4806246442415663, \"max\": 0.4806246442415663}}}\u001b[0m\n",
      "\u001b[34m#metrics {\"StartTime\": 1727127443.8070269, \"EndTime\": 1727127443.8070412, \"Dimensions\": {\"Algorithm\": \"Linear Learner\", \"Host\": \"algo-1\", \"Operation\": \"training\", \"epoch\": 4, \"model\": 1}, \"Metrics\": {\"train_binary_classification_cross_entropy_objective\": {\"sum\": 0.48146570619822276, \"count\": 1, \"min\": 0.48146570619822276, \"max\": 0.48146570619822276}}}\u001b[0m\n",
      "\u001b[34m#metrics {\"StartTime\": 1727127443.8071077, \"EndTime\": 1727127443.8071191, \"Dimensions\": {\"Algorithm\": \"Linear Learner\", \"Host\": \"algo-1\", \"Operation\": \"training\", \"epoch\": 4, \"model\": 2}, \"Metrics\": {\"train_binary_classification_cross_entropy_objective\": {\"sum\": 0.48066168838174333, \"count\": 1, \"min\": 0.48066168838174333, \"max\": 0.48066168838174333}}}\u001b[0m\n",
      "\u001b[34m#metrics {\"StartTime\": 1727127443.8071454, \"EndTime\": 1727127443.8071518, \"Dimensions\": {\"Algorithm\": \"Linear Learner\", \"Host\": \"algo-1\", \"Operation\": \"training\", \"epoch\": 4, \"model\": 3}, \"Metrics\": {\"train_binary_classification_cross_entropy_objective\": {\"sum\": 0.4814656998287283, \"count\": 1, \"min\": 0.4814656998287283, \"max\": 0.4814656998287283}}}\u001b[0m\n",
      "\u001b[34m#metrics {\"StartTime\": 1727127443.8071709, \"EndTime\": 1727127443.8071764, \"Dimensions\": {\"Algorithm\": \"Linear Learner\", \"Host\": \"algo-1\", \"Operation\": \"training\", \"epoch\": 4, \"model\": 4}, \"Metrics\": {\"train_binary_classification_cross_entropy_objective\": {\"sum\": 0.48073368184500875, \"count\": 1, \"min\": 0.48073368184500875, \"max\": 0.48073368184500875}}}\u001b[0m\n",
      "\u001b[34m#metrics {\"StartTime\": 1727127443.8071947, \"EndTime\": 1727127443.8071997, \"Dimensions\": {\"Algorithm\": \"Linear Learner\", \"Host\": \"algo-1\", \"Operation\": \"training\", \"epoch\": 4, \"model\": 5}, \"Metrics\": {\"train_binary_classification_cross_entropy_objective\": {\"sum\": 0.49472272673440637, \"count\": 1, \"min\": 0.49472272673440637, \"max\": 0.49472272673440637}}}\u001b[0m\n",
      "\u001b[34m#metrics {\"StartTime\": 1727127443.8072174, \"EndTime\": 1727127443.8072224, \"Dimensions\": {\"Algorithm\": \"Linear Learner\", \"Host\": \"algo-1\", \"Operation\": \"training\", \"epoch\": 4, \"model\": 6}, \"Metrics\": {\"train_binary_classification_cross_entropy_objective\": {\"sum\": 0.48073368086508655, \"count\": 1, \"min\": 0.48073368086508655, \"max\": 0.48073368086508655}}}\u001b[0m\n",
      "\u001b[34m#metrics {\"StartTime\": 1727127443.8072398, \"EndTime\": 1727127443.8072443, \"Dimensions\": {\"Algorithm\": \"Linear Learner\", \"Host\": \"algo-1\", \"Operation\": \"training\", \"epoch\": 4, \"model\": 7}, \"Metrics\": {\"train_binary_classification_cross_entropy_objective\": {\"sum\": 0.49472273926341204, \"count\": 1, \"min\": 0.49472273926341204, \"max\": 0.49472273926341204}}}\u001b[0m\n",
      "\u001b[34m#metrics {\"StartTime\": 1727127443.8072617, \"EndTime\": 1727127443.8072665, \"Dimensions\": {\"Algorithm\": \"Linear Learner\", \"Host\": \"algo-1\", \"Operation\": \"training\", \"epoch\": 4, \"model\": 8}, \"Metrics\": {\"train_binary_classification_cross_entropy_objective\": {\"sum\": 0.48088866191245727, \"count\": 1, \"min\": 0.48088866191245727, \"max\": 0.48088866191245727}}}\u001b[0m\n",
      "\u001b[34m#metrics {\"StartTime\": 1727127443.8072836, \"EndTime\": 1727127443.8072886, \"Dimensions\": {\"Algorithm\": \"Linear Learner\", \"Host\": \"algo-1\", \"Operation\": \"training\", \"epoch\": 4, \"model\": 9}, \"Metrics\": {\"train_binary_classification_cross_entropy_objective\": {\"sum\": 0.48168546834123244, \"count\": 1, \"min\": 0.48168546834123244, \"max\": 0.48168546834123244}}}\u001b[0m\n",
      "\u001b[34m#metrics {\"StartTime\": 1727127443.807305, \"EndTime\": 1727127443.80731, \"Dimensions\": {\"Algorithm\": \"Linear Learner\", \"Host\": \"algo-1\", \"Operation\": \"training\", \"epoch\": 4, \"model\": 10}, \"Metrics\": {\"train_binary_classification_cross_entropy_objective\": {\"sum\": 0.4809241704445002, \"count\": 1, \"min\": 0.4809241704445002, \"max\": 0.4809241704445002}}}\u001b[0m\n",
      "\u001b[34m#metrics {\"StartTime\": 1727127443.8073273, \"EndTime\": 1727127443.807332, \"Dimensions\": {\"Algorithm\": \"Linear Learner\", \"Host\": \"algo-1\", \"Operation\": \"training\", \"epoch\": 4, \"model\": 11}, \"Metrics\": {\"train_binary_classification_cross_entropy_objective\": {\"sum\": 0.48168547102435283, \"count\": 1, \"min\": 0.48168547102435283, \"max\": 0.48168547102435283}}}\u001b[0m\n",
      "\u001b[34m#metrics {\"StartTime\": 1727127443.807354, \"EndTime\": 1727127443.8073587, \"Dimensions\": {\"Algorithm\": \"Linear Learner\", \"Host\": \"algo-1\", \"Operation\": \"training\", \"epoch\": 4, \"model\": 12}, \"Metrics\": {\"train_binary_classification_cross_entropy_objective\": {\"sum\": 0.48099483042025787, \"count\": 1, \"min\": 0.48099483042025787, \"max\": 0.48099483042025787}}}\u001b[0m\n",
      "\u001b[34m#metrics {\"StartTime\": 1727127443.807376, \"EndTime\": 1727127443.8073807, \"Dimensions\": {\"Algorithm\": \"Linear Learner\", \"Host\": \"algo-1\", \"Operation\": \"training\", \"epoch\": 4, \"model\": 13}, \"Metrics\": {\"train_binary_classification_cross_entropy_objective\": {\"sum\": 0.4940385583533424, \"count\": 1, \"min\": 0.4940385583533424, \"max\": 0.4940385583533424}}}\u001b[0m\n",
      "\u001b[34m#metrics {\"StartTime\": 1727127443.8073978, \"EndTime\": 1727127443.807403, \"Dimensions\": {\"Algorithm\": \"Linear Learner\", \"Host\": \"algo-1\", \"Operation\": \"training\", \"epoch\": 4, \"model\": 14}, \"Metrics\": {\"train_binary_classification_cross_entropy_objective\": {\"sum\": 0.48099483004695415, \"count\": 1, \"min\": 0.48099483004695415, \"max\": 0.48099483004695415}}}\u001b[0m\n",
      "\u001b[34m#metrics {\"StartTime\": 1727127443.80742, \"EndTime\": 1727127443.8074248, \"Dimensions\": {\"Algorithm\": \"Linear Learner\", \"Host\": \"algo-1\", \"Operation\": \"training\", \"epoch\": 4, \"model\": 15}, \"Metrics\": {\"train_binary_classification_cross_entropy_objective\": {\"sum\": 0.49403854395781815, \"count\": 1, \"min\": 0.49403854395781815, \"max\": 0.49403854395781815}}}\u001b[0m\n",
      "\u001b[34m#metrics {\"StartTime\": 1727127443.8074417, \"EndTime\": 1727127443.8074465, \"Dimensions\": {\"Algorithm\": \"Linear Learner\", \"Host\": \"algo-1\", \"Operation\": \"training\", \"epoch\": 4, \"model\": 16}, \"Metrics\": {\"train_binary_classification_cross_entropy_objective\": {\"sum\": 0.5040421418822869, \"count\": 1, \"min\": 0.5040421418822869, \"max\": 0.5040421418822869}}}\u001b[0m\n",
      "\u001b[34m#metrics {\"StartTime\": 1727127443.8074636, \"EndTime\": 1727127443.8074682, \"Dimensions\": {\"Algorithm\": \"Linear Learner\", \"Host\": \"algo-1\", \"Operation\": \"training\", \"epoch\": 4, \"model\": 17}, \"Metrics\": {\"train_binary_classification_cross_entropy_objective\": {\"sum\": 0.5042540575313277, \"count\": 1, \"min\": 0.5042540575313277, \"max\": 0.5042540575313277}}}\u001b[0m\n",
      "\u001b[34m#metrics {\"StartTime\": 1727127443.807485, \"EndTime\": 1727127443.80749, \"Dimensions\": {\"Algorithm\": \"Linear Learner\", \"Host\": \"algo-1\", \"Operation\": \"training\", \"epoch\": 4, \"model\": 18}, \"Metrics\": {\"train_binary_classification_cross_entropy_objective\": {\"sum\": 0.5040439292837721, \"count\": 1, \"min\": 0.5040439292837721, \"max\": 0.5040439292837721}}}\u001b[0m\n",
      "\u001b[34m#metrics {\"StartTime\": 1727127443.8075068, \"EndTime\": 1727127443.8075116, \"Dimensions\": {\"Algorithm\": \"Linear Learner\", \"Host\": \"algo-1\", \"Operation\": \"training\", \"epoch\": 4, \"model\": 19}, \"Metrics\": {\"train_binary_classification_cross_entropy_objective\": {\"sum\": 0.5042540534949813, \"count\": 1, \"min\": 0.5042540534949813, \"max\": 0.5042540534949813}}}\u001b[0m\n",
      "\u001b[34m#metrics {\"StartTime\": 1727127443.8075283, \"EndTime\": 1727127443.807533, \"Dimensions\": {\"Algorithm\": \"Linear Learner\", \"Host\": \"algo-1\", \"Operation\": \"training\", \"epoch\": 4, \"model\": 20}, \"Metrics\": {\"train_binary_classification_cross_entropy_objective\": {\"sum\": 0.504052046026294, \"count\": 1, \"min\": 0.504052046026294, \"max\": 0.504052046026294}}}\u001b[0m\n",
      "\u001b[34m#metrics {\"StartTime\": 1727127443.8075497, \"EndTime\": 1727127443.8075545, \"Dimensions\": {\"Algorithm\": \"Linear Learner\", \"Host\": \"algo-1\", \"Operation\": \"training\", \"epoch\": 4, \"model\": 21}, \"Metrics\": {\"train_binary_classification_cross_entropy_objective\": {\"sum\": 0.5066546500669706, \"count\": 1, \"min\": 0.5066546500669706, \"max\": 0.5066546500669706}}}\u001b[0m\n",
      "\u001b[34m#metrics {\"StartTime\": 1727127443.8075714, \"EndTime\": 1727127443.8075764, \"Dimensions\": {\"Algorithm\": \"Linear Learner\", \"Host\": \"algo-1\", \"Operation\": \"training\", \"epoch\": 4, \"model\": 22}, \"Metrics\": {\"train_binary_classification_cross_entropy_objective\": {\"sum\": 0.504052045396344, \"count\": 1, \"min\": 0.504052045396344, \"max\": 0.504052045396344}}}\u001b[0m\n",
      "\u001b[34m#metrics {\"StartTime\": 1727127443.8075936, \"EndTime\": 1727127443.8075984, \"Dimensions\": {\"Algorithm\": \"Linear Learner\", \"Host\": \"algo-1\", \"Operation\": \"training\", \"epoch\": 4, \"model\": 23}, \"Metrics\": {\"train_binary_classification_cross_entropy_objective\": {\"sum\": 0.5066546493670262, \"count\": 1, \"min\": 0.5066546493670262, \"max\": 0.5066546493670262}}}\u001b[0m\n",
      "\u001b[34m#metrics {\"StartTime\": 1727127443.8076155, \"EndTime\": 1727127443.8076203, \"Dimensions\": {\"Algorithm\": \"Linear Learner\", \"Host\": \"algo-1\", \"Operation\": \"training\", \"epoch\": 4, \"model\": 24}, \"Metrics\": {\"train_binary_classification_cross_entropy_objective\": {\"sum\": 0.5137165902747292, \"count\": 1, \"min\": 0.5137165902747292, \"max\": 0.5137165902747292}}}\u001b[0m\n",
      "\u001b[34m#metrics {\"StartTime\": 1727127443.8076372, \"EndTime\": 1727127443.8076422, \"Dimensions\": {\"Algorithm\": \"Linear Learner\", \"Host\": \"algo-1\", \"Operation\": \"training\", \"epoch\": 4, \"model\": 25}, \"Metrics\": {\"train_binary_classification_cross_entropy_objective\": {\"sum\": 0.5138048294720664, \"count\": 1, \"min\": 0.5138048294720664, \"max\": 0.5138048294720664}}}\u001b[0m\n",
      "\u001b[34m#metrics {\"StartTime\": 1727127443.8076587, \"EndTime\": 1727127443.8076637, \"Dimensions\": {\"Algorithm\": \"Linear Learner\", \"Host\": \"algo-1\", \"Operation\": \"training\", \"epoch\": 4, \"model\": 26}, \"Metrics\": {\"train_binary_classification_cross_entropy_objective\": {\"sum\": 0.5137208242387218, \"count\": 1, \"min\": 0.5137208242387218, \"max\": 0.5137208242387218}}}\u001b[0m\n",
      "\u001b[34m#metrics {\"StartTime\": 1727127443.8076806, \"EndTime\": 1727127443.8076851, \"Dimensions\": {\"Algorithm\": \"Linear Learner\", \"Host\": \"algo-1\", \"Operation\": \"training\", \"epoch\": 4, \"model\": 27}, \"Metrics\": {\"train_binary_classification_cross_entropy_objective\": {\"sum\": 0.5138052535917417, \"count\": 1, \"min\": 0.5138052535917417, \"max\": 0.5138052535917417}}}\u001b[0m\n",
      "\u001b[34m#metrics {\"StartTime\": 1727127443.807702, \"EndTime\": 1727127443.8077068, \"Dimensions\": {\"Algorithm\": \"Linear Learner\", \"Host\": \"algo-1\", \"Operation\": \"training\", \"epoch\": 4, \"model\": 28}, \"Metrics\": {\"train_binary_classification_cross_entropy_objective\": {\"sum\": 0.5137265052912068, \"count\": 1, \"min\": 0.5137265052912068, \"max\": 0.5137265052912068}}}\u001b[0m\n",
      "\u001b[34m#metrics {\"StartTime\": 1727127443.8077235, \"EndTime\": 1727127443.8077283, \"Dimensions\": {\"Algorithm\": \"Linear Learner\", \"Host\": \"algo-1\", \"Operation\": \"training\", \"epoch\": 4, \"model\": 29}, \"Metrics\": {\"train_binary_classification_cross_entropy_objective\": {\"sum\": 0.5146728434664758, \"count\": 1, \"min\": 0.5146728434664758, \"max\": 0.5146728434664758}}}\u001b[0m\n",
      "\u001b[34m#metrics {\"StartTime\": 1727127443.8077452, \"EndTime\": 1727127443.80775, \"Dimensions\": {\"Algorithm\": \"Linear Learner\", \"Host\": \"algo-1\", \"Operation\": \"training\", \"epoch\": 4, \"model\": 30}, \"Metrics\": {\"train_binary_classification_cross_entropy_objective\": {\"sum\": 0.5137264682874767, \"count\": 1, \"min\": 0.5137264682874767, \"max\": 0.5137264682874767}}}\u001b[0m\n",
      "\u001b[34m#metrics {\"StartTime\": 1727127443.8077664, \"EndTime\": 1727127443.8077712, \"Dimensions\": {\"Algorithm\": \"Linear Learner\", \"Host\": \"algo-1\", \"Operation\": \"training\", \"epoch\": 4, \"model\": 31}, \"Metrics\": {\"train_binary_classification_cross_entropy_objective\": {\"sum\": 0.5146728447730388, \"count\": 1, \"min\": 0.5146728447730388, \"max\": 0.5146728447730388}}}\u001b[0m\n",
      "\u001b[34m[09/23/2024 21:37:23 INFO 140539079042880] #quality_metric: host=algo-1, epoch=4, train binary_classification_cross_entropy_objective <loss>=0.4806246442415663\u001b[0m\n",
      "\u001b[34m[2024-09-23 21:37:26.355] [tensorio] [info] epoch_stats={\"data_pipeline\": \"/opt/ml/input/data/validation\", \"epoch\": 14, \"duration\": 2533, \"num_examples\": 164, \"num_bytes\": 62806656}\u001b[0m\n",
      "\u001b[34m#metrics {\"StartTime\": 1727127446.3603678, \"EndTime\": 1727127446.3604183, \"Dimensions\": {\"Algorithm\": \"Linear Learner\", \"Host\": \"algo-1\", \"Operation\": \"training\", \"epoch\": 4, \"model\": 0}, \"Metrics\": {\"validation_binary_classification_cross_entropy_objective\": {\"sum\": 0.480496776488148, \"count\": 1, \"min\": 0.480496776488148, \"max\": 0.480496776488148}}}\u001b[0m\n",
      "\u001b[34m#metrics {\"StartTime\": 1727127446.3604798, \"EndTime\": 1727127446.3604903, \"Dimensions\": {\"Algorithm\": \"Linear Learner\", \"Host\": \"algo-1\", \"Operation\": \"training\", \"epoch\": 4, \"model\": 1}, \"Metrics\": {\"validation_binary_classification_cross_entropy_objective\": {\"sum\": 0.48171400466297715, \"count\": 1, \"min\": 0.48171400466297715, \"max\": 0.48171400466297715}}}\u001b[0m\n",
      "\u001b[34m#metrics {\"StartTime\": 1727127446.3605251, \"EndTime\": 1727127446.3605347, \"Dimensions\": {\"Algorithm\": \"Linear Learner\", \"Host\": \"algo-1\", \"Operation\": \"training\", \"epoch\": 4, \"model\": 2}, \"Metrics\": {\"validation_binary_classification_cross_entropy_objective\": {\"sum\": 0.4805148154799071, \"count\": 1, \"min\": 0.4805148154799071, \"max\": 0.4805148154799071}}}\u001b[0m\n",
      "\u001b[34m#metrics {\"StartTime\": 1727127446.3605723, \"EndTime\": 1727127446.3605812, \"Dimensions\": {\"Algorithm\": \"Linear Learner\", \"Host\": \"algo-1\", \"Operation\": \"training\", \"epoch\": 4, \"model\": 3}, \"Metrics\": {\"validation_binary_classification_cross_entropy_objective\": {\"sum\": 0.4817140208958307, \"count\": 1, \"min\": 0.4817140208958307, \"max\": 0.4817140208958307}}}\u001b[0m\n",
      "\u001b[34m#metrics {\"StartTime\": 1727127446.3606143, \"EndTime\": 1727127446.3606246, \"Dimensions\": {\"Algorithm\": \"Linear Learner\", \"Host\": \"algo-1\", \"Operation\": \"training\", \"epoch\": 4, \"model\": 4}, \"Metrics\": {\"validation_binary_classification_cross_entropy_objective\": {\"sum\": 0.48052636692777434, \"count\": 1, \"min\": 0.48052636692777434, \"max\": 0.48052636692777434}}}\u001b[0m\n",
      "\u001b[34m#metrics {\"StartTime\": 1727127446.3606575, \"EndTime\": 1727127446.3606663, \"Dimensions\": {\"Algorithm\": \"Linear Learner\", \"Host\": \"algo-1\", \"Operation\": \"training\", \"epoch\": 4, \"model\": 5}, \"Metrics\": {\"validation_binary_classification_cross_entropy_objective\": {\"sum\": 0.49571567676481615, \"count\": 1, \"min\": 0.49571567676481615, \"max\": 0.49571567676481615}}}\u001b[0m\n",
      "\u001b[34m#metrics {\"StartTime\": 1727127446.360704, \"EndTime\": 1727127446.360715, \"Dimensions\": {\"Algorithm\": \"Linear Learner\", \"Host\": \"algo-1\", \"Operation\": \"training\", \"epoch\": 4, \"model\": 6}, \"Metrics\": {\"validation_binary_classification_cross_entropy_objective\": {\"sum\": 0.48052636711435887, \"count\": 1, \"min\": 0.48052636711435887, \"max\": 0.48052636711435887}}}\u001b[0m\n",
      "\u001b[34m#metrics {\"StartTime\": 1727127446.3607552, \"EndTime\": 1727127446.360765, \"Dimensions\": {\"Algorithm\": \"Linear Learner\", \"Host\": \"algo-1\", \"Operation\": \"training\", \"epoch\": 4, \"model\": 7}, \"Metrics\": {\"validation_binary_classification_cross_entropy_objective\": {\"sum\": 0.49571568310868996, \"count\": 1, \"min\": 0.49571568310868996, \"max\": 0.49571568310868996}}}\u001b[0m\n",
      "\u001b[34m#metrics {\"StartTime\": 1727127446.3608024, \"EndTime\": 1727127446.3608134, \"Dimensions\": {\"Algorithm\": \"Linear Learner\", \"Host\": \"algo-1\", \"Operation\": \"training\", \"epoch\": 4, \"model\": 8}, \"Metrics\": {\"validation_binary_classification_cross_entropy_objective\": {\"sum\": 0.4807616927401174, \"count\": 1, \"min\": 0.4807616927401174, \"max\": 0.4807616927401174}}}\u001b[0m\n",
      "\u001b[34m#metrics {\"StartTime\": 1727127446.3608496, \"EndTime\": 1727127446.3608584, \"Dimensions\": {\"Algorithm\": \"Linear Learner\", \"Host\": \"algo-1\", \"Operation\": \"training\", \"epoch\": 4, \"model\": 9}, \"Metrics\": {\"validation_binary_classification_cross_entropy_objective\": {\"sum\": 0.48202691605199854, \"count\": 1, \"min\": 0.48202691605199854, \"max\": 0.48202691605199854}}}\u001b[0m\n",
      "\u001b[34m#metrics {\"StartTime\": 1727127446.360892, \"EndTime\": 1727127446.3609006, \"Dimensions\": {\"Algorithm\": \"Linear Learner\", \"Host\": \"algo-1\", \"Operation\": \"training\", \"epoch\": 4, \"model\": 10}, \"Metrics\": {\"validation_binary_classification_cross_entropy_objective\": {\"sum\": 0.4807831199202438, \"count\": 1, \"min\": 0.4807831199202438, \"max\": 0.4807831199202438}}}\u001b[0m\n",
      "\u001b[34m#metrics {\"StartTime\": 1727127446.3609333, \"EndTime\": 1727127446.3609421, \"Dimensions\": {\"Algorithm\": \"Linear Learner\", \"Host\": \"algo-1\", \"Operation\": \"training\", \"epoch\": 4, \"model\": 11}, \"Metrics\": {\"validation_binary_classification_cross_entropy_objective\": {\"sum\": 0.48202690765569495, \"count\": 1, \"min\": 0.48202690765569495, \"max\": 0.48202690765569495}}}\u001b[0m\n",
      "\u001b[34m#metrics {\"StartTime\": 1727127446.3609786, \"EndTime\": 1727127446.360988, \"Dimensions\": {\"Algorithm\": \"Linear Learner\", \"Host\": \"algo-1\", \"Operation\": \"training\", \"epoch\": 4, \"model\": 12}, \"Metrics\": {\"validation_binary_classification_cross_entropy_objective\": {\"sum\": 0.48079615116996915, \"count\": 1, \"min\": 0.48079615116996915, \"max\": 0.48079615116996915}}}\u001b[0m\n",
      "\u001b[34m#metrics {\"StartTime\": 1727127446.361027, \"EndTime\": 1727127446.3610377, \"Dimensions\": {\"Algorithm\": \"Linear Learner\", \"Host\": \"algo-1\", \"Operation\": \"training\", \"epoch\": 4, \"model\": 13}, \"Metrics\": {\"validation_binary_classification_cross_entropy_objective\": {\"sum\": 0.49550639031544286, \"count\": 1, \"min\": 0.49550639031544286, \"max\": 0.49550639031544286}}}\u001b[0m\n",
      "\u001b[34m#metrics {\"StartTime\": 1727127446.3610747, \"EndTime\": 1727127446.361085, \"Dimensions\": {\"Algorithm\": \"Linear Learner\", \"Host\": \"algo-1\", \"Operation\": \"training\", \"epoch\": 4, \"model\": 14}, \"Metrics\": {\"validation_binary_classification_cross_entropy_objective\": {\"sum\": 0.48079615191630726, \"count\": 1, \"min\": 0.48079615191630726, \"max\": 0.48079615191630726}}}\u001b[0m\n",
      "\u001b[34m#metrics {\"StartTime\": 1727127446.3611228, \"EndTime\": 1727127446.3611326, \"Dimensions\": {\"Algorithm\": \"Linear Learner\", \"Host\": \"algo-1\", \"Operation\": \"training\", \"epoch\": 4, \"model\": 15}, \"Metrics\": {\"validation_binary_classification_cross_entropy_objective\": {\"sum\": 0.4955063946068869, \"count\": 1, \"min\": 0.4955063946068869, \"max\": 0.4955063946068869}}}\u001b[0m\n",
      "\u001b[34m#metrics {\"StartTime\": 1727127446.3611717, \"EndTime\": 1727127446.3611815, \"Dimensions\": {\"Algorithm\": \"Linear Learner\", \"Host\": \"algo-1\", \"Operation\": \"training\", \"epoch\": 4, \"model\": 16}, \"Metrics\": {\"validation_binary_classification_cross_entropy_objective\": {\"sum\": 0.504023153600452, \"count\": 1, \"min\": 0.504023153600452, \"max\": 0.504023153600452}}}\u001b[0m\n",
      "\u001b[34m#metrics {\"StartTime\": 1727127446.361219, \"EndTime\": 1727127446.3612285, \"Dimensions\": {\"Algorithm\": \"Linear Learner\", \"Host\": \"algo-1\", \"Operation\": \"training\", \"epoch\": 4, \"model\": 17}, \"Metrics\": {\"validation_binary_classification_cross_entropy_objective\": {\"sum\": 0.5051041700351393, \"count\": 1, \"min\": 0.5051041700351393, \"max\": 0.5051041700351393}}}\u001b[0m\n",
      "\u001b[34m#metrics {\"StartTime\": 1727127446.3612676, \"EndTime\": 1727127446.361278, \"Dimensions\": {\"Algorithm\": \"Linear Learner\", \"Host\": \"algo-1\", \"Operation\": \"training\", \"epoch\": 4, \"model\": 18}, \"Metrics\": {\"validation_binary_classification_cross_entropy_objective\": {\"sum\": 0.504206494165702, \"count\": 1, \"min\": 0.504206494165702, \"max\": 0.504206494165702}}}\u001b[0m\n",
      "\u001b[34m#metrics {\"StartTime\": 1727127446.3613164, \"EndTime\": 1727127446.361327, \"Dimensions\": {\"Algorithm\": \"Linear Learner\", \"Host\": \"algo-1\", \"Operation\": \"training\", \"epoch\": 4, \"model\": 19}, \"Metrics\": {\"validation_binary_classification_cross_entropy_objective\": {\"sum\": 0.505104128986544, \"count\": 1, \"min\": 0.505104128986544, \"max\": 0.505104128986544}}}\u001b[0m\n",
      "\u001b[34m#metrics {\"StartTime\": 1727127446.3613627, \"EndTime\": 1727127446.361373, \"Dimensions\": {\"Algorithm\": \"Linear Learner\", \"Host\": \"algo-1\", \"Operation\": \"training\", \"epoch\": 4, \"model\": 20}, \"Metrics\": {\"validation_binary_classification_cross_entropy_objective\": {\"sum\": 0.5042659593997689, \"count\": 1, \"min\": 0.5042659593997689, \"max\": 0.5042659593997689}}}\u001b[0m\n",
      "\u001b[34m#metrics {\"StartTime\": 1727127446.3614066, \"EndTime\": 1727127446.361415, \"Dimensions\": {\"Algorithm\": \"Linear Learner\", \"Host\": \"algo-1\", \"Operation\": \"training\", \"epoch\": 4, \"model\": 21}, \"Metrics\": {\"validation_binary_classification_cross_entropy_objective\": {\"sum\": 0.5040370815753986, \"count\": 1, \"min\": 0.5040370815753986, \"max\": 0.5040370815753986}}}\u001b[0m\n",
      "\u001b[34m#metrics {\"StartTime\": 1727127446.3614435, \"EndTime\": 1727127446.3614526, \"Dimensions\": {\"Algorithm\": \"Linear Learner\", \"Host\": \"algo-1\", \"Operation\": \"training\", \"epoch\": 4, \"model\": 22}, \"Metrics\": {\"validation_binary_classification_cross_entropy_objective\": {\"sum\": 0.5042659545485713, \"count\": 1, \"min\": 0.5042659545485713, \"max\": 0.5042659545485713}}}\u001b[0m\n",
      "\u001b[34m#metrics {\"StartTime\": 1727127446.361487, \"EndTime\": 1727127446.3614957, \"Dimensions\": {\"Algorithm\": \"Linear Learner\", \"Host\": \"algo-1\", \"Operation\": \"training\", \"epoch\": 4, \"model\": 23}, \"Metrics\": {\"validation_binary_classification_cross_entropy_objective\": {\"sum\": 0.5040370754181094, \"count\": 1, \"min\": 0.5040370754181094, \"max\": 0.5040370754181094}}}\u001b[0m\n",
      "\u001b[34m#metrics {\"StartTime\": 1727127446.361527, \"EndTime\": 1727127446.361536, \"Dimensions\": {\"Algorithm\": \"Linear Learner\", \"Host\": \"algo-1\", \"Operation\": \"training\", \"epoch\": 4, \"model\": 24}, \"Metrics\": {\"validation_binary_classification_cross_entropy_objective\": {\"sum\": 0.513716900271187, \"count\": 1, \"min\": 0.513716900271187, \"max\": 0.513716900271187}}}\u001b[0m\n",
      "\u001b[34m#metrics {\"StartTime\": 1727127446.3615642, \"EndTime\": 1727127446.3615732, \"Dimensions\": {\"Algorithm\": \"Linear Learner\", \"Host\": \"algo-1\", \"Operation\": \"training\", \"epoch\": 4, \"model\": 25}, \"Metrics\": {\"validation_binary_classification_cross_entropy_objective\": {\"sum\": 0.5142644898376695, \"count\": 1, \"min\": 0.5142644898376695, \"max\": 0.5142644898376695}}}\u001b[0m\n",
      "\u001b[34m#metrics {\"StartTime\": 1727127446.3616042, \"EndTime\": 1727127446.3616126, \"Dimensions\": {\"Algorithm\": \"Linear Learner\", \"Host\": \"algo-1\", \"Operation\": \"training\", \"epoch\": 4, \"model\": 26}, \"Metrics\": {\"validation_binary_classification_cross_entropy_objective\": {\"sum\": 0.5137261149344784, \"count\": 1, \"min\": 0.5137261149344784, \"max\": 0.5137261149344784}}}\u001b[0m\n",
      "\u001b[34m#metrics {\"StartTime\": 1727127446.3616426, \"EndTime\": 1727127446.3616517, \"Dimensions\": {\"Algorithm\": \"Linear Learner\", \"Host\": \"algo-1\", \"Operation\": \"training\", \"epoch\": 4, \"model\": 27}, \"Metrics\": {\"validation_binary_classification_cross_entropy_objective\": {\"sum\": 0.5142524743540915, \"count\": 1, \"min\": 0.5142524743540915, \"max\": 0.5142524743540915}}}\u001b[0m\n",
      "\u001b[34m#metrics {\"StartTime\": 1727127446.3616817, \"EndTime\": 1727127446.3616915, \"Dimensions\": {\"Algorithm\": \"Linear Learner\", \"Host\": \"algo-1\", \"Operation\": \"training\", \"epoch\": 4, \"model\": 28}, \"Metrics\": {\"validation_binary_classification_cross_entropy_objective\": {\"sum\": 0.513729587645635, \"count\": 1, \"min\": 0.513729587645635, \"max\": 0.513729587645635}}}\u001b[0m\n",
      "\u001b[34m#metrics {\"StartTime\": 1727127446.3617198, \"EndTime\": 1727127446.3617284, \"Dimensions\": {\"Algorithm\": \"Linear Learner\", \"Host\": \"algo-1\", \"Operation\": \"training\", \"epoch\": 4, \"model\": 29}, \"Metrics\": {\"validation_binary_classification_cross_entropy_objective\": {\"sum\": 0.5136415723672464, \"count\": 1, \"min\": 0.5136415723672464, \"max\": 0.5136415723672464}}}\u001b[0m\n",
      "\u001b[34m#metrics {\"StartTime\": 1727127446.3617587, \"EndTime\": 1727127446.3617678, \"Dimensions\": {\"Algorithm\": \"Linear Learner\", \"Host\": \"algo-1\", \"Operation\": \"training\", \"epoch\": 4, \"model\": 30}, \"Metrics\": {\"validation_binary_classification_cross_entropy_objective\": {\"sum\": 0.5137297038877934, \"count\": 1, \"min\": 0.5137297038877934, \"max\": 0.5137297038877934}}}\u001b[0m\n",
      "\u001b[34m#metrics {\"StartTime\": 1727127446.3617973, \"EndTime\": 1727127446.3618069, \"Dimensions\": {\"Algorithm\": \"Linear Learner\", \"Host\": \"algo-1\", \"Operation\": \"training\", \"epoch\": 4, \"model\": 31}, \"Metrics\": {\"validation_binary_classification_cross_entropy_objective\": {\"sum\": 0.5136415708745702, \"count\": 1, \"min\": 0.5136415708745702, \"max\": 0.5136415708745702}}}\u001b[0m\n",
      "\u001b[34m[09/23/2024 21:37:26 INFO 140539079042880] #quality_metric: host=algo-1, epoch=4, validation binary_classification_cross_entropy_objective <loss>=0.480496776488148\u001b[0m\n",
      "\u001b[34m[09/23/2024 21:37:26 INFO 140539079042880] #early_stopping_criteria_metric: host=algo-1, epoch=4, criteria=binary_classification_cross_entropy_objective, value=0.480496776488148\u001b[0m\n",
      "\u001b[34m[09/23/2024 21:37:26 INFO 140539079042880] Saving model for epoch: 4\u001b[0m\n",
      "\u001b[34m[09/23/2024 21:37:26 INFO 140539079042880] Saved checkpoint to \"/tmp/tmptgks16ws/mx-mod-0000.params\"\u001b[0m\n",
      "\u001b[34m[09/23/2024 21:37:26 INFO 140539079042880] Early stop condition met. Stopping training.\u001b[0m\n",
      "\u001b[34m[09/23/2024 21:37:26 INFO 140539079042880] #progress_metric: host=algo-1, completed 100 % epochs\u001b[0m\n",
      "\u001b[34m#metrics {\"StartTime\": 1727127413.981928, \"EndTime\": 1727127446.3677583, \"Dimensions\": {\"Algorithm\": \"Linear Learner\", \"Host\": \"algo-1\", \"Operation\": \"training\", \"epoch\": 4, \"Meta\": \"training_data_iter\"}, \"Metrics\": {\"Total Records Seen\": {\"sum\": 6554360.0, \"count\": 1, \"min\": 6554360, \"max\": 6554360}, \"Total Batches Seen\": {\"sum\": 6557.0, \"count\": 1, \"min\": 6557, \"max\": 6557}, \"Max Records Seen Between Resets\": {\"sum\": 1308472.0, \"count\": 1, \"min\": 1308472, \"max\": 1308472}, \"Max Batches Seen Between Resets\": {\"sum\": 1309.0, \"count\": 1, \"min\": 1309, \"max\": 1309}, \"Reset Count\": {\"sum\": 7.0, \"count\": 1, \"min\": 7, \"max\": 7}, \"Number of Records Since Last Reset\": {\"sum\": 1308472.0, \"count\": 1, \"min\": 1308472, \"max\": 1308472}, \"Number of Batches Since Last Reset\": {\"sum\": 1309.0, \"count\": 1, \"min\": 1309, \"max\": 1309}}}\u001b[0m\n",
      "\u001b[34m[09/23/2024 21:37:26 INFO 140539079042880] #throughput_metric: host=algo-1, train throughput=40401.42837391256 records/second\u001b[0m\n",
      "\u001b[34m[09/23/2024 21:37:26 WARNING 140539079042880] wait_for_all_workers will not sync workers since the kv store is not running distributed\u001b[0m\n",
      "\u001b[34m[09/23/2024 21:37:26 WARNING 140539079042880] wait_for_all_workers will not sync workers since the kv store is not running distributed\u001b[0m\n",
      "\u001b[34m[2024-09-23 21:37:29.050] [tensorio] [info] epoch_stats={\"data_pipeline\": \"/opt/ml/input/data/validation\", \"epoch\": 17, \"duration\": 2668, \"num_examples\": 164, \"num_bytes\": 62806656}\u001b[0m\n",
      "\u001b[34m[09/23/2024 21:37:29 INFO 140539079042880] #early_stopping_criteria_metric: host=algo-1, epoch=4, criteria=binary_classification_cross_entropy_objective, value=0.480496776488148\u001b[0m\n",
      "\u001b[34m[2024-09-23 21:37:29.576] [tensorio] [info] epoch_stats={\"data_pipeline\": \"/opt/ml/input/data/validation\", \"epoch\": 19, \"duration\": 517, \"num_examples\": 164, \"num_bytes\": 62806656}\u001b[0m\n",
      "\u001b[34m[09/23/2024 21:37:29 INFO 140539079042880] #validation_score (algo-1) : ('binary_classification_cross_entropy_objective', 0.4808657369351904)\u001b[0m\n",
      "\u001b[34m[09/23/2024 21:37:29 INFO 140539079042880] #validation_score (algo-1) : ('binary_classification_accuracy', 0.79340788339376)\u001b[0m\n",
      "\u001b[34m[09/23/2024 21:37:29 INFO 140539079042880] #validation_score (algo-1) : ('binary_f_1.000', 0.10204623970236514)\u001b[0m\n",
      "\u001b[34m[09/23/2024 21:37:29 INFO 140539079042880] #validation_score (algo-1) : ('precision', 0.5823475887170154)\u001b[0m\n",
      "\u001b[34m[09/23/2024 21:37:29 INFO 140539079042880] #validation_score (algo-1) : ('recall', 0.05592287303760231)\u001b[0m\n",
      "\u001b[34m[09/23/2024 21:37:29 INFO 140539079042880] #validation_score (algo-1) : ('roc_auc_score', 0.6763335724003832)\u001b[0m\n",
      "\u001b[34m[09/23/2024 21:37:29 INFO 140539079042880] #validation_score (algo-1) : ('binary_balanced_accuracy', 0.5)\u001b[0m\n",
      "\u001b[34m[09/23/2024 21:37:29 INFO 140539079042880] #validation_score (algo-1) : ('binary_log_loss', 0.7496449165994834)\u001b[0m\n",
      "\u001b[34m[09/23/2024 21:37:29 INFO 140539079042880] #quality_metric: host=algo-1, validation binary_classification_cross_entropy_objective <loss>=0.4808657369351904\u001b[0m\n",
      "\u001b[34m[09/23/2024 21:37:29 INFO 140539079042880] #quality_metric: host=algo-1, validation binary_classification_accuracy <score>=0.79340788339376\u001b[0m\n",
      "\u001b[34m[09/23/2024 21:37:29 INFO 140539079042880] #quality_metric: host=algo-1, validation binary_f_1.000 <score>=0.10204623970236514\u001b[0m\n",
      "\u001b[34m[09/23/2024 21:37:29 INFO 140539079042880] #quality_metric: host=algo-1, validation precision <score>=0.5823475887170154\u001b[0m\n",
      "\u001b[34m[09/23/2024 21:37:29 INFO 140539079042880] #quality_metric: host=algo-1, validation recall <score>=0.05592287303760231\u001b[0m\n",
      "\u001b[34m[09/23/2024 21:37:29 INFO 140539079042880] #quality_metric: host=algo-1, validation roc_auc_score <score>=0.6763335724003832\u001b[0m\n",
      "\u001b[34m[09/23/2024 21:37:29 INFO 140539079042880] #quality_metric: host=algo-1, validation binary_balanced_accuracy <score>=0.5\u001b[0m\n",
      "\u001b[34m[09/23/2024 21:37:29 INFO 140539079042880] #quality_metric: host=algo-1, validation binary_log_loss <score>=0.7496449165994834\u001b[0m\n",
      "\u001b[34m[09/23/2024 21:37:29 INFO 140539079042880] Best model found for hyperparameters: {\"optimizer\": \"adam\", \"learning_rate\": 0.005, \"l1\": 0.0, \"wd\": 0.0001, \"lr_scheduler_step\": 10, \"lr_scheduler_factor\": 0.99, \"lr_scheduler_minimum_lr\": 1e-05}\u001b[0m\n",
      "\u001b[34m[09/23/2024 21:37:29 INFO 140539079042880] Saved checkpoint to \"/tmp/tmp366pllso/mx-mod-0000.params\"\u001b[0m\n",
      "\u001b[34m[2024-09-23 21:37:29.804] [tensorio] [info] epoch_stats={\"data_pipeline\": \"/opt/ml/input/data/test\", \"epoch\": 0, \"duration\": 163982, \"num_examples\": 1, \"num_bytes\": 384000}\u001b[0m\n",
      "\u001b[34m[2024-09-23 21:37:30.317] [tensorio] [info] epoch_stats={\"data_pipeline\": \"/opt/ml/input/data/test\", \"epoch\": 1, \"duration\": 512, \"num_examples\": 164, \"num_bytes\": 62806656}\u001b[0m\n",
      "\u001b[34m#metrics {\"StartTime\": 1727127449.8011618, \"EndTime\": 1727127450.5557034, \"Dimensions\": {\"Algorithm\": \"Linear Learner\", \"Host\": \"algo-1\", \"Operation\": \"training\", \"Meta\": \"test_data_iter\"}, \"Metrics\": {\"Total Records Seen\": {\"sum\": 163559.0, \"count\": 1, \"min\": 163559, \"max\": 163559}, \"Total Batches Seen\": {\"sum\": 164.0, \"count\": 1, \"min\": 164, \"max\": 164}, \"Max Records Seen Between Resets\": {\"sum\": 163559.0, \"count\": 1, \"min\": 163559, \"max\": 163559}, \"Max Batches Seen Between Resets\": {\"sum\": 164.0, \"count\": 1, \"min\": 164, \"max\": 164}, \"Reset Count\": {\"sum\": 1.0, \"count\": 1, \"min\": 1, \"max\": 1}, \"Number of Records Since Last Reset\": {\"sum\": 163559.0, \"count\": 1, \"min\": 163559, \"max\": 163559}, \"Number of Batches Since Last Reset\": {\"sum\": 164.0, \"count\": 1, \"min\": 164, \"max\": 164}}}\u001b[0m\n",
      "\u001b[34m[09/23/2024 21:37:30 INFO 140539079042880] #test_score (algo-1) : ('binary_classification_cross_entropy_objective', 0.4805932836013829)\u001b[0m\n",
      "\u001b[34m[09/23/2024 21:37:30 INFO 140539079042880] #test_score (algo-1) : ('binary_classification_accuracy', 0.7932366913468535)\u001b[0m\n",
      "\u001b[34m[09/23/2024 21:37:30 INFO 140539079042880] #test_score (algo-1) : ('binary_f_1.000', 0.10058510638297873)\u001b[0m\n",
      "\u001b[34m[09/23/2024 21:37:30 INFO 140539079042880] #test_score (algo-1) : ('precision', 0.578818487909397)\u001b[0m\n",
      "\u001b[34m[09/23/2024 21:37:30 INFO 140539079042880] #test_score (algo-1) : ('recall', 0.05507820464276352)\u001b[0m\n",
      "\u001b[34m[09/23/2024 21:37:30 INFO 140539079042880] #test_score (algo-1) : ('roc_auc_score', 0.675798904672709)\u001b[0m\n",
      "\u001b[34m[09/23/2024 21:37:30 INFO 140539079042880] #test_score (algo-1) : ('binary_balanced_accuracy', 0.5)\u001b[0m\n",
      "\u001b[34m[09/23/2024 21:37:30 INFO 140539079042880] #test_score (algo-1) : ('binary_log_loss', 0.749801107288881)\u001b[0m\n",
      "\u001b[34m[09/23/2024 21:37:30 INFO 140539079042880] #quality_metric: host=algo-1, test binary_classification_cross_entropy_objective <loss>=0.4805932836013829\u001b[0m\n",
      "\u001b[34m[09/23/2024 21:37:30 INFO 140539079042880] #quality_metric: host=algo-1, test binary_classification_accuracy <score>=0.7932366913468535\u001b[0m\n",
      "\u001b[34m[09/23/2024 21:37:30 INFO 140539079042880] #quality_metric: host=algo-1, test binary_f_1.000 <score>=0.10058510638297873\u001b[0m\n",
      "\u001b[34m[09/23/2024 21:37:30 INFO 140539079042880] #quality_metric: host=algo-1, test precision <score>=0.578818487909397\u001b[0m\n",
      "\u001b[34m[09/23/2024 21:37:30 INFO 140539079042880] #quality_metric: host=algo-1, test recall <score>=0.05507820464276352\u001b[0m\n",
      "\u001b[34m[09/23/2024 21:37:30 INFO 140539079042880] #quality_metric: host=algo-1, test roc_auc_score <score>=0.675798904672709\u001b[0m\n",
      "\u001b[34m[09/23/2024 21:37:30 INFO 140539079042880] #quality_metric: host=algo-1, test binary_balanced_accuracy <score>=0.5\u001b[0m\n",
      "\u001b[34m[09/23/2024 21:37:30 INFO 140539079042880] #quality_metric: host=algo-1, test binary_log_loss <score>=0.749801107288881\u001b[0m\n",
      "\u001b[34m#metrics {\"StartTime\": 1727127285.8128061, \"EndTime\": 1727127450.562259, \"Dimensions\": {\"Algorithm\": \"Linear Learner\", \"Host\": \"algo-1\", \"Operation\": \"training\"}, \"Metrics\": {\"initialize.time\": {\"sum\": 233.75654220581055, \"count\": 1, \"min\": 233.75654220581055, \"max\": 233.75654220581055}, \"epochs\": {\"sum\": 15.0, \"count\": 1, \"min\": 15, \"max\": 15}, \"check_early_stopping.time\": {\"sum\": 1.57928466796875, \"count\": 6, \"min\": 0.1323223114013672, \"max\": 0.5862712860107422}, \"update.time\": {\"sum\": 160262.6633644104, \"count\": 5, \"min\": 31614.564180374146, \"max\": 32383.591413497925}, \"finalize.time\": {\"sum\": 3430.0482273101807, \"count\": 1, \"min\": 3430.0482273101807, \"max\": 3430.0482273101807}, \"setuptime\": {\"sum\": 1.9745826721191406, \"count\": 1, \"min\": 1.9745826721191406, \"max\": 1.9745826721191406}, \"totaltime\": {\"sum\": 164850.13055801392, \"count\": 1, \"min\": 164850.13055801392, \"max\": 164850.13055801392}}}\u001b[0m\n",
      "\n",
      "2024-09-23 21:37:49 Uploading - Uploading generated training model\n",
      "2024-09-23 21:37:49 Completed - Training job completed\n",
      "Training seconds: 315\n",
      "Billable seconds: 315\n"
     ]
    }
   ],
   "source": [
    "classifier_estimator2.fit([train_records, val_records , test_records])"
   ]
  },
  {
   "cell_type": "code",
   "execution_count": 94,
   "metadata": {
    "tags": []
   },
   "outputs": [
    {
     "name": "stderr",
     "output_type": "stream",
     "text": [
      "INFO:sagemaker.image_uris:Same images used for training and inference. Defaulting to image scope: inference.\n",
      "INFO:sagemaker.image_uris:Ignoring unnecessary instance type: None.\n",
      "INFO:sagemaker:Creating model with name: linear-learner-2024-09-23-21-38-38-141\n",
      "INFO:sagemaker:Creating transform job with name: linear-learner-2024-09-23-21-38-38-834\n"
     ]
    },
    {
     "name": "stdout",
     "output_type": "stream",
     "text": [
      "..........................................\n",
      "\u001b[34mDocker entrypoint called with argument(s): serve\u001b[0m\n",
      "\u001b[34mRunning default environment configuration script\u001b[0m\n",
      "\u001b[34m[09/23/2024 21:45:42 INFO 140023660365632] Memory profiler is not enabled by the environment variable ENABLE_PROFILER.\u001b[0m\n",
      "\u001b[34m/opt/amazon/lib/python3.8/site-packages/mxnet/model.py:97: SyntaxWarning: \"is\" with a literal. Did you mean \"==\"?\n",
      "  if num_device is 1 and 'dist' not in kvstore:\u001b[0m\n",
      "\u001b[34m/opt/amazon/lib/python3.8/site-packages/scipy/optimize/_shgo.py:495: SyntaxWarning: \"is\" with a literal. Did you mean \"==\"?\n",
      "  if cons['type'] is 'ineq':\u001b[0m\n",
      "\u001b[34m/opt/amazon/lib/python3.8/site-packages/scipy/optimize/_shgo.py:743: SyntaxWarning: \"is not\" with a literal. Did you mean \"!=\"?\n",
      "  if len(self.X_min) is not 0:\u001b[0m\n",
      "\u001b[34m[09/23/2024 21:45:46 WARNING 140023660365632] Loggers have already been setup.\u001b[0m\n",
      "\u001b[34m[09/23/2024 21:45:46 INFO 140023660365632] loaded entry point class algorithm.serve.server_config:config_api\u001b[0m\n",
      "\u001b[34m[09/23/2024 21:45:46 INFO 140023660365632] loading entry points\u001b[0m\n",
      "\u001b[34m[09/23/2024 21:45:46 INFO 140023660365632] loaded request iterator application/json\u001b[0m\n",
      "\u001b[34m[09/23/2024 21:45:46 INFO 140023660365632] loaded request iterator application/jsonlines\u001b[0m\n",
      "\u001b[34m[09/23/2024 21:45:46 INFO 140023660365632] loaded request iterator application/x-recordio-protobuf\u001b[0m\n",
      "\u001b[34m[09/23/2024 21:45:46 INFO 140023660365632] loaded request iterator text/csv\u001b[0m\n",
      "\u001b[34m[09/23/2024 21:45:46 INFO 140023660365632] loaded response encoder application/json\u001b[0m\n",
      "\u001b[34m[09/23/2024 21:45:46 INFO 140023660365632] loaded response encoder application/jsonlines\u001b[0m\n",
      "\u001b[34m[09/23/2024 21:45:46 INFO 140023660365632] loaded response encoder application/x-recordio-protobuf\u001b[0m\n",
      "\u001b[34m[09/23/2024 21:45:46 INFO 140023660365632] loaded response encoder text/csv\u001b[0m\n",
      "\u001b[34m[09/23/2024 21:45:46 INFO 140023660365632] loaded entry point class algorithm:model\u001b[0m\n",
      "\u001b[34m[09/23/2024 21:45:46 INFO 140023660365632] Number of server workers: 4\u001b[0m\n",
      "\u001b[34m[09/23/2024 21:45:46 INFO 140023660365632] loading model...\u001b[0m\n",
      "\u001b[34m[09/23/2024 21:45:46 INFO 140023660365632] ...model loaded.\u001b[0m\n",
      "\u001b[34m[2024-09-23 21:45:46 +0000] [1] [INFO] Starting gunicorn 20.1.0\u001b[0m\n",
      "\u001b[35m[09/23/2024 21:45:46 INFO 140023660365632] loaded entry point class algorithm:model\u001b[0m\n",
      "\u001b[35m[09/23/2024 21:45:46 INFO 140023660365632] Number of server workers: 4\u001b[0m\n",
      "\u001b[35m[09/23/2024 21:45:46 INFO 140023660365632] loading model...\u001b[0m\n",
      "\u001b[35m[09/23/2024 21:45:46 INFO 140023660365632] ...model loaded.\u001b[0m\n",
      "\u001b[35m[2024-09-23 21:45:46 +0000] [1] [INFO] Starting gunicorn 20.1.0\u001b[0m\n",
      "\u001b[34m[2024-09-23 21:45:46 +0000] [1] [INFO] Listening at: http://0.0.0.0:8080 (1)\u001b[0m\n",
      "\u001b[34m[2024-09-23 21:45:46 +0000] [1] [INFO] Using worker: sync\u001b[0m\n",
      "\u001b[34m[2024-09-23 21:45:46 +0000] [43] [INFO] Booting worker with pid: 43\u001b[0m\n",
      "\u001b[34m[2024-09-23 21:45:46 +0000] [52] [INFO] Booting worker with pid: 52\u001b[0m\n",
      "\u001b[34m[2024-09-23 21:45:46 +0000] [61] [INFO] Booting worker with pid: 61\u001b[0m\n",
      "\u001b[34m[2024-09-23 21:45:46 +0000] [70] [INFO] Booting worker with pid: 70\u001b[0m\n",
      "\u001b[34m#metrics {\"StartTime\": 1727127946.3691745, \"EndTime\": 1727127946.8673465, \"Dimensions\": {\"Algorithm\": \"LinearLearnerModel\", \"Host\": \"UNKNOWN\", \"Operation\": \"scoring\"}, \"Metrics\": {\"execution_parameters.count\": {\"sum\": 1.0, \"count\": 1, \"min\": 1, \"max\": 1}}}\u001b[0m\n",
      "\u001b[35m[2024-09-23 21:45:46 +0000] [1] [INFO] Listening at: http://0.0.0.0:8080 (1)\u001b[0m\n",
      "\u001b[35m[2024-09-23 21:45:46 +0000] [1] [INFO] Using worker: sync\u001b[0m\n",
      "\u001b[35m[2024-09-23 21:45:46 +0000] [43] [INFO] Booting worker with pid: 43\u001b[0m\n",
      "\u001b[35m[2024-09-23 21:45:46 +0000] [52] [INFO] Booting worker with pid: 52\u001b[0m\n",
      "\u001b[35m[2024-09-23 21:45:46 +0000] [61] [INFO] Booting worker with pid: 61\u001b[0m\n",
      "\u001b[35m[2024-09-23 21:45:46 +0000] [70] [INFO] Booting worker with pid: 70\u001b[0m\n",
      "\u001b[35m#metrics {\"StartTime\": 1727127946.3691745, \"EndTime\": 1727127946.8673465, \"Dimensions\": {\"Algorithm\": \"LinearLearnerModel\", \"Host\": \"UNKNOWN\", \"Operation\": \"scoring\"}, \"Metrics\": {\"execution_parameters.count\": {\"sum\": 1.0, \"count\": 1, \"min\": 1, \"max\": 1}}}\u001b[0m\n",
      "\u001b[32m2024-09-23T21:45:46.875:[sagemaker logs]: MaxConcurrentTransforms=4, MaxPayloadInMB=6, BatchStrategy=MULTI_RECORD\u001b[0m\n",
      "\u001b[34m#metrics {\"StartTime\": 1727127946.8674712, \"EndTime\": 1727127949.387931, \"Dimensions\": {\"Algorithm\": \"LinearLearnerModel\", \"Host\": \"UNKNOWN\", \"Operation\": \"scoring\"}, \"Metrics\": {\"json.encoder.time\": {\"sum\": 81.54702186584473, \"count\": 1, \"min\": 81.54702186584473, \"max\": 81.54702186584473}, \"invocations.count\": {\"sum\": 1.0, \"count\": 1, \"min\": 1, \"max\": 1}}}\u001b[0m\n",
      "\u001b[34m#metrics {\"StartTime\": 1727127946.3691745, \"EndTime\": 1727127949.4950147, \"Dimensions\": {\"Algorithm\": \"LinearLearnerModel\", \"Host\": \"UNKNOWN\", \"Operation\": \"scoring\"}, \"Metrics\": {\"json.encoder.time\": {\"sum\": 102.2186279296875, \"count\": 1, \"min\": 102.2186279296875, \"max\": 102.2186279296875}, \"invocations.count\": {\"sum\": 1.0, \"count\": 1, \"min\": 1, \"max\": 1}}}\u001b[0m\n",
      "\u001b[34m#metrics {\"StartTime\": 1727127946.3691745, \"EndTime\": 1727127949.6283872, \"Dimensions\": {\"Algorithm\": \"LinearLearnerModel\", \"Host\": \"UNKNOWN\", \"Operation\": \"scoring\"}, \"Metrics\": {\"json.encoder.time\": {\"sum\": 112.02549934387207, \"count\": 1, \"min\": 112.02549934387207, \"max\": 112.02549934387207}, \"invocations.count\": {\"sum\": 1.0, \"count\": 1, \"min\": 1, \"max\": 1}}}\u001b[0m\n",
      "\u001b[34m#metrics {\"StartTime\": 1727127946.3691745, \"EndTime\": 1727127949.6799731, \"Dimensions\": {\"Algorithm\": \"LinearLearnerModel\", \"Host\": \"UNKNOWN\", \"Operation\": \"scoring\"}, \"Metrics\": {\"json.encoder.time\": {\"sum\": 116.63961410522461, \"count\": 1, \"min\": 116.63961410522461, \"max\": 116.63961410522461}, \"invocations.count\": {\"sum\": 1.0, \"count\": 1, \"min\": 1, \"max\": 1}}}\u001b[0m\n",
      "\u001b[34m#metrics {\"StartTime\": 1727127949.4951444, \"EndTime\": 1727127950.168062, \"Dimensions\": {\"Algorithm\": \"LinearLearnerModel\", \"Host\": \"UNKNOWN\", \"Operation\": \"scoring\"}, \"Metrics\": {\"json.encoder.time\": {\"sum\": 51.67961120605469, \"count\": 1, \"min\": 51.67961120605469, \"max\": 51.67961120605469}, \"invocations.count\": {\"sum\": 1.0, \"count\": 1, \"min\": 1, \"max\": 1}}}\u001b[0m\n",
      "\u001b[35m#metrics {\"StartTime\": 1727127946.8674712, \"EndTime\": 1727127949.387931, \"Dimensions\": {\"Algorithm\": \"LinearLearnerModel\", \"Host\": \"UNKNOWN\", \"Operation\": \"scoring\"}, \"Metrics\": {\"json.encoder.time\": {\"sum\": 81.54702186584473, \"count\": 1, \"min\": 81.54702186584473, \"max\": 81.54702186584473}, \"invocations.count\": {\"sum\": 1.0, \"count\": 1, \"min\": 1, \"max\": 1}}}\u001b[0m\n",
      "\u001b[35m#metrics {\"StartTime\": 1727127946.3691745, \"EndTime\": 1727127949.4950147, \"Dimensions\": {\"Algorithm\": \"LinearLearnerModel\", \"Host\": \"UNKNOWN\", \"Operation\": \"scoring\"}, \"Metrics\": {\"json.encoder.time\": {\"sum\": 102.2186279296875, \"count\": 1, \"min\": 102.2186279296875, \"max\": 102.2186279296875}, \"invocations.count\": {\"sum\": 1.0, \"count\": 1, \"min\": 1, \"max\": 1}}}\u001b[0m\n",
      "\u001b[35m#metrics {\"StartTime\": 1727127946.3691745, \"EndTime\": 1727127949.6283872, \"Dimensions\": {\"Algorithm\": \"LinearLearnerModel\", \"Host\": \"UNKNOWN\", \"Operation\": \"scoring\"}, \"Metrics\": {\"json.encoder.time\": {\"sum\": 112.02549934387207, \"count\": 1, \"min\": 112.02549934387207, \"max\": 112.02549934387207}, \"invocations.count\": {\"sum\": 1.0, \"count\": 1, \"min\": 1, \"max\": 1}}}\u001b[0m\n",
      "\u001b[35m#metrics {\"StartTime\": 1727127946.3691745, \"EndTime\": 1727127949.6799731, \"Dimensions\": {\"Algorithm\": \"LinearLearnerModel\", \"Host\": \"UNKNOWN\", \"Operation\": \"scoring\"}, \"Metrics\": {\"json.encoder.time\": {\"sum\": 116.63961410522461, \"count\": 1, \"min\": 116.63961410522461, \"max\": 116.63961410522461}, \"invocations.count\": {\"sum\": 1.0, \"count\": 1, \"min\": 1, \"max\": 1}}}\u001b[0m\n",
      "\u001b[35m#metrics {\"StartTime\": 1727127949.4951444, \"EndTime\": 1727127950.168062, \"Dimensions\": {\"Algorithm\": \"LinearLearnerModel\", \"Host\": \"UNKNOWN\", \"Operation\": \"scoring\"}, \"Metrics\": {\"json.encoder.time\": {\"sum\": 51.67961120605469, \"count\": 1, \"min\": 51.67961120605469, \"max\": 51.67961120605469}, \"invocations.count\": {\"sum\": 1.0, \"count\": 1, \"min\": 1, \"max\": 1}}}\u001b[0m\n",
      "\u001b[34mDocker entrypoint called with argument(s): serve\u001b[0m\n",
      "\u001b[34mRunning default environment configuration script\u001b[0m\n",
      "\u001b[35mDocker entrypoint called with argument(s): serve\u001b[0m\n",
      "\u001b[35mRunning default environment configuration script\u001b[0m\n",
      "\u001b[34m[09/23/2024 21:45:42 INFO 140023660365632] Memory profiler is not enabled by the environment variable ENABLE_PROFILER.\u001b[0m\n",
      "\u001b[35m[09/23/2024 21:45:42 INFO 140023660365632] Memory profiler is not enabled by the environment variable ENABLE_PROFILER.\u001b[0m\n",
      "\u001b[34m/opt/amazon/lib/python3.8/site-packages/mxnet/model.py:97: SyntaxWarning: \"is\" with a literal. Did you mean \"==\"?\n",
      "  if num_device is 1 and 'dist' not in kvstore:\u001b[0m\n",
      "\u001b[34m/opt/amazon/lib/python3.8/site-packages/scipy/optimize/_shgo.py:495: SyntaxWarning: \"is\" with a literal. Did you mean \"==\"?\n",
      "  if cons['type'] is 'ineq':\u001b[0m\n",
      "\u001b[34m/opt/amazon/lib/python3.8/site-packages/scipy/optimize/_shgo.py:743: SyntaxWarning: \"is not\" with a literal. Did you mean \"!=\"?\n",
      "  if len(self.X_min) is not 0:\u001b[0m\n",
      "\u001b[35m/opt/amazon/lib/python3.8/site-packages/mxnet/model.py:97: SyntaxWarning: \"is\" with a literal. Did you mean \"==\"?\n",
      "  if num_device is 1 and 'dist' not in kvstore:\u001b[0m\n",
      "\u001b[35m/opt/amazon/lib/python3.8/site-packages/scipy/optimize/_shgo.py:495: SyntaxWarning: \"is\" with a literal. Did you mean \"==\"?\n",
      "  if cons['type'] is 'ineq':\u001b[0m\n",
      "\u001b[35m/opt/amazon/lib/python3.8/site-packages/scipy/optimize/_shgo.py:743: SyntaxWarning: \"is not\" with a literal. Did you mean \"!=\"?\n",
      "  if len(self.X_min) is not 0:\u001b[0m\n",
      "\u001b[34m[09/23/2024 21:45:46 WARNING 140023660365632] Loggers have already been setup.\u001b[0m\n",
      "\u001b[34m[09/23/2024 21:45:46 INFO 140023660365632] loaded entry point class algorithm.serve.server_config:config_api\u001b[0m\n",
      "\u001b[34m[09/23/2024 21:45:46 INFO 140023660365632] loading entry points\u001b[0m\n",
      "\u001b[34m[09/23/2024 21:45:46 INFO 140023660365632] loaded request iterator application/json\u001b[0m\n",
      "\u001b[34m[09/23/2024 21:45:46 INFO 140023660365632] loaded request iterator application/jsonlines\u001b[0m\n",
      "\u001b[34m[09/23/2024 21:45:46 INFO 140023660365632] loaded request iterator application/x-recordio-protobuf\u001b[0m\n",
      "\u001b[34m[09/23/2024 21:45:46 INFO 140023660365632] loaded request iterator text/csv\u001b[0m\n",
      "\u001b[34m[09/23/2024 21:45:46 INFO 140023660365632] loaded response encoder application/json\u001b[0m\n",
      "\u001b[34m[09/23/2024 21:45:46 INFO 140023660365632] loaded response encoder application/jsonlines\u001b[0m\n",
      "\u001b[34m[09/23/2024 21:45:46 INFO 140023660365632] loaded response encoder application/x-recordio-protobuf\u001b[0m\n",
      "\u001b[34m[09/23/2024 21:45:46 INFO 140023660365632] loaded response encoder text/csv\u001b[0m\n",
      "\u001b[35m[09/23/2024 21:45:46 WARNING 140023660365632] Loggers have already been setup.\u001b[0m\n",
      "\u001b[35m[09/23/2024 21:45:46 INFO 140023660365632] loaded entry point class algorithm.serve.server_config:config_api\u001b[0m\n",
      "\u001b[35m[09/23/2024 21:45:46 INFO 140023660365632] loading entry points\u001b[0m\n",
      "\u001b[35m[09/23/2024 21:45:46 INFO 140023660365632] loaded request iterator application/json\u001b[0m\n",
      "\u001b[35m[09/23/2024 21:45:46 INFO 140023660365632] loaded request iterator application/jsonlines\u001b[0m\n",
      "\u001b[35m[09/23/2024 21:45:46 INFO 140023660365632] loaded request iterator application/x-recordio-protobuf\u001b[0m\n",
      "\u001b[35m[09/23/2024 21:45:46 INFO 140023660365632] loaded request iterator text/csv\u001b[0m\n",
      "\u001b[35m[09/23/2024 21:45:46 INFO 140023660365632] loaded response encoder application/json\u001b[0m\n",
      "\u001b[35m[09/23/2024 21:45:46 INFO 140023660365632] loaded response encoder application/jsonlines\u001b[0m\n",
      "\u001b[35m[09/23/2024 21:45:46 INFO 140023660365632] loaded response encoder application/x-recordio-protobuf\u001b[0m\n",
      "\u001b[35m[09/23/2024 21:45:46 INFO 140023660365632] loaded response encoder text/csv\u001b[0m\n",
      "\u001b[34m[09/23/2024 21:45:46 INFO 140023660365632] loaded entry point class algorithm:model\u001b[0m\n",
      "\u001b[34m[09/23/2024 21:45:46 INFO 140023660365632] Number of server workers: 4\u001b[0m\n",
      "\u001b[34m[09/23/2024 21:45:46 INFO 140023660365632] loading model...\u001b[0m\n",
      "\u001b[34m[09/23/2024 21:45:46 INFO 140023660365632] ...model loaded.\u001b[0m\n",
      "\u001b[34m[2024-09-23 21:45:46 +0000] [1] [INFO] Starting gunicorn 20.1.0\u001b[0m\n",
      "\u001b[35m[09/23/2024 21:45:46 INFO 140023660365632] loaded entry point class algorithm:model\u001b[0m\n",
      "\u001b[35m[09/23/2024 21:45:46 INFO 140023660365632] Number of server workers: 4\u001b[0m\n",
      "\u001b[35m[09/23/2024 21:45:46 INFO 140023660365632] loading model...\u001b[0m\n",
      "\u001b[35m[09/23/2024 21:45:46 INFO 140023660365632] ...model loaded.\u001b[0m\n",
      "\u001b[35m[2024-09-23 21:45:46 +0000] [1] [INFO] Starting gunicorn 20.1.0\u001b[0m\n",
      "\u001b[34m[2024-09-23 21:45:46 +0000] [1] [INFO] Listening at: http://0.0.0.0:8080 (1)\u001b[0m\n",
      "\u001b[34m[2024-09-23 21:45:46 +0000] [1] [INFO] Using worker: sync\u001b[0m\n",
      "\u001b[34m[2024-09-23 21:45:46 +0000] [43] [INFO] Booting worker with pid: 43\u001b[0m\n",
      "\u001b[34m[2024-09-23 21:45:46 +0000] [52] [INFO] Booting worker with pid: 52\u001b[0m\n",
      "\u001b[34m[2024-09-23 21:45:46 +0000] [61] [INFO] Booting worker with pid: 61\u001b[0m\n",
      "\u001b[34m[2024-09-23 21:45:46 +0000] [70] [INFO] Booting worker with pid: 70\u001b[0m\n",
      "\u001b[34m#metrics {\"StartTime\": 1727127946.3691745, \"EndTime\": 1727127946.8673465, \"Dimensions\": {\"Algorithm\": \"LinearLearnerModel\", \"Host\": \"UNKNOWN\", \"Operation\": \"scoring\"}, \"Metrics\": {\"execution_parameters.count\": {\"sum\": 1.0, \"count\": 1, \"min\": 1, \"max\": 1}}}\u001b[0m\n",
      "\u001b[35m[2024-09-23 21:45:46 +0000] [1] [INFO] Listening at: http://0.0.0.0:8080 (1)\u001b[0m\n",
      "\u001b[35m[2024-09-23 21:45:46 +0000] [1] [INFO] Using worker: sync\u001b[0m\n",
      "\u001b[35m[2024-09-23 21:45:46 +0000] [43] [INFO] Booting worker with pid: 43\u001b[0m\n",
      "\u001b[35m[2024-09-23 21:45:46 +0000] [52] [INFO] Booting worker with pid: 52\u001b[0m\n",
      "\u001b[35m[2024-09-23 21:45:46 +0000] [61] [INFO] Booting worker with pid: 61\u001b[0m\n",
      "\u001b[35m[2024-09-23 21:45:46 +0000] [70] [INFO] Booting worker with pid: 70\u001b[0m\n",
      "\u001b[35m#metrics {\"StartTime\": 1727127946.3691745, \"EndTime\": 1727127946.8673465, \"Dimensions\": {\"Algorithm\": \"LinearLearnerModel\", \"Host\": \"UNKNOWN\", \"Operation\": \"scoring\"}, \"Metrics\": {\"execution_parameters.count\": {\"sum\": 1.0, \"count\": 1, \"min\": 1, \"max\": 1}}}\u001b[0m\n",
      "\u001b[32m2024-09-23T21:45:46.875:[sagemaker logs]: MaxConcurrentTransforms=4, MaxPayloadInMB=6, BatchStrategy=MULTI_RECORD\u001b[0m\n",
      "\u001b[34m#metrics {\"StartTime\": 1727127946.8674712, \"EndTime\": 1727127949.387931, \"Dimensions\": {\"Algorithm\": \"LinearLearnerModel\", \"Host\": \"UNKNOWN\", \"Operation\": \"scoring\"}, \"Metrics\": {\"json.encoder.time\": {\"sum\": 81.54702186584473, \"count\": 1, \"min\": 81.54702186584473, \"max\": 81.54702186584473}, \"invocations.count\": {\"sum\": 1.0, \"count\": 1, \"min\": 1, \"max\": 1}}}\u001b[0m\n",
      "\u001b[34m#metrics {\"StartTime\": 1727127946.3691745, \"EndTime\": 1727127949.4950147, \"Dimensions\": {\"Algorithm\": \"LinearLearnerModel\", \"Host\": \"UNKNOWN\", \"Operation\": \"scoring\"}, \"Metrics\": {\"json.encoder.time\": {\"sum\": 102.2186279296875, \"count\": 1, \"min\": 102.2186279296875, \"max\": 102.2186279296875}, \"invocations.count\": {\"sum\": 1.0, \"count\": 1, \"min\": 1, \"max\": 1}}}\u001b[0m\n",
      "\u001b[34m#metrics {\"StartTime\": 1727127946.3691745, \"EndTime\": 1727127949.6283872, \"Dimensions\": {\"Algorithm\": \"LinearLearnerModel\", \"Host\": \"UNKNOWN\", \"Operation\": \"scoring\"}, \"Metrics\": {\"json.encoder.time\": {\"sum\": 112.02549934387207, \"count\": 1, \"min\": 112.02549934387207, \"max\": 112.02549934387207}, \"invocations.count\": {\"sum\": 1.0, \"count\": 1, \"min\": 1, \"max\": 1}}}\u001b[0m\n",
      "\u001b[34m#metrics {\"StartTime\": 1727127946.3691745, \"EndTime\": 1727127949.6799731, \"Dimensions\": {\"Algorithm\": \"LinearLearnerModel\", \"Host\": \"UNKNOWN\", \"Operation\": \"scoring\"}, \"Metrics\": {\"json.encoder.time\": {\"sum\": 116.63961410522461, \"count\": 1, \"min\": 116.63961410522461, \"max\": 116.63961410522461}, \"invocations.count\": {\"sum\": 1.0, \"count\": 1, \"min\": 1, \"max\": 1}}}\u001b[0m\n",
      "\u001b[34m#metrics {\"StartTime\": 1727127949.4951444, \"EndTime\": 1727127950.168062, \"Dimensions\": {\"Algorithm\": \"LinearLearnerModel\", \"Host\": \"UNKNOWN\", \"Operation\": \"scoring\"}, \"Metrics\": {\"json.encoder.time\": {\"sum\": 51.67961120605469, \"count\": 1, \"min\": 51.67961120605469, \"max\": 51.67961120605469}, \"invocations.count\": {\"sum\": 1.0, \"count\": 1, \"min\": 1, \"max\": 1}}}\u001b[0m\n",
      "\u001b[35m#metrics {\"StartTime\": 1727127946.8674712, \"EndTime\": 1727127949.387931, \"Dimensions\": {\"Algorithm\": \"LinearLearnerModel\", \"Host\": \"UNKNOWN\", \"Operation\": \"scoring\"}, \"Metrics\": {\"json.encoder.time\": {\"sum\": 81.54702186584473, \"count\": 1, \"min\": 81.54702186584473, \"max\": 81.54702186584473}, \"invocations.count\": {\"sum\": 1.0, \"count\": 1, \"min\": 1, \"max\": 1}}}\u001b[0m\n",
      "\u001b[35m#metrics {\"StartTime\": 1727127946.3691745, \"EndTime\": 1727127949.4950147, \"Dimensions\": {\"Algorithm\": \"LinearLearnerModel\", \"Host\": \"UNKNOWN\", \"Operation\": \"scoring\"}, \"Metrics\": {\"json.encoder.time\": {\"sum\": 102.2186279296875, \"count\": 1, \"min\": 102.2186279296875, \"max\": 102.2186279296875}, \"invocations.count\": {\"sum\": 1.0, \"count\": 1, \"min\": 1, \"max\": 1}}}\u001b[0m\n",
      "\u001b[35m#metrics {\"StartTime\": 1727127946.3691745, \"EndTime\": 1727127949.6283872, \"Dimensions\": {\"Algorithm\": \"LinearLearnerModel\", \"Host\": \"UNKNOWN\", \"Operation\": \"scoring\"}, \"Metrics\": {\"json.encoder.time\": {\"sum\": 112.02549934387207, \"count\": 1, \"min\": 112.02549934387207, \"max\": 112.02549934387207}, \"invocations.count\": {\"sum\": 1.0, \"count\": 1, \"min\": 1, \"max\": 1}}}\u001b[0m\n",
      "\u001b[35m#metrics {\"StartTime\": 1727127946.3691745, \"EndTime\": 1727127949.6799731, \"Dimensions\": {\"Algorithm\": \"LinearLearnerModel\", \"Host\": \"UNKNOWN\", \"Operation\": \"scoring\"}, \"Metrics\": {\"json.encoder.time\": {\"sum\": 116.63961410522461, \"count\": 1, \"min\": 116.63961410522461, \"max\": 116.63961410522461}, \"invocations.count\": {\"sum\": 1.0, \"count\": 1, \"min\": 1, \"max\": 1}}}\u001b[0m\n",
      "\u001b[35m#metrics {\"StartTime\": 1727127949.4951444, \"EndTime\": 1727127950.168062, \"Dimensions\": {\"Algorithm\": \"LinearLearnerModel\", \"Host\": \"UNKNOWN\", \"Operation\": \"scoring\"}, \"Metrics\": {\"json.encoder.time\": {\"sum\": 51.67961120605469, \"count\": 1, \"min\": 51.67961120605469, \"max\": 51.67961120605469}, \"invocations.count\": {\"sum\": 1.0, \"count\": 1, \"min\": 1, \"max\": 1}}}\u001b[0m\n"
     ]
    }
   ],
   "source": [
    "test_labels, target_predicted = batch_linear_predict(test, classifier_estimator2)\n"
   ]
  },
  {
   "cell_type": "markdown",
   "metadata": {},
   "source": [
    "Perform a batch prediction by using the newly trained model."
   ]
  },
  {
   "cell_type": "markdown",
   "metadata": {},
   "source": [
    "Plot a confusion matrix."
   ]
  },
  {
   "cell_type": "code",
   "execution_count": 95,
   "metadata": {
    "tags": []
   },
   "outputs": [
    {
     "data": {
      "image/png": "[encoded data removed]",
      "text/plain": [
       "<Figure size 640x480 with 1 Axes>"
      ]
     },
     "metadata": {},
     "output_type": "display_data"
    }
   ],
   "source": [
    "plot_confusion_matrix(test_labels , target_predicted)\n"
   ]
  },
  {
   "cell_type": "markdown",
   "metadata": {},
   "source": [
    "The linear model shows only a little improvement in performance. Try a tree-based ensemble model, which is called *XGBoost*, with Amazon SageMaker."
   ]
  },
  {
   "cell_type": "markdown",
   "metadata": {},
   "source": [
    "### Try the XGBoost model"
   ]
  },
  {
   "cell_type": "markdown",
   "metadata": {},
   "source": [
    "Perform these steps:  \n",
    "\n",
    "1. Use the training set variables and save them as CSV files: train.csv, validation.csv and test.csv.\n",
    "2. Store the bucket name in the variable. The Amazon S3 bucket name is provided to the left of the lab instructions.  \n",
    "a. `bucket = <LabBucketName>`  \n",
    "b. `prefix = 'flight-xgb'`  \n",
    "3. Use the AWS SDK for Python (Boto3) to upload the model to the bucket.    "
   ]
  },
  {
   "cell_type": "code",
   "execution_count": 96,
   "metadata": {
    "tags": []
   },
   "outputs": [
    {
     "name": "stderr",
     "output_type": "stream",
     "text": [
      "INFO:botocore.credentials:Found credentials from IAM Role: BaseNotebookInstanceEc2InstanceRole\n"
     ]
    }
   ],
   "source": [
    "bucket='c127809a3228874l7679933t1w58194961802-flightbucket-9zu9vqeqyvy3'\n",
    "prefix='flight-xgb'\n",
    "train_file='flight_train.csv'\n",
    "test_file='flight_test.csv'\n",
    "validate_file='flight_validate.csv'\n",
    "whole_file='flight.csv'\n",
    "s3_resource = boto3.Session().resource('s3')\n",
    "\n",
    "def upload_s3_csv(filename, folder, dataframe):\n",
    "    csv_buffer = io.StringIO()\n",
    "    dataframe.to_csv(csv_buffer, header=False, index=False )\n",
    "    s3_resource.Bucket(bucket).Object(os.path.join(prefix, folder, filename)).put(Body=csv_buffer.getvalue())\n",
    "\n",
    "upload_s3_csv(train_file, 'train', train)\n",
    "upload_s3_csv(test_file, 'test', test)\n",
    "upload_s3_csv(validate_file, 'validate', validate)"
   ]
  },
  {
   "cell_type": "markdown",
   "metadata": {},
   "source": [
    "Use the `sagemaker.inputs.TrainingInput` function to create a `record_set` for the training and validation datasets."
   ]
  },
  {
   "cell_type": "code",
   "execution_count": 97,
   "metadata": {
    "tags": []
   },
   "outputs": [],
   "source": [
    "train_channel = sagemaker.inputs.TrainingInput(\n",
    "    \"s3://{}/{}/train/\".format(bucket,prefix,train_file),\n",
    "    content_type='text/csv')\n",
    "\n",
    "validate_channel = sagemaker.inputs.TrainingInput(\n",
    "    \"s3://{}/{}/validate/\".format(bucket,prefix,validate_file),\n",
    "    content_type='text/csv')\n",
    "\n",
    "data_channels = {'train': train_channel, 'validation': validate_channel}"
   ]
  },
  {
   "cell_type": "code",
   "execution_count": 98,
   "metadata": {
    "tags": []
   },
   "outputs": [
    {
     "name": "stderr",
     "output_type": "stream",
     "text": [
      "INFO:sagemaker.image_uris:Defaulting to only available Python version: py3\n",
      "INFO:sagemaker.image_uris:Defaulting to only supported image scope: cpu.\n"
     ]
    }
   ],
   "source": [
    "from sagemaker.image_uris import retrieve\n",
    "container = retrieve('xgboost',boto3.Session().region_name,'1.0-1')"
   ]
  },
  {
   "cell_type": "code",
   "execution_count": 99,
   "metadata": {
    "tags": []
   },
   "outputs": [
    {
     "name": "stderr",
     "output_type": "stream",
     "text": [
      "INFO:sagemaker:Creating training-job with name: sagemaker-xgboost-2024-09-23-21-47-44-820\n"
     ]
    },
    {
     "name": "stdout",
     "output_type": "stream",
     "text": [
      "2024-09-23 21:47:46 Starting - Starting the training job...\n",
      "2024-09-23 21:48:20 Starting - Preparing the instances for training.........\n",
      "2024-09-23 21:49:43 Downloading - Downloading input data......\n",
      "2024-09-23 21:50:28 Downloading - Downloading the training image.....\u001b[34m[2024-09-23 21:51:29.955 ip-10-2-152-201.ec2.internal:7 INFO utils.py:27] RULE_JOB_STOP_SIGNAL_FILENAME: None\u001b[0m\n",
      "\u001b[34mINFO:sagemaker-containers:Imported framework sagemaker_xgboost_container.training\u001b[0m\n",
      "\u001b[34mINFO:sagemaker-containers:Failed to parse hyperparameter eval_metric value auc to Json.\u001b[0m\n",
      "\u001b[34mReturning the value itself\u001b[0m\n",
      "\u001b[34mINFO:sagemaker-containers:Failed to parse hyperparameter objective value binary:logistic to Json.\u001b[0m\n",
      "\u001b[34mReturning the value itself\u001b[0m\n",
      "\u001b[34mINFO:sagemaker-containers:No GPUs detected (normal if no gpus installed)\u001b[0m\n",
      "\u001b[34mINFO:sagemaker_xgboost_container.training:Running XGBoost Sagemaker in algorithm mode\u001b[0m\n",
      "\u001b[34mINFO:root:Determined delimiter of CSV input is ','\u001b[0m\n",
      "\u001b[34mINFO:root:Determined delimiter of CSV input is ','\u001b[0m\n",
      "\u001b[34mINFO:root:Determined delimiter of CSV input is ','\u001b[0m\n",
      "\n",
      "2024-09-23 21:51:24 Training - Training image download completed. Training in progress.\u001b[34mINFO:root:Determined delimiter of CSV input is ','\u001b[0m\n",
      "\u001b[34mINFO:root:Single node training.\u001b[0m\n",
      "\u001b[34m[21:51:35] 1308472x84 matrix with 109911648 entries loaded from /opt/ml/input/data/train?format=csv&label_column=0&delimiter=,\u001b[0m\n",
      "\u001b[34m[21:51:35] 163559x84 matrix with 13738956 entries loaded from /opt/ml/input/data/validation?format=csv&label_column=0&delimiter=,\u001b[0m\n",
      "\u001b[34m[2024-09-23 21:51:35.875 ip-10-2-152-201.ec2.internal:7 INFO json_config.py:91] Creating hook from json_config at /opt/ml/input/config/debughookconfig.json.\u001b[0m\n",
      "\u001b[34m[2024-09-23 21:51:35.876 ip-10-2-152-201.ec2.internal:7 INFO hook.py:201] tensorboard_dir has not been set for the hook. SMDebug will not be exporting tensorboard summaries.\u001b[0m\n",
      "\u001b[34m[2024-09-23 21:51:35.876 ip-10-2-152-201.ec2.internal:7 INFO profiler_config_parser.py:102] User has disabled profiler.\u001b[0m\n",
      "\u001b[34m[2024-09-23 21:51:35.877 ip-10-2-152-201.ec2.internal:7 INFO hook.py:255] Saving to /opt/ml/output/tensors\u001b[0m\n",
      "\u001b[34m[2024-09-23 21:51:35.877 ip-10-2-152-201.ec2.internal:7 INFO state_store.py:77] The checkpoint config file /opt/ml/input/config/checkpointconfig.json does not exist.\u001b[0m\n",
      "\u001b[34mINFO:root:Debug hook created from config\u001b[0m\n",
      "\u001b[34mINFO:root:Train matrix has 1308472 rows\u001b[0m\n",
      "\u001b[34mINFO:root:Validation matrix has 163559 rows\u001b[0m\n",
      "\u001b[34m[0]#011train-auc:0.65414#011validation-auc:0.65381\u001b[0m\n",
      "\u001b[34m[2024-09-23 21:51:41.313 ip-10-2-152-201.ec2.internal:7 INFO hook.py:423] Monitoring the collections: metrics\u001b[0m\n",
      "\u001b[34m[2024-09-23 21:51:41.315 ip-10-2-152-201.ec2.internal:7 INFO hook.py:486] Hook is writing from the hook with pid: 7\u001b[0m\n",
      "\u001b[34m[1]#011train-auc:0.66689#011validation-auc:0.66627\u001b[0m\n",
      "\u001b[34m[2]#011train-auc:0.66906#011validation-auc:0.66830\u001b[0m\n",
      "\u001b[34m[3]#011train-auc:0.67343#011validation-auc:0.67270\u001b[0m\n",
      "\u001b[34m[4]#011train-auc:0.67581#011validation-auc:0.67510\u001b[0m\n",
      "\u001b[34m[5]#011train-auc:0.67703#011validation-auc:0.67637\u001b[0m\n",
      "\u001b[34m[6]#011train-auc:0.68070#011validation-auc:0.67999\u001b[0m\n",
      "\u001b[34m[7]#011train-auc:0.68264#011validation-auc:0.68171\u001b[0m\n",
      "\u001b[34m[8]#011train-auc:0.68532#011validation-auc:0.68413\u001b[0m\n",
      "\u001b[34m[9]#011train-auc:0.68643#011validation-auc:0.68530\u001b[0m\n",
      "\u001b[34m[10]#011train-auc:0.68904#011validation-auc:0.68788\u001b[0m\n",
      "\u001b[34m[11]#011train-auc:0.69112#011validation-auc:0.68974\u001b[0m\n",
      "\u001b[34m[12]#011train-auc:0.69336#011validation-auc:0.69188\u001b[0m\n",
      "\u001b[34m[13]#011train-auc:0.69447#011validation-auc:0.69292\u001b[0m\n",
      "\u001b[34m[14]#011train-auc:0.69630#011validation-auc:0.69464\u001b[0m\n",
      "\u001b[34m[15]#011train-auc:0.69791#011validation-auc:0.69627\u001b[0m\n",
      "\u001b[34m[16]#011train-auc:0.69924#011validation-auc:0.69767\u001b[0m\n",
      "\u001b[34m[17]#011train-auc:0.70007#011validation-auc:0.69847\u001b[0m\n",
      "\u001b[34m[18]#011train-auc:0.70127#011validation-auc:0.69968\u001b[0m\n",
      "\u001b[34m[19]#011train-auc:0.70263#011validation-auc:0.70089\u001b[0m\n",
      "\u001b[34m[20]#011train-auc:0.70336#011validation-auc:0.70161\u001b[0m\n",
      "\u001b[34m[21]#011train-auc:0.70436#011validation-auc:0.70256\u001b[0m\n",
      "\u001b[34m[22]#011train-auc:0.70565#011validation-auc:0.70399\u001b[0m\n",
      "\u001b[34m[23]#011train-auc:0.70642#011validation-auc:0.70488\u001b[0m\n",
      "\u001b[34m[24]#011train-auc:0.70709#011validation-auc:0.70555\u001b[0m\n",
      "\u001b[34m[25]#011train-auc:0.70797#011validation-auc:0.70639\u001b[0m\n",
      "\u001b[34m[26]#011train-auc:0.70865#011validation-auc:0.70713\u001b[0m\n",
      "\u001b[34m[27]#011train-auc:0.70947#011validation-auc:0.70799\u001b[0m\n",
      "\u001b[34m[28]#011train-auc:0.71061#011validation-auc:0.70915\u001b[0m\n",
      "\u001b[34m[29]#011train-auc:0.71231#011validation-auc:0.71091\u001b[0m\n",
      "\u001b[34m[30]#011train-auc:0.71294#011validation-auc:0.71147\u001b[0m\n",
      "\u001b[34m[31]#011train-auc:0.71349#011validation-auc:0.71208\u001b[0m\n",
      "\u001b[34m[32]#011train-auc:0.71389#011validation-auc:0.71243\u001b[0m\n",
      "\u001b[34m[33]#011train-auc:0.71440#011validation-auc:0.71292\u001b[0m\n",
      "\u001b[34m[34]#011train-auc:0.71551#011validation-auc:0.71395\u001b[0m\n",
      "\u001b[34m[35]#011train-auc:0.71582#011validation-auc:0.71424\u001b[0m\n",
      "\u001b[34m[36]#011train-auc:0.71624#011validation-auc:0.71464\u001b[0m\n",
      "\u001b[34m[37]#011train-auc:0.71658#011validation-auc:0.71494\u001b[0m\n",
      "\u001b[34m[38]#011train-auc:0.71733#011validation-auc:0.71556\u001b[0m\n",
      "\u001b[34m[39]#011train-auc:0.71762#011validation-auc:0.71576\u001b[0m\n",
      "\u001b[34m[40]#011train-auc:0.71803#011validation-auc:0.71620\u001b[0m\n",
      "\u001b[34m[41]#011train-auc:0.71842#011validation-auc:0.71650\u001b[0m\n",
      "\u001b[34m[42]#011train-auc:0.71874#011validation-auc:0.71679\u001b[0m\n",
      "\u001b[34m[43]#011train-auc:0.71900#011validation-auc:0.71703\u001b[0m\n",
      "\u001b[34m[44]#011train-auc:0.71999#011validation-auc:0.71810\u001b[0m\n",
      "\u001b[34m[45]#011train-auc:0.72037#011validation-auc:0.71832\u001b[0m\n",
      "\u001b[34m[46]#011train-auc:0.72098#011validation-auc:0.71883\u001b[0m\n",
      "\u001b[34m[47]#011train-auc:0.72125#011validation-auc:0.71902\u001b[0m\n",
      "\u001b[34m[48]#011train-auc:0.72174#011validation-auc:0.71952\u001b[0m\n",
      "\u001b[34m[49]#011train-auc:0.72213#011validation-auc:0.71986\u001b[0m\n",
      "\u001b[34m[50]#011train-auc:0.72233#011validation-auc:0.72000\u001b[0m\n",
      "\u001b[34m[51]#011train-auc:0.72254#011validation-auc:0.72020\u001b[0m\n",
      "\u001b[34m[52]#011train-auc:0.72325#011validation-auc:0.72087\u001b[0m\n",
      "\u001b[34m[53]#011train-auc:0.72368#011validation-auc:0.72131\u001b[0m\n",
      "\u001b[34m[54]#011train-auc:0.72389#011validation-auc:0.72148\u001b[0m\n",
      "\u001b[34m[55]#011train-auc:0.72454#011validation-auc:0.72204\u001b[0m\n",
      "\u001b[34m[56]#011train-auc:0.72478#011validation-auc:0.72228\u001b[0m\n",
      "\u001b[34m[57]#011train-auc:0.72490#011validation-auc:0.72236\u001b[0m\n",
      "\u001b[34m[58]#011train-auc:0.72540#011validation-auc:0.72277\u001b[0m\n",
      "\u001b[34m[59]#011train-auc:0.72565#011validation-auc:0.72303\u001b[0m\n",
      "\u001b[34m[60]#011train-auc:0.72607#011validation-auc:0.72342\u001b[0m\n",
      "\u001b[34m[61]#011train-auc:0.72625#011validation-auc:0.72352\u001b[0m\n",
      "\u001b[34m[62]#011train-auc:0.72642#011validation-auc:0.72363\u001b[0m\n",
      "\u001b[34m[63]#011train-auc:0.72662#011validation-auc:0.72381\u001b[0m\n",
      "\u001b[34m[64]#011train-auc:0.72704#011validation-auc:0.72416\u001b[0m\n",
      "\u001b[34m[65]#011train-auc:0.72720#011validation-auc:0.72426\u001b[0m\n",
      "\u001b[34m[66]#011train-auc:0.72740#011validation-auc:0.72445\u001b[0m\n",
      "\u001b[34m[67]#011train-auc:0.72758#011validation-auc:0.72460\u001b[0m\n",
      "\u001b[34m[68]#011train-auc:0.72783#011validation-auc:0.72482\u001b[0m\n",
      "\u001b[34m[69]#011train-auc:0.72794#011validation-auc:0.72491\u001b[0m\n",
      "\u001b[34m[70]#011train-auc:0.72824#011validation-auc:0.72519\u001b[0m\n",
      "\u001b[34m[71]#011train-auc:0.72853#011validation-auc:0.72542\u001b[0m\n",
      "\u001b[34m[72]#011train-auc:0.72881#011validation-auc:0.72561\u001b[0m\n",
      "\u001b[34m[73]#011train-auc:0.72918#011validation-auc:0.72595\u001b[0m\n",
      "\u001b[34m[74]#011train-auc:0.72949#011validation-auc:0.72624\u001b[0m\n",
      "\u001b[34m[75]#011train-auc:0.72966#011validation-auc:0.72644\u001b[0m\n",
      "\u001b[34m[76]#011train-auc:0.72986#011validation-auc:0.72655\u001b[0m\n",
      "\u001b[34m[77]#011train-auc:0.73016#011validation-auc:0.72680\u001b[0m\n",
      "\u001b[34m[78]#011train-auc:0.73031#011validation-auc:0.72694\u001b[0m\n",
      "\u001b[34m[79]#011train-auc:0.73044#011validation-auc:0.72703\u001b[0m\n",
      "\u001b[34m[80]#011train-auc:0.73058#011validation-auc:0.72719\u001b[0m\n",
      "\u001b[34m[81]#011train-auc:0.73085#011validation-auc:0.72745\u001b[0m\n",
      "\u001b[34m[82]#011train-auc:0.73117#011validation-auc:0.72772\u001b[0m\n",
      "\u001b[34m[83]#011train-auc:0.73146#011validation-auc:0.72793\u001b[0m\n",
      "\u001b[34m[84]#011train-auc:0.73165#011validation-auc:0.72815\u001b[0m\n",
      "\u001b[34m[85]#011train-auc:0.73192#011validation-auc:0.72838\u001b[0m\n",
      "\u001b[34m[86]#011train-auc:0.73208#011validation-auc:0.72852\u001b[0m\n",
      "\u001b[34m[87]#011train-auc:0.73225#011validation-auc:0.72866\u001b[0m\n",
      "\u001b[34m[88]#011train-auc:0.73255#011validation-auc:0.72889\u001b[0m\n",
      "\u001b[34m[89]#011train-auc:0.73267#011validation-auc:0.72899\u001b[0m\n",
      "\u001b[34m[90]#011train-auc:0.73283#011validation-auc:0.72912\u001b[0m\n",
      "\u001b[34m[91]#011train-auc:0.73297#011validation-auc:0.72921\u001b[0m\n",
      "\u001b[34m[92]#011train-auc:0.73318#011validation-auc:0.72940\u001b[0m\n",
      "\u001b[34m[93]#011train-auc:0.73335#011validation-auc:0.72953\u001b[0m\n",
      "\u001b[34m[94]#011train-auc:0.73387#011validation-auc:0.72999\u001b[0m\n",
      "\u001b[34m[95]#011train-auc:0.73403#011validation-auc:0.73017\u001b[0m\n",
      "\u001b[34m[96]#011train-auc:0.73427#011validation-auc:0.73037\u001b[0m\n",
      "\u001b[34m[97]#011train-auc:0.73445#011validation-auc:0.73049\u001b[0m\n",
      "\u001b[34m[98]#011train-auc:0.73453#011validation-auc:0.73054\u001b[0m\n",
      "\u001b[34m[99]#011train-auc:0.73469#011validation-auc:0.73064\u001b[0m\n",
      "\n",
      "2024-09-23 21:55:54 Uploading - Uploading generated training model\n",
      "2024-09-23 21:55:54 Completed - Training job completed\n",
      "Training seconds: 371\n",
      "Billable seconds: 371\n"
     ]
    }
   ],
   "source": [
    "sess = sagemaker.Session()\n",
    "s3_output_location=\"s3://{}/{}/output/\".format(bucket,prefix)\n",
    "\n",
    "xgb = sagemaker.estimator.Estimator(container,\n",
    "                                    role = sagemaker.get_execution_role(), \n",
    "                                    instance_count=1, \n",
    "                                    instance_type=instance_type,\n",
    "                                    output_path=s3_output_location,\n",
    "                                    sagemaker_session=sess)\n",
    "xgb.set_hyperparameters(max_depth=5,\n",
    "                        eta=0.2,\n",
    "                        gamma=4,\n",
    "                        min_child_weight=6,\n",
    "                        subsample=0.8,\n",
    "                        silent=0,\n",
    "                        objective='binary:logistic',\n",
    "                        eval_metric = \"auc\", \n",
    "                        num_round=100)\n",
    "\n",
    "xgb.fit(inputs=data_channels)"
   ]
  },
  {
   "cell_type": "markdown",
   "metadata": {},
   "source": [
    "Use the batch transformer for your new model, and evaluate the model on the test dataset."
   ]
  },
  {
   "cell_type": "code",
   "execution_count": 100,
   "metadata": {
    "tags": []
   },
   "outputs": [],
   "source": [
    "batch_X = test.iloc[:,1:];\n",
    "batch_X_file='batch-in.csv'\n",
    "upload_s3_csv(batch_X_file, 'batch-in', batch_X)"
   ]
  },
  {
   "cell_type": "code",
   "execution_count": 101,
   "metadata": {
    "tags": []
   },
   "outputs": [
    {
     "name": "stderr",
     "output_type": "stream",
     "text": [
      "INFO:sagemaker:Creating model with name: sagemaker-xgboost-2024-09-23-21-56-27-299\n",
      "INFO:sagemaker:Creating transform job with name: sagemaker-xgboost-2024-09-23-21-56-28-053\n"
     ]
    },
    {
     "name": "stdout",
     "output_type": "stream",
     "text": [
      "........................................\u001b[34m[2024-09-23:22:03:08:INFO] No GPUs detected (normal if no gpus installed)\u001b[0m\n",
      "\u001b[34m[2024-09-23:22:03:08:INFO] No GPUs detected (normal if no gpus installed)\u001b[0m\n",
      "\u001b[34m[2024-09-23:22:03:08:INFO] nginx config: \u001b[0m\n",
      "\u001b[34mworker_processes auto;\u001b[0m\n",
      "\u001b[34mdaemon off;\u001b[0m\n",
      "\u001b[34mpid /tmp/nginx.pid;\u001b[0m\n",
      "\u001b[34merror_log  /dev/stderr;\u001b[0m\n",
      "\u001b[34mworker_rlimit_nofile 4096;\u001b[0m\n",
      "\u001b[34mevents {\n",
      "  worker_connections 2048;\u001b[0m\n",
      "\u001b[34m}\u001b[0m\n",
      "\u001b[34mhttp {\n",
      "  include /etc/nginx/mime.types;\n",
      "  default_type application/octet-stream;\n",
      "  access_log /dev/stdout combined;\n",
      "  upstream gunicorn {\n",
      "    server unix:/tmp/gunicorn.sock;\n",
      "  }\n",
      "  server {\n",
      "    listen 8080 deferred;\n",
      "    client_max_body_size 0;\n",
      "    keepalive_timeout 3;\n",
      "    location ~ ^/(ping|invocations|execution-parameters) {\n",
      "      proxy_set_header X-Forwarded-For $proxy_add_x_forwarded_for;\n",
      "      proxy_set_header Host $http_host;\n",
      "      proxy_redirect off;\n",
      "      proxy_read_timeout 60s;\n",
      "      proxy_pass http://gunicorn;\n",
      "    }\n",
      "    location / {\n",
      "      return 404 \"{}\";\n",
      "    }\n",
      "  }\u001b[0m\n",
      "\u001b[34m}\u001b[0m\n",
      "\u001b[34m[2024-09-23 22:03:08 +0000] [19] [INFO] Starting gunicorn 19.10.0\u001b[0m\n",
      "\u001b[34m[2024-09-23 22:03:08 +0000] [19] [INFO] Listening at: unix:/tmp/gunicorn.sock (19)\u001b[0m\n",
      "\u001b[34m[2024-09-23 22:03:08 +0000] [19] [INFO] Using worker: gevent\u001b[0m\n",
      "\u001b[34m[2024-09-23 22:03:08 +0000] [26] [INFO] Booting worker with pid: 26\u001b[0m\n",
      "\u001b[34m[2024-09-23 22:03:08 +0000] [27] [INFO] Booting worker with pid: 27\u001b[0m\n",
      "\u001b[34m[2024-09-23 22:03:08 +0000] [28] [INFO] Booting worker with pid: 28\u001b[0m\n",
      "\u001b[34m[2024-09-23 22:03:08 +0000] [29] [INFO] Booting worker with pid: 29\u001b[0m\n",
      "\u001b[34m[2024-09-23:22:03:13:INFO] No GPUs detected (normal if no gpus installed)\u001b[0m\n",
      "\u001b[34m169.254.255.130 - - [23/Sep/2024:22:03:13 +0000] \"GET /ping HTTP/1.1\" 200 0 \"-\" \"Go-http-client/1.1\"\u001b[0m\n",
      "\u001b[34m169.254.255.130 - - [23/Sep/2024:22:03:13 +0000] \"GET /execution-parameters HTTP/1.1\" 200 84 \"-\" \"Go-http-client/1.1\"\u001b[0m\n",
      "\u001b[34m[2024-09-23:22:03:14:INFO] Determined delimiter of CSV input is ','\u001b[0m\n",
      "\u001b[34m[2024-09-23:22:03:14:INFO] No GPUs detected (normal if no gpus installed)\u001b[0m\n",
      "\u001b[34m[2024-09-23:22:03:14:INFO] Determined delimiter of CSV input is ','\u001b[0m\n",
      "\u001b[34m[2024-09-23:22:03:14:INFO] No GPUs detected (normal if no gpus installed)\u001b[0m\n",
      "\u001b[34m[2024-09-23:22:03:14:INFO] Determined delimiter of CSV input is ','\u001b[0m\n",
      "\u001b[34m[2024-09-23:22:03:14:INFO] No GPUs detected (normal if no gpus installed)\u001b[0m\n",
      "\u001b[34m[2024-09-23:22:03:14:INFO] Determined delimiter of CSV input is ','\u001b[0m\n",
      "\u001b[32m2024-09-23T22:03:13.478:[sagemaker logs]: MaxConcurrentTransforms=4, MaxPayloadInMB=6, BatchStrategy=MULTI_RECORD\u001b[0m\n",
      "\u001b[34m169.254.255.130 - - [23/Sep/2024:22:03:18 +0000] \"POST /invocations HTTP/1.1\" 200 659578 \"-\" \"Go-http-client/1.1\"\u001b[0m\n",
      "\u001b[34m169.254.255.130 - - [23/Sep/2024:22:03:18 +0000] \"POST /invocations HTTP/1.1\" 200 659784 \"-\" \"Go-http-client/1.1\"\u001b[0m\n",
      "\u001b[34m169.254.255.130 - - [23/Sep/2024:22:03:18 +0000] \"POST /invocations HTTP/1.1\" 200 659608 \"-\" \"Go-http-client/1.1\"\u001b[0m\n",
      "\u001b[34m[2024-09-23:22:03:18:INFO] Determined delimiter of CSV input is ','\u001b[0m\n",
      "\u001b[34m169.254.255.130 - - [23/Sep/2024:22:03:18 +0000] \"POST /invocations HTTP/1.1\" 200 659494 \"-\" \"Go-http-client/1.1\"\u001b[0m\n",
      "\u001b[35m169.254.255.130 - - [23/Sep/2024:22:03:18 +0000] \"POST /invocations HTTP/1.1\" 200 659578 \"-\" \"Go-http-client/1.1\"\u001b[0m\n",
      "\u001b[35m169.254.255.130 - - [23/Sep/2024:22:03:18 +0000] \"POST /invocations HTTP/1.1\" 200 659784 \"-\" \"Go-http-client/1.1\"\u001b[0m\n",
      "\u001b[35m169.254.255.130 - - [23/Sep/2024:22:03:18 +0000] \"POST /invocations HTTP/1.1\" 200 659608 \"-\" \"Go-http-client/1.1\"\u001b[0m\n",
      "\u001b[35m[2024-09-23:22:03:18:INFO] Determined delimiter of CSV input is ','\u001b[0m\n",
      "\u001b[35m169.254.255.130 - - [23/Sep/2024:22:03:18 +0000] \"POST /invocations HTTP/1.1\" 200 659494 \"-\" \"Go-http-client/1.1\"\u001b[0m\n",
      "\u001b[34m169.254.255.130 - - [23/Sep/2024:22:03:20 +0000] \"POST /invocations HTTP/1.1\" 200 574550 \"-\" \"Go-http-client/1.1\"\u001b[0m\n",
      "\u001b[35m169.254.255.130 - - [23/Sep/2024:22:03:20 +0000] \"POST /invocations HTTP/1.1\" 200 574550 \"-\" \"Go-http-client/1.1\"\u001b[0m\n",
      "\n",
      "\u001b[34m[2024-09-23:22:03:08:INFO] No GPUs detected (normal if no gpus installed)\u001b[0m\n",
      "\u001b[34m[2024-09-23:22:03:08:INFO] No GPUs detected (normal if no gpus installed)\u001b[0m\n",
      "\u001b[34m[2024-09-23:22:03:08:INFO] nginx config: \u001b[0m\n",
      "\u001b[34mworker_processes auto;\u001b[0m\n",
      "\u001b[34mdaemon off;\u001b[0m\n",
      "\u001b[34mpid /tmp/nginx.pid;\u001b[0m\n",
      "\u001b[34merror_log  /dev/stderr;\u001b[0m\n",
      "\u001b[34mworker_rlimit_nofile 4096;\u001b[0m\n",
      "\u001b[35m[2024-09-23:22:03:08:INFO] No GPUs detected (normal if no gpus installed)\u001b[0m\n",
      "\u001b[35m[2024-09-23:22:03:08:INFO] No GPUs detected (normal if no gpus installed)\u001b[0m\n",
      "\u001b[35m[2024-09-23:22:03:08:INFO] nginx config: \u001b[0m\n",
      "\u001b[35mworker_processes auto;\u001b[0m\n",
      "\u001b[35mdaemon off;\u001b[0m\n",
      "\u001b[35mpid /tmp/nginx.pid;\u001b[0m\n",
      "\u001b[35merror_log  /dev/stderr;\u001b[0m\n",
      "\u001b[35mworker_rlimit_nofile 4096;\u001b[0m\n",
      "\u001b[34mevents {\n",
      "  worker_connections 2048;\u001b[0m\n",
      "\u001b[34m}\u001b[0m\n",
      "\u001b[34mhttp {\n",
      "  include /etc/nginx/mime.types;\n",
      "  default_type application/octet-stream;\n",
      "  access_log /dev/stdout combined;\n",
      "  upstream gunicorn {\n",
      "    server unix:/tmp/gunicorn.sock;\n",
      "  }\n",
      "  server {\n",
      "    listen 8080 deferred;\n",
      "    client_max_body_size 0;\n",
      "    keepalive_timeout 3;\n",
      "    location ~ ^/(ping|invocations|execution-parameters) {\n",
      "      proxy_set_header X-Forwarded-For $proxy_add_x_forwarded_for;\n",
      "      proxy_set_header Host $http_host;\n",
      "      proxy_redirect off;\n",
      "      proxy_read_timeout 60s;\n",
      "      proxy_pass http://gunicorn;\n",
      "    }\n",
      "    location / {\n",
      "      return 404 \"{}\";\n",
      "    }\n",
      "  }\u001b[0m\n",
      "\u001b[35mevents {\n",
      "  worker_connections 2048;\u001b[0m\n",
      "\u001b[35m}\u001b[0m\n",
      "\u001b[35mhttp {\n",
      "  include /etc/nginx/mime.types;\n",
      "  default_type application/octet-stream;\n",
      "  access_log /dev/stdout combined;\n",
      "  upstream gunicorn {\n",
      "    server unix:/tmp/gunicorn.sock;\n",
      "  }\n",
      "  server {\n",
      "    listen 8080 deferred;\n",
      "    client_max_body_size 0;\n",
      "    keepalive_timeout 3;\n",
      "    location ~ ^/(ping|invocations|execution-parameters) {\n",
      "      proxy_set_header X-Forwarded-For $proxy_add_x_forwarded_for;\n",
      "      proxy_set_header Host $http_host;\n",
      "      proxy_redirect off;\n",
      "      proxy_read_timeout 60s;\n",
      "      proxy_pass http://gunicorn;\n",
      "    }\n",
      "    location / {\n",
      "      return 404 \"{}\";\n",
      "    }\n",
      "  }\u001b[0m\n",
      "\u001b[34m}\u001b[0m\n",
      "\u001b[34m[2024-09-23 22:03:08 +0000] [19] [INFO] Starting gunicorn 19.10.0\u001b[0m\n",
      "\u001b[34m[2024-09-23 22:03:08 +0000] [19] [INFO] Listening at: unix:/tmp/gunicorn.sock (19)\u001b[0m\n",
      "\u001b[34m[2024-09-23 22:03:08 +0000] [19] [INFO] Using worker: gevent\u001b[0m\n",
      "\u001b[34m[2024-09-23 22:03:08 +0000] [26] [INFO] Booting worker with pid: 26\u001b[0m\n",
      "\u001b[34m[2024-09-23 22:03:08 +0000] [27] [INFO] Booting worker with pid: 27\u001b[0m\n",
      "\u001b[34m[2024-09-23 22:03:08 +0000] [28] [INFO] Booting worker with pid: 28\u001b[0m\n",
      "\u001b[34m[2024-09-23 22:03:08 +0000] [29] [INFO] Booting worker with pid: 29\u001b[0m\n",
      "\u001b[35m}\u001b[0m\n",
      "\u001b[35m[2024-09-23 22:03:08 +0000] [19] [INFO] Starting gunicorn 19.10.0\u001b[0m\n",
      "\u001b[35m[2024-09-23 22:03:08 +0000] [19] [INFO] Listening at: unix:/tmp/gunicorn.sock (19)\u001b[0m\n",
      "\u001b[35m[2024-09-23 22:03:08 +0000] [19] [INFO] Using worker: gevent\u001b[0m\n",
      "\u001b[35m[2024-09-23 22:03:08 +0000] [26] [INFO] Booting worker with pid: 26\u001b[0m\n",
      "\u001b[35m[2024-09-23 22:03:08 +0000] [27] [INFO] Booting worker with pid: 27\u001b[0m\n",
      "\u001b[35m[2024-09-23 22:03:08 +0000] [28] [INFO] Booting worker with pid: 28\u001b[0m\n",
      "\u001b[35m[2024-09-23 22:03:08 +0000] [29] [INFO] Booting worker with pid: 29\u001b[0m\n",
      "\u001b[34m[2024-09-23:22:03:13:INFO] No GPUs detected (normal if no gpus installed)\u001b[0m\n",
      "\u001b[34m169.254.255.130 - - [23/Sep/2024:22:03:13 +0000] \"GET /ping HTTP/1.1\" 200 0 \"-\" \"Go-http-client/1.1\"\u001b[0m\n",
      "\u001b[34m169.254.255.130 - - [23/Sep/2024:22:03:13 +0000] \"GET /execution-parameters HTTP/1.1\" 200 84 \"-\" \"Go-http-client/1.1\"\u001b[0m\n",
      "\u001b[35m[2024-09-23:22:03:13:INFO] No GPUs detected (normal if no gpus installed)\u001b[0m\n",
      "\u001b[35m169.254.255.130 - - [23/Sep/2024:22:03:13 +0000] \"GET /ping HTTP/1.1\" 200 0 \"-\" \"Go-http-client/1.1\"\u001b[0m\n",
      "\u001b[35m169.254.255.130 - - [23/Sep/2024:22:03:13 +0000] \"GET /execution-parameters HTTP/1.1\" 200 84 \"-\" \"Go-http-client/1.1\"\u001b[0m\n",
      "\u001b[34m[2024-09-23:22:03:14:INFO] Determined delimiter of CSV input is ','\u001b[0m\n",
      "\u001b[35m[2024-09-23:22:03:14:INFO] Determined delimiter of CSV input is ','\u001b[0m\n",
      "\u001b[34m[2024-09-23:22:03:14:INFO] No GPUs detected (normal if no gpus installed)\u001b[0m\n",
      "\u001b[34m[2024-09-23:22:03:14:INFO] Determined delimiter of CSV input is ','\u001b[0m\n",
      "\u001b[34m[2024-09-23:22:03:14:INFO] No GPUs detected (normal if no gpus installed)\u001b[0m\n",
      "\u001b[34m[2024-09-23:22:03:14:INFO] Determined delimiter of CSV input is ','\u001b[0m\n",
      "\u001b[34m[2024-09-23:22:03:14:INFO] No GPUs detected (normal if no gpus installed)\u001b[0m\n",
      "\u001b[34m[2024-09-23:22:03:14:INFO] Determined delimiter of CSV input is ','\u001b[0m\n",
      "\u001b[35m[2024-09-23:22:03:14:INFO] No GPUs detected (normal if no gpus installed)\u001b[0m\n",
      "\u001b[35m[2024-09-23:22:03:14:INFO] Determined delimiter of CSV input is ','\u001b[0m\n",
      "\u001b[35m[2024-09-23:22:03:14:INFO] No GPUs detected (normal if no gpus installed)\u001b[0m\n",
      "\u001b[35m[2024-09-23:22:03:14:INFO] Determined delimiter of CSV input is ','\u001b[0m\n",
      "\u001b[35m[2024-09-23:22:03:14:INFO] No GPUs detected (normal if no gpus installed)\u001b[0m\n",
      "\u001b[35m[2024-09-23:22:03:14:INFO] Determined delimiter of CSV input is ','\u001b[0m\n",
      "\u001b[32m2024-09-23T22:03:13.478:[sagemaker logs]: MaxConcurrentTransforms=4, MaxPayloadInMB=6, BatchStrategy=MULTI_RECORD\u001b[0m\n",
      "\u001b[34m169.254.255.130 - - [23/Sep/2024:22:03:18 +0000] \"POST /invocations HTTP/1.1\" 200 659578 \"-\" \"Go-http-client/1.1\"\u001b[0m\n",
      "\u001b[34m169.254.255.130 - - [23/Sep/2024:22:03:18 +0000] \"POST /invocations HTTP/1.1\" 200 659784 \"-\" \"Go-http-client/1.1\"\u001b[0m\n",
      "\u001b[34m169.254.255.130 - - [23/Sep/2024:22:03:18 +0000] \"POST /invocations HTTP/1.1\" 200 659608 \"-\" \"Go-http-client/1.1\"\u001b[0m\n",
      "\u001b[34m[2024-09-23:22:03:18:INFO] Determined delimiter of CSV input is ','\u001b[0m\n",
      "\u001b[34m169.254.255.130 - - [23/Sep/2024:22:03:18 +0000] \"POST /invocations HTTP/1.1\" 200 659494 \"-\" \"Go-http-client/1.1\"\u001b[0m\n",
      "\u001b[35m169.254.255.130 - - [23/Sep/2024:22:03:18 +0000] \"POST /invocations HTTP/1.1\" 200 659578 \"-\" \"Go-http-client/1.1\"\u001b[0m\n",
      "\u001b[35m169.254.255.130 - - [23/Sep/2024:22:03:18 +0000] \"POST /invocations HTTP/1.1\" 200 659784 \"-\" \"Go-http-client/1.1\"\u001b[0m\n",
      "\u001b[35m169.254.255.130 - - [23/Sep/2024:22:03:18 +0000] \"POST /invocations HTTP/1.1\" 200 659608 \"-\" \"Go-http-client/1.1\"\u001b[0m\n",
      "\u001b[35m[2024-09-23:22:03:18:INFO] Determined delimiter of CSV input is ','\u001b[0m\n",
      "\u001b[35m169.254.255.130 - - [23/Sep/2024:22:03:18 +0000] \"POST /invocations HTTP/1.1\" 200 659494 \"-\" \"Go-http-client/1.1\"\u001b[0m\n",
      "\u001b[34m169.254.255.130 - - [23/Sep/2024:22:03:20 +0000] \"POST /invocations HTTP/1.1\" 200 574550 \"-\" \"Go-http-client/1.1\"\u001b[0m\n",
      "\u001b[35m169.254.255.130 - - [23/Sep/2024:22:03:20 +0000] \"POST /invocations HTTP/1.1\" 200 574550 \"-\" \"Go-http-client/1.1\"\u001b[0m\n"
     ]
    }
   ],
   "source": [
    "batch_output = \"s3://{}/{}/batch-out/\".format(bucket,prefix)\n",
    "batch_input = \"s3://{}/{}/batch-in/{}\".format(bucket,prefix,batch_X_file)\n",
    "\n",
    "xgb_transformer = xgb.transformer(instance_count=1,\n",
    "                                       instance_type=instance_type,\n",
    "                                       strategy='MultiRecord',\n",
    "                                       assemble_with='Line',\n",
    "                                       output_path=batch_output)\n",
    "\n",
    "xgb_transformer.transform(data=batch_input,\n",
    "                         data_type='S3Prefix',\n",
    "                         content_type='text/csv',\n",
    "                         split_type='Line')\n",
    "xgb_transformer.wait()"
   ]
  },
  {
   "cell_type": "markdown",
   "metadata": {},
   "source": [
    "Get the predicted target and test labels."
   ]
  },
  {
   "cell_type": "code",
   "execution_count": 102,
   "metadata": {
    "tags": []
   },
   "outputs": [],
   "source": [
    "s3 = boto3.client('s3')\n",
    "obj = s3.get_object(Bucket=bucket, Key=\"{}/batch-out/{}\".format(prefix,'batch-in.csv.out'))\n",
    "target_predicted = pd.read_csv(io.BytesIO(obj['Body'].read()),sep=',',names=['target'])\n",
    "test_labels = test.iloc[:,0]"
   ]
  },
  {
   "cell_type": "markdown",
   "metadata": {},
   "source": [
    "Calculate the predicted values based on the defined threshold.\n",
    "\n",
    "**Note:** The predicted target will be a score, which must be converted to a binary class."
   ]
  },
  {
   "cell_type": "code",
   "execution_count": 103,
   "metadata": {
    "tags": []
   },
   "outputs": [
    {
     "name": "stdout",
     "output_type": "stream",
     "text": [
      "     target\n",
      "0  0.230052\n",
      "1  0.133323\n",
      "2  0.262992\n",
      "3  0.227454\n",
      "4  0.195509\n",
      "   target\n",
      "0       0\n",
      "1       0\n",
      "2       0\n",
      "3       0\n",
      "4       0\n"
     ]
    }
   ],
   "source": [
    "print(target_predicted.head())\n",
    "\n",
    "def binary_convert(x):\n",
    "    threshold = 0.55\n",
    "    if x > threshold:\n",
    "        return 1\n",
    "    else:\n",
    "        return 0\n",
    "\n",
    "target_predicted['target'] = target_predicted['target'].apply(binary_convert)\n",
    "\n",
    "test_labels = test.iloc[:,0]\n",
    "\n",
    "print(target_predicted.head())"
   ]
  },
  {
   "cell_type": "markdown",
   "metadata": {},
   "source": [
    "Plot a confusion matrix for your `target_predicted` and `test_labels`."
   ]
  },
  {
   "cell_type": "code",
   "execution_count": 104,
   "metadata": {
    "tags": []
   },
   "outputs": [
    {
     "data": {
      "image/png": "[encoded data removed]",
      "text/plain": [
       "<Figure size 640x480 with 1 Axes>"
      ]
     },
     "metadata": {},
     "output_type": "display_data"
    }
   ],
   "source": [
    "plot_confusion_matrix(test_labels , target_predicted)\n"
   ]
  },
  {
   "cell_type": "markdown",
   "metadata": {},
   "source": [
    "### Try different thresholds"
   ]
  },
  {
   "cell_type": "markdown",
   "metadata": {},
   "source": [
    "**Question**: Based on how well the model handled the test set, what can you conclude?"
   ]
  },
  {
   "cell_type": "code",
   "execution_count": null,
   "metadata": {},
   "outputs": [],
   "source": [
    "#it's a better model"
   ]
  },
  {
   "cell_type": "markdown",
   "metadata": {},
   "source": [
    "### Hyperparameter optimization (HPO)"
   ]
  },
  {
   "cell_type": "code",
   "execution_count": 105,
   "metadata": {
    "tags": []
   },
   "outputs": [],
   "source": [
    "from sagemaker.tuner import IntegerParameter, CategoricalParameter, ContinuousParameter, HyperparameterTuner\n",
    "\n",
    "### You can spin up multiple instances to do hyperparameter optimization in parallel\n",
    "\n",
    "xgb = sagemaker.estimator.Estimator(container,\n",
    "                                    role=sagemaker.get_execution_role(), \n",
    "                                    instance_count= 1, # make sure you have a limit set for these instances\n",
    "                                    instance_type=instance_type, \n",
    "                                    output_path='s3://{}/{}/output'.format(bucket, prefix),\n",
    "                                    sagemaker_session=sess)\n",
    "\n",
    "xgb.set_hyperparameters(eval_metric='auc',\n",
    "                        objective='binary:logistic',\n",
    "                        num_round=100,\n",
    "                        rate_drop=0.3,\n",
    "                        tweedie_variance_power=1.4)\n",
    "\n",
    "hyperparameter_ranges = {'alpha': ContinuousParameter(0, 1000, scaling_type='Linear'),\n",
    "                         'eta': ContinuousParameter(0.1, 0.5, scaling_type='Linear'),\n",
    "                         'min_child_weight': ContinuousParameter(3, 10, scaling_type='Linear'),\n",
    "                         'subsample': ContinuousParameter(0.5, 1),\n",
    "                         'num_round': IntegerParameter(10,150)}\n",
    "\n",
    "objective_metric_name = 'validation:auc'\n",
    "\n",
    "tuner = HyperparameterTuner(xgb,\n",
    "                            objective_metric_name,\n",
    "                            hyperparameter_ranges,\n",
    "                            max_jobs=10, # Set this to 10 or above depending upon budget and available time.\n",
    "                            max_parallel_jobs=1)"
   ]
  },
  {
   "cell_type": "code",
   "execution_count": 106,
   "metadata": {
    "tags": []
   },
   "outputs": [
    {
     "name": "stderr",
     "output_type": "stream",
     "text": [
      "WARNING:sagemaker.estimator:No finished training job found associated with this estimator. Please make sure this estimator is only used for building workflow config\n",
      "WARNING:sagemaker.estimator:No finished training job found associated with this estimator. Please make sure this estimator is only used for building workflow config\n",
      "INFO:sagemaker:Creating hyperparameter tuning job with name: sagemaker-xgboost-240923-2206\n"
     ]
    },
    {
     "name": "stdout",
     "output_type": "stream",
     "text": [
      "............................................................................................................................................................................................................................................................................................................................................................................................................................................................................................................................................................!\n",
      "!\n"
     ]
    }
   ],
   "source": [
    "tuner.fit(inputs=data_channels)\n",
    "tuner.wait()"
   ]
  },
  {
   "cell_type": "markdown",
   "metadata": {},
   "source": [
    "<i class=\"fas fa-exclamation-triangle\" style=\"color:red\"></i> Wait until the training job is finished. It might take 25-30 minutes.\n",
    "\n",
    "**To monitor hyperparameter optimization jobs:**  \n",
    "\n",
    "1. In the AWS Management Console, on the **Services** menu, choose **Amazon SageMaker**.  \n",
    "2. Choose **Training > Hyperparameter tuning jobs**.\n",
    "3. You can check the status of each hyperparameter tuning job, its objective metric value, and its logs.  "
   ]
  },
  {
   "cell_type": "markdown",
   "metadata": {},
   "source": [
    "Check that the job completed successfully."
   ]
  },
  {
   "cell_type": "code",
   "execution_count": 107,
   "metadata": {
    "tags": []
   },
   "outputs": [
    {
     "data": {
      "text/plain": [
       "'Completed'"
      ]
     },
     "execution_count": 107,
     "metadata": {},
     "output_type": "execute_result"
    }
   ],
   "source": [
    "boto3.client('sagemaker').describe_hyper_parameter_tuning_job(\n",
    "    HyperParameterTuningJobName=tuner.latest_tuning_job.job_name)['HyperParameterTuningJobStatus']"
   ]
  },
  {
   "cell_type": "markdown",
   "metadata": {},
   "source": [
    "The hyperparameter tuning job will have a model that worked the best. You can get the information about that model from the tuning job."
   ]
  },
  {
   "cell_type": "code",
   "execution_count": 108,
   "metadata": {
    "tags": []
   },
   "outputs": [
    {
     "name": "stderr",
     "output_type": "stream",
     "text": [
      "INFO:botocore.credentials:Found credentials from IAM Role: BaseNotebookInstanceEc2InstanceRole\n"
     ]
    },
    {
     "name": "stdout",
     "output_type": "stream",
     "text": [
      "tuning job name:sagemaker-xgboost-240923-2206\n",
      "best training job: sagemaker-xgboost-240923-2206-005-3e7f7ff0\n",
      "\n",
      "2024-09-23 22:32:37 Starting - Found matching resource for reuse\n",
      "2024-09-23 22:32:37 Downloading - Downloading the training image\n",
      "2024-09-23 22:32:37 Training - Training image download completed. Training in progress.\n",
      "2024-09-23 22:32:37 Uploading - Uploading generated training model\n",
      "2024-09-23 22:32:37 Completed - Resource reused by training job: sagemaker-xgboost-240923-2206-006-3cc01b4c\n"
     ]
    },
    {
     "data": {
      "text/html": [
       "<div>\n",
       "<style scoped>\n",
       "    .dataframe tbody tr th:only-of-type {\n",
       "        vertical-align: middle;\n",
       "    }\n",
       "\n",
       "    .dataframe tbody tr th {\n",
       "        vertical-align: top;\n",
       "    }\n",
       "\n",
       "    .dataframe thead th {\n",
       "        text-align: right;\n",
       "    }\n",
       "</style>\n",
       "<table border=\"1\" class=\"dataframe\">\n",
       "  <thead>\n",
       "    <tr style=\"text-align: right;\">\n",
       "      <th></th>\n",
       "      <th>alpha</th>\n",
       "      <th>eta</th>\n",
       "      <th>min_child_weight</th>\n",
       "      <th>num_round</th>\n",
       "      <th>subsample</th>\n",
       "      <th>TrainingJobName</th>\n",
       "      <th>TrainingJobStatus</th>\n",
       "      <th>FinalObjectiveValue</th>\n",
       "      <th>TrainingStartTime</th>\n",
       "      <th>TrainingEndTime</th>\n",
       "      <th>TrainingElapsedTimeSeconds</th>\n",
       "    </tr>\n",
       "  </thead>\n",
       "  <tbody>\n",
       "    <tr>\n",
       "      <th>0</th>\n",
       "      <td>924.856463</td>\n",
       "      <td>0.495265</td>\n",
       "      <td>8.241449</td>\n",
       "      <td>21.0</td>\n",
       "      <td>0.762252</td>\n",
       "      <td>sagemaker-xgboost-240923-2206-010-9ddc288b</td>\n",
       "      <td>Completed</td>\n",
       "      <td>0.70452</td>\n",
       "      <td>2024-09-23 22:51:08+00:00</td>\n",
       "      <td>2024-09-23 22:52:43+00:00</td>\n",
       "      <td>95.0</td>\n",
       "    </tr>\n",
       "    <tr>\n",
       "      <th>1</th>\n",
       "      <td>10.926465</td>\n",
       "      <td>0.327839</td>\n",
       "      <td>5.310680</td>\n",
       "      <td>131.0</td>\n",
       "      <td>0.819338</td>\n",
       "      <td>sagemaker-xgboost-240923-2206-009-7e4c7fb4</td>\n",
       "      <td>Completed</td>\n",
       "      <td>0.74786</td>\n",
       "      <td>2024-09-23 22:43:33+00:00</td>\n",
       "      <td>2024-09-23 22:50:07+00:00</td>\n",
       "      <td>394.0</td>\n",
       "    </tr>\n",
       "    <tr>\n",
       "      <th>2</th>\n",
       "      <td>247.176536</td>\n",
       "      <td>0.297071</td>\n",
       "      <td>6.991613</td>\n",
       "      <td>67.0</td>\n",
       "      <td>0.514743</td>\n",
       "      <td>sagemaker-xgboost-240923-2206-008-4adfaa45</td>\n",
       "      <td>Completed</td>\n",
       "      <td>0.71984</td>\n",
       "      <td>2024-09-23 22:38:53+00:00</td>\n",
       "      <td>2024-09-23 22:42:41+00:00</td>\n",
       "      <td>228.0</td>\n",
       "    </tr>\n",
       "    <tr>\n",
       "      <th>3</th>\n",
       "      <td>0.000000</td>\n",
       "      <td>0.111079</td>\n",
       "      <td>3.762442</td>\n",
       "      <td>77.0</td>\n",
       "      <td>0.676856</td>\n",
       "      <td>sagemaker-xgboost-240923-2206-007-92494a9a</td>\n",
       "      <td>Completed</td>\n",
       "      <td>0.72562</td>\n",
       "      <td>2024-09-23 22:34:14+00:00</td>\n",
       "      <td>2024-09-23 22:38:34+00:00</td>\n",
       "      <td>260.0</td>\n",
       "    </tr>\n",
       "    <tr>\n",
       "      <th>4</th>\n",
       "      <td>1000.000000</td>\n",
       "      <td>0.100000</td>\n",
       "      <td>6.392582</td>\n",
       "      <td>12.0</td>\n",
       "      <td>0.514764</td>\n",
       "      <td>sagemaker-xgboost-240923-2206-006-3cc01b4c</td>\n",
       "      <td>Completed</td>\n",
       "      <td>0.67088</td>\n",
       "      <td>2024-09-23 22:32:38+00:00</td>\n",
       "      <td>2024-09-23 22:33:53+00:00</td>\n",
       "      <td>75.0</td>\n",
       "    </tr>\n",
       "  </tbody>\n",
       "</table>\n",
       "</div>"
      ],
      "text/plain": [
       "         alpha       eta  min_child_weight  num_round  subsample  \\\n",
       "0   924.856463  0.495265          8.241449       21.0   0.762252   \n",
       "1    10.926465  0.327839          5.310680      131.0   0.819338   \n",
       "2   247.176536  0.297071          6.991613       67.0   0.514743   \n",
       "3     0.000000  0.111079          3.762442       77.0   0.676856   \n",
       "4  1000.000000  0.100000          6.392582       12.0   0.514764   \n",
       "\n",
       "                              TrainingJobName TrainingJobStatus  \\\n",
       "0  sagemaker-xgboost-240923-2206-010-9ddc288b         Completed   \n",
       "1  sagemaker-xgboost-240923-2206-009-7e4c7fb4         Completed   \n",
       "2  sagemaker-xgboost-240923-2206-008-4adfaa45         Completed   \n",
       "3  sagemaker-xgboost-240923-2206-007-92494a9a         Completed   \n",
       "4  sagemaker-xgboost-240923-2206-006-3cc01b4c         Completed   \n",
       "\n",
       "   FinalObjectiveValue         TrainingStartTime           TrainingEndTime  \\\n",
       "0              0.70452 2024-09-23 22:51:08+00:00 2024-09-23 22:52:43+00:00   \n",
       "1              0.74786 2024-09-23 22:43:33+00:00 2024-09-23 22:50:07+00:00   \n",
       "2              0.71984 2024-09-23 22:38:53+00:00 2024-09-23 22:42:41+00:00   \n",
       "3              0.72562 2024-09-23 22:34:14+00:00 2024-09-23 22:38:34+00:00   \n",
       "4              0.67088 2024-09-23 22:32:38+00:00 2024-09-23 22:33:53+00:00   \n",
       "\n",
       "   TrainingElapsedTimeSeconds  \n",
       "0                        95.0  \n",
       "1                       394.0  \n",
       "2                       228.0  \n",
       "3                       260.0  \n",
       "4                        75.0  "
      ]
     },
     "execution_count": 108,
     "metadata": {},
     "output_type": "execute_result"
    }
   ],
   "source": [
    "sage_client = boto3.Session().client('sagemaker')\n",
    "tuning_job_name = tuner.latest_tuning_job.job_name\n",
    "print(f'tuning job name:{tuning_job_name}')\n",
    "tuning_job_result = sage_client.describe_hyper_parameter_tuning_job(HyperParameterTuningJobName=tuning_job_name)\n",
    "best_training_job = tuning_job_result['BestTrainingJob']\n",
    "best_training_job_name = best_training_job['TrainingJobName']\n",
    "print(f\"best training job: {best_training_job_name}\")\n",
    "\n",
    "best_estimator = tuner.best_estimator()\n",
    "\n",
    "tuner_df = sagemaker.HyperparameterTuningJobAnalytics(tuning_job_name).dataframe()\n",
    "tuner_df.head()"
   ]
  },
  {
   "cell_type": "markdown",
   "metadata": {},
   "source": [
    "Use the estimator `best_estimator` and train it by using the data. \n",
    "\n",
    "**Tip:** See the previous XGBoost estimator fit function."
   ]
  },
  {
   "cell_type": "code",
   "execution_count": 109,
   "metadata": {
    "tags": []
   },
   "outputs": [
    {
     "name": "stderr",
     "output_type": "stream",
     "text": [
      "INFO:sagemaker:Creating training-job with name: sagemaker-xgboost-2024-09-23-23-01-32-450\n"
     ]
    },
    {
     "name": "stdout",
     "output_type": "stream",
     "text": [
      "2024-09-23 23:01:33 Starting - Starting the training job...\n",
      "2024-09-23 23:01:49 Starting - Preparing the instances for training...\n",
      "2024-09-23 23:02:16 Downloading - Downloading input data...\n",
      "2024-09-23 23:02:57 Downloading - Downloading the training image...\n",
      "2024-09-23 23:03:37 Training - Training image download completed. Training in progress....\u001b[34m[2024-09-23 23:03:48.854 ip-10-0-103-33.ec2.internal:7 INFO utils.py:27] RULE_JOB_STOP_SIGNAL_FILENAME: None\u001b[0m\n",
      "\u001b[34mINFO:sagemaker-containers:Imported framework sagemaker_xgboost_container.training\u001b[0m\n",
      "\u001b[34mINFO:sagemaker-containers:Failed to parse hyperparameter _tuning_objective_metric value validation:auc to Json.\u001b[0m\n",
      "\u001b[34mReturning the value itself\u001b[0m\n",
      "\u001b[34mINFO:sagemaker-containers:Failed to parse hyperparameter eval_metric value auc to Json.\u001b[0m\n",
      "\u001b[34mReturning the value itself\u001b[0m\n",
      "\u001b[34mINFO:sagemaker-containers:Failed to parse hyperparameter objective value binary:logistic to Json.\u001b[0m\n",
      "\u001b[34mReturning the value itself\u001b[0m\n",
      "\u001b[34mINFO:sagemaker-containers:No GPUs detected (normal if no gpus installed)\u001b[0m\n",
      "\u001b[34mINFO:sagemaker_xgboost_container.training:Running XGBoost Sagemaker in algorithm mode\u001b[0m\n",
      "\u001b[34mINFO:root:Determined delimiter of CSV input is ','\u001b[0m\n",
      "\u001b[34mINFO:root:Determined delimiter of CSV input is ','\u001b[0m\n",
      "\u001b[34mINFO:root:Determined delimiter of CSV input is ','\u001b[0m\n",
      "\u001b[34mINFO:root:Determined delimiter of CSV input is ','\u001b[0m\n",
      "\u001b[34mINFO:root:Single node training.\u001b[0m\n",
      "\u001b[34mINFO:root:Setting up HPO optimized metric to be : auc\u001b[0m\n",
      "\u001b[34m[23:03:53] 1308472x84 matrix with 109911648 entries loaded from /opt/ml/input/data/train?format=csv&label_column=0&delimiter=,\u001b[0m\n",
      "\u001b[34m[23:03:54] 163559x84 matrix with 13738956 entries loaded from /opt/ml/input/data/validation?format=csv&label_column=0&delimiter=,\u001b[0m\n",
      "\u001b[34m[2024-09-23 23:03:54.085 ip-10-0-103-33.ec2.internal:7 INFO json_config.py:91] Creating hook from json_config at /opt/ml/input/config/debughookconfig.json.\u001b[0m\n",
      "\u001b[34m[2024-09-23 23:03:54.086 ip-10-0-103-33.ec2.internal:7 INFO hook.py:201] tensorboard_dir has not been set for the hook. SMDebug will not be exporting tensorboard summaries.\u001b[0m\n",
      "\u001b[34m[2024-09-23 23:03:54.086 ip-10-0-103-33.ec2.internal:7 INFO profiler_config_parser.py:102] User has disabled profiler.\u001b[0m\n",
      "\u001b[34m[2024-09-23 23:03:54.087 ip-10-0-103-33.ec2.internal:7 INFO hook.py:255] Saving to /opt/ml/output/tensors\u001b[0m\n",
      "\u001b[34m[2024-09-23 23:03:54.087 ip-10-0-103-33.ec2.internal:7 INFO state_store.py:77] The checkpoint config file /opt/ml/input/config/checkpointconfig.json does not exist.\u001b[0m\n",
      "\u001b[34mINFO:root:Debug hook created from config\u001b[0m\n",
      "\u001b[34mINFO:root:Train matrix has 1308472 rows\u001b[0m\n",
      "\u001b[34mINFO:root:Validation matrix has 163559 rows\u001b[0m\n",
      "\u001b[34m[0]#011train-auc:0.66266#011validation-auc:0.66215\u001b[0m\n",
      "\u001b[34m[2024-09-23 23:03:59.154 ip-10-0-103-33.ec2.internal:7 INFO hook.py:423] Monitoring the collections: metrics\u001b[0m\n",
      "\u001b[34m[2024-09-23 23:03:59.157 ip-10-0-103-33.ec2.internal:7 INFO hook.py:486] Hook is writing from the hook with pid: 7\u001b[0m\n",
      "\u001b[34m[1]#011train-auc:0.67886#011validation-auc:0.67795\u001b[0m\n",
      "\u001b[34m[2]#011train-auc:0.68366#011validation-auc:0.68301\u001b[0m\n",
      "\u001b[34m[3]#011train-auc:0.68922#011validation-auc:0.68823\u001b[0m\n",
      "\u001b[34m[4]#011train-auc:0.69305#011validation-auc:0.69209\u001b[0m\n",
      "\u001b[34m[5]#011train-auc:0.69695#011validation-auc:0.69490\u001b[0m\n",
      "\u001b[34m[6]#011train-auc:0.70154#011validation-auc:0.69948\u001b[0m\n",
      "\u001b[34m[7]#011train-auc:0.70452#011validation-auc:0.70256\u001b[0m\n",
      "\u001b[34m[8]#011train-auc:0.70750#011validation-auc:0.70547\u001b[0m\n",
      "\u001b[34m[9]#011train-auc:0.71111#011validation-auc:0.70900\u001b[0m\n",
      "\u001b[34m[10]#011train-auc:0.71315#011validation-auc:0.71071\u001b[0m\n",
      "\u001b[34m[11]#011train-auc:0.71435#011validation-auc:0.71199\u001b[0m\n",
      "\u001b[34m[12]#011train-auc:0.71798#011validation-auc:0.71563\u001b[0m\n",
      "\u001b[34m[13]#011train-auc:0.71943#011validation-auc:0.71702\u001b[0m\n",
      "\u001b[34m[14]#011train-auc:0.72026#011validation-auc:0.71766\u001b[0m\n",
      "\u001b[34m[15]#011train-auc:0.72153#011validation-auc:0.71884\u001b[0m\n",
      "\u001b[34m[16]#011train-auc:0.72250#011validation-auc:0.71981\u001b[0m\n",
      "\u001b[34m[17]#011train-auc:0.72335#011validation-auc:0.72066\u001b[0m\n",
      "\u001b[34m[18]#011train-auc:0.72489#011validation-auc:0.72212\u001b[0m\n",
      "\u001b[34m[19]#011train-auc:0.72559#011validation-auc:0.72265\u001b[0m\n",
      "\u001b[34m[20]#011train-auc:0.72721#011validation-auc:0.72425\u001b[0m\n",
      "\u001b[34m[21]#011train-auc:0.72804#011validation-auc:0.72493\u001b[0m\n",
      "\u001b[34m[22]#011train-auc:0.72856#011validation-auc:0.72542\u001b[0m\n",
      "\u001b[34m[23]#011train-auc:0.72964#011validation-auc:0.72626\u001b[0m\n",
      "\u001b[34m[24]#011train-auc:0.73079#011validation-auc:0.72728\u001b[0m\n",
      "\u001b[34m[25]#011train-auc:0.73162#011validation-auc:0.72802\u001b[0m\n",
      "\u001b[34m[26]#011train-auc:0.73191#011validation-auc:0.72830\u001b[0m\n",
      "\u001b[34m[27]#011train-auc:0.73254#011validation-auc:0.72891\u001b[0m\n",
      "\u001b[34m[28]#011train-auc:0.73287#011validation-auc:0.72910\u001b[0m\n",
      "\u001b[34m[29]#011train-auc:0.73372#011validation-auc:0.72994\u001b[0m\n",
      "\u001b[34m[30]#011train-auc:0.73432#011validation-auc:0.73044\u001b[0m\n",
      "\u001b[34m[31]#011train-auc:0.73494#011validation-auc:0.73095\u001b[0m\n",
      "\u001b[34m[32]#011train-auc:0.73544#011validation-auc:0.73135\u001b[0m\n",
      "\u001b[34m[33]#011train-auc:0.73634#011validation-auc:0.73204\u001b[0m\n",
      "\u001b[34m[34]#011train-auc:0.73715#011validation-auc:0.73275\u001b[0m\n",
      "\u001b[34m[35]#011train-auc:0.73769#011validation-auc:0.73319\u001b[0m\n",
      "\u001b[34m[36]#011train-auc:0.73833#011validation-auc:0.73383\u001b[0m\n",
      "\u001b[34m[37]#011train-auc:0.73868#011validation-auc:0.73414\u001b[0m\n",
      "\u001b[34m[38]#011train-auc:0.73924#011validation-auc:0.73474\u001b[0m\n",
      "\u001b[34m[39]#011train-auc:0.73950#011validation-auc:0.73488\u001b[0m\n",
      "\u001b[34m[40]#011train-auc:0.73974#011validation-auc:0.73502\u001b[0m\n",
      "\u001b[34m[41]#011train-auc:0.74019#011validation-auc:0.73549\u001b[0m\n",
      "\u001b[34m[42]#011train-auc:0.74049#011validation-auc:0.73572\u001b[0m\n",
      "\u001b[34m[43]#011train-auc:0.74097#011validation-auc:0.73604\u001b[0m\n",
      "\u001b[34m[44]#011train-auc:0.74134#011validation-auc:0.73630\u001b[0m\n",
      "\u001b[34m[45]#011train-auc:0.74198#011validation-auc:0.73672\u001b[0m\n",
      "\u001b[34m[46]#011train-auc:0.74221#011validation-auc:0.73689\u001b[0m\n",
      "\u001b[34m[47]#011train-auc:0.74271#011validation-auc:0.73727\u001b[0m\n",
      "\u001b[34m[48]#011train-auc:0.74301#011validation-auc:0.73749\u001b[0m\n",
      "\u001b[34m[49]#011train-auc:0.74348#011validation-auc:0.73801\u001b[0m\n",
      "\u001b[34m[50]#011train-auc:0.74367#011validation-auc:0.73818\u001b[0m\n",
      "\u001b[34m[51]#011train-auc:0.74405#011validation-auc:0.73852\u001b[0m\n",
      "\u001b[34m[52]#011train-auc:0.74433#011validation-auc:0.73874\u001b[0m\n",
      "\u001b[34m[53]#011train-auc:0.74466#011validation-auc:0.73889\u001b[0m\n",
      "\u001b[34m[54]#011train-auc:0.74521#011validation-auc:0.73924\u001b[0m\n",
      "\u001b[34m[55]#011train-auc:0.74545#011validation-auc:0.73945\u001b[0m\n",
      "\u001b[34m[56]#011train-auc:0.74598#011validation-auc:0.73994\u001b[0m\n",
      "\u001b[34m[57]#011train-auc:0.74613#011validation-auc:0.73999\u001b[0m\n",
      "\u001b[34m[58]#011train-auc:0.74664#011validation-auc:0.74031\u001b[0m\n",
      "\u001b[34m[59]#011train-auc:0.74679#011validation-auc:0.74033\u001b[0m\n",
      "\u001b[34m[60]#011train-auc:0.74716#011validation-auc:0.74067\u001b[0m\n",
      "\u001b[34m[61]#011train-auc:0.74755#011validation-auc:0.74092\u001b[0m\n",
      "\u001b[34m[62]#011train-auc:0.74800#011validation-auc:0.74118\u001b[0m\n",
      "\u001b[34m[63]#011train-auc:0.74843#011validation-auc:0.74151\u001b[0m\n",
      "\u001b[34m[64]#011train-auc:0.74873#011validation-auc:0.74173\u001b[0m\n",
      "\u001b[34m[65]#011train-auc:0.74907#011validation-auc:0.74212\u001b[0m\n",
      "\u001b[34m[66]#011train-auc:0.74951#011validation-auc:0.74234\u001b[0m\n",
      "\u001b[34m[67]#011train-auc:0.74985#011validation-auc:0.74262\u001b[0m\n",
      "\u001b[34m[68]#011train-auc:0.74994#011validation-auc:0.74273\u001b[0m\n",
      "\u001b[34m[69]#011train-auc:0.75021#011validation-auc:0.74292\u001b[0m\n",
      "\u001b[34m[70]#011train-auc:0.75045#011validation-auc:0.74307\u001b[0m\n",
      "\u001b[34m[71]#011train-auc:0.75072#011validation-auc:0.74328\u001b[0m\n",
      "\u001b[34m[72]#011train-auc:0.75118#011validation-auc:0.74371\u001b[0m\n",
      "\u001b[34m[73]#011train-auc:0.75143#011validation-auc:0.74387\u001b[0m\n",
      "\u001b[34m[74]#011train-auc:0.75176#011validation-auc:0.74411\u001b[0m\n",
      "\u001b[34m[75]#011train-auc:0.75209#011validation-auc:0.74428\u001b[0m\n",
      "\u001b[34m[76]#011train-auc:0.75242#011validation-auc:0.74451\u001b[0m\n",
      "\u001b[34m[77]#011train-auc:0.75268#011validation-auc:0.74471\u001b[0m\n",
      "\u001b[34m[78]#011train-auc:0.75292#011validation-auc:0.74486\u001b[0m\n",
      "\u001b[34m[79]#011train-auc:0.75304#011validation-auc:0.74488\u001b[0m\n",
      "\u001b[34m[80]#011train-auc:0.75332#011validation-auc:0.74511\u001b[0m\n",
      "\u001b[34m[81]#011train-auc:0.75360#011validation-auc:0.74530\u001b[0m\n",
      "\u001b[34m[82]#011train-auc:0.75380#011validation-auc:0.74540\u001b[0m\n",
      "\u001b[34m[83]#011train-auc:0.75401#011validation-auc:0.74552\u001b[0m\n",
      "\u001b[34m[84]#011train-auc:0.75408#011validation-auc:0.74558\u001b[0m\n",
      "\u001b[34m[85]#011train-auc:0.75420#011validation-auc:0.74567\u001b[0m\n",
      "\u001b[34m[86]#011train-auc:0.75430#011validation-auc:0.74575\u001b[0m\n",
      "\u001b[34m[87]#011train-auc:0.75454#011validation-auc:0.74592\u001b[0m\n",
      "\u001b[34m[88]#011train-auc:0.75487#011validation-auc:0.74616\u001b[0m\n",
      "\u001b[34m[89]#011train-auc:0.75518#011validation-auc:0.74635\u001b[0m\n",
      "\u001b[34m[90]#011train-auc:0.75548#011validation-auc:0.74652\u001b[0m\n",
      "\u001b[34m[91]#011train-auc:0.75572#011validation-auc:0.74665\u001b[0m\n",
      "\u001b[34m[92]#011train-auc:0.75600#011validation-auc:0.74682\u001b[0m\n",
      "\u001b[34m[93]#011train-auc:0.75624#011validation-auc:0.74703\u001b[0m\n",
      "\u001b[34m[94]#011train-auc:0.75646#011validation-auc:0.74722\u001b[0m\n",
      "\u001b[34m[95]#011train-auc:0.75673#011validation-auc:0.74747\u001b[0m\n",
      "\u001b[34m[96]#011train-auc:0.75689#011validation-auc:0.74759\u001b[0m\n",
      "\u001b[34m[97]#011train-auc:0.75718#011validation-auc:0.74778\u001b[0m\n",
      "\u001b[34m[98]#011train-auc:0.75727#011validation-auc:0.74783\u001b[0m\n",
      "\u001b[34m[99]#011train-auc:0.75762#011validation-auc:0.74811\u001b[0m\n",
      "\u001b[34m[100]#011train-auc:0.75787#011validation-auc:0.74830\u001b[0m\n",
      "\u001b[34m[101]#011train-auc:0.75815#011validation-auc:0.74844\u001b[0m\n",
      "\u001b[34m[102]#011train-auc:0.75828#011validation-auc:0.74848\u001b[0m\n",
      "\u001b[34m[103]#011train-auc:0.75845#011validation-auc:0.74855\u001b[0m\n",
      "\u001b[34m[104]#011train-auc:0.75866#011validation-auc:0.74872\u001b[0m\n",
      "\u001b[34m[105]#011train-auc:0.75892#011validation-auc:0.74890\u001b[0m\n",
      "\u001b[34m[106]#011train-auc:0.75897#011validation-auc:0.74893\u001b[0m\n",
      "\u001b[34m[107]#011train-auc:0.75917#011validation-auc:0.74903\u001b[0m\n",
      "\u001b[34m[108]#011train-auc:0.75939#011validation-auc:0.74914\u001b[0m\n",
      "\n",
      "2024-09-23 23:08:34 Uploading - Uploading generated training model\u001b[34m[109]#011train-auc:0.75959#011validation-auc:0.74929\u001b[0m\n",
      "\n",
      "2024-09-23 23:08:47 Completed - Training job completed\n",
      "Training seconds: 391\n",
      "Billable seconds: 391\n"
     ]
    }
   ],
   "source": [
    "best_estimator.fit(inputs=data_channels)"
   ]
  },
  {
   "cell_type": "markdown",
   "metadata": {},
   "source": [
    "Use the batch transformer for your new model, and evaluate the model on the test dataset."
   ]
  },
  {
   "cell_type": "code",
   "execution_count": 110,
   "metadata": {
    "tags": []
   },
   "outputs": [
    {
     "name": "stderr",
     "output_type": "stream",
     "text": [
      "INFO:sagemaker:Creating model with name: sagemaker-xgboost-2024-09-23-23-09-56-288\n",
      "INFO:sagemaker:Creating transform job with name: sagemaker-xgboost-2024-09-23-23-09-57-034\n"
     ]
    },
    {
     "name": "stdout",
     "output_type": "stream",
     "text": [
      ".........................................\u001b[34m[2024-09-23:23:16:49:INFO] No GPUs detected (normal if no gpus installed)\u001b[0m\n",
      "\u001b[34m[2024-09-23:23:16:49:INFO] No GPUs detected (normal if no gpus installed)\u001b[0m\n",
      "\u001b[34m[2024-09-23:23:16:49:INFO] nginx config: \u001b[0m\n",
      "\u001b[34mworker_processes auto;\u001b[0m\n",
      "\u001b[34mdaemon off;\u001b[0m\n",
      "\u001b[34mpid /tmp/nginx.pid;\u001b[0m\n",
      "\u001b[34merror_log  /dev/stderr;\u001b[0m\n",
      "\u001b[34mworker_rlimit_nofile 4096;\u001b[0m\n",
      "\u001b[34mevents {\n",
      "  worker_connections 2048;\u001b[0m\n",
      "\u001b[34m}\u001b[0m\n",
      "\u001b[34mhttp {\n",
      "  include /etc/nginx/mime.types;\n",
      "  default_type application/octet-stream;\n",
      "  access_log /dev/stdout combined;\n",
      "  upstream gunicorn {\n",
      "    server unix:/tmp/gunicorn.sock;\n",
      "  }\n",
      "  server {\n",
      "    listen 8080 deferred;\n",
      "    client_max_body_size 0;\n",
      "    keepalive_timeout 3;\n",
      "    location ~ ^/(ping|invocations|execution-parameters) {\n",
      "      proxy_set_header X-Forwarded-For $proxy_add_x_forwarded_for;\n",
      "      proxy_set_header Host $http_host;\n",
      "      proxy_redirect off;\n",
      "      proxy_read_timeout 60s;\n",
      "      proxy_pass http://gunicorn;\n",
      "    }\n",
      "    location / {\n",
      "      return 404 \"{}\";\n",
      "    }\n",
      "  }\u001b[0m\n",
      "\u001b[34m}\u001b[0m\n",
      "\u001b[34m[2024-09-23 23:16:49 +0000] [19] [INFO] Starting gunicorn 19.10.0\u001b[0m\n",
      "\u001b[34m[2024-09-23 23:16:49 +0000] [19] [INFO] Listening at: unix:/tmp/gunicorn.sock (19)\u001b[0m\n",
      "\u001b[34m[2024-09-23 23:16:49 +0000] [19] [INFO] Using worker: gevent\u001b[0m\n",
      "\u001b[34m[2024-09-23 23:16:49 +0000] [26] [INFO] Booting worker with pid: 26\u001b[0m\n",
      "\u001b[34m[2024-09-23 23:16:49 +0000] [27] [INFO] Booting worker with pid: 27\u001b[0m\n",
      "\u001b[34m[2024-09-23 23:16:49 +0000] [28] [INFO] Booting worker with pid: 28\u001b[0m\n",
      "\u001b[34m[2024-09-23 23:16:49 +0000] [29] [INFO] Booting worker with pid: 29\u001b[0m\n",
      "\u001b[34m[2024-09-23:23:16:54:INFO] No GPUs detected (normal if no gpus installed)\u001b[0m\n",
      "\u001b[34m169.254.255.130 - - [23/Sep/2024:23:16:54 +0000] \"GET /ping HTTP/1.1\" 200 0 \"-\" \"Go-http-client/1.1\"\u001b[0m\n",
      "\u001b[34m[2024-09-23:23:16:54:INFO] No GPUs detected (normal if no gpus installed)\u001b[0m\n",
      "\u001b[34m169.254.255.130 - - [23/Sep/2024:23:16:54 +0000] \"GET /execution-parameters HTTP/1.1\" 200 84 \"-\" \"Go-http-client/1.1\"\u001b[0m\n",
      "\n",
      "\u001b[34m[2024-09-23:23:16:55:INFO] No GPUs detected (normal if no gpus installed)\u001b[0m\n",
      "\u001b[34m[2024-09-23:23:16:55:INFO] Determined delimiter of CSV input is ','\u001b[0m\n",
      "\u001b[34m[2024-09-23:23:16:55:INFO] Determined delimiter of CSV input is ','\u001b[0m\n",
      "\u001b[34m[2024-09-23:23:16:55:INFO] Determined delimiter of CSV input is ','\u001b[0m\n",
      "\u001b[34m[2024-09-23:23:16:55:INFO] No GPUs detected (normal if no gpus installed)\u001b[0m\n",
      "\u001b[34m[2024-09-23:23:16:55:INFO] Determined delimiter of CSV input is ','\u001b[0m\n",
      "\u001b[35m[2024-09-23:23:16:55:INFO] No GPUs detected (normal if no gpus installed)\u001b[0m\n",
      "\u001b[35m[2024-09-23:23:16:55:INFO] Determined delimiter of CSV input is ','\u001b[0m\n",
      "\u001b[35m[2024-09-23:23:16:55:INFO] Determined delimiter of CSV input is ','\u001b[0m\n",
      "\u001b[35m[2024-09-23:23:16:55:INFO] Determined delimiter of CSV input is ','\u001b[0m\n",
      "\u001b[35m[2024-09-23:23:16:55:INFO] No GPUs detected (normal if no gpus installed)\u001b[0m\n",
      "\u001b[35m[2024-09-23:23:16:55:INFO] Determined delimiter of CSV input is ','\u001b[0m\n",
      "\u001b[32m2024-09-23T23:16:54.400:[sagemaker logs]: MaxConcurrentTransforms=4, MaxPayloadInMB=6, BatchStrategy=MULTI_RECORD\u001b[0m\n",
      "\u001b[34m169.254.255.130 - - [23/Sep/2024:23:16:59 +0000] \"POST /invocations HTTP/1.1\" 200 660331 \"-\" \"Go-http-client/1.1\"\u001b[0m\n",
      "\u001b[34m169.254.255.130 - - [23/Sep/2024:23:16:59 +0000] \"POST /invocations HTTP/1.1\" 200 660200 \"-\" \"Go-http-client/1.1\"\u001b[0m\n",
      "\u001b[35m169.254.255.130 - - [23/Sep/2024:23:16:59 +0000] \"POST /invocations HTTP/1.1\" 200 660331 \"-\" \"Go-http-client/1.1\"\u001b[0m\n",
      "\u001b[35m169.254.255.130 - - [23/Sep/2024:23:16:59 +0000] \"POST /invocations HTTP/1.1\" 200 660200 \"-\" \"Go-http-client/1.1\"\u001b[0m\n",
      "\u001b[34m169.254.255.130 - - [23/Sep/2024:23:16:59 +0000] \"POST /invocations HTTP/1.1\" 200 660287 \"-\" \"Go-http-client/1.1\"\u001b[0m\n",
      "\u001b[34m[2024-09-23:23:16:59:INFO] Determined delimiter of CSV input is ','\u001b[0m\n",
      "\u001b[34m169.254.255.130 - - [23/Sep/2024:23:16:59 +0000] \"POST /invocations HTTP/1.1\" 200 660206 \"-\" \"Go-http-client/1.1\"\u001b[0m\n",
      "\u001b[35m169.254.255.130 - - [23/Sep/2024:23:16:59 +0000] \"POST /invocations HTTP/1.1\" 200 660287 \"-\" \"Go-http-client/1.1\"\u001b[0m\n",
      "\u001b[35m[2024-09-23:23:16:59:INFO] Determined delimiter of CSV input is ','\u001b[0m\n",
      "\u001b[35m169.254.255.130 - - [23/Sep/2024:23:16:59 +0000] \"POST /invocations HTTP/1.1\" 200 660206 \"-\" \"Go-http-client/1.1\"\u001b[0m\n",
      "\u001b[34m169.254.255.130 - - [23/Sep/2024:23:17:01 +0000] \"POST /invocations HTTP/1.1\" 200 575031 \"-\" \"Go-http-client/1.1\"\u001b[0m\n",
      "\u001b[35m169.254.255.130 - - [23/Sep/2024:23:17:01 +0000] \"POST /invocations HTTP/1.1\" 200 575031 \"-\" \"Go-http-client/1.1\"\u001b[0m\n",
      "\u001b[34m[2024-09-23:23:16:49:INFO] No GPUs detected (normal if no gpus installed)\u001b[0m\n",
      "\u001b[34m[2024-09-23:23:16:49:INFO] No GPUs detected (normal if no gpus installed)\u001b[0m\n",
      "\u001b[34m[2024-09-23:23:16:49:INFO] nginx config: \u001b[0m\n",
      "\u001b[34mworker_processes auto;\u001b[0m\n",
      "\u001b[34mdaemon off;\u001b[0m\n",
      "\u001b[34mpid /tmp/nginx.pid;\u001b[0m\n",
      "\u001b[34merror_log  /dev/stderr;\u001b[0m\n",
      "\u001b[34mworker_rlimit_nofile 4096;\u001b[0m\n",
      "\u001b[35m[2024-09-23:23:16:49:INFO] No GPUs detected (normal if no gpus installed)\u001b[0m\n",
      "\u001b[35m[2024-09-23:23:16:49:INFO] No GPUs detected (normal if no gpus installed)\u001b[0m\n",
      "\u001b[35m[2024-09-23:23:16:49:INFO] nginx config: \u001b[0m\n",
      "\u001b[35mworker_processes auto;\u001b[0m\n",
      "\u001b[35mdaemon off;\u001b[0m\n",
      "\u001b[35mpid /tmp/nginx.pid;\u001b[0m\n",
      "\u001b[35merror_log  /dev/stderr;\u001b[0m\n",
      "\u001b[35mworker_rlimit_nofile 4096;\u001b[0m\n",
      "\u001b[34mevents {\n",
      "  worker_connections 2048;\u001b[0m\n",
      "\u001b[34m}\u001b[0m\n",
      "\u001b[34mhttp {\n",
      "  include /etc/nginx/mime.types;\n",
      "  default_type application/octet-stream;\n",
      "  access_log /dev/stdout combined;\n",
      "  upstream gunicorn {\n",
      "    server unix:/tmp/gunicorn.sock;\n",
      "  }\n",
      "  server {\n",
      "    listen 8080 deferred;\n",
      "    client_max_body_size 0;\n",
      "    keepalive_timeout 3;\n",
      "    location ~ ^/(ping|invocations|execution-parameters) {\n",
      "      proxy_set_header X-Forwarded-For $proxy_add_x_forwarded_for;\n",
      "      proxy_set_header Host $http_host;\n",
      "      proxy_redirect off;\n",
      "      proxy_read_timeout 60s;\n",
      "      proxy_pass http://gunicorn;\n",
      "    }\n",
      "    location / {\n",
      "      return 404 \"{}\";\n",
      "    }\n",
      "  }\u001b[0m\n",
      "\u001b[34m}\u001b[0m\n",
      "\u001b[34m[2024-09-23 23:16:49 +0000] [19] [INFO] Starting gunicorn 19.10.0\u001b[0m\n",
      "\u001b[34m[2024-09-23 23:16:49 +0000] [19] [INFO] Listening at: unix:/tmp/gunicorn.sock (19)\u001b[0m\n",
      "\u001b[34m[2024-09-23 23:16:49 +0000] [19] [INFO] Using worker: gevent\u001b[0m\n",
      "\u001b[34m[2024-09-23 23:16:49 +0000] [26] [INFO] Booting worker with pid: 26\u001b[0m\n",
      "\u001b[34m[2024-09-23 23:16:49 +0000] [27] [INFO] Booting worker with pid: 27\u001b[0m\n",
      "\u001b[34m[2024-09-23 23:16:49 +0000] [28] [INFO] Booting worker with pid: 28\u001b[0m\n",
      "\u001b[34m[2024-09-23 23:16:49 +0000] [29] [INFO] Booting worker with pid: 29\u001b[0m\n",
      "\u001b[35mevents {\n",
      "  worker_connections 2048;\u001b[0m\n",
      "\u001b[35m}\u001b[0m\n",
      "\u001b[35mhttp {\n",
      "  include /etc/nginx/mime.types;\n",
      "  default_type application/octet-stream;\n",
      "  access_log /dev/stdout combined;\n",
      "  upstream gunicorn {\n",
      "    server unix:/tmp/gunicorn.sock;\n",
      "  }\n",
      "  server {\n",
      "    listen 8080 deferred;\n",
      "    client_max_body_size 0;\n",
      "    keepalive_timeout 3;\n",
      "    location ~ ^/(ping|invocations|execution-parameters) {\n",
      "      proxy_set_header X-Forwarded-For $proxy_add_x_forwarded_for;\n",
      "      proxy_set_header Host $http_host;\n",
      "      proxy_redirect off;\n",
      "      proxy_read_timeout 60s;\n",
      "      proxy_pass http://gunicorn;\n",
      "    }\n",
      "    location / {\n",
      "      return 404 \"{}\";\n",
      "    }\n",
      "  }\u001b[0m\n",
      "\u001b[35m}\u001b[0m\n",
      "\u001b[35m[2024-09-23 23:16:49 +0000] [19] [INFO] Starting gunicorn 19.10.0\u001b[0m\n",
      "\u001b[35m[2024-09-23 23:16:49 +0000] [19] [INFO] Listening at: unix:/tmp/gunicorn.sock (19)\u001b[0m\n",
      "\u001b[35m[2024-09-23 23:16:49 +0000] [19] [INFO] Using worker: gevent\u001b[0m\n",
      "\u001b[35m[2024-09-23 23:16:49 +0000] [26] [INFO] Booting worker with pid: 26\u001b[0m\n",
      "\u001b[35m[2024-09-23 23:16:49 +0000] [27] [INFO] Booting worker with pid: 27\u001b[0m\n",
      "\u001b[35m[2024-09-23 23:16:49 +0000] [28] [INFO] Booting worker with pid: 28\u001b[0m\n",
      "\u001b[35m[2024-09-23 23:16:49 +0000] [29] [INFO] Booting worker with pid: 29\u001b[0m\n",
      "\u001b[34m[2024-09-23:23:16:54:INFO] No GPUs detected (normal if no gpus installed)\u001b[0m\n",
      "\u001b[34m169.254.255.130 - - [23/Sep/2024:23:16:54 +0000] \"GET /ping HTTP/1.1\" 200 0 \"-\" \"Go-http-client/1.1\"\u001b[0m\n",
      "\u001b[34m[2024-09-23:23:16:54:INFO] No GPUs detected (normal if no gpus installed)\u001b[0m\n",
      "\u001b[34m169.254.255.130 - - [23/Sep/2024:23:16:54 +0000] \"GET /execution-parameters HTTP/1.1\" 200 84 \"-\" \"Go-http-client/1.1\"\u001b[0m\n",
      "\u001b[35m[2024-09-23:23:16:54:INFO] No GPUs detected (normal if no gpus installed)\u001b[0m\n",
      "\u001b[35m169.254.255.130 - - [23/Sep/2024:23:16:54 +0000] \"GET /ping HTTP/1.1\" 200 0 \"-\" \"Go-http-client/1.1\"\u001b[0m\n",
      "\u001b[35m[2024-09-23:23:16:54:INFO] No GPUs detected (normal if no gpus installed)\u001b[0m\n",
      "\u001b[35m169.254.255.130 - - [23/Sep/2024:23:16:54 +0000] \"GET /execution-parameters HTTP/1.1\" 200 84 \"-\" \"Go-http-client/1.1\"\u001b[0m\n",
      "\u001b[34m[2024-09-23:23:16:55:INFO] No GPUs detected (normal if no gpus installed)\u001b[0m\n",
      "\u001b[34m[2024-09-23:23:16:55:INFO] Determined delimiter of CSV input is ','\u001b[0m\n",
      "\u001b[34m[2024-09-23:23:16:55:INFO] Determined delimiter of CSV input is ','\u001b[0m\n",
      "\u001b[34m[2024-09-23:23:16:55:INFO] Determined delimiter of CSV input is ','\u001b[0m\n",
      "\u001b[34m[2024-09-23:23:16:55:INFO] No GPUs detected (normal if no gpus installed)\u001b[0m\n",
      "\u001b[34m[2024-09-23:23:16:55:INFO] Determined delimiter of CSV input is ','\u001b[0m\n",
      "\u001b[35m[2024-09-23:23:16:55:INFO] No GPUs detected (normal if no gpus installed)\u001b[0m\n",
      "\u001b[35m[2024-09-23:23:16:55:INFO] Determined delimiter of CSV input is ','\u001b[0m\n",
      "\u001b[35m[2024-09-23:23:16:55:INFO] Determined delimiter of CSV input is ','\u001b[0m\n",
      "\u001b[35m[2024-09-23:23:16:55:INFO] Determined delimiter of CSV input is ','\u001b[0m\n",
      "\u001b[35m[2024-09-23:23:16:55:INFO] No GPUs detected (normal if no gpus installed)\u001b[0m\n",
      "\u001b[35m[2024-09-23:23:16:55:INFO] Determined delimiter of CSV input is ','\u001b[0m\n",
      "\u001b[32m2024-09-23T23:16:54.400:[sagemaker logs]: MaxConcurrentTransforms=4, MaxPayloadInMB=6, BatchStrategy=MULTI_RECORD\u001b[0m\n",
      "\u001b[34m169.254.255.130 - - [23/Sep/2024:23:16:59 +0000] \"POST /invocations HTTP/1.1\" 200 660331 \"-\" \"Go-http-client/1.1\"\u001b[0m\n",
      "\u001b[34m169.254.255.130 - - [23/Sep/2024:23:16:59 +0000] \"POST /invocations HTTP/1.1\" 200 660200 \"-\" \"Go-http-client/1.1\"\u001b[0m\n",
      "\u001b[35m169.254.255.130 - - [23/Sep/2024:23:16:59 +0000] \"POST /invocations HTTP/1.1\" 200 660331 \"-\" \"Go-http-client/1.1\"\u001b[0m\n",
      "\u001b[35m169.254.255.130 - - [23/Sep/2024:23:16:59 +0000] \"POST /invocations HTTP/1.1\" 200 660200 \"-\" \"Go-http-client/1.1\"\u001b[0m\n",
      "\u001b[34m169.254.255.130 - - [23/Sep/2024:23:16:59 +0000] \"POST /invocations HTTP/1.1\" 200 660287 \"-\" \"Go-http-client/1.1\"\u001b[0m\n",
      "\u001b[34m[2024-09-23:23:16:59:INFO] Determined delimiter of CSV input is ','\u001b[0m\n",
      "\u001b[34m169.254.255.130 - - [23/Sep/2024:23:16:59 +0000] \"POST /invocations HTTP/1.1\" 200 660206 \"-\" \"Go-http-client/1.1\"\u001b[0m\n",
      "\u001b[35m169.254.255.130 - - [23/Sep/2024:23:16:59 +0000] \"POST /invocations HTTP/1.1\" 200 660287 \"-\" \"Go-http-client/1.1\"\u001b[0m\n",
      "\u001b[35m[2024-09-23:23:16:59:INFO] Determined delimiter of CSV input is ','\u001b[0m\n",
      "\u001b[35m169.254.255.130 - - [23/Sep/2024:23:16:59 +0000] \"POST /invocations HTTP/1.1\" 200 660206 \"-\" \"Go-http-client/1.1\"\u001b[0m\n",
      "\u001b[34m169.254.255.130 - - [23/Sep/2024:23:17:01 +0000] \"POST /invocations HTTP/1.1\" 200 575031 \"-\" \"Go-http-client/1.1\"\u001b[0m\n",
      "\u001b[35m169.254.255.130 - - [23/Sep/2024:23:17:01 +0000] \"POST /invocations HTTP/1.1\" 200 575031 \"-\" \"Go-http-client/1.1\"\u001b[0m\n"
     ]
    }
   ],
   "source": [
    "batch_output = \"s3://{}/{}/batch-out/\".format(bucket,prefix)\n",
    "batch_input = \"s3://{}/{}/batch-in/{}\".format(bucket,prefix,batch_X_file)\n",
    "\n",
    "xgb_transformer = best_estimator.transformer(instance_count=1,\n",
    "                                       instance_type=instance_type,\n",
    "                                       strategy='MultiRecord',\n",
    "                                       assemble_with='Line',\n",
    "                                       output_path=batch_output)\n",
    "\n",
    "xgb_transformer.transform(data=batch_input,\n",
    "                         data_type='S3Prefix',\n",
    "                         content_type='text/csv',\n",
    "                         split_type='Line')\n",
    "xgb_transformer.wait()"
   ]
  },
  {
   "cell_type": "code",
   "execution_count": 111,
   "metadata": {
    "tags": []
   },
   "outputs": [],
   "source": [
    "s3 = boto3.client('s3')\n",
    "obj = s3.get_object(Bucket=bucket, Key=\"{}/batch-out/{}\".format(prefix,'batch-in.csv.out'))\n",
    "target_predicted = pd.read_csv(io.BytesIO(obj['Body'].read()),sep=',',names=['target'])\n",
    "test_labels = test.iloc[:,0]"
   ]
  },
  {
   "cell_type": "markdown",
   "metadata": {},
   "source": [
    "Get the predicted target and test labels."
   ]
  },
  {
   "cell_type": "code",
   "execution_count": 112,
   "metadata": {
    "tags": []
   },
   "outputs": [
    {
     "name": "stdout",
     "output_type": "stream",
     "text": [
      "     target\n",
      "0  0.089685\n",
      "1  0.122013\n",
      "2  0.354971\n",
      "3  0.180510\n",
      "4  0.243234\n",
      "   target\n",
      "0       0\n",
      "1       0\n",
      "2       0\n",
      "3       0\n",
      "4       0\n"
     ]
    }
   ],
   "source": [
    "print(target_predicted.head())\n",
    "\n",
    "def binary_convert(x):\n",
    "    threshold = 0.55\n",
    "    if x > threshold:\n",
    "        return 1\n",
    "    else:\n",
    "        return 0\n",
    "\n",
    "target_predicted['target'] = target_predicted['target'].apply(binary_convert)\n",
    "\n",
    "test_labels = test.iloc[:,0]\n",
    "\n",
    "print(target_predicted.head())"
   ]
  },
  {
   "cell_type": "markdown",
   "metadata": {},
   "source": [
    "Plot a confusion matrix for your `target_predicted` and `test_labels`."
   ]
  },
  {
   "cell_type": "code",
   "execution_count": 113,
   "metadata": {
    "tags": []
   },
   "outputs": [
    {
     "data": {
      "image/png": "[encoded data removed]",
      "text/plain": [
       "<Figure size 640x480 with 1 Axes>"
      ]
     },
     "metadata": {},
     "output_type": "display_data"
    }
   ],
   "source": [
    "plot_confusion_matrix(test_labels , target_predicted)"
   ]
  },
  {
   "cell_type": "markdown",
   "metadata": {},
   "source": [
    "**Question**: Try different hyperparameters and hyperparameter ranges. Do these changes improve the model?"
   ]
  },
  {
   "cell_type": "markdown",
   "metadata": {},
   "source": [
    "## Conclusion\n",
    "\n",
    "You have now iterated through training and evaluating your model at least a couple of times. It's time to wrap up this project and reflect on:\n",
    "\n",
    "- What you learned \n",
    "- What types of steps you might take moving forward (assuming that you had more time)\n",
    "\n",
    "Use the following cell to answer some of these questions and other relevant questions:\n",
    "\n",
    "1. Does your model performance meet your business goal? If not, what are some things you'd like to do differently if you had more time for tuning?\n",
    "2. How much did your model improve as you made changes to your dataset, features, and hyperparameters? What types of techniques did you employ throughout this project, and which yielded the greatest improvements in your model?\n",
    "3. What were some of the biggest challenges that you encountered throughout this project?\n",
    "4. Do you have any unanswered questions about aspects of the pipeline that didn't make sense to you?\n",
    "5. What were the three most important things that you learned about machine learning while working on this project?\n",
    "\n",
    "#### <span style=\"color: blue;\">Project presentation: Make sure that you also summarize your answers to these questions in your project presentation. Combine all your notes for your project presentation and prepare to present your findings to the class.</span>"
   ]
  },
  {
   "cell_type": "code",
   "execution_count": null,
   "metadata": {},
   "outputs": [],
   "source": [
    "# Write your answers here"
   ]
  }
 ],
 "metadata": {
  "kernelspec": {
   "display_name": "conda_python3",
   "language": "python",
   "name": "conda_python3"
  },
  "language_info": {
   "codemirror_mode": {
    "name": "ipython",
    "version": 3
   },
   "file_extension": ".py",
   "mimetype": "text/x-python",
   "name": "python",
   "nbconvert_exporter": "python",
   "pygments_lexer": "ipython3",
   "version": "3.10.14"
  }
 },
 "nbformat": 4,
 "nbformat_minor": 4
}
